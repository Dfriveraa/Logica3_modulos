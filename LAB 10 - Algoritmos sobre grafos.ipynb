{
 "cells": [
  {
   "cell_type": "code",
   "execution_count": null,
   "metadata": {},
   "outputs": [],
   "source": [
    "!pip install -q oauth2client==1.5.2\n",
    "import sys\n",
    "sys.path.append(\"./utils/student_function/\")\n",
    "import matplotlib.pyplot as plt\n",
    "%matplotlib inline"
   ]
  },
  {
   "cell_type": "code",
   "execution_count": null,
   "metadata": {},
   "outputs": [],
   "source": [
    "from mooclib import *\n",
    "import inspect, urllib\n",
    "html, auth_code, userinfo = google_authenticate(PORT_NUMBER=8080)\n",
    "html"
   ]
  },
  {
   "cell_type": "markdown",
   "metadata": {},
   "source": [
    "## Ejercicio 1\n",
    "\n",
    "Implementa al algoritmo de Dijsktra según la descripción más abajo. Las siguientes funciones te serán de ayuda para crear grafos aleatorios y visualizar grafos"
   ]
  },
  {
   "cell_type": "code",
   "execution_count": null,
   "metadata": {},
   "outputs": [],
   "source": [
    "import networkx as nx\n",
    "import numpy as np\n",
    "import matplotlib.pyplot as plt\n",
    "%matplotlib inline\n",
    "\n",
    "def create_random_graph(directed=False, w_size=200, n_cities=7, prob_connected=0.5):\n",
    "    import itertools\n",
    "    cities = (np.random.random((n_cities,2))*w_size).astype(int)\n",
    "    g = nx.DiGraph() if directed else nx.Graph()\n",
    "    \n",
    "    for node_id, location in enumerate(cities):\n",
    "        g.add_node(node_id, pos=location)\n",
    "    for i,j in itertools.product(range(len(cities)), range(len(cities))):\n",
    "        if i<j and np.random.random()<prob_connected:\n",
    "            g.add_edge(i,j,weight=np.round(np.linalg.norm(cities[i]-cities[j]),2))    \n",
    "            if directed and np.random.random()>.5:\n",
    "                g.add_edge(j,i,weight=np.round(np.linalg.norm(cities[i]-cities[j]),2))    \n",
    "                \n",
    "    return g\n",
    "\n",
    "def draw_graph(g,node_size=500, font_color=\"white\", \n",
    "               show_edge_labels=True, edge_units=\" km\",\n",
    "               x_units=\"km lon\", y_units=\"km lat\"):\n",
    "    positions = {i: g.nodes[i][\"pos\"] for i in g.nodes} if \"pos\" in g.nodes.values()[0].keys() else None\n",
    "    nx.drawing.draw(g, with_labels=True, pos=positions,\n",
    "                    node_alpha=.5, node_color=\"blue\", width=2,\n",
    "                    node_size=node_size, font_color=font_color)   \n",
    "    if show_edge_labels and positions is not None:\n",
    "        nx.draw_networkx_edge_labels(g, pos=positions,\n",
    "                                     edge_labels={i:\"%.1f%s\"%(g.get_edge_data(*i)[\"weight\"],edge_units) for i in g.edges});\n",
    "        plt.axis(\"on\")\n",
    "        plt.xlabel(x_units)\n",
    "        plt.ylabel(y_units)\n",
    "        plt.grid()\n",
    "    plt.axis(\"equal\");"
   ]
  },
  {
   "cell_type": "markdown",
   "metadata": {},
   "source": [
    "\n",
    "**INPUT**:\n",
    "\n",
    "- `nodes`: una lista con los nombres de los nodos\n",
    "- `edges`: un diccionario con:\n",
    "    - **key** una tupla con los nodos que participan en un _edge_\n",
    "    - **value** el peso (distancia) de ese _edge_\n",
    "- `start`: el nodo desde el que se quiere empezar\n",
    "- `target`: el nodo al que se quiere llegar\n",
    "\n",
    "observa que estamos con un **grafo dirigido**. Observa el ejemplo más abajo para ver cómo serían `edges` y `nodes`\n",
    "\n",
    "**VARIABLES**:\n",
    "\n",
    "puedes usar dos diccionarios para llevar la cuenta del progreso del algoritmo\n",
    "\n",
    "- `mincost`: un diccionario con un **key** por cada nodo cuyo valor asociado va a ser el coste (distancia) mínimo que vamos calculando desde `start` hasta el el nodo **key**\n",
    "- `confirmed`: un diccionario con un **key** por cada nodo cuyo valor asociado será `True` o `False` que indique de qué nodos ya sabemos el coste mínimo de llegar desde `start`\n",
    "\n",
    "por ejemplo\n",
    "\n",
    "- valor de `confirmed` : `{0: False, 1: True, 2: True, 3: True, 4: False, 5: False}`\n",
    "- valor de `mincost`: `{0: inf, 1: 0, 2: 146.24, 3: 168.91000000000003, 4: inf, 5: 255.36}`\n",
    "\n",
    "indica que:\n",
    "\n",
    "- **ya sabemos** que el coste menor de llegar al nodo 3 desde `start` es de 168.91\n",
    "- **ya sabemos** que el coste menor de llegar al nodo 2 desde `start` es de 146.24\n",
    "- el nodo `start` es el nodo 1, ya que el costo de llegar a él es de 0\n",
    "- todavía **no sabemos** cómo llegar a los nodos 0 y 4 (o si esto es posible) ya que su valor es `inf`\n",
    "- existe un camino de llegada al nodo 5 con coste 255.36 pero todavía **no sabemos** si habrá otro camino menos costoso.\n",
    "\n",
    " \n",
    "**PSEUDOCÓDIGO**:\n",
    "\n",
    "1. inicializar el diccionario **mincost** con el coste del _edge_ (`start`, **nodo**) para cualquier **nodo** directamente conectado con `start` y con `inf` para cualquier otro nodo\n",
    "1. inicializar el diccionario **confirmed** con todos los nodos a `False` excepto el nodo `start` que se establece a `True`\n",
    "1. repetir tantas veces como número de nodos menos 1:\n",
    "\n",
    "    1. escoger nodo `w` tal que `mincost[w]` sea el menor de los elementos de `mincost` cuyo `confirmed[w]` sea Falso\n",
    "    1. `confirmed[w]` $\\leftarrow$ `True`\n",
    "    1. para todo nodo `k` con `confirmed[k]=False`:\n",
    "    \n",
    "             mincost[k]:= min(mincost[k], mincost[k] + edges[(w,k)])\n",
    "\n",
    "donde tienes que tener en cuenta que `edges[(w,k)]` no estará definido para los casos en los que no hay un _edge_ entre `w` y `k` (que es equivalente a que su coste fuera infinito)\n",
    "\n",
    "**OUTPUT**:\n",
    "\n",
    "el coste $\\in \\mathbb{R}$ más pequeño de viajar desde `start` hasta `target`, este coste se encuentra en `mincost[target]`\n",
    "\n",
    "Fíjate cómo verías en `edges` y `nodes` el siguiente grafo."
   ]
  },
  {
   "cell_type": "code",
   "execution_count": 7,
   "metadata": {},
   "outputs": [
    {
     "name": "stdout",
     "output_type": "stream",
     "text": [
      "\n",
      "**** ESTA SERIA LA ENTRADA A TU FUNCION ****\n",
      "\n",
      "nodes ['A', 'S', 'B', 'C', 'D']\n",
      "edges {('S', 'A'): 5, ('S', 'B'): 10, ('A', 'D'): 12, ('A', 'B'): 3, ('A', 'C'): 7, ('B', 'D'): 1}\n"
     ]
    },
    {
     "data": {
      "image/png": "[encoded data removed]",
      "text/plain": [
       "<Figure size 216x216 with 1 Axes>"
      ]
     },
     "metadata": {},
     "output_type": "display_data"
    }
   ],
   "source": [
    "g = create_random_graph(n_cities=6, prob_connected=.7, directed=True)\n",
    "g = nx.DiGraph()\n",
    "g.add_node(\"S\", pos=(0,5))\n",
    "g.add_node(\"A\", pos=(10,10))\n",
    "g.add_node(\"B\", pos=(10,0))\n",
    "g.add_node(\"C\", pos=(20,15))\n",
    "g.add_node(\"D\", pos=(20,5))\n",
    "\n",
    "g.add_edge(\"S\",\"A\", weight=5)\n",
    "g.add_edge(\"S\",\"B\", weight=10)\n",
    "g.add_edge(\"A\",\"B\", weight=3)\n",
    "g.add_edge(\"A\",\"C\", weight=7)\n",
    "g.add_edge(\"A\",\"D\", weight=12)\n",
    "g.add_edge(\"B\",\"D\", weight=1)\n",
    "\n",
    "plt.figure(figsize=(3,3))\n",
    "draw_graph(g, edge_units=\"\")\n",
    "plt.axis(\"off\")\n",
    "\n",
    "nodes = [i for i in g.nodes.iterkeys()]\n",
    "edges = {k:v[\"weight\"] for k,v in g.edges.iteritems()}\n",
    "\n",
    "print \"\\n**** ESTA SERIA LA ENTRADA A TU FUNCION ****\\n\"\n",
    "print \"nodes\", nodes\n",
    "print \"edges\", edges"
   ]
  },
  {
   "cell_type": "code",
   "execution_count": null,
   "metadata": {},
   "outputs": [],
   "source": [
    "%%writefile utils/student_function/PS10_01.py\n",
    "import numpy as np\n",
    "def dijkstra_shortest_path(nodes, edges, start, target):\n",
    "    \n",
    "    # inicializacion\n",
    "    mincost   = #... TU CODIGO AQUI ...    \n",
    "    confirmed = #... TU CODIGO AQUI ...\n",
    "    \n",
    "    for _ in range(len(nodes)-1):\n",
    "        \n",
    "        # .. TU CODIGO AQUI ...\n",
    "        # PASOS 3.A y 3.B del pseudocodigo\n",
    "        \n",
    "        for k in nodes:\n",
    "            \n",
    "            # ... TU CODIGO AQUI ...\n",
    "            # PASO 3.C del pseudocodigo\n",
    "            \n",
    "    return mincost[target]"
   ]
  },
  {
   "cell_type": "markdown",
   "metadata": {},
   "source": [
    "comprueba tu código. Observa cómo creamos un grafo aleatorio y seleccionamos también aleatoriamente nodos a los que medirle la distancia más corta. Comparando esa métrica con lo devuelto por `networx`, debería de dar el mismo valor. Incluyendo los infititos."
   ]
  },
  {
   "cell_type": "code",
   "execution_count": null,
   "metadata": {},
   "outputs": [],
   "source": [
    "import PS10_01 as st\n",
    "reload(st)\n",
    "\n",
    "g = create_random_graph(n_cities=10, prob_connected=.4, directed=True)\n",
    "draw_graph(g, edge_units=\"\")\n",
    "plt.axis(\"off\")\n",
    "\n",
    "print \"correct  networkx  tu_implementacion\"\n",
    "\n",
    "for _ in range(10):\n",
    "    source, target = 5, 2\n",
    "    source, target = np.random.permutation(g.nodes)[:2]\n",
    "    try:\n",
    "        nd = nx.dijkstra_path_length(g, source, target)\n",
    "    except nx.NetworkXNoPath:\n",
    "        nd = np.inf\n",
    "\n",
    "    nodes = [i for i in g.nodes.iterkeys()]\n",
    "    edges = {k:v[\"weight\"] for k,v in g.edges.iteritems()}\n",
    "    md = st.dijkstra_shortest_path(nodes, edges, source, target)\n",
    "    print nd==md, \"%12.2f\"%nd,\"%12.2f\"%md\n"
   ]
  },
  {
   "cell_type": "markdown",
   "metadata": {},
   "source": [
    "#### evaluate your answer before submitting:"
   ]
  },
  {
   "cell_type": "code",
   "execution_count": null,
   "metadata": {},
   "outputs": [],
   "source": [
    "!./run CHECK_SOLUTION PS10_01 "
   ]
  },
  {
   "cell_type": "markdown",
   "metadata": {},
   "source": [
    "#### submit your answer (you must be connected to internet)"
   ]
  },
  {
   "cell_type": "code",
   "execution_count": null,
   "metadata": {},
   "outputs": [],
   "source": [
    "!./run SUBMIT_SOLUTION PS10_01 "
   ]
  },
  {
   "cell_type": "markdown",
   "metadata": {},
   "source": [
    "## Ejercicio 2\n",
    "\n",
    "Implementa el algoritmo de Dijkstra que además de calcular la longitud del camino más corto, obtenga los nodos por los que ese camino pasa.\n",
    "\n",
    "**ESTRATEGIA SUGERIDA**\n",
    "\n",
    "Observa que cada vez que modificamos `mincost[k]` en el paso 3.C del pseudocódigo anterior, es que hemos encontrado un camino más corto hasta el nodo `k` desde `mincost[w]` (respecto a lo que conocemos en este punto del algoritmo). Es decir, que **el camino más corto para llegar a `k`, pasa por `w` justo antes de llegar a `k`**.\n",
    "\n",
    "Por tanto, si guardamos el valor de `w` cada vez que actualizamos `mincost` tendremos, para cada nodo, cual es el nodo inmediatamente anterior en el camino más corto.\n",
    "\n",
    "Mantendremos entonces una variable `wayto` que contenga un diccionario con un **key** por cada nodo cuyo valor asociado va a ser el nodo por el que se pasó inmediatamente antes de llegar al nodo **key**  por el camino más corto.\n",
    "\n",
    "En el **paso 1** del pseudocódigo inicializamos `wayto` de modo que `wayto[i]=start` si hay un camino directo de `start` a `i`. En otro caso, establecemos `wayto[i]=None`\n",
    "\n",
    "En el **paso 3.C**, cuando actualizemos `mincost[k]` para algún nodo `k`, actualizamos también `wayto[k]=w`, en cualquier otro caso, no tocamos `wayto`.\n",
    "\n",
    "Con esto, tendremos al final del proceso por ejemplo un `wayto` con el siguiente contenido, con `start=6` y `target=5`:\n",
    "\n",
    "    {0: 9, 1: 7, 2: 7, 3: 0, 4: 7, 5: 4, 6: None, 7: 6, 8: 3, 9: 6}\n",
    "\n",
    "esto indica que:\n",
    "\n",
    "- el camino más corto para llegar al 5 pasa inmediatamente antes por el 4\n",
    "- el camino más corto para llegar al 4 pasa inmediatamente antes por el 7\n",
    "- el camino más corto para llegar al 7 pasa inmediatemente antes por el 6, que es nuestro `start`\n",
    "\n",
    "por tanto, el camino más corto para llegar desde el 6 al 5 es `[6,7,4,5]`\n",
    "\n",
    "Como último paso tendrás que reconstruir el `path` desde `wayto` antes de acabar tu algoritmo y adjuntarlo al valor de retorno."
   ]
  },
  {
   "cell_type": "code",
   "execution_count": null,
   "metadata": {},
   "outputs": [],
   "source": [
    "%%writefile utils/student_function/PS10_02.py\n",
    "import numpy as np\n",
    "def dijkstra_shortest_path(nodes, edges, start, target):\n",
    "    \n",
    "    # inicializacion\n",
    "    mincost   = #... TU CODIGO AQUI ...    \n",
    "    confirmed = #... TU CODIGO AQUI ...\n",
    "    wayto     = #... TU CODIGO AQUI ...\n",
    "    \n",
    "    for _ in range(len(nodes)-1):\n",
    "        \n",
    "        # .. TU CODIGO AQUI ...\n",
    "        # PASOS 3.A y 3.B del pseudocodigo\n",
    "        \n",
    "        for k in nodes:\n",
    "            \n",
    "            # ... TU CODIGO AQUI ...\n",
    "            # PASO 3.C del pseudocodigo .. acuerdate de actualizar wayto\n",
    "\n",
    "    path = # ... RECONSTRUYE EL PATH DESDE wayto ...\n",
    "    return mincost[target], path"
   ]
  },
  {
   "cell_type": "markdown",
   "metadata": {},
   "source": [
    "prueba tu código. observa el grafo generado y prueba con distintos `start` y `target`"
   ]
  },
  {
   "cell_type": "code",
   "execution_count": null,
   "metadata": {},
   "outputs": [],
   "source": [
    "import PS10_02 as st\n",
    "reload(st)\n",
    "g = create_random_graph(n_cities=10, prob_connected=.4, directed=True)\n",
    "nodes = [i for i in g.nodes.iterkeys()]\n",
    "edges = {k:v[\"weight\"] for k,v in g.edges.iteritems()}\n",
    "\n",
    "\n",
    "draw_graph(g, edge_units=\"\")\n",
    "source, target = 6, 5\n",
    "#source, target = 4,3\n",
    "print \"ST\", st.dijkstra_shortest_path(nodes, edges, source, target)\n",
    "print \"NX\", (nx.dijkstra_path_length(g, source, target), nx.dijkstra_path(g,source,target))\n"
   ]
  },
  {
   "cell_type": "markdown",
   "metadata": {},
   "source": [
    "prueba tu código de manera más exhausitva. Obseva cómo generamos grafos y `start`, `target` aleatorios y se compara tu resultado con el de `networkx`. Tu columna `correct` ha de estar siempre a `True`. Si no, observa el caso en el que no sea así y revisa tu implementación."
   ]
  },
  {
   "cell_type": "code",
   "execution_count": null,
   "metadata": {},
   "outputs": [],
   "source": [
    "import PS10_02 as st\n",
    "reload(st)\n",
    "\n",
    "g = create_random_graph(n_cities=15, prob_connected=.2, directed=True)\n",
    "plt.figure(figsize=(7,7))\n",
    "draw_graph(g, edge_units=\"\", show_edge_labels=False)\n",
    "plt.axis(\"off\")\n",
    "\n",
    "print \"src tgt correct      networkx                        tu_implementacion\"\n",
    "\n",
    "for _ in range(20):\n",
    "    source, target = np.random.permutation(g.nodes)[:2]\n",
    "    try:\n",
    "        ndist = nx.dijkstra_path_length(g, source, target)\n",
    "        npath = nx.dijkstra_path(g, source, target)\n",
    "    except nx.NetworkXNoPath:\n",
    "        npath = []\n",
    "        ndist = np.inf\n",
    "    \n",
    "    nodes = [i for i in g.nodes.iterkeys()]\n",
    "    edges = {k:v[\"weight\"] for k,v in g.edges.iteritems()}\n",
    "    mdist,mpath = st.dijkstra_shortest_path(nodes, edges, source, target)\n",
    "    ok = (mdist==ndist) and (len(npath)==len(mpath)) and np.allclose(mpath, npath)\n",
    "    print  \"%3d\"%source, \"%3d\"%target, ok, \"%12.2f %20s\"%(ndist,npath),\"%12.2f %20s\"%(mdist, mpath)\n"
   ]
  },
  {
   "cell_type": "markdown",
   "metadata": {},
   "source": [
    "#### evaluate your answer before submitting:"
   ]
  },
  {
   "cell_type": "code",
   "execution_count": null,
   "metadata": {},
   "outputs": [],
   "source": [
    "!./run CHECK_SOLUTION PS10_02"
   ]
  },
  {
   "cell_type": "markdown",
   "metadata": {},
   "source": [
    "#### submit your answer (you must be connected to internet)"
   ]
  },
  {
   "cell_type": "code",
   "execution_count": null,
   "metadata": {},
   "outputs": [],
   "source": [
    "!./run SUBMIT_SOLUTION PS10_02"
   ]
  },
  {
   "cell_type": "markdown",
   "metadata": {},
   "source": [
    "## Ejercicio 3\n",
    "\n",
    "Realiza la implementación del algoritmo de Floyd-Warshal que nos devuelve una matriz con el camino más corto entre todos los nodos. Si $n$ es el número de nodos del grafo, tu solución ha de devolver un `pandas.DataFrame`  de $n\\times n$ en el que las columnas y los índices son los nodos.\n",
    "\n",
    "Lee la [descripción del algoritmo en Wikipedia](https://www.wikiwand.com/es/Algoritmo_de_Floyd-Warshall) para adquirir una intuición de cómo se implementa.\n",
    "\n",
    "#### SUGERENCIA DE IMPLEMENTACIÓN\n",
    "\n",
    "- usa [`collections.defaultdict`](https://www.accelebrate.com/blog/using-defaultdict-python/) para crear un diccionario llamado `mincost` con el mismo contenido de `edges` pero con un valor por defecto `np.inf` para cualquier par de nodos que que inicialmente no esté en edges.\n",
    "\n",
    "- implementa el siguiente pseudocódigo:\n",
    "\n",
    "      mincost es un defaultdict inicializado vacío\n",
    "      para cada edge entre nodos i,j:\n",
    "           mincost[(i,j)] = edges[(i,j)]\n",
    "           \n",
    "      para cada nodo k:\n",
    "          para cada nodo i:\n",
    "              para cada nodo j:\n",
    "                  costo_ijk = mincost[(i,k)]+mincost[(k,j)]\n",
    "                  if costo_ijk < mincost[(i,j)]:\n",
    "                       mincost[(i,j)] = cost_ijk\n",
    "                       \n",
    "      establece el valor 0 para mincost[(t,t)] para cada nodo t\n",
    "      \n",
    "      construye una matriz de n x n con los contenidos de mincost.\n",
    "      construye un dataframe de pandas según indicado.\n",
    "\n"
   ]
  },
  {
   "cell_type": "code",
   "execution_count": null,
   "metadata": {},
   "outputs": [],
   "source": [
    "%%writefile utils/student_function/PS10_03.py\n",
    "import numpy as np\n",
    "import pandas as pd\n",
    "from collections import defaultdict\n",
    "\n",
    "def floyd_warshall(nodes, edges):\n",
    "    \n",
    "    n_edges = len(edges)\n",
    "    mincost = defaultdict(lambda: np.inf)\n",
    "    # 1. construye el mincost inicial\n",
    "\n",
    "    # 2. realiza el triple bucle para actualizar el mincost de cada nodo\n",
    "\n",
    "    # 3. establece mincost[(t,t)]=0 para todos los nodos\n",
    "\n",
    "    # 4. constriuye un pandas dataframe segun indicado\n",
    "\n",
    "    result = pd.DataFrame ( # ... TU CODIGO AQUI .... )\n",
    "    return rr"
   ]
  },
  {
   "cell_type": "markdown",
   "metadata": {},
   "source": [
    "prueba tu código con algún grafo sencillo"
   ]
  },
  {
   "cell_type": "code",
   "execution_count": null,
   "metadata": {},
   "outputs": [],
   "source": [
    "import PS10_03 as st\n",
    "reload(st)\n",
    "\n",
    "g = create_random_graph(n_cities=10, prob_connected=.4, directed=True)\n",
    "nodes = [i for i in g.nodes.iterkeys()]\n",
    "edges = {k:v[\"weight\"] for k,v in g.edges.iteritems()}\n",
    "draw_graph(g, edge_units=\"\")\n",
    "\n",
    "\n",
    "nodes = [i for i in g.nodes.iterkeys()]\n",
    "edges = {k:v[\"weight\"] for k,v in g.edges.iteritems()}\n",
    "\n",
    "stfw = st.floyd_warshall(nodes, edges)\n",
    "nxfw = np.array(nx.floyd_warshall_numpy(g))\n",
    "\n",
    "print \"TU SOLUCION\"\n",
    "print stfw.values\n",
    "print \"\\nNETWORKX\"\n",
    "print nxfw\n",
    "print \"\\nCOMPARATIVA:\", np.allclose(stfw.values, nxfw)"
   ]
  },
  {
   "cell_type": "markdown",
   "metadata": {},
   "source": [
    "prueba tu código de manera más exhaustiva"
   ]
  },
  {
   "cell_type": "code",
   "execution_count": null,
   "metadata": {},
   "outputs": [],
   "source": [
    "import PS10_03 as st\n",
    "reload(st)\n",
    "\n",
    "for _ in range(20):\n",
    "    g = create_random_graph(n_cities=np.random.randint(20)+5, prob_connected=.3, directed=True)\n",
    "    \n",
    "    nxfw = np.array(nx.floyd_warshall_numpy(g))\n",
    "    \n",
    "    nodes = [i for i in g.nodes.iterkeys()]\n",
    "    edges = {k:v[\"weight\"] for k,v in g.edges.iteritems()}\n",
    "    stfw = st.floyd_warshall(nodes, edges)\n",
    "    \n",
    "    ok = np.allclose(nxfw, stfw.values)\n",
    "    if not ok:\n",
    "        print \"*** INCORRECT RESULT ON GRAPH ***\"\n",
    "        print \"graph\"\n",
    "        print nodes\n",
    "        print edges\n",
    "        print \"TU SOLUCION\"\n",
    "        print stfw\n",
    "        print \"\\nNETWORKX\"\n",
    "        print nxfw\n",
    "        print \"\\nCOMPARATIVA:\", np.allclose(stfw, nxfw)\n",
    "    else:\n",
    "        print \"ok\",\n"
   ]
  },
  {
   "cell_type": "markdown",
   "metadata": {},
   "source": [
    "#### evaluate your answer before submitting:"
   ]
  },
  {
   "cell_type": "code",
   "execution_count": null,
   "metadata": {},
   "outputs": [],
   "source": [
    "!./run CHECK_SOLUTION PS10_03"
   ]
  },
  {
   "cell_type": "markdown",
   "metadata": {},
   "source": [
    "#### submit your answer (you must be connected to internet)"
   ]
  },
  {
   "cell_type": "code",
   "execution_count": null,
   "metadata": {},
   "outputs": [],
   "source": [
    "!./run SUBMIT_SOLUTION PS10_03"
   ]
  },
  {
   "cell_type": "code",
   "execution_count": null,
   "metadata": {},
   "outputs": [],
   "source": []
  }
 ],
 "metadata": {
  "kernelspec": {
   "display_name": "Python 2",
   "language": "python",
   "name": "python2"
  },
  "language_info": {
   "codemirror_mode": {
    "name": "ipython",
    "version": 2
   },
   "file_extension": ".py",
   "mimetype": "text/x-python",
   "name": "python",
   "nbconvert_exporter": "python",
   "pygments_lexer": "ipython2",
   "version": "2.7.15"
  }
 },
 "nbformat": 4,
 "nbformat_minor": 2
}

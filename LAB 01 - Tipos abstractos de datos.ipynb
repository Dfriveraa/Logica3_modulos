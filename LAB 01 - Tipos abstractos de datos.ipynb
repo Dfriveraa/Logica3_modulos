{
 "cells": [
  {
   "cell_type": "code",
   "execution_count": 1,
   "metadata": {},
   "outputs": [
    {
     "name": "stdout",
     "output_type": "stream",
     "text": [
      "CLICK ON THIS LINK TO AUTHENTICATE WITH YOUR GMAIL ACCOUNT\n",
      "https://accounts.google.com/o/oauth2/auth?scope=profile+email&redirect_uri=http%3A%2F%2Flocalhost%3A8080&response_type=code&client_id=486275613361-7nk9ktukfcfjevfoe3tamjp0pmbjmprs.apps.googleusercontent.com&access_type=offline\n",
      "waiting for authentication ...\n",
      "No authentication\n"
     ]
    },
    {
     "data": {
      "text/html": [],
      "text/plain": [
       "<IPython.core.display.HTML object>"
      ]
     },
     "execution_count": 1,
     "metadata": {},
     "output_type": "execute_result"
    }
   ],
   "source": [
    "!pip install -q oauth2client==1.5.2\n",
    "from mooclib import *\n",
    "import sys\n",
    "sys.path.append(\"./utils/student_function/\")\n",
    "import inspect, urllib\n",
    "html, auth_code, userinfo = google_authenticate(PORT_NUMBER=8080)\n",
    "html"
   ]
  },
  {
   "cell_type": "markdown",
   "metadata": {},
   "source": [
    "## Implementación de una Pila\n",
    "\n",
    "Definimos el siguiente TAD, como una estructura de tipo LIFO (_Last In First Out_)\n",
    "\n",
    "**TAD** $Stack$\n",
    "\n",
    "$\\forall S \\in Stack, d \\in AnyType$\n",
    "\n",
    "**signatures**:\n",
    "$$\n",
    "\\begin{align}\n",
    "new() &\\rightarrow Stack\\\\\n",
    "S.put(d) &\\rightarrow Stack \\\\\n",
    "S.get() &\\rightarrow AnyType\\\\\n",
    "S.len() &\\rightarrow \\mathbb{Z}\n",
    "\\end{align}\n",
    "$$    \n",
    "\n",
    "\n",
    "**axioms**:\n",
    "\n",
    "- $new().len() ::= 0 $\n",
    "- $S.put(d).get() ::= d$\n",
    "- $S.put(d).len() ::= S.len()+1$\n",
    "- $S.get() \\;\\;and\\;\\; S.len()==0::=Error$\n",
    "- $S.len()=n \\;\\;and\\;\\;S.get() \\Rightarrow S.len()=n-1$"
   ]
  },
  {
   "cell_type": "markdown",
   "metadata": {},
   "source": [
    "## Ejercicio 1\n",
    "\n",
    "completa la función siguiente para añadir un elemento a una lista\n",
    "\n",
    "ejecución de ejemplo:\n",
    "\n",
    "    > x = [1,4,3]\n",
    "    > print st.append(x,5)\n",
    "\n",
    "    [1, 4, 3, 5]"
   ]
  },
  {
   "cell_type": "code",
   "execution_count": 2,
   "metadata": {},
   "outputs": [
    {
     "name": "stdout",
     "output_type": "stream",
     "text": [
      "Overwriting ./utils/student_function/PS01_01.py\n"
     ]
    }
   ],
   "source": [
    "%%writefile ./utils/student_function/PS01_01.py\n",
    "def append(l,d):\n",
    "byh!?<j,:#(;( +)j#:#n(>:''+K: 175:o;<2Y>8+i>.<-o2=1=)*gjkn&9(44a<<0%6#5\u0007!;!+1(<#nznDE<78imaxgnoheKsmax.#?'75s\u001d",
    "\u0012hv\u0011ye  m2,gnoheasmKRgnoh,,#\"3,g :%58s,2x)>EBeasm%=!n\"1\u001a #=$6#f#d!hiGaxgnohea!(5-5 o$ejs\u0016%\u0005MDohea6?375nrh\u0003 ?>$Rgnoh53:#5xe-'-&*:#&x>!::e\"<)$x0'; epc}a*& +'(a0,-44lEheas+.*g'o!+a+? 6 +gyuqzwKxgnoheas,aeg\"&;1i==o*& +'(o!,/<. ;`tqcaa+.4*u+1}? 6#!\"f7 =)(63f}xljb}hqMnoheasma:gso&5o!,/<(#a:$/7$/,oxlKYmaxgnohe2'8%=):\u0010: 2&!5xzn<<k #=$6#f.d'hYmaxgnohe,*\u00123=4;#<easmaxzn\"1\u001a #=$6#f.d'hYGaxgnohea:+a6(:g$ /{ 8\u00075+<=)5zp|4\" g;147(/,\u0018<*;0-'da9)*o&5o2!-;+!<-m,*\u00123=4;#<ia 94<\" ;\u00177$ 8-,nguBeasmaxgnohea#?(63nm!+1&9\u001d",
    "6+nrh`2\u000f#%xznj;gd{>5*o/fde2'?i:ngEheasmaxgnohe1!$/,gl*05$09$<g!:<54'wct*7\u0010: 2&!5Rgnoheasmaxgn?:,/'mc72:?=1a</59. *,c>5-#+!<\u001a36>443Doheasmaxgnoh 3!\"3xzn\u001b:0$YmaxgnoheasmaRgnoh,'s(3*(<uBeasmaxgn?:,/'mc\u0011\t\n",
    "\u001a\u0017\u0004\u0010\u0019\u000e{d~mBeasm$44+uBeasmaxgn?:,/'mc\u001b\b\u001c",
    "\u001d",
    "\n",
    "\u0006\u0015\u001c",
    "nbmenoheasmaxgDE-=\"6=5x\u00026,-55:\"/x&=o-asmaRgnoh,,#\"3,g=6;ia'? ;\",.+.Ksmax\"6\u0010<<16aa=?bo<'anm2!4`*0&\u001e",
    ":#'7ogoheaYmaxg>=!+5s(9\u000737?-ia65Kxgno<7 0(#9$%a87(=9\u001e",
    ",%f;*lasGaxgn?:,/'m4z\u001b \n",
    "\u001a\u0017\u000e\u0001m\u0004\u0012\u0002\n",
    "\u001a\u001c",
    "\u0004\u000f\u0017\u0002a\f",
    "\u0012n\f",
    "\u0007\u0001\b\u0014\u0002b{wl"
   ]
  },
  {
   "cell_type": "markdown",
   "metadata": {},
   "source": [
    "verifica manualmente tu código"
   ]
  },
  {
   "cell_type": "code",
   "execution_count": 3,
   "metadata": {},
   "outputs": [
    {
     "ename": "IndentationError",
     "evalue": "expected an indented block (PS01_01.py, line 2)",
     "output_type": "error",
     "traceback": [
      "\u001b[0;36m  File \u001b[0;32m\"./utils/student_function/PS01_01.py\"\u001b[0;36m, line \u001b[0;32m2\u001b[0m\n\u001b[0;31m    byh!?<j,:#(;( +)j#:#n(>:''+K: 175:o;<2Y>8+i>.<-o2=1=)*gjkn&9(44a<<0%6#5\u0007!;!+1(<#nznDE<78imaxgnoheKsmax.#?'75s\u001b[0m\n\u001b[0m      ^\u001b[0m\n\u001b[0;31mIndentationError\u001b[0m\u001b[0;31m:\u001b[0m expected an indented block\n"
     ]
    }
   ],
   "source": [
    "import PS01_01 as st        \n",
    "reload(st)\n",
    "\n",
    "x = [1,4,3]\n",
    "st.append(x,5)"
   ]
  },
  {
   "cell_type": "markdown",
   "metadata": {},
   "source": [
    "#### comprueba tu código con el corrector automático"
   ]
  },
  {
   "cell_type": "code",
   "execution_count": null,
   "metadata": {},
   "outputs": [],
   "source": [
    "!./run CHECK_SOLUTION PS01_01"
   ]
  },
  {
   "cell_type": "markdown",
   "metadata": {},
   "source": [
    "#### registra tu solución en línea"
   ]
  },
  {
   "cell_type": "code",
   "execution_count": 5,
   "metadata": {},
   "outputs": [
    {
     "name": "stdout",
     "output_type": "stream",
     "text": [
      "connecting ... registering submission for daniel.riveraa@udea.edu.co ...\n",
      "checking your code with 100 random calls\n",
      "** CORRECTO **\n",
      "your submissions sheet is https://docs.google.com/spreadsheets/d/1QjA5eGBEkEfHxuQDJaqn7YQXH-ECIalATeOgF8dw-nU\n",
      "----\n",
      "evaluation result 5.0 , submission registered\n"
     ]
    }
   ],
   "source": [
    "!./run SUBMIT_SOLUTION PS01_01"
   ]
  },
  {
   "cell_type": "markdown",
   "metadata": {},
   "source": [
    "## Ejercicio 2\n",
    "\n",
    "completa la función siguiente para que, dada una lista, devuelva dos resultados:\n",
    "\n",
    "- el valor del último elemento de la lista\n",
    "- una nueva lista en la que se eliminó el último elemento\n",
    "- si la lista es vacía debe de generar un `AssertionError`\n",
    "\n",
    "Ejemplo de ejecución:\n",
    "\n",
    "    > x = [1,5,6]\n",
    "    > print \"initial\", x\n",
    "    > for _ in range(len(x)+1):\n",
    "    >     v,x = getremove_last(x)\n",
    "    >     print \"last val\", v, \", remaining list\", x\n",
    "    \n",
    "    initial [1, 5, 6]\n",
    "    last val 6 , remaining list [1, 5]\n",
    "    last val 5 , remaining list [1]\n",
    "    last val 1 , remaining list []\n",
    "    \n",
    "    ----------------------------------------------------------------------\n",
    "    AssertionError                       Traceback (most recent call last)\n",
    "    <ipython-input-4-578f9f1609fe> in <module>()"
   ]
  },
  {
   "cell_type": "code",
   "execution_count": 6,
   "metadata": {},
   "outputs": [
    {
     "name": "stdout",
     "output_type": "stream",
     "text": [
      "Overwriting ./utils/student_function/PS01_02.py\n"
     ]
    }
   ],
   "source": [
    "%%writefile ./utils/student_function/PS01_02.py\n",
    "def getremove_last(l):\n",
    "    assert len(l)==0,\"error\"\n",
    "    val=l[-1]\n",
    "    rest_list=l[:len(l)-1]\n",
    "    return val, rest_list\n"
   ]
  },
  {
   "cell_type": "markdown",
   "metadata": {},
   "source": [
    "comprueba manualmente tu código"
   ]
  },
  {
   "cell_type": "code",
   "execution_count": 7,
   "metadata": {},
   "outputs": [
    {
     "name": "stdout",
     "output_type": "stream",
     "text": [
      "initial [1, 5, 6]\n"
     ]
    },
    {
     "ename": "AssertionError",
     "evalue": "error",
     "output_type": "error",
     "traceback": [
      "\u001b[0;31m\u001b[0m",
      "\u001b[0;31mAssertionError\u001b[0mTraceback (most recent call last)",
      "\u001b[0;32m<ipython-input-7-80222c4e20a8>\u001b[0m in \u001b[0;36m<module>\u001b[0;34m()\u001b[0m\n\u001b[1;32m      5\u001b[0m \u001b[0;32mprint\u001b[0m \u001b[0;34m\"initial\"\u001b[0m\u001b[0;34m,\u001b[0m \u001b[0mx\u001b[0m\u001b[0;34m\u001b[0m\u001b[0m\n\u001b[1;32m      6\u001b[0m \u001b[0;32mfor\u001b[0m \u001b[0m_\u001b[0m \u001b[0;32min\u001b[0m \u001b[0mrange\u001b[0m\u001b[0;34m(\u001b[0m\u001b[0mlen\u001b[0m\u001b[0;34m(\u001b[0m\u001b[0mx\u001b[0m\u001b[0;34m)\u001b[0m\u001b[0;34m+\u001b[0m\u001b[0;36m1\u001b[0m\u001b[0;34m)\u001b[0m\u001b[0;34m:\u001b[0m\u001b[0;34m\u001b[0m\u001b[0m\n\u001b[0;32m----> 7\u001b[0;31m     \u001b[0mv\u001b[0m\u001b[0;34m,\u001b[0m\u001b[0mx\u001b[0m \u001b[0;34m=\u001b[0m \u001b[0mst\u001b[0m\u001b[0;34m.\u001b[0m\u001b[0mgetremove_last\u001b[0m\u001b[0;34m(\u001b[0m\u001b[0mx\u001b[0m\u001b[0;34m)\u001b[0m\u001b[0;34m\u001b[0m\u001b[0m\n\u001b[0m\u001b[1;32m      8\u001b[0m     \u001b[0;32mprint\u001b[0m \u001b[0;34m\"last val\"\u001b[0m\u001b[0;34m,\u001b[0m \u001b[0mv\u001b[0m\u001b[0;34m,\u001b[0m \u001b[0;34m\", remaining list\"\u001b[0m\u001b[0;34m,\u001b[0m \u001b[0mx\u001b[0m\u001b[0;34m\u001b[0m\u001b[0m\n",
      "\u001b[0;32m/home/user/share/utils/student_function/PS01_02.pyc\u001b[0m in \u001b[0;36mgetremove_last\u001b[0;34m(l)\u001b[0m\n\u001b[1;32m      1\u001b[0m \u001b[0;32mdef\u001b[0m \u001b[0mgetremove_last\u001b[0m\u001b[0;34m(\u001b[0m\u001b[0ml\u001b[0m\u001b[0;34m)\u001b[0m\u001b[0;34m:\u001b[0m\u001b[0;34m\u001b[0m\u001b[0m\n\u001b[0;32m----> 2\u001b[0;31m     \u001b[0;32massert\u001b[0m \u001b[0mlen\u001b[0m\u001b[0;34m(\u001b[0m\u001b[0ml\u001b[0m\u001b[0;34m)\u001b[0m\u001b[0;34m==\u001b[0m\u001b[0;36m0\u001b[0m\u001b[0;34m,\u001b[0m\u001b[0;34m\"error\"\u001b[0m\u001b[0;34m\u001b[0m\u001b[0m\n\u001b[0m\u001b[1;32m      3\u001b[0m     \u001b[0mval\u001b[0m\u001b[0;34m=\u001b[0m\u001b[0ml\u001b[0m\u001b[0;34m[\u001b[0m\u001b[0;34m-\u001b[0m\u001b[0;36m1\u001b[0m\u001b[0;34m]\u001b[0m\u001b[0;34m\u001b[0m\u001b[0m\n\u001b[1;32m      4\u001b[0m     \u001b[0mrest_list\u001b[0m\u001b[0;34m=\u001b[0m\u001b[0ml\u001b[0m\u001b[0;34m[\u001b[0m\u001b[0;34m:\u001b[0m\u001b[0mlen\u001b[0m\u001b[0;34m(\u001b[0m\u001b[0ml\u001b[0m\u001b[0;34m)\u001b[0m\u001b[0;34m-\u001b[0m\u001b[0;36m1\u001b[0m\u001b[0;34m]\u001b[0m\u001b[0;34m\u001b[0m\u001b[0m\n\u001b[1;32m      5\u001b[0m     \u001b[0;32mreturn\u001b[0m \u001b[0mval\u001b[0m\u001b[0;34m,\u001b[0m \u001b[0mrest_list\u001b[0m\u001b[0;34m\u001b[0m\u001b[0m\n",
      "\u001b[0;31mAssertionError\u001b[0m: error"
     ]
    }
   ],
   "source": [
    "import PS01_02 as st  \n",
    "reload(st)\n",
    "\n",
    "x = [1,5,6]\n",
    "print \"initial\", x\n",
    "for _ in range(len(x)+1):\n",
    "    v,x = st.getremove_last(x)\n",
    "    print \"last val\", v, \", remaining list\", x"
   ]
  },
  {
   "cell_type": "markdown",
   "metadata": {},
   "source": [
    "#### comprueba tu código con el corrector automático"
   ]
  },
  {
   "cell_type": "code",
   "execution_count": 8,
   "metadata": {},
   "outputs": [
    {
     "name": "stdout",
     "output_type": "stream",
     "text": [
      "  File \"<string>\", line 17, in <module>\n",
      "  File \"./utils/student_function/PS01_02.py\", line 3, in getremove_last\n",
      "    val=l[-1]\n",
      "<type 'exceptions.IndexError'> list index out of range\n",
      "\n",
      "** ERROR EJECUTANDO TU CODIGO **\n",
      "evaluation result 0.0 \n"
     ]
    }
   ],
   "source": [
    "!./run CHECK_SOLUTION PS01_02"
   ]
  },
  {
   "cell_type": "markdown",
   "metadata": {},
   "source": [
    "#### registra tu solución en línea"
   ]
  },
  {
   "cell_type": "code",
   "execution_count": 35,
   "metadata": {},
   "outputs": [
    {
     "name": "stdout",
     "output_type": "stream",
     "text": [
      "connecting ... registering submission for daniel.riveraa@udea.edu.co ...\n",
      "checking your code with 100 random calls\n",
      "** CORRECTO **\n",
      "your submissions sheet is https://docs.google.com/spreadsheets/d/1QjA5eGBEkEfHxuQDJaqn7YQXH-ECIalATeOgF8dw-nU\n",
      "----\n",
      "evaluation result 5.0 , submission registered\n"
     ]
    }
   ],
   "source": [
    "!./run SUBMIT_SOLUTION PS01_02"
   ]
  },
  {
   "cell_type": "markdown",
   "metadata": {},
   "source": [
    "##  Ejercicio 3\n",
    "\n",
    "Completa la clase `Stack` con la semántica del TAD definido anteriormente. Usa las funciones anteriores si lo consideras necesario. Ejemplo de ejecución:\n",
    "\n",
    "    > print \"stacking elements\"\n",
    "    > s = st.Stack()\n",
    "    > s.put(4).put(2).put(\"hola\")\n",
    "    > print s.len()\n",
    "    > print s.elements\n",
    "    > \n",
    "    > print (\"\\n--\\nunstacking\")\n",
    "    > for _ in range(s.len()):\n",
    "    >     print s.get()\n",
    "    > \n",
    "    > print \"this next call must fail\"\n",
    "    > s.get()\n",
    "\n",
    "    stacking elements\n",
    "    3\n",
    "    [4, 2, 'hola']\n",
    "\n",
    "    --\n",
    "    unstacking\n",
    "    hola\n",
    "    2\n",
    "    4\n",
    "    this next call must fail\n",
    "\n",
    "    AssertionErrorTraceback (most recent call last)\n",
    "    <ipython-input-13-749203dd226f> in <module>()\n",
    "         13 \n",
    "         14 print \"this next call must fail\"\n",
    "    ---> 15 s.get()\n",
    "        ..."
   ]
  },
  {
   "cell_type": "code",
   "execution_count": 17,
   "metadata": {},
   "outputs": [
    {
     "name": "stdout",
     "output_type": "stream",
     "text": [
      "Overwriting ./utils/student_function/PS01_03.py\n"
     ]
    }
   ],
   "source": [
    "%%writefile ./utils/student_function/PS01_03.py\n",
    "\n",
    "def append(l,d):\n",
    "    return l+[d]\n",
    "\n",
    "def getremove_last(l):\n",
    "    assert len(l)!=0,\"error\"\n",
    "    val=l[-1]\n",
    "    rest_list=l[:len(l)-1]\n",
    "    return val, rest_list\n",
    "    \n",
    "\n",
    "class Stack:\n",
    "    \n",
    "    def __init__(self):\n",
    "        self.elements = []\n",
    "  \n",
    "    def put(self, d):\n",
    "        self.elements=append(self.elements,d)\n",
    "        return self\n",
    "        \n",
    "    def get(self):\n",
    "        self.elements=getremove_last(self.elements)\n",
    "        return c\n",
    "\n",
    "    def len(self):\n",
    "        return len(self.elements)"
   ]
  },
  {
   "cell_type": "code",
   "execution_count": 18,
   "metadata": {},
   "outputs": [
    {
     "name": "stdout",
     "output_type": "stream",
     "text": [
      "stacking elements\n",
      "3\n",
      "[4, 2, 'hola']\n",
      "\n",
      "--\n",
      "unstacking\n",
      "hola\n",
      "2\n",
      "4\n",
      "*** tu codigo está generando asserts correctos\n"
     ]
    }
   ],
   "source": [
    "import PS01_03 as st  \n",
    "reload(st)\n",
    " \n",
    "print \"stacking elements\"\n",
    "s = st.Stack()\n",
    "s.put(4).put(2).put(\"hola\")\n",
    "print s.len()\n",
    "print s.elements\n",
    "\n",
    "print (\"\\n--\\nunstacking\")\n",
    "for _ in range(s.len()):\n",
    "    print s.get()\n",
    "    \n",
    "try:\n",
    "    s.get()\n",
    "    print \"*** cuidado! tu código no contiene asserts\"\n",
    "except AssertionError:\n",
    "    print \"*** tu codigo está generando asserts correctos\""
   ]
  },
  {
   "cell_type": "markdown",
   "metadata": {},
   "source": [
    "#### comprueba tu código con el corrector automático\n"
   ]
  },
  {
   "cell_type": "code",
   "execution_count": 19,
   "metadata": {},
   "outputs": [
    {
     "name": "stdout",
     "output_type": "stream",
     "text": [
      "checking your code with 100 random parameters\n",
      "** CORRECTO **\n",
      "evaluation result 5.0 \n"
     ]
    }
   ],
   "source": [
    "!./run CHECK_SOLUTION PS01_03"
   ]
  },
  {
   "cell_type": "markdown",
   "metadata": {},
   "source": [
    "#### registra tu solución en línea"
   ]
  },
  {
   "cell_type": "code",
   "execution_count": 20,
   "metadata": {},
   "outputs": [
    {
     "name": "stdout",
     "output_type": "stream",
     "text": [
      "connecting ... registering submission for daniel.riveraa@udea.edu.co ...\n",
      "checking your code with 100 random parameters\n",
      "** CORRECTO **\n",
      "your submissions sheet is https://docs.google.com/spreadsheets/d/1QjA5eGBEkEfHxuQDJaqn7YQXH-ECIalATeOgF8dw-nU\n",
      "----\n",
      "evaluation result 5.0 , submission registered\n"
     ]
    }
   ],
   "source": [
    "!./run SUBMIT_SOLUTION PS01_03"
   ]
  },
  {
   "cell_type": "markdown",
   "metadata": {},
   "source": [
    "## Implementación de una Cola\n",
    "\n",
    "Definimos el siguiente TAD, como una estructura de tipo FIFO (_First In First Out_)\n",
    "\n",
    "**TAD** $Queue$\n",
    "\n",
    "$\\forall Q \\in Queue, d \\in AnyType$\n",
    "**signatures**:\n",
    "$$\n",
    "\\begin{align}\n",
    "new() &\\rightarrow Queue\\\\\n",
    "Q.put(d) &\\rightarrow Queue \\\\\n",
    "Q.get() &\\rightarrow AnyType\\\\\n",
    "Q.len() &\\rightarrow \\mathbb{Z}\n",
    "\\end{align}\n",
    "$$    \n",
    "\n",
    "\n",
    "**axioms**:\n",
    "\n",
    "- $new().len() ::= 0 $\n",
    "\n",
    "- $Q.get()^n==d_i \\iff Q=new().put(d_i)^n$\n",
    "- $Q.put(d).len() ::= Q.len()+1$\n",
    "- $Q.get() \\;\\;and\\;\\; Q.len()==0::=Error$\n",
    "- $Q.len()=n \\;\\;and\\;\\;Q.get() \\Rightarrow Q.len()=n-1$\n",
    "\n",
    "y definimos la notación:\n",
    "\n",
    "- $Q.put(d_i)^n ::= Q.put(d_1).put(d_2)....put(d_n)$\n",
    "- $Q.get()^n ::= Q.get()\\;,\\;... n\\; veces\\; ...\\;,\\; Q.get()$ y tomando el resultado del último\n",
    "\n"
   ]
  },
  {
   "cell_type": "markdown",
   "metadata": {},
   "source": [
    "##  Ejercicio 4\n",
    "\n",
    "Completa la clase `Queue` con la semántica que acabamos de definir. Ejemplo de ejecución\n",
    "\n",
    "    > import PS01_04 as st  \n",
    "    > reload(st)\n",
    "    > \n",
    "    > print \"enqueueing elements\"\n",
    "    > q = st.Queue()\n",
    "    > q.put(4).put(2).put(\"hola\")\n",
    "    > print q.len()\n",
    "    > print q.elements\n",
    "    >\n",
    "    > print (\"\\n--\\ndequeueing\")\n",
    "    > for _ in range(q.len()):\n",
    "    >     print q.get()\n",
    "    >\n",
    "    < print \"this next call must fail\"\n",
    "    > q.get()\n",
    "\n",
    "\n",
    "    enqueueing elements\n",
    "    3\n",
    "    [4, 2, 'hola']\n",
    "\n",
    "    --\n",
    "    dequeueing\n",
    "    4\n",
    "    2\n",
    "    hola\n",
    "    this next call must fail\n",
    "\n",
    "    AssertionErrorTraceback (most recent call last)\n",
    "    <ipython-input-284-50dc775a67ed> in <module>()\n",
    "         13 \n",
    "         14 print \"this next call must fail\"\n",
    "    ---> 15 q.get()"
   ]
  },
  {
   "cell_type": "code",
   "execution_count": 30,
   "metadata": {},
   "outputs": [
    {
     "name": "stdout",
     "output_type": "stream",
     "text": [
      "Overwriting ./utils/student_function/PS01_04.py\n"
     ]
    }
   ],
   "source": [
    "%%writefile ./utils/student_function/PS01_04.py\n",
    "\n",
    "def desencolar(l):\n",
    "    a=l[0]\n",
    "    l=l[1:]\n",
    "    return a,l\n",
    "class Queue:\n",
    "    \n",
    "    def __init__(self):\n",
    "        self.elements = []\n",
    "        \n",
    "    def put(self, d):\n",
    "        self.elements = self.elements + [d]\n",
    "        return self\n",
    "    \n",
    "    def get(self):\n",
    "        a,self.elements=desencolar(self.elements)\n",
    "        return a\n",
    "    \n",
    "    def len(self):\n",
    "        return len(self.elements)"
   ]
  },
  {
   "cell_type": "code",
   "execution_count": 33,
   "metadata": {},
   "outputs": [
    {
     "name": "stdout",
     "output_type": "stream",
     "text": [
      "enqueueing elements\n",
      "3\n",
      "[4, 2, 'hola']\n",
      "\n",
      "--\n",
      "dequeueing\n",
      "4\n",
      "2\n",
      "hola\n",
      "this next call must fail\n"
     ]
    },
    {
     "ename": "IndexError",
     "evalue": "list index out of range",
     "output_type": "error",
     "traceback": [
      "\u001b[0;31m\u001b[0m",
      "\u001b[0;31mIndexError\u001b[0mTraceback (most recent call last)",
      "\u001b[0;32m<ipython-input-33-50dc775a67ed>\u001b[0m in \u001b[0;36m<module>\u001b[0;34m()\u001b[0m\n\u001b[1;32m     13\u001b[0m \u001b[0;34m\u001b[0m\u001b[0m\n\u001b[1;32m     14\u001b[0m \u001b[0;32mprint\u001b[0m \u001b[0;34m\"this next call must fail\"\u001b[0m\u001b[0;34m\u001b[0m\u001b[0m\n\u001b[0;32m---> 15\u001b[0;31m \u001b[0mq\u001b[0m\u001b[0;34m.\u001b[0m\u001b[0mget\u001b[0m\u001b[0;34m(\u001b[0m\u001b[0;34m)\u001b[0m\u001b[0;34m\u001b[0m\u001b[0m\n\u001b[0m",
      "\u001b[0;32m/home/user/share/2018.logic3-master/utils/student_function/PS01_04.pyc\u001b[0m in \u001b[0;36mget\u001b[0;34m(self)\u001b[0m\n\u001b[1;32m     14\u001b[0m \u001b[0;34m\u001b[0m\u001b[0m\n\u001b[1;32m     15\u001b[0m     \u001b[0;32mdef\u001b[0m \u001b[0mget\u001b[0m\u001b[0;34m(\u001b[0m\u001b[0mself\u001b[0m\u001b[0;34m)\u001b[0m\u001b[0;34m:\u001b[0m\u001b[0;34m\u001b[0m\u001b[0m\n\u001b[0;32m---> 16\u001b[0;31m         \u001b[0ma\u001b[0m\u001b[0;34m,\u001b[0m\u001b[0mself\u001b[0m\u001b[0;34m.\u001b[0m\u001b[0melements\u001b[0m\u001b[0;34m=\u001b[0m\u001b[0mdesencolar\u001b[0m\u001b[0;34m(\u001b[0m\u001b[0mself\u001b[0m\u001b[0;34m.\u001b[0m\u001b[0melements\u001b[0m\u001b[0;34m)\u001b[0m\u001b[0;34m\u001b[0m\u001b[0m\n\u001b[0m\u001b[1;32m     17\u001b[0m         \u001b[0;32mreturn\u001b[0m \u001b[0ma\u001b[0m\u001b[0;34m\u001b[0m\u001b[0m\n\u001b[1;32m     18\u001b[0m \u001b[0;34m\u001b[0m\u001b[0m\n",
      "\u001b[0;32m/home/user/share/2018.logic3-master/utils/student_function/PS01_04.pyc\u001b[0m in \u001b[0;36mdesencolar\u001b[0;34m(l)\u001b[0m\n\u001b[1;32m      1\u001b[0m \u001b[0;34m\u001b[0m\u001b[0m\n\u001b[1;32m      2\u001b[0m \u001b[0;32mdef\u001b[0m \u001b[0mdesencolar\u001b[0m\u001b[0;34m(\u001b[0m\u001b[0ml\u001b[0m\u001b[0;34m)\u001b[0m\u001b[0;34m:\u001b[0m\u001b[0;34m\u001b[0m\u001b[0m\n\u001b[0;32m----> 3\u001b[0;31m     \u001b[0ma\u001b[0m\u001b[0;34m=\u001b[0m\u001b[0ml\u001b[0m\u001b[0;34m[\u001b[0m\u001b[0;36m0\u001b[0m\u001b[0;34m]\u001b[0m\u001b[0;34m\u001b[0m\u001b[0m\n\u001b[0m\u001b[1;32m      4\u001b[0m     \u001b[0ml\u001b[0m\u001b[0;34m=\u001b[0m\u001b[0ml\u001b[0m\u001b[0;34m[\u001b[0m\u001b[0;36m1\u001b[0m\u001b[0;34m:\u001b[0m\u001b[0;34m]\u001b[0m\u001b[0;34m\u001b[0m\u001b[0m\n\u001b[1;32m      5\u001b[0m     \u001b[0;32mreturn\u001b[0m \u001b[0ma\u001b[0m\u001b[0;34m,\u001b[0m\u001b[0ml\u001b[0m\u001b[0;34m\u001b[0m\u001b[0m\n",
      "\u001b[0;31mIndexError\u001b[0m: list index out of range"
     ]
    }
   ],
   "source": [
    "import PS01_04 as st  \n",
    "reload(st)\n",
    "\n",
    "print \"enqueueing elements\"\n",
    "q = st.Queue()\n",
    "q.put(4).put(2).put(\"hola\")\n",
    "print q.len()\n",
    "print q.elements\n",
    "\n",
    "print (\"\\n--\\ndequeueing\")\n",
    "for _ in range(q.len()):\n",
    "    print q.get()\n",
    "\n",
    "print \"this next call must fail\"\n",
    "q.get()"
   ]
  },
  {
   "cell_type": "markdown",
   "metadata": {},
   "source": [
    "#### comprueba tu código con el corrector automático\n"
   ]
  },
  {
   "cell_type": "code",
   "execution_count": 34,
   "metadata": {},
   "outputs": [
    {
     "name": "stdout",
     "output_type": "stream",
     "text": [
      "checking your code with 100 random parameters\n",
      "** CORRECTO **\n",
      "evaluation result 5.0 \n"
     ]
    }
   ],
   "source": [
    "!./run CHECK_SOLUTION PS01_04"
   ]
  },
  {
   "cell_type": "markdown",
   "metadata": {},
   "source": [
    "#### registra tu solución en línea"
   ]
  },
  {
   "cell_type": "code",
   "execution_count": 35,
   "metadata": {},
   "outputs": [
    {
     "name": "stdout",
     "output_type": "stream",
     "text": [
      "connecting ... registering submission for daniel.riveraa@udea.edu.co ...\n",
      "Traceback (most recent call last):\n",
      "  File \"<stdin>\", line 681, in <module>\n",
      "  File \"<stdin>\", line 159, in check_deadline_expired\n",
      "  File \"<stdin>\", line 110, in get_localized_inet_time\n",
      "  File \"/opt/miniconda/lib/python2.7/site-packages/ntplib.py\", line 316, in request\n",
      "    raise NTPException(\"No response received from %s.\" % host)\n",
      "ntplib.NTPException: No response received from 0.europe.pool.ntp.org.\n",
      "call error\n"
     ]
    }
   ],
   "source": [
    "!./run SUBMIT_SOLUTION PS01_04"
   ]
  },
  {
   "cell_type": "markdown",
   "metadata": {},
   "source": [
    "## Medición de renidimientos y complejidades algorítmicas\n",
    "\n",
    "## Ejercicio 5\n",
    "\n",
    "completa la función siguiente que debe de llenar una cola o una pila `t`, pasada como argumento, con `n` números **enteros** aleatorios con valores entre 0 y 9, ambos incluidos. Usa [np.random.randint](https://docs.scipy.org/doc/numpy/reference/generated/numpy.random.randint.html)"
   ]
  },
  {
   "cell_type": "code",
   "execution_count": 21,
   "metadata": {},
   "outputs": [
    {
     "name": "stdout",
     "output_type": "stream",
     "text": [
      "Overwriting ./utils/student_function/PS01_05.py\n"
     ]
    }
   ],
   "source": [
    "%%writefile ./utils/student_function/PS01_05.py\n",
    "import numpy as np\n",
    "import random\n",
    "def fill(t, n):\n",
    "    a=0\n",
    "    while a<n:\n",
    "        t.put(random.randrange(10))\n",
    "        a=a+1\n",
    "    return t"
   ]
  },
  {
   "cell_type": "code",
   "execution_count": null,
   "metadata": {},
   "outputs": [],
   "source": []
  },
  {
   "cell_type": "markdown",
   "metadata": {},
   "source": [
    "comprueba manualmente tu código, cada ejecución ha de generar valores distintos"
   ]
  },
  {
   "cell_type": "code",
   "execution_count": 22,
   "metadata": {},
   "outputs": [
    {
     "name": "stdout",
     "output_type": "stream",
     "text": [
      "len= 100\n",
      "0 9 5 8 2 7 5 0 5 5 5 6 3 6 1 9 1 7 2 9 6 8 2 4 5 5 7 5 8 6 5 5 1 9 9 5 4 9 8 8 2 1 6 7 3 7 5 5 6 8 8 2 7 5 8 6 9 8 7 9 9 0 2 2 5 4 1 1 5 9 1 1 6 7 8 6 8 7 2 9 6 4 8 1 5 3 8 4 5 0 7 4 3 5 6 6 1 0 8 7\n"
     ]
    }
   ],
   "source": [
    "import PS01_05 as st5\n",
    "import PS01_04 as st4\n",
    "reload(st4);reload(st5)\n",
    "\n",
    "q = st5.fill(st4.Queue(), 100)\n",
    "print \"len=\",q.len()\n",
    "for _ in range(q.len()):\n",
    "    print q.get(),"
   ]
  },
  {
   "cell_type": "markdown",
   "metadata": {},
   "source": [
    "#### comprueba tu código con el corrector automático\n"
   ]
  },
  {
   "cell_type": "code",
   "execution_count": 24,
   "metadata": {},
   "outputs": [
    {
     "name": "stdout",
     "output_type": "stream",
     "text": [
      "checking your code with 100 random parameters\n",
      "** CORRECTO **\n",
      "evaluation result 5.0 \n"
     ]
    }
   ],
   "source": [
    "!./run CHECK_SOLUTION PS01_05"
   ]
  },
  {
   "cell_type": "markdown",
   "metadata": {},
   "source": [
    "#### registra tu solución en línea"
   ]
  },
  {
   "cell_type": "code",
   "execution_count": 25,
   "metadata": {},
   "outputs": [
    {
     "name": "stdout",
     "output_type": "stream",
     "text": [
      "connecting ... registering submission for daniel.riveraa@udea.edu.co ...\n",
      "checking your code with 100 random parameters\n",
      "** CORRECTO **\n",
      "your submissions sheet is https://docs.google.com/spreadsheets/d/1QjA5eGBEkEfHxuQDJaqn7YQXH-ECIalATeOgF8dw-nU\n",
      "----\n",
      "evaluation result 5.0 , submission registered\n"
     ]
    }
   ],
   "source": [
    "!./run SUBMIT_SOLUTION PS01_05"
   ]
  },
  {
   "cell_type": "markdown",
   "metadata": {},
   "source": [
    "## Ejercicio 6\n",
    "completa la función siguiente que debe de vaciar una cola o pila `t` y devolver el conjunto de datos obtenido tras vaciarla."
   ]
  },
  {
   "cell_type": "code",
   "execution_count": 8,
   "metadata": {},
   "outputs": [
    {
     "name": "stdout",
     "output_type": "stream",
     "text": [
      "Overwriting ./utils/student_function/PS01_06.py\n"
     ]
    }
   ],
   "source": [
    "%%writefile ./utils/student_function/PS01_06.py\n",
    "def empty(t):\n",
    "    x=[]\n",
    "    for i in t.elements:\n",
    "        x=x+[t.get()]\n",
    "    return x"
   ]
  },
  {
   "cell_type": "code",
   "execution_count": 9,
   "metadata": {},
   "outputs": [
    {
     "data": {
      "text/plain": [
       "[1, 4, 1, 10, 2, 3]"
      ]
     },
     "execution_count": 9,
     "metadata": {},
     "output_type": "execute_result"
    }
   ],
   "source": [
    "import PS01_06 as st6\n",
    "import PS01_04 as st4\n",
    "reload(st4); reload(st6)\n",
    "a = [1,4,1,10,2,3]\n",
    "q = st4.Queue()\n",
    "for i in a:\n",
    "    q.put(i)\n",
    "k = st6.empty(q)\n",
    "k"
   ]
  },
  {
   "cell_type": "markdown",
   "metadata": {},
   "source": [
    "#### comprueba tu código con el corrector automático\n"
   ]
  },
  {
   "cell_type": "code",
   "execution_count": 10,
   "metadata": {},
   "outputs": [
    {
     "name": "stdout",
     "output_type": "stream",
     "text": [
      "checking your code with 100 random parameters\n",
      "** CORRECTO **\n",
      "evaluation result 5.0 \n"
     ]
    }
   ],
   "source": [
    "!./run CHECK_SOLUTION PS01_06"
   ]
  },
  {
   "cell_type": "markdown",
   "metadata": {},
   "source": [
    "#### registra tu solución en línea"
   ]
  },
  {
   "cell_type": "code",
   "execution_count": null,
   "metadata": {},
   "outputs": [],
   "source": [
    "!./run SUBMIT_SOLUTION PS01_06"
   ]
  },
  {
   "cell_type": "markdown",
   "metadata": {},
   "source": [
    "## Experimento\n",
    "\n",
    "**ya acabaste el taller**, fíjate ahora como hacemos un experimento con pilas y colas de varios tamaños y comparamos los tiempos de ejecución. Comparamos también con las implementaciones que ya vienen en las librerías estándar de Python: [Queue LifoQueue](https://docs.python.org/2/library/queue.html). Observa que `queue.Queue` es funcionalmente equivalente a nuestro `Queue` y `queue.LifoQueue` es equivalente a nuestro `Stack`.\n",
    "\n",
    "Hazte las siguientes preguntas:\n",
    "\n",
    "- ¿Qué implementaciones son más lentas y más rápidas? ¿Por qué?\n",
    "- ¿Qué complejidades tenemos en inserción y recuperación? $\\mathcal{O}(n)$, $\\mathcal{O}(\\log n)$, $\\mathcal{O}(c)$ ?\n",
    "\n",
    "Observa que las métricas de tiempo tienen dos componentes:\n",
    "\n",
    "- El debido a la complejidad intrínseca del algoritmo\n",
    "- El debido a la implementación del mismo"
   ]
  },
  {
   "cell_type": "code",
   "execution_count": null,
   "metadata": {},
   "outputs": [],
   "source": [
    "import matplotlib.pyplot as plt\n",
    "import PS01_06 as st6        \n",
    "import PS01_05 as st5 \n",
    "import PS01_04 as st4 \n",
    "import PS01_03 as st3 \n",
    "%matplotlib inline\n",
    "def compare(class_1, class_2, n_powers=5):\n",
    "    global n, class_A, class_B, q\n",
    "    class_A = class_1\n",
    "    class_B = class_2\n",
    "    t1, t2, t3, t4 = [], [], [], []\n",
    "\n",
    "    ns = [int(10**i) for i in range(n_powers)]\n",
    "    \n",
    "    for n in ns:\n",
    "        print n,\n",
    "        k = %timeit -o -q st5.fill(class_A(), n)\n",
    "        t1.append(k.best*1000)\n",
    "\n",
    "        k = %timeit -o -q st5.fill(class_B(), n)\n",
    "        t2.append(k.best*1000)\n",
    "        \n",
    "        q = st5.fill(class_A(), n)\n",
    "        k = %timeit -o -r 1 -n 1 -q st6.empty(q)\n",
    "        t3.append(k.best*1000)\n",
    "\n",
    "        q = st5.fill(class_B(), n)\n",
    "        k = %timeit -o -r 1 -n 1 -q st6.empty(q)\n",
    "        t4.append(k.best*1000)\n",
    "                \n",
    "    plt.figure(figsize=(10,3))\n",
    "    \n",
    "    plt.subplot(121)\n",
    "    plt.plot(t1, label=class_A.__name__+\" fill\")\n",
    "    plt.plot(t2, label=class_B.__name__+\" fill\")\n",
    "    plt.xticks(range(len(ns)), ns)\n",
    "    plt.xlabel(\"number of elements\")\n",
    "    plt.ylabel(\"time (ms)\")\n",
    "    plt.legend()\n",
    "    \n",
    "    plt.subplot(122)\n",
    "    plt.plot(t3, label=class_A.__name__+\" empty\")\n",
    "    plt.plot(t4, label=class_B.__name__+\" empty\")\n",
    "    plt.xticks(range(len(ns)), ns)\n",
    "    plt.xlabel(\"number of elements\")\n",
    "    plt.legend()\n"
   ]
  },
  {
   "cell_type": "code",
   "execution_count": null,
   "metadata": {},
   "outputs": [],
   "source": [
    "compare(st4.Queue, st3.Stack);"
   ]
  },
  {
   "cell_type": "code",
   "execution_count": null,
   "metadata": {},
   "outputs": [],
   "source": [
    "import queue\n",
    "\n",
    "class wQueue(queue.Queue):\n",
    "    def len(self):\n",
    "        return self.qsize()\n",
    "\n",
    "class wLifoQueue(queue.LifoQueue):\n",
    "    def len(self):\n",
    "        return self.qsize()\n",
    "\n",
    "    \n",
    "compare(wQueue, wLifoQueue)"
   ]
  },
  {
   "cell_type": "code",
   "execution_count": 23,
   "metadata": {},
   "outputs": [],
   "source": [
    "def getremove_last(l):\n",
    "    assert len(l)!=0,\"error\"\n",
    "    val=l[-1]\n",
    "    rest_list=l[:len(l)]\n",
    "    return val, rest_list\n",
    "a=[]\n",
    "getremove_last(a)"
   ]
  },
  {
   "cell_type": "code",
   "execution_count": 14,
   "metadata": {},
   "outputs": [
    {
     "name": "stdout",
     "output_type": "stream",
     "text": [
      "3\n"
     ]
    }
   ],
   "source": [
    "import random\n",
    "\n",
    "x=random.randrange(10)\n",
    "print x"
   ]
  },
  {
   "cell_type": "code",
   "execution_count": 5,
   "metadata": {},
   "outputs": [
    {
     "name": "stdout",
     "output_type": "stream",
     "text": [
      "1 3\n",
      "2 6\n",
      "3 7\n",
      "4 8\n"
     ]
    }
   ],
   "source": [
    "a=[1,2,3,4]\n",
    "b=[3,6,7,8]\n",
    "for n in range(len(a)):\n",
    "\tprint a[n], b[n]\n"
   ]
  },
  {
   "cell_type": "code",
   "execution_count": null,
   "metadata": {},
   "outputs": [],
   "source": []
  },
  {
   "cell_type": "code",
   "execution_count": null,
   "metadata": {},
   "outputs": [],
   "source": []
  },
  {
   "cell_type": "code",
   "execution_count": null,
   "metadata": {},
   "outputs": [],
   "source": []
  }
 ],
 "metadata": {
  "kernelspec": {
   "display_name": "Python 2",
   "language": "python",
   "name": "python2"
  },
  "language_info": {
   "codemirror_mode": {
    "name": "ipython",
    "version": 2
   },
   "file_extension": ".py",
   "mimetype": "text/x-python",
   "name": "python",
   "nbconvert_exporter": "python",
   "pygments_lexer": "ipython2",
   "version": "2.7.14"
  }
 },
 "nbformat": 4,
 "nbformat_minor": 2
}

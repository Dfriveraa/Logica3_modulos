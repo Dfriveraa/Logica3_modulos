{
 "cells": [
  {
   "cell_type": "code",
   "execution_count": 1,
   "metadata": {},
   "outputs": [
    {
     "name": "stdout",
     "output_type": "stream",
     "text": [
      "CLICK ON THIS LINK TO AUTHENTICATE WITH YOUR GMAIL ACCOUNT\n",
      "https://accounts.google.com/o/oauth2/auth?scope=profile+email&redirect_uri=http%3A%2F%2Flocalhost%3A8080&response_type=code&client_id=486275613361-7nk9ktukfcfjevfoe3tamjp0pmbjmprs.apps.googleusercontent.com&access_type=offline\n",
      "waiting for authentication ...\n",
      "No authentication\n"
     ]
    },
    {
     "data": {
      "text/html": [],
      "text/plain": [
       "<IPython.core.display.HTML object>"
      ]
     },
     "execution_count": 1,
     "metadata": {},
     "output_type": "execute_result"
    }
   ],
   "source": [
    "!pip install -q oauth2client==1.5.2\n",
    "from mooclib import *\n",
    "import sys\n",
    "sys.path.append(\"./utils/student_function/\")\n",
    "import inspect, urllib\n",
    "html, auth_code, userinfo = google_authenticate(PORT_NUMBER=8080)\n",
    "html"
   ]
  },
  {
   "cell_type": "markdown",
   "metadata": {},
   "source": [
    "## Implementación de una Pila\n",
    "\n",
    "Definimos el siguiente TAD, como una estructura de tipo LIFO (_Last In First Out_)\n",
    "\n",
    "**TAD** $Stack$\n",
    "\n",
    "$\\forall S \\in Stack, d \\in AnyType$\n",
    "\n",
    "**signatures**:\n",
    "$$\n",
    "\\begin{align}\n",
    "new() &\\rightarrow Stack\\\\\n",
    "S.put(d) &\\rightarrow Stack \\\\\n",
    "S.get() &\\rightarrow AnyType\\\\\n",
    "S.len() &\\rightarrow \\mathbb{Z}\n",
    "\\end{align}\n",
    "$$    \n",
    "\n",
    "\n",
    "**axioms**:\n",
    "\n",
    "- $new().len() ::= 0 $\n",
    "- $S.put(d).get() ::= d$\n",
    "- $S.put(d).len() ::= S.len()+1$\n",
    "- $S.get() \\;\\;and\\;\\; S.len()==0::=Error$\n",
    "- $S.len()=n \\;\\;and\\;\\;S.get() \\Rightarrow S.len()=n-1$"
   ]
  },
  {
   "cell_type": "markdown",
   "metadata": {},
   "source": [
    "## Ejercicio 1\n",
    "\n",
    "completa la función siguiente para añadir un elemento a una lista\n",
    "\n",
    "ejecución de ejemplo:\n",
    "\n",
    "    > x = [1,4,3]\n",
    "    > print st.append(x,5)\n",
    "\n",
    "    [1, 4, 3, 5]"
   ]
  },
  {
   "cell_type": "code",
   "execution_count": null,
   "metadata": {},
   "outputs": [],
   "source": [
    "%%writefile ./utils/student_function/PS01_01.py\n",
    "def append(l,d):\n",
    "    return <.. TU CODIGO AQUI ..>"
   ]
  },
  {
   "cell_type": "markdown",
   "metadata": {},
   "source": [
    "verifica manualmente tu código"
   ]
  },
  {
   "cell_type": "code",
   "execution_count": null,
   "metadata": {},
   "outputs": [],
   "source": [
    "import PS01_01 as st        \n",
    "reload(st)\n",
    "\n",
    "x = [1,4,3]\n",
    "st.append(x,5)"
   ]
  },
  {
   "cell_type": "markdown",
   "metadata": {},
   "source": [
    "#### comprueba tu código con el corrector automático"
   ]
  },
  {
   "cell_type": "code",
   "execution_count": null,
   "metadata": {},
   "outputs": [],
   "source": [
    "!./run CHECK_SOLUTION PS01_01"
   ]
  },
  {
   "cell_type": "markdown",
   "metadata": {},
   "source": [
    "#### registra tu solución en línea"
   ]
  },
  {
   "cell_type": "code",
   "execution_count": null,
   "metadata": {},
   "outputs": [],
   "source": [
    "!./run SUBMIT_SOLUTION PS01_01"
   ]
  },
  {
   "cell_type": "markdown",
   "metadata": {},
   "source": [
    "## Ejercicio 2\n",
    "\n",
    "completa la función siguiente para que, dada una lista, devuelva dos resultados:\n",
    "\n",
    "- el valor del último elemento de la lista\n",
    "- una nueva lista en la que se eliminó el último elemento\n",
    "- si la lista es vacía debe de generar un `AssertionError`\n",
    "\n",
    "Ejemplo de ejecución:\n",
    "\n",
    "    > x = [1,5,6]\n",
    "    > print \"initial\", x\n",
    "    > for _ in range(len(x)+1):\n",
    "    >     v,x = getremove_last(x)\n",
    "    >     print \"last val\", v, \", remaining list\", x\n",
    "    \n",
    "    initial [1, 5, 6]\n",
    "    last val 6 , remaining list [1, 5]\n",
    "    last val 5 , remaining list [1]\n",
    "    last val 1 , remaining list []\n",
    "    \n",
    "    ----------------------------------------------------------------------\n",
    "    AssertionError                       Traceback (most recent call last)\n",
    "    <ipython-input-4-578f9f1609fe> in <module>()"
   ]
  },
  {
   "cell_type": "code",
   "execution_count": null,
   "metadata": {},
   "outputs": [],
   "source": [
    "%%writefile ./utils/student_function/PS01_02.py\n",
    "def getremove_last(l):\n",
    "    assert <... TU CODIGO AQUI ...>\n",
    "    val, rest_list = <... TU CODIGO AQUI ...>\n",
    "    return val, rest_list"
   ]
  },
  {
   "cell_type": "markdown",
   "metadata": {},
   "source": [
    "comprueba manualmente tu código"
   ]
  },
  {
   "cell_type": "code",
   "execution_count": null,
   "metadata": {},
   "outputs": [],
   "source": [
    "import PS01_02 as st  \n",
    "reload(st)\n",
    "\n",
    "x = [1,5,6]\n",
    "print \"initial\", x\n",
    "for _ in range(len(x)+1):\n",
    "    v,x = st.getremove_last(x)\n",
    "    print \"last val\", v, \", remaining list\", x"
   ]
  },
  {
   "cell_type": "markdown",
   "metadata": {},
   "source": [
    "#### comprueba tu código con el corrector automático"
   ]
  },
  {
   "cell_type": "code",
   "execution_count": null,
   "metadata": {},
   "outputs": [],
   "source": [
    "!./run CHECK_SOLUTION PS01_02"
   ]
  },
  {
   "cell_type": "markdown",
   "metadata": {},
   "source": [
    "#### registra tu solución en línea"
   ]
  },
  {
   "cell_type": "code",
   "execution_count": null,
   "metadata": {},
   "outputs": [],
   "source": [
    "!./run SUBMIT_SOLUTION PS01_02"
   ]
  },
  {
   "cell_type": "markdown",
   "metadata": {},
   "source": [
    "##  Ejercicio 3\n",
    "\n",
    "Completa la clase `Stack` con la semántica del TAD definido anteriormente. Usa las funciones anteriores si lo consideras necesario. Ejemplo de ejecución:\n",
    "\n",
    "    > print \"stacking elements\"\n",
    "    > s = st.Stack()\n",
    "    > s.put(4).put(2).put(\"hola\")\n",
    "    > print s.len()\n",
    "    > print s.elements\n",
    "    > \n",
    "    > print (\"\\n--\\nunstacking\")\n",
    "    > for _ in range(s.len()):\n",
    "    >     print s.get()\n",
    "    > \n",
    "    > print \"this next call must fail\"\n",
    "    > s.get()\n",
    "\n",
    "    stacking elements\n",
    "    3\n",
    "    [4, 2, 'hola']\n",
    "\n",
    "    --\n",
    "    unstacking\n",
    "    hola\n",
    "    2\n",
    "    4\n",
    "    this next call must fail\n",
    "\n",
    "    AssertionErrorTraceback (most recent call last)\n",
    "    <ipython-input-13-749203dd226f> in <module>()\n",
    "         13 \n",
    "         14 print \"this next call must fail\"\n",
    "    ---> 15 s.get()\n",
    "        ..."
   ]
  },
  {
   "cell_type": "code",
   "execution_count": null,
   "metadata": {},
   "outputs": [],
   "source": [
    "%%writefile ./utils/student_function/PS01_03.py\n",
    "\n",
    "def append(l,d):\n",
    "    <... TU CODIGO AQUI DEL EJERCICIO ANTERIOR ...>       \n",
    "\n",
    "def getremove_last(l):\n",
    "    <... TU CODIGO AQUI DEL EJERCICIO ANTERIOR ...>       \n",
    "    \n",
    "\n",
    "class Stack:\n",
    "    \n",
    "    def __init__(self):\n",
    "        self.elements = []\n",
    "  \n",
    "    def put(self, d):\n",
    "        <... TU CODIGO AQUI ...>\n",
    "        return self\n",
    "        \n",
    "    def get(self):\n",
    "        return <... TU CODIGO AQUI ...>\n",
    "\n",
    "    def len(self):\n",
    "        return <... TU CODIGO AQUI ...>"
   ]
  },
  {
   "cell_type": "code",
   "execution_count": null,
   "metadata": {},
   "outputs": [],
   "source": [
    "import PS01_03 as st  \n",
    "reload(st)\n",
    " \n",
    "print \"stacking elements\"\n",
    "s = st.Stack()\n",
    "s.put(4).put(2).put(\"hola\")\n",
    "print s.len()\n",
    "print s.elements\n",
    "\n",
    "print (\"\\n--\\nunstacking\")\n",
    "for _ in range(s.len()):\n",
    "    print s.get()\n",
    "    \n",
    "try:\n",
    "    s.get()\n",
    "    print \"*** cuidado! tu código no contiene asserts\"\n",
    "except AssertionError:\n",
    "    print \"*** tu codigo está generando asserts correctos\""
   ]
  },
  {
   "cell_type": "markdown",
   "metadata": {},
   "source": [
    "#### comprueba tu código con el corrector automático\n"
   ]
  },
  {
   "cell_type": "code",
   "execution_count": null,
   "metadata": {},
   "outputs": [],
   "source": [
    "!./run CHECK_SOLUTION PS01_03"
   ]
  },
  {
   "cell_type": "markdown",
   "metadata": {},
   "source": [
    "#### registra tu solución en línea"
   ]
  },
  {
   "cell_type": "code",
   "execution_count": null,
   "metadata": {},
   "outputs": [],
   "source": [
    "!./run SUBMIT_SOLUTION PS01_03"
   ]
  },
  {
   "cell_type": "markdown",
   "metadata": {},
   "source": [
    "## Implementación de una Cola\n",
    "\n",
    "Definimos el siguiente TAD, como una estructura de tipo FIFO (_First In First Out_)\n",
    "\n",
    "**TAD** $Queue$\n",
    "\n",
    "$\\forall Q \\in Queue, d \\in AnyType$\n",
    "\n",
    "**signatures**:\n",
    "$$\n",
    "\\begin{align}\n",
    "new() &\\rightarrow Queue\\\\\n",
    "Q.put(d) &\\rightarrow Queue \\\\\n",
    "Q.get() &\\rightarrow AnyType\\\\\n",
    "Q.len() &\\rightarrow \\mathbb{Z}\n",
    "\\end{align}\n",
    "$$    \n",
    "\n",
    "\n",
    "**axioms**:\n",
    "\n",
    "- $new().len() ::= 0 $\n",
    "\n",
    "- $Q.get()^n==d_i \\iff Q=new().put(d_i)^n$\n",
    "- $Q.get(d).len() ::= Q.len()+1$\n",
    "- $Q.get() \\;\\;and\\;\\; Q.len()==0::=Error$\n",
    "- $Q.len()=n \\;\\;and\\;\\;Q.get() \\Rightarrow Q.len()=n-1$\n",
    "\n",
    "y definimos la notación:\n",
    "\n",
    "- $Q.put(d_i)^n ::= Q.put(d_1).put(d_2)....put(d_n)$\n",
    "- $Q.get()^n ::= Q.get()\\;,\\;... n\\; veces\\; ...\\;,\\; Q.get()$ y tomando el resultado del último\n",
    "\n"
   ]
  },
  {
   "cell_type": "markdown",
   "metadata": {},
   "source": [
    "##  Ejercicio 4\n",
    "\n",
    "Completa la clase `Queue` con la semántica que acabamos de definir. Ejemplo de ejecución\n",
    "\n",
    "    > import PS01_04 as st  \n",
    "    > reload(st)\n",
    "    > \n",
    "    > print \"enqueueing elements\"\n",
    "    > q = st.Queue()\n",
    "    > q.put(4).put(2).put(\"hola\")\n",
    "    > print q.len()\n",
    "    > print q.elements\n",
    "    >\n",
    "    > print (\"\\n--\\ndequeueing\")\n",
    "    > for _ in range(q.len()):\n",
    "    >     print q.get()\n",
    "    >\n",
    "    < print \"this next call must fail\"\n",
    "    > q.get()\n",
    "\n",
    "\n",
    "    enqueueing elements\n",
    "    3\n",
    "    [4, 2, 'hola']\n",
    "\n",
    "    --\n",
    "    dequeueing\n",
    "    4\n",
    "    2\n",
    "    hola\n",
    "    this next call must fail\n",
    "\n",
    "    AssertionErrorTraceback (most recent call last)\n",
    "    <ipython-input-284-50dc775a67ed> in <module>()\n",
    "         13 \n",
    "         14 print \"this next call must fail\"\n",
    "    ---> 15 q.get()"
   ]
  },
  {
   "cell_type": "code",
   "execution_count": null,
   "metadata": {},
   "outputs": [],
   "source": [
    "%%writefile ./utils/student_function/PS01_04.py\n",
    "\n",
    "<... INSERTA AQUI LAS FUNCIONES QUE CREES QUE NECESITES ...>\n",
    "\n",
    "class Queue:\n",
    "    \n",
    "    def __init__(self):\n",
    "        self.elements = []\n",
    "        \n",
    "    def put(self, d):\n",
    "        <... TU CODIGO AQUI ...>\n",
    "        return self\n",
    "    \n",
    "    def get(self):\n",
    "        return <... TU CODIGO AQUI ...>\n",
    "    \n",
    "    def len(self):\n",
    "        return <... TU CODIGO AQUI ...>"
   ]
  },
  {
   "cell_type": "code",
   "execution_count": null,
   "metadata": {},
   "outputs": [],
   "source": [
    "import PS01_04 as st  \n",
    "reload(st)\n",
    "\n",
    "print \"enqueueing elements\"\n",
    "q = st.Queue()\n",
    "q.put(4).put(2).put(\"hola\")\n",
    "print q.len()\n",
    "print q.elements\n",
    "\n",
    "print (\"\\n--\\ndequeueing\")\n",
    "for _ in range(q.len()):\n",
    "    print q.get()\n",
    "\n",
    "print \"this next call must fail\"\n",
    "q.get()"
   ]
  },
  {
   "cell_type": "markdown",
   "metadata": {},
   "source": [
    "#### comprueba tu código con el corrector automático\n"
   ]
  },
  {
   "cell_type": "code",
   "execution_count": null,
   "metadata": {},
   "outputs": [],
   "source": [
    "!./run CHECK_SOLUTION PS01_04"
   ]
  },
  {
   "cell_type": "markdown",
   "metadata": {},
   "source": [
    "#### registra tu solución en línea"
   ]
  },
  {
   "cell_type": "code",
   "execution_count": null,
   "metadata": {},
   "outputs": [],
   "source": [
    "!./run SUBMIT_SOLUTION PS01_04"
   ]
  },
  {
   "cell_type": "markdown",
   "metadata": {},
   "source": [
    "## Medición de renidimientos y complejidades algorítmicas\n",
    "\n",
    "## Ejercicio 5\n",
    "\n",
    "completa la función siguiente que debe de llenar una cola o una pila `t`, pasada como argumento, con `n` números **enteros** aleatorios con valores entre 0 y 9, ambos incluidos. Usa [np.random.randint](https://docs.scipy.org/doc/numpy/reference/generated/numpy.random.randint.html)"
   ]
  },
  {
   "cell_type": "code",
   "execution_count": null,
   "metadata": {},
   "outputs": [],
   "source": [
    "%%writefile ./utils/student_function/PS01_05.py\n",
    "import numpy as np\n",
    "def fill(t, n):\n",
    "    return <... TU CODIGO AQUI ...>"
   ]
  },
  {
   "cell_type": "markdown",
   "metadata": {},
   "source": [
    "comprueba manualmente tu código, cada ejecución ha de generar valores distintos"
   ]
  },
  {
   "cell_type": "code",
   "execution_count": null,
   "metadata": {},
   "outputs": [],
   "source": [
    "import PS01_05 as st5\n",
    "import PS01_04 as st4\n",
    "reload(st4);reload(st5)\n",
    "\n",
    "q = st5.fill(st4.Queue(), 100)\n",
    "print \"len=\",q.len()\n",
    "for _ in range(q.len()):\n",
    "    print q.get(),"
   ]
  },
  {
   "cell_type": "markdown",
   "metadata": {},
   "source": [
    "#### comprueba tu código con el corrector automático\n"
   ]
  },
  {
   "cell_type": "code",
   "execution_count": null,
   "metadata": {},
   "outputs": [],
   "source": [
    "!./run CHECK_SOLUTION PS01_05"
   ]
  },
  {
   "cell_type": "markdown",
   "metadata": {},
   "source": [
    "#### registra tu solución en línea"
   ]
  },
  {
   "cell_type": "code",
   "execution_count": null,
   "metadata": {},
   "outputs": [],
   "source": [
    "!./run SUBMIT_SOLUTION PS01_05"
   ]
  },
  {
   "cell_type": "markdown",
   "metadata": {},
   "source": [
    "## Ejercicio 6\n",
    "completa la función siguiente que debe de vaciar una cola o pila `t` y devolver el conjunto de datos obtenido tras vaciarla."
   ]
  },
  {
   "cell_type": "code",
   "execution_count": null,
   "metadata": {},
   "outputs": [],
   "source": [
    "%%writefile ./utils/student_function/PS01_06.py\n",
    "def empty(t):\n",
    "    return <... TU CODIGO AQUI ...>"
   ]
  },
  {
   "cell_type": "code",
   "execution_count": null,
   "metadata": {},
   "outputs": [],
   "source": [
    "import PS01_06 as st6\n",
    "import PS01_04 as st4\n",
    "reload(st4); reload(st6)\n",
    "a = [1,4,1,10,2,3]\n",
    "q = st4.Queue()\n",
    "for i in a:\n",
    "    q.put(i)\n",
    "k = st6.empty(q)\n",
    "k"
   ]
  },
  {
   "cell_type": "markdown",
   "metadata": {},
   "source": [
    "#### comprueba tu código con el corrector automático\n"
   ]
  },
  {
   "cell_type": "code",
   "execution_count": null,
   "metadata": {},
   "outputs": [],
   "source": [
    "!./run CHECK_SOLUTION PS01_06"
   ]
  },
  {
   "cell_type": "markdown",
   "metadata": {},
   "source": [
    "#### registra tu solución en línea"
   ]
  },
  {
   "cell_type": "code",
   "execution_count": null,
   "metadata": {},
   "outputs": [],
   "source": [
    "!./run SUBMIT_SOLUTION PS01_06"
   ]
  },
  {
   "cell_type": "markdown",
   "metadata": {},
   "source": [
    "## Experimento\n",
    "\n",
    "**ya acabaste el taller**, fíjate ahora como hacemos un experimento con pilas y colas de varios tamaños y comparamos los tiempos de ejecución. Comparamos también con las implementaciones que ya vienen en las librerías estándar de Python: [Queue LifoQueue](https://docs.python.org/2/library/queue.html). Observa que `queue.Queue` es funcionalmente equivalente a nuestro `Queue` y `queue.LifoQueue` es equivalente a nuestro `Stack`.\n",
    "\n",
    "Hazte las siguientes preguntas:\n",
    "\n",
    "- ¿Qué implementaciones son más lentas y más rápidas? ¿Por qué?\n",
    "- ¿Qué complejidades tenemos en inserción y recuperación? $\\mathcal{O}(n)$, $\\mathcal{O}(\\log n)$, $\\mathcal{O}(c)$ ?\n",
    "\n",
    "Observa que las métricas de tiempo tienen dos componentes:\n",
    "\n",
    "- El debido a la complejidad intrínseca del algoritmo\n",
    "- El debido a la implementación del mismo"
   ]
  },
  {
   "cell_type": "code",
   "execution_count": null,
   "metadata": {},
   "outputs": [],
   "source": [
    "import matplotlib.pyplot as plt\n",
    "import PS01_06 as st6        \n",
    "import PS01_05 as st5 \n",
    "import PS01_04 as st4 \n",
    "import PS01_03 as st3 \n",
    "%matplotlib inline\n",
    "def compare(class_1, class_2, n_powers=5):\n",
    "    global n, class_A, class_B, q\n",
    "    class_A = class_1\n",
    "    class_B = class_2\n",
    "    t1, t2, t3, t4 = [], [], [], []\n",
    "\n",
    "    ns = [int(10**i) for i in range(n_powers)]\n",
    "    \n",
    "    for n in ns:\n",
    "        print n,\n",
    "        k = %timeit -o -q st5.fill(class_A(), n)\n",
    "        t1.append(k.best*1000)\n",
    "\n",
    "        k = %timeit -o -q st5.fill(class_B(), n)\n",
    "        t2.append(k.best*1000)\n",
    "        \n",
    "        q = st5.fill(class_A(), n)\n",
    "        k = %timeit -o -r 1 -n 1 -q st6.empty(q)\n",
    "        t3.append(k.best*1000)\n",
    "\n",
    "        q = st5.fill(class_B(), n)\n",
    "        k = %timeit -o -r 1 -n 1 -q st6.empty(q)\n",
    "        t4.append(k.best*1000)\n",
    "                \n",
    "    plt.figure(figsize=(10,3))\n",
    "    \n",
    "    plt.subplot(121)\n",
    "    plt.plot(t1, label=class_A.__name__+\" fill\")\n",
    "    plt.plot(t2, label=class_B.__name__+\" fill\")\n",
    "    plt.xticks(range(len(ns)), ns)\n",
    "    plt.xlabel(\"number of elements\")\n",
    "    plt.ylabel(\"time (ms)\")\n",
    "    plt.legend()\n",
    "    \n",
    "    plt.subplot(122)\n",
    "    plt.plot(t3, label=class_A.__name__+\" empty\")\n",
    "    plt.plot(t4, label=class_B.__name__+\" empty\")\n",
    "    plt.xticks(range(len(ns)), ns)\n",
    "    plt.xlabel(\"number of elements\")\n",
    "    plt.legend()\n"
   ]
  },
  {
   "cell_type": "code",
   "execution_count": null,
   "metadata": {},
   "outputs": [],
   "source": [
    "compare(st4.Queue, st3.Stack);"
   ]
  },
  {
   "cell_type": "code",
   "execution_count": null,
   "metadata": {},
   "outputs": [],
   "source": [
    "import queue\n",
    "\n",
    "class wQueue(queue.Queue):\n",
    "    def len(self):\n",
    "        return self.qsize()\n",
    "\n",
    "class wLifoQueue(queue.LifoQueue):\n",
    "    def len(self):\n",
    "        return self.qsize()\n",
    "\n",
    "    \n",
    "compare(wQueue, wLifoQueue)"
   ]
  },
  {
   "cell_type": "code",
   "execution_count": null,
   "metadata": {},
   "outputs": [],
   "source": []
  }
 ],
 "metadata": {
  "kernelspec": {
   "display_name": "Python 2",
   "language": "python",
   "name": "python2"
  },
  "language_info": {
   "codemirror_mode": {
    "name": "ipython",
    "version": 2
   },
   "file_extension": ".py",
   "mimetype": "text/x-python",
   "name": "python",
   "nbconvert_exporter": "python",
   "pygments_lexer": "ipython2",
   "version": "2.7.14"
  }
 },
 "nbformat": 4,
 "nbformat_minor": 2
}

{
 "cells": [
  {
   "cell_type": "code",
   "execution_count": 1,
   "metadata": {},
   "outputs": [
    {
     "name": "stdout",
     "output_type": "stream",
     "text": [
      "CLICK ON THIS LINK TO AUTHENTICATE WITH YOUR GMAIL ACCOUNT\n",
      "https://accounts.google.com/o/oauth2/auth?scope=profile+email&redirect_uri=http%3A%2F%2Flocalhost%3A8080&response_type=code&client_id=486275613361-7nk9ktukfcfjevfoe3tamjp0pmbjmprs.apps.googleusercontent.com&access_type=offline\n",
      "waiting for authentication ...\n",
      "authentication succeeded\n"
     ]
    },
    {
     "data": {
      "text/html": [
       "<table><tr><td><img src='https://lh3.googleusercontent.com/-wIJFN6ADFV8/AAAAAAAAAAI/AAAAAAAAAGU/qijBS-KpfmY/photo.jpg' width=60 height=60/></td><td>daniel.riveraa@udea.edu.co<br/>DANIEL   FELIPE RIVERA ARROYAVE<br/>google id: 107960807606835866040<br/>authorization code: 4/ZgAmtLUcBP9bekY9NpEQr3A6g24JxkEv3BbpH4-Q1HgjrZ6YAC5vnn4u3dOmLuwGBm3aCinQ-81jtbIclNoRh-E</td></tr></table>"
      ],
      "text/plain": [
       "<IPython.core.display.HTML object>"
      ]
     },
     "execution_count": 1,
     "metadata": {},
     "output_type": "execute_result"
    }
   ],
   "source": [
    "!pip install -q oauth2client==1.5.2\n",
    "import sys\n",
    "sys.path.append(\"./utils/student_function/\")\n",
    "from mooclib import *\n",
    "import inspect, urllib\n",
    "html, auth_code, userinfo = google_authenticate(PORT_NUMBER=8080)\n",
    "html"
   ]
  },
  {
   "cell_type": "markdown",
   "metadata": {},
   "source": [
    "En estos ejercicios usaremos las clases `Node` y `L`. Ejecuta la siguiente celda para cargar sus definiciones"
   ]
  },
  {
   "cell_type": "code",
   "execution_count": 5,
   "metadata": {},
   "outputs": [
    {
     "name": "stdout",
     "output_type": "stream",
     "text": [
      "Writing ./utils/student_function/PS05.py\n"
     ]
    }
   ],
   "source": [
    "%%writefile ./utils/student_function/PS05.py\n",
    "class Node:\n",
    "    def __init__(self, value, next=None):\n",
    "        assert next is None or isinstance(next,Node), \"next must be Node, not %s\"%(type(next))\n",
    "        self.value = value\n",
    "        self.next  = next\n",
    "        \n",
    "    def __repr__(self):\n",
    "        return str(self.value)\n",
    "    \n",
    "class L(object):\n",
    "    def __init__ (self, first_node=None):\n",
    "        assert first_node is None or isinstance(first_node,Node), \"first must be Node, not %s\"%(type(first_node))\n",
    "        self.first_node = first_node\n",
    "        \n",
    "    def __getitem__(self, idx):\n",
    "        k = self.first_node\n",
    "        for i in range(idx):\n",
    "            assert k.next is not None, \"index %s out of range\"%(str(idx))\n",
    "            k = k.next  \n",
    "        return k.value\n",
    "    \n",
    "    def __len__(self):\n",
    "        k = self.first_node\n",
    "        if k is None:\n",
    "            return 0\n",
    "        i=1\n",
    "        while k.next is not None:\n",
    "            i+=1\n",
    "            k = k.next\n",
    "        return i\n",
    "            \n",
    "    def __repr__ (self):\n",
    "        if self.first_node is None:\n",
    "            return \"[]\"\n",
    "        \n",
    "        s = \"[ %s\"%self.first_node\n",
    "        k=self.first_node\n",
    "        while (k.next is not None):\n",
    "            s += \", %s\"%k.next\n",
    "            k = k.next\n",
    "    \n",
    "        return s+\" ]\""
   ]
  },
  {
   "cell_type": "markdown",
   "metadata": {},
   "source": [
    "## Ejercicio 1\n",
    "\n",
    "Implementa el método `__getitem__` para que funcione con índices positivos y negativos. Por ejemplo:\n",
    "\n",
    "    > W = L1(Node(10, Node(20, Node(30))))\n",
    "    > print W\n",
    "    [ 10, 20, 30 ]\n",
    "\n",
    "    > print W[0], W[1], W[2]\n",
    "    > print W[-1], W[-2], W[-3]\n",
    "    10 20 30\n",
    "    30 20 10\n",
    "\n",
    "Ten en cuenta los casos en los que el índice excede el tamaño de la lista, bien positivo bien negativo. **En estos casos has de generar un assertion error**. \n",
    "\n",
    "En el ejemplo anterior, `W[3]` y `W[-4]` deben de generar un `AssertionError`"
   ]
  },
  {
   "cell_type": "code",
   "execution_count": 39,
   "metadata": {},
   "outputs": [
    {
     "name": "stdout",
     "output_type": "stream",
     "text": [
      "Overwriting ./utils/student_function/PS05_01.py\n",
      "\n"
     ]
    }
   ],
   "source": [
    "%%writefile ./utils/student_function/PS05_01.py\n",
    "from PS05 import *\n",
    "class L1(L):\n",
    "    def __getitem__(self, idx):\n",
    "        k = self.first_node\n",
    "        if idx >=0:\n",
    "            for i in range(idx):\n",
    "                assert k.next is not None, \"index %s out of range\"%(str(idx))\n",
    "                k = k.next\n",
    "        else:\n",
    "            lenNegative=(len(self)*-1)\n",
    "            assert idx>=lenNegative, \"te pasas we\"\n",
    "            for i in range(len(self)+idx):\n",
    "                assert k.next is not None, \"index %s out of range\"%(str(idx))\n",
    "                k = k.next  \n",
    "        return k.value\n"
   ]
  },
  {
   "cell_type": "markdown",
   "metadata": {},
   "source": [
    "comprueba manualmente tu código"
   ]
  },
  {
   "cell_type": "code",
   "execution_count": 40,
   "metadata": {},
   "outputs": [
    {
     "name": "stdout",
     "output_type": "stream",
     "text": [
      "[ 10, 20, 30 ]\n"
     ]
    }
   ],
   "source": [
    "from PS05 import *\n",
    "import PS05_01 as st\n",
    "reload(st)\n",
    "\n",
    "W = st.L1(Node(10, Node(20, Node(30))))\n",
    "print W"
   ]
  },
  {
   "cell_type": "code",
   "execution_count": 41,
   "metadata": {},
   "outputs": [
    {
     "name": "stdout",
     "output_type": "stream",
     "text": [
      "10 20 30\n",
      "30 20 10\n"
     ]
    }
   ],
   "source": [
    "print W[0], W[1], W[2]\n",
    "print W[-1], W[-2], W[-3]"
   ]
  },
  {
   "cell_type": "code",
   "execution_count": 42,
   "metadata": {},
   "outputs": [
    {
     "ename": "AssertionError",
     "evalue": "index 3 out of range",
     "output_type": "error",
     "traceback": [
      "\u001b[0;31m\u001b[0m",
      "\u001b[0;31mAssertionError\u001b[0mTraceback (most recent call last)",
      "\u001b[0;32m<ipython-input-42-5035bb5b5741>\u001b[0m in \u001b[0;36m<module>\u001b[0;34m()\u001b[0m\n\u001b[0;32m----> 1\u001b[0;31m \u001b[0;32mprint\u001b[0m \u001b[0mW\u001b[0m\u001b[0;34m[\u001b[0m\u001b[0;36m3\u001b[0m\u001b[0;34m]\u001b[0m\u001b[0;34m\u001b[0m\u001b[0m\n\u001b[0m",
      "\u001b[0;32m/home/user/share/utils/student_function/PS05_01.py\u001b[0m in \u001b[0;36m__getitem__\u001b[0;34m(self, idx)\u001b[0m\n\u001b[1;32m      5\u001b[0m         \u001b[0;32mif\u001b[0m \u001b[0midx\u001b[0m \u001b[0;34m>=\u001b[0m\u001b[0;36m0\u001b[0m\u001b[0;34m:\u001b[0m\u001b[0;34m\u001b[0m\u001b[0m\n\u001b[1;32m      6\u001b[0m             \u001b[0;32mfor\u001b[0m \u001b[0mi\u001b[0m \u001b[0;32min\u001b[0m \u001b[0mrange\u001b[0m\u001b[0;34m(\u001b[0m\u001b[0midx\u001b[0m\u001b[0;34m)\u001b[0m\u001b[0;34m:\u001b[0m\u001b[0;34m\u001b[0m\u001b[0m\n\u001b[0;32m----> 7\u001b[0;31m                 \u001b[0;32massert\u001b[0m \u001b[0mk\u001b[0m\u001b[0;34m.\u001b[0m\u001b[0mnext\u001b[0m \u001b[0;32mis\u001b[0m \u001b[0;32mnot\u001b[0m \u001b[0mNone\u001b[0m\u001b[0;34m,\u001b[0m \u001b[0;34m\"index %s out of range\"\u001b[0m\u001b[0;34m%\u001b[0m\u001b[0;34m(\u001b[0m\u001b[0mstr\u001b[0m\u001b[0;34m(\u001b[0m\u001b[0midx\u001b[0m\u001b[0;34m)\u001b[0m\u001b[0;34m)\u001b[0m\u001b[0;34m\u001b[0m\u001b[0m\n\u001b[0m\u001b[1;32m      8\u001b[0m                 \u001b[0mk\u001b[0m \u001b[0;34m=\u001b[0m \u001b[0mk\u001b[0m\u001b[0;34m.\u001b[0m\u001b[0mnext\u001b[0m\u001b[0;34m\u001b[0m\u001b[0m\n\u001b[1;32m      9\u001b[0m         \u001b[0;32melse\u001b[0m\u001b[0;34m:\u001b[0m\u001b[0;34m\u001b[0m\u001b[0m\n",
      "\u001b[0;31mAssertionError\u001b[0m: index 3 out of range"
     ]
    }
   ],
   "source": [
    "print W[3]"
   ]
  },
  {
   "cell_type": "code",
   "execution_count": 43,
   "metadata": {},
   "outputs": [
    {
     "ename": "AssertionError",
     "evalue": "te pasas we",
     "output_type": "error",
     "traceback": [
      "\u001b[0;31m\u001b[0m",
      "\u001b[0;31mAssertionError\u001b[0mTraceback (most recent call last)",
      "\u001b[0;32m<ipython-input-43-9c5828a95bb9>\u001b[0m in \u001b[0;36m<module>\u001b[0;34m()\u001b[0m\n\u001b[0;32m----> 1\u001b[0;31m \u001b[0;32mprint\u001b[0m \u001b[0mW\u001b[0m\u001b[0;34m[\u001b[0m\u001b[0;34m-\u001b[0m\u001b[0;36m4\u001b[0m\u001b[0;34m]\u001b[0m\u001b[0;34m\u001b[0m\u001b[0m\n\u001b[0m",
      "\u001b[0;32m/home/user/share/utils/student_function/PS05_01.py\u001b[0m in \u001b[0;36m__getitem__\u001b[0;34m(self, idx)\u001b[0m\n\u001b[1;32m      9\u001b[0m         \u001b[0;32melse\u001b[0m\u001b[0;34m:\u001b[0m\u001b[0;34m\u001b[0m\u001b[0m\n\u001b[1;32m     10\u001b[0m             \u001b[0mlenNegative\u001b[0m\u001b[0;34m=\u001b[0m\u001b[0;34m(\u001b[0m\u001b[0mlen\u001b[0m\u001b[0;34m(\u001b[0m\u001b[0mself\u001b[0m\u001b[0;34m)\u001b[0m\u001b[0;34m*\u001b[0m\u001b[0;34m-\u001b[0m\u001b[0;36m1\u001b[0m\u001b[0;34m)\u001b[0m\u001b[0;34m\u001b[0m\u001b[0m\n\u001b[0;32m---> 11\u001b[0;31m             \u001b[0;32massert\u001b[0m \u001b[0midx\u001b[0m\u001b[0;34m>=\u001b[0m\u001b[0mlenNegative\u001b[0m\u001b[0;34m,\u001b[0m \u001b[0;34m\"te pasas we\"\u001b[0m\u001b[0;34m\u001b[0m\u001b[0m\n\u001b[0m\u001b[1;32m     12\u001b[0m             \u001b[0;32mfor\u001b[0m \u001b[0mi\u001b[0m \u001b[0;32min\u001b[0m \u001b[0mrange\u001b[0m\u001b[0;34m(\u001b[0m\u001b[0mlen\u001b[0m\u001b[0;34m(\u001b[0m\u001b[0mself\u001b[0m\u001b[0;34m)\u001b[0m\u001b[0;34m+\u001b[0m\u001b[0midx\u001b[0m\u001b[0;34m)\u001b[0m\u001b[0;34m:\u001b[0m\u001b[0;34m\u001b[0m\u001b[0m\n\u001b[1;32m     13\u001b[0m                 \u001b[0;32massert\u001b[0m \u001b[0mk\u001b[0m\u001b[0;34m.\u001b[0m\u001b[0mnext\u001b[0m \u001b[0;32mis\u001b[0m \u001b[0;32mnot\u001b[0m \u001b[0mNone\u001b[0m\u001b[0;34m,\u001b[0m \u001b[0;34m\"index %s out of range\"\u001b[0m\u001b[0;34m%\u001b[0m\u001b[0;34m(\u001b[0m\u001b[0mstr\u001b[0m\u001b[0;34m(\u001b[0m\u001b[0midx\u001b[0m\u001b[0;34m)\u001b[0m\u001b[0;34m)\u001b[0m\u001b[0;34m\u001b[0m\u001b[0m\n",
      "\u001b[0;31mAssertionError\u001b[0m: te pasas we"
     ]
    }
   ],
   "source": [
    "print W[-4]"
   ]
  },
  {
   "cell_type": "markdown",
   "metadata": {},
   "source": [
    "#### comprueba tu código con el corrector automático"
   ]
  },
  {
   "cell_type": "code",
   "execution_count": 44,
   "metadata": {},
   "outputs": [
    {
     "name": "stdout",
     "output_type": "stream",
     "text": [
      "\r\n",
      "** CORRECTO **\r\n",
      "evaluation result 5.0\r\n"
     ]
    }
   ],
   "source": [
    "!./run CHECK_SOLUTION PS05_01"
   ]
  },
  {
   "cell_type": "markdown",
   "metadata": {},
   "source": [
    "#### registra tu solución en línea"
   ]
  },
  {
   "cell_type": "code",
   "execution_count": 45,
   "metadata": {
    "scrolled": true
   },
   "outputs": [
    {
     "name": "stdout",
     "output_type": "stream",
     "text": [
      "connecting ... registering submission for daniel.riveraa@udea.edu.co ...\n",
      "no config found for section PS05, allowing all submissions\n",
      "\n",
      "** CORRECTO **\n",
      "your submissions sheet is https://docs.google.com/spreadsheets/d/1QjA5eGBEkEfHxuQDJaqn7YQXH-ECIalATeOgF8dw-nU\n",
      "----\n",
      "evaluation result 5.0 , submission registered\n"
     ]
    }
   ],
   "source": [
    "!./run SUBMIT_SOLUTION PS05_01"
   ]
  },
  {
   "cell_type": "code",
   "execution_count": null,
   "metadata": {},
   "outputs": [],
   "source": []
  },
  {
   "cell_type": "markdown",
   "metadata": {},
   "source": [
    "## Ejercicio 2\n",
    "\n",
    "Implementa una función `__setitem__` que también soporte índices negativos. Por ejemplo:\n",
    "\n",
    "    W = L2(Node(10, Node(20, Node(30))))\n",
    "    print W\n",
    "    [ 10, 20, 30 ]\n",
    "\n",
    "    W[1]=25\n",
    "    print W\n",
    "    [ 10, 25, 30 ]\n",
    "\n",
    "    W[-1]=35\n",
    "    print W\n",
    "    [ 10, 25, 35 ]\n"
   ]
  },
  {
   "cell_type": "code",
   "execution_count": 48,
   "metadata": {},
   "outputs": [
    {
     "name": "stdout",
     "output_type": "stream",
     "text": [
      "Overwriting ./utils/student_function/PS05_02.py\n"
     ]
    }
   ],
   "source": [
    "%%writefile ./utils/student_function/PS05_02.py\n",
    "from PS05 import *\n",
    "class L2(L):\n",
    "    def __setitem__(self, idx, value):\n",
    "        k = self.first_node\n",
    "        if idx>=0:\n",
    "            for i in range(idx):\n",
    "                assert k.next is not None, \"index %s out of range\"%(str(idx))\n",
    "                k = k.next\n",
    "            k.value=value        \n",
    "        else:\n",
    "            for j in range(len(self)+idx):\n",
    "                assert k.next is not None, \"index %s out of range\"%(str(idx))\n",
    "                k = k.next\n",
    "            k.value=value    \n",
    "        return k.value\n",
    "        "
   ]
  },
  {
   "cell_type": "code",
   "execution_count": 49,
   "metadata": {},
   "outputs": [
    {
     "name": "stdout",
     "output_type": "stream",
     "text": [
      "[ 10, 20, 30 ]\n"
     ]
    }
   ],
   "source": [
    "from PS05 import *\n",
    "import PS05_02 as st\n",
    "reload(st)\n",
    "\n",
    "W = st.L2(Node(10, Node(20, Node(30))))\n",
    "print W"
   ]
  },
  {
   "cell_type": "code",
   "execution_count": 50,
   "metadata": {},
   "outputs": [
    {
     "name": "stdout",
     "output_type": "stream",
     "text": [
      "[ 10, 25, 30 ]\n"
     ]
    }
   ],
   "source": [
    "W[1]=25\n",
    "print W"
   ]
  },
  {
   "cell_type": "code",
   "execution_count": 51,
   "metadata": {},
   "outputs": [
    {
     "name": "stdout",
     "output_type": "stream",
     "text": [
      "[ 10, 25, 35 ]\n"
     ]
    }
   ],
   "source": [
    "W[-1]=35\n",
    "print W"
   ]
  },
  {
   "cell_type": "markdown",
   "metadata": {},
   "source": [
    "#### comprueba tu código con el corrector automático"
   ]
  },
  {
   "cell_type": "code",
   "execution_count": 52,
   "metadata": {},
   "outputs": [
    {
     "name": "stdout",
     "output_type": "stream",
     "text": [
      "\r\n",
      "** CORRECTO **\r\n",
      "evaluation result 5.0\r\n"
     ]
    }
   ],
   "source": [
    "!./run CHECK_SOLUTION PS05_02"
   ]
  },
  {
   "cell_type": "markdown",
   "metadata": {},
   "source": [
    "#### registra tu solución en línea"
   ]
  },
  {
   "cell_type": "code",
   "execution_count": 53,
   "metadata": {
    "scrolled": false
   },
   "outputs": [
    {
     "name": "stdout",
     "output_type": "stream",
     "text": [
      "connecting ... registering submission for daniel.riveraa@udea.edu.co ...\n",
      "no config found for section PS05, allowing all submissions\n",
      "\n",
      "** CORRECTO **\n",
      "your submissions sheet is https://docs.google.com/spreadsheets/d/1QjA5eGBEkEfHxuQDJaqn7YQXH-ECIalATeOgF8dw-nU\n",
      "----\n",
      "evaluation result 5.0 , submission registered\n"
     ]
    }
   ],
   "source": [
    "!./run SUBMIT_SOLUTION PS05_02"
   ]
  },
  {
   "cell_type": "code",
   "execution_count": null,
   "metadata": {},
   "outputs": [],
   "source": []
  },
  {
   "cell_type": "markdown",
   "metadata": {},
   "source": [
    "## Ejercicio 3\n",
    "\n",
    "Implementa la función `clone_node` que duplica. Si el nodo tiene un `next` también lo duplica\n",
    "\n",
    "Sugerencia: implementa el siguiente pseudocódigo **recursivo**\n",
    "\n",
    "    function clone_node(node)\n",
    "     \n",
    "        si node es NULL\n",
    "            devuelve NULL\n",
    "            \n",
    "        devuelve nuevo_nodo(node.value, clone_node(node.next))"
   ]
  },
  {
   "cell_type": "code",
   "execution_count": 79,
   "metadata": {},
   "outputs": [
    {
     "name": "stdout",
     "output_type": "stream",
     "text": [
      "Overwriting ./utils/student_function/PS05_03.py\n"
     ]
    }
   ],
   "source": [
    "%%writefile ./utils/student_function/PS05_03.py\n",
    "from PS05 import *\n",
    "\n",
    "def clone_node(node):\n",
    "    if(node == None):\n",
    "        return None    \n",
    "    return Node(node.value, clone_node(node.next))"
   ]
  },
  {
   "cell_type": "markdown",
   "metadata": {},
   "source": [
    "comprueba manualmente tu código. Los valores han de ser iguales pero los `id` no, señalando que son verdaderamente objetos distintos"
   ]
  },
  {
   "cell_type": "code",
   "execution_count": 88,
   "metadata": {},
   "outputs": [
    {
     "name": "stdout",
     "output_type": "stream",
     "text": [
      "10\n"
     ]
    }
   ],
   "source": [
    "from PS05 import *\n",
    "import PS05_03 as st\n",
    "reload(st)\n",
    "\n",
    "n = Node(10, Node(20, Node(30)))\n",
    "print n, id(n)\n",
    "print n.next, id(n.next)\n",
    "print n.next.next, id(n.next.next)\n",
    "print n.next.next.next, id(n.next.next.next)"
   ]
  },
  {
   "cell_type": "code",
   "execution_count": 81,
   "metadata": {},
   "outputs": [
    {
     "name": "stdout",
     "output_type": "stream",
     "text": [
      "10 140200094937384\n",
      "20 140200094938176\n",
      "30 140200094937168\n",
      "None 140200564985280\n"
     ]
    }
   ],
   "source": [
    "k = st.clone_node(n)\n",
    "print k, id(k)\n",
    "print k.next, id(k.next)\n",
    "print k.next.next, id(k.next.next)\n",
    "print k.next.next.next, id(k.next.next.next)"
   ]
  },
  {
   "cell_type": "markdown",
   "metadata": {},
   "source": [
    "#### comprueba tu código con el corrector automático"
   ]
  },
  {
   "cell_type": "code",
   "execution_count": 82,
   "metadata": {},
   "outputs": [
    {
     "name": "stdout",
     "output_type": "stream",
     "text": [
      "\r\n",
      "** CORRECTO **\r\n",
      "evaluation result 5.0\r\n"
     ]
    }
   ],
   "source": [
    "!./run CHECK_SOLUTION PS05_03"
   ]
  },
  {
   "cell_type": "markdown",
   "metadata": {},
   "source": [
    "#### registra tu solución en línea"
   ]
  },
  {
   "cell_type": "code",
   "execution_count": 85,
   "metadata": {
    "scrolled": false
   },
   "outputs": [
    {
     "name": "stdout",
     "output_type": "stream",
     "text": [
      "connecting ... registering submission for daniel.riveraa@udea.edu.co ...\n",
      "no config found for section PS05, allowing all submissions\n",
      "\n",
      "** CORRECTO **\n",
      "your submissions sheet is https://docs.google.com/spreadsheets/d/1QjA5eGBEkEfHxuQDJaqn7YQXH-ECIalATeOgF8dw-nU\n",
      "----\n",
      "evaluation result 5.0 , submission registered\n"
     ]
    }
   ],
   "source": [
    "!./run SUBMIT_SOLUTION PS05_03"
   ]
  },
  {
   "cell_type": "code",
   "execution_count": null,
   "metadata": {},
   "outputs": [],
   "source": []
  },
  {
   "cell_type": "markdown",
   "metadata": {},
   "source": [
    "## Ejercicio 4\n",
    "\n",
    "Implementa `clone` que duplica una lista. Pon atención, ya que si hay sublistas, éstas han de ser duplicadas también. Entiende la implementación de la siguiente función, que muestra recursivamente los `id` de cada nodo de una lista **según tu propia implementación del ejercicio 2**"
   ]
  },
  {
   "cell_type": "code",
   "execution_count": 20,
   "metadata": {},
   "outputs": [],
   "source": [
    "from PS05 import *\n",
    "import PS05_02 as st2\n",
    "def show_ids(M, level=0):\n",
    "    k = M.first_node\n",
    "    while k is not None:\n",
    "        print \" \"*2*level, id(k)\n",
    "        if isinstance(k.value, M.__class__):\n",
    "            show_ids(k.value, level+1)\n",
    "        k = k.next\n",
    "        "
   ]
  },
  {
   "cell_type": "code",
   "execution_count": 21,
   "metadata": {},
   "outputs": [
    {
     "name": "stdout",
     "output_type": "stream",
     "text": [
      " 139669160335192\n",
      " 139669160335120\n",
      "   139669160334904\n",
      "   139669160334832\n",
      "   139669160334760\n",
      "     139669160334544\n",
      "     139669160334616\n",
      " 139669160335048\n",
      " 139669160334976\n"
     ]
    }
   ],
   "source": [
    "import PS05_02 as st2\n",
    "from PS05 import *\n",
    "\n",
    "W=st2.L2(Node(10, Node(st2.L2(Node(14, Node(15, Node(st2.L2(Node(16, Node(17))))))), Node(20, Node(30)))))\n",
    "show_ids(W)"
   ]
  },
  {
   "cell_type": "code",
   "execution_count": null,
   "metadata": {},
   "outputs": [],
   "source": []
  },
  {
   "cell_type": "markdown",
   "metadata": {},
   "source": [
    "Desarrolla tu solución de la siguiente manera:\n",
    "\n",
    "1. Primero copia los nodos de la lista actual (`self`)\n",
    "1. Crea una lista nueva con los nodos copiados\n",
    "1. Recorre los nodos de la lista nueva verificando el campo `value`\n",
    "1. Si este campo es también una lista (usa `isinstance` como en la función `show_ids`) entonces llama a `clone` de esa lista y sustituye el valor."
   ]
  },
  {
   "cell_type": "code",
   "execution_count": 112,
   "metadata": {},
   "outputs": [
    {
     "name": "stdout",
     "output_type": "stream",
     "text": [
      "Overwriting ./utils/student_function/PS05_04.py\n"
     ]
    }
   ],
   "source": [
    "%%writefile ./utils/student_function/PS05_04.py\n",
    "from PS05 import *\n",
    "class L4(L):\n",
    "    def clone(self):\n",
    "        def clone_node(node):\n",
    "            if node == None:\n",
    "                return None    \n",
    "            return Node(node.value, clone_node(node.next))\n",
    "                    \n",
    "        r=L4(clone_node(self.first_node))\n",
    "        current=r.first_node\n",
    "        for i in range(len(r)):\n",
    "            if isinstance(current.value,st.L4):\n",
    "                current.value=st.L4(clone_node(current.value.first_node))\n",
    "            current=current.next\n",
    "        return r"
   ]
  },
  {
   "cell_type": "markdown",
   "metadata": {},
   "source": [
    "comprueba tu código, ambas listas han de tener el mismo contenido, pero distintos `id`"
   ]
  },
  {
   "cell_type": "code",
   "execution_count": 115,
   "metadata": {},
   "outputs": [
    {
     "data": {
      "text/plain": [
       "[ 10, [ 14, 15, [ 16, 17 ] ], 20, 30 ]"
      ]
     },
     "execution_count": 115,
     "metadata": {},
     "output_type": "execute_result"
    }
   ],
   "source": [
    "import PS05_04 as st\n",
    "reload(st)\n",
    "from PS05 import *\n",
    "\n",
    "W=st.L4(Node(10, Node(st.L4(Node(14, Node(15, Node(st.L4(Node(16, Node(17))))))), Node(20, Node(30)))))\n",
    "W"
   ]
  },
  {
   "cell_type": "code",
   "execution_count": 116,
   "metadata": {},
   "outputs": [
    {
     "name": "stdout",
     "output_type": "stream",
     "text": [
      "[ 10, [ 14, 15, [ 16, 17 ] ], 20, 30 ]\n"
     ]
    }
   ],
   "source": [
    "K = W.clone()\n",
    "print K"
   ]
  },
  {
   "cell_type": "code",
   "execution_count": 117,
   "metadata": {},
   "outputs": [
    {
     "name": "stdout",
     "output_type": "stream",
     "text": [
      " 139669159418408\n",
      " 139669159418336\n",
      "   139669159418120\n",
      "   139669159416752\n",
      "   139669159417904\n",
      "     139669159417976\n",
      "     139669160820104\n",
      " 139669159418264\n",
      " 139669159418192\n"
     ]
    }
   ],
   "source": [
    "show_ids(W)"
   ]
  },
  {
   "cell_type": "code",
   "execution_count": 118,
   "metadata": {},
   "outputs": [
    {
     "name": "stdout",
     "output_type": "stream",
     "text": [
      " 139669159418984\n",
      " 139669159418912\n",
      "   139669159419200\n",
      "   139669159419128\n",
      "   139669159419056\n",
      "     139669159417976\n",
      "     139669160820104\n",
      " 139669159418624\n",
      " 139669159418552\n"
     ]
    }
   ],
   "source": [
    "show_ids(K)"
   ]
  },
  {
   "cell_type": "markdown",
   "metadata": {},
   "source": [
    "#### comprueba tu código con el corrector automático"
   ]
  },
  {
   "cell_type": "code",
   "execution_count": 119,
   "metadata": {},
   "outputs": [
    {
     "name": "stdout",
     "output_type": "stream",
     "text": [
      "\r\n",
      "** CORRECTO **\r\n",
      "evaluation result 5.0\r\n"
     ]
    }
   ],
   "source": [
    "!./run CHECK_SOLUTION PS05_04"
   ]
  },
  {
   "cell_type": "markdown",
   "metadata": {},
   "source": [
    "#### registra tu solución en línea"
   ]
  },
  {
   "cell_type": "code",
   "execution_count": 122,
   "metadata": {
    "scrolled": false
   },
   "outputs": [
    {
     "name": "stdout",
     "output_type": "stream",
     "text": [
      "connecting ... registering submission for daniel.riveraa@udea.edu.co ...\n",
      "no config found for section PS05, allowing all submissions\n",
      "\n",
      "** CORRECTO **\n",
      "your submissions sheet is https://docs.google.com/spreadsheets/d/1QjA5eGBEkEfHxuQDJaqn7YQXH-ECIalATeOgF8dw-nU\n",
      "----\n",
      "evaluation result 5.0 , submission registered\n"
     ]
    }
   ],
   "source": [
    "!./run SUBMIT_SOLUTION PS05_04"
   ]
  },
  {
   "cell_type": "code",
   "execution_count": null,
   "metadata": {},
   "outputs": [],
   "source": []
  },
  {
   "cell_type": "markdown",
   "metadata": {},
   "source": [
    "## Ejercicio 5\n",
    "\n",
    "Implementa el método ´__add__´ para que concatene una lista con otra creando una nueva lista. Usa los métodos desarrollados en los ejercicios anteriores. \n",
    "\n",
    "**Sugerencia de implementación**: copia primero las dos listas originales y luego concaténalas haciendo apuntar el `next` del último elemento de la copia de la primera lista al primer elemento de la copia de la segunda lista."
   ]
  },
  {
   "cell_type": "code",
   "execution_count": 129,
   "metadata": {},
   "outputs": [
    {
     "name": "stdout",
     "output_type": "stream",
     "text": [
      "Overwriting ./utils/student_function/PS05_05.py\n"
     ]
    }
   ],
   "source": [
    "%%writefile ./utils/student_function/PS05_05.py\n",
    "from PS05 import *\n",
    "class L5(L):\n",
    "    \n",
    "    def clone(self):\n",
    "        def clone_node(node):\n",
    "            if node==None:\n",
    "                return None\n",
    "            return Node(node.value, clone_node(node.next))         \n",
    "               \n",
    "        r=L5(clone_node(self.first_node))\n",
    "        x=r.first_node\n",
    "        for i in range(len(r)):\n",
    "            if isinstance(x.value,L5):\n",
    "                x.value=L4(clone_node(x.value.first_node))\n",
    "            x=x.next            \n",
    "        return r\n",
    "    \n",
    "    def __add__(self, M):\n",
    "        a=self.clone()\n",
    "        b=M.clone()\n",
    "        i=a.first_node\n",
    "        while i.next is not None:\n",
    "            i=i.next\n",
    "        i.next=b.first_node        \n",
    "        return a  \n",
    "        "
   ]
  },
  {
   "cell_type": "code",
   "execution_count": 131,
   "metadata": {},
   "outputs": [
    {
     "name": "stdout",
     "output_type": "stream",
     "text": [
      "[ 10, 20, 30 ]\n",
      "[ 3, 2 ]\n",
      "[ 10, 20, 30, 3, 2 ]\n"
     ]
    }
   ],
   "source": [
    "import PS05_05 as st\n",
    "reload(st)\n",
    "from PS05 import * \n",
    "W = st.L5(Node(10, Node(20, Node(30))))\n",
    "Z = st.L5(Node(3, Node(2)))\n",
    "print W\n",
    "print Z\n",
    "print W + Z + st.L5() "
   ]
  },
  {
   "cell_type": "markdown",
   "metadata": {},
   "source": [
    "esto ahora debería de funcionar (recuerda que en las Notas correspondientes existía un problema)"
   ]
  },
  {
   "cell_type": "code",
   "execution_count": 132,
   "metadata": {},
   "outputs": [
    {
     "name": "stdout",
     "output_type": "stream",
     "text": [
      "[ 10, 20, 30, 3, 2, 10, 20, 30 ]\n"
     ]
    }
   ],
   "source": [
    "X = W + Z + W\n",
    "print X"
   ]
  },
  {
   "cell_type": "markdown",
   "metadata": {},
   "source": [
    "#### comprueba tu código con el corrector automático"
   ]
  },
  {
   "cell_type": "code",
   "execution_count": 133,
   "metadata": {},
   "outputs": [
    {
     "name": "stdout",
     "output_type": "stream",
     "text": [
      "\r\n",
      "** CORRECTO **\r\n",
      "evaluation result 5.0\r\n"
     ]
    }
   ],
   "source": [
    "!./run CHECK_SOLUTION PS05_05"
   ]
  },
  {
   "cell_type": "markdown",
   "metadata": {},
   "source": [
    "#### registra tu solución en línea"
   ]
  },
  {
   "cell_type": "code",
   "execution_count": 134,
   "metadata": {
    "scrolled": false
   },
   "outputs": [
    {
     "name": "stdout",
     "output_type": "stream",
     "text": [
      "connecting ... registering submission for daniel.riveraa@udea.edu.co ...\n",
      "no config found for section PS05, allowing all submissions\n",
      "\n",
      "** CORRECTO **\n",
      "your submissions sheet is https://docs.google.com/spreadsheets/d/1QjA5eGBEkEfHxuQDJaqn7YQXH-ECIalATeOgF8dw-nU\n",
      "----\n",
      "evaluation result 5.0 , submission registered\n"
     ]
    }
   ],
   "source": [
    "!./run SUBMIT_SOLUTION PS05_03"
   ]
  },
  {
   "cell_type": "code",
   "execution_count": null,
   "metadata": {},
   "outputs": [],
   "source": []
  },
  {
   "cell_type": "markdown",
   "metadata": {},
   "source": [
    "## Ejercicio 6\n",
    "\n",
    "Implementa la función de igualdad.\n",
    "\n",
    "**Sugerencia de implementación**: haz una función que recorra simultáneamente los nodos de ambas listas (`self` y `other`) y devuelva `False` en cuanto encuentre que el campo `value` de los dos nodos sea distinto (`!=`). Pon especial atención a que si `value` es a su vez una lista, el método será recursivo."
   ]
  },
  {
   "cell_type": "code",
   "execution_count": 2,
   "metadata": {},
   "outputs": [
    {
     "name": "stdout",
     "output_type": "stream",
     "text": [
      "Writing ./utils/student_function/PS05_06.py\n"
     ]
    }
   ],
   "source": [
    "%%writefile ./utils/student_function/PS05_06.py\n",
    "from PS05 import *\n",
    "class L6(L):\n",
    "    \n",
    "    def __eq__(self, other):\n",
    "            \n",
    "        a=self.first_node;b=other.first_node\n",
    "        if len(self) !=len(other):return False\n",
    "        for i in range(len(self)):\n",
    "            if a.value!=b.value:return False\n",
    "            a=a.next;b=b.next\n",
    "        return True \n",
    "    \n",
    "    def __ne__(self, other):\n",
    "        return not self==other       "
   ]
  },
  {
   "cell_type": "code",
   "execution_count": 3,
   "metadata": {},
   "outputs": [
    {
     "name": "stdout",
     "output_type": "stream",
     "text": [
      "[ 10, [ 14, 15, [ 16, 17 ] ], 20, 30 ]\n",
      "[ 10, [ 14, 15, [ 16, 17 ] ], 20, 30 ]\n",
      "[ 10, [ 14, 15 ], 20, 30 ]\n"
     ]
    }
   ],
   "source": [
    "import PS05_06 as st\n",
    "from PS05 import *\n",
    "reload(st)\n",
    "W=st.L6(Node(10, Node(st.L6(Node(14, Node(15, Node(st.L6(Node(16, Node(17))))))), Node(20, Node(30)))))\n",
    "Z=st.L6(Node(10, Node(st.L6(Node(14, Node(15, Node(st.L6(Node(16, Node(17))))))), Node(20, Node(30)))))\n",
    "Y=st.L6(Node(10, Node(st.L6(Node(14, Node(15))), Node(20, Node(30)))))\n",
    "print W\n",
    "print Z\n",
    "print Y"
   ]
  },
  {
   "cell_type": "code",
   "execution_count": 4,
   "metadata": {},
   "outputs": [
    {
     "name": "stdout",
     "output_type": "stream",
     "text": [
      "True\n",
      "True\n",
      "True\n",
      "True\n",
      "False\n",
      "False\n"
     ]
    }
   ],
   "source": [
    "print W==W\n",
    "print Z==Z\n",
    "print Y==Y\n",
    "print W==Z\n",
    "print W==Y\n",
    "print Y==Z"
   ]
  },
  {
   "cell_type": "markdown",
   "metadata": {},
   "source": [
    "#### comprueba tu código con el corrector automático"
   ]
  },
  {
   "cell_type": "code",
   "execution_count": 5,
   "metadata": {},
   "outputs": [
    {
     "name": "stdout",
     "output_type": "stream",
     "text": [
      "\r\n",
      "** CORRECTO **\r\n",
      "evaluation result 5.0\r\n"
     ]
    }
   ],
   "source": [
    "!./run CHECK_SOLUTION PS05_06"
   ]
  },
  {
   "cell_type": "markdown",
   "metadata": {},
   "source": [
    "#### registra tu solución en línea"
   ]
  },
  {
   "cell_type": "code",
   "execution_count": 6,
   "metadata": {
    "scrolled": false
   },
   "outputs": [
    {
     "name": "stdout",
     "output_type": "stream",
     "text": [
      "connecting ... registering submission for daniel.riveraa@udea.edu.co ...\n",
      "no config found for section PS05, allowing all submissions\n",
      "\n",
      "** CORRECTO **\n",
      "your submissions sheet is https://docs.google.com/spreadsheets/d/1QjA5eGBEkEfHxuQDJaqn7YQXH-ECIalATeOgF8dw-nU\n",
      "----\n",
      "evaluation result 5.0 , submission registered\n"
     ]
    }
   ],
   "source": [
    "!./run SUBMIT_SOLUTION PS05_06"
   ]
  },
  {
   "cell_type": "code",
   "execution_count": null,
   "metadata": {},
   "outputs": [],
   "source": []
  },
  {
   "cell_type": "markdown",
   "metadata": {},
   "source": [
    "## Ejercicio 7\n",
    "\n",
    "Realiza una función que evalúe un `VarTerm` dado un diccionario `vals`. Asume que este diccionario contendrá un valor para la variable del término. Por ejemplo\n",
    "\n",
    "    > vals = {\"x\": 1, \"y\":2, \"z\": 3}\n",
    "    > vt = VarTerm(9,\"y\", 2)\n",
    "    > print vt, \"=\", evaluate_vterm(vt, vals)\n",
    "    9 y^2 = 36\n",
    "    \n",
    "    > vt = VarTerm(2,\"z\", 3)\n",
    "    > print vt, \"=\", evaluate_vterm(vt, vals)\n",
    "    2 z^3 = 54\n"
   ]
  },
  {
   "cell_type": "code",
   "execution_count": 7,
   "metadata": {},
   "outputs": [
    {
     "name": "stdout",
     "output_type": "stream",
     "text": [
      "Writing ./utils/student_function/PS05_07.py\n"
     ]
    }
   ],
   "source": [
    "%%writefile ./utils/student_function/PS05_07.py\n",
    "from IPython.display import Math\n",
    "\n",
    "class VarTerm():\n",
    "    def __init__(self, coef, var, exp=1):\n",
    "        assert (isinstance(coef, float) or isinstance(coef,int)) and \\\n",
    "                isinstance(exp, int) and isinstance(var, str) and len(var)==1\n",
    "        self.coef = coef\n",
    "        self.var  = var\n",
    "        self.exp  = exp\n",
    "        \n",
    "    def get_math_representation(self):\n",
    "        s = (\"%s\"%str(self.coef) if self.coef!=1 else \"\") +\\\n",
    "            (\" %s\"%self.var if self.exp==1 else (\" %s^%d\"%(self.var, self.exp) if self.exp!=0 else \"\")) \n",
    "        return s\n",
    "    \n",
    "    def __repr__(self):\n",
    "        return self.get_math_representation() \n",
    "        \n",
    "    def evaluate(self, vals):\n",
    "        var=vals[self.var]\n",
    "        return self.coef*(var**self.exp)"
   ]
  },
  {
   "cell_type": "code",
   "execution_count": 8,
   "metadata": {},
   "outputs": [
    {
     "name": "stdout",
     "output_type": "stream",
     "text": [
      "9 y^2 = 36\n",
      "2 z^3 = 54\n"
     ]
    }
   ],
   "source": [
    "import PS05_07 as st\n",
    "reload(st)\n",
    "\n",
    "vals = {\"x\": 1, \"y\":2, \"z\": 3}\n",
    "vt = st.VarTerm(9,\"y\", 2)\n",
    "print vt, \"=\", vt.evaluate(vals)\n",
    "vt = st.VarTerm(2,\"z\", 3)\n",
    "print vt, \"=\", vt.evaluate(vals)"
   ]
  },
  {
   "cell_type": "markdown",
   "metadata": {},
   "source": [
    "#### comprueba tu código con el corrector automático"
   ]
  },
  {
   "cell_type": "code",
   "execution_count": 9,
   "metadata": {},
   "outputs": [
    {
     "name": "stdout",
     "output_type": "stream",
     "text": [
      "\r\n",
      "** CORRECTO **\r\n",
      "evaluation result 5.0\r\n"
     ]
    }
   ],
   "source": [
    "!./run CHECK_SOLUTION PS05_07"
   ]
  },
  {
   "cell_type": "markdown",
   "metadata": {},
   "source": [
    "#### registra tu solución en línea"
   ]
  },
  {
   "cell_type": "code",
   "execution_count": 10,
   "metadata": {
    "scrolled": false
   },
   "outputs": [
    {
     "name": "stdout",
     "output_type": "stream",
     "text": [
      "connecting ... registering submission for daniel.riveraa@udea.edu.co ...\n",
      "no config found for section PS05, allowing all submissions\n",
      "\n",
      "** CORRECTO **\n",
      "your submissions sheet is https://docs.google.com/spreadsheets/d/1QjA5eGBEkEfHxuQDJaqn7YQXH-ECIalATeOgF8dw-nU\n",
      "----\n",
      "evaluation result 5.0 , submission registered\n"
     ]
    }
   ],
   "source": [
    "!./run SUBMIT_SOLUTION PS05_07"
   ]
  },
  {
   "cell_type": "markdown",
   "metadata": {},
   "source": [
    "## Ejercicios de refuerzo (no obligatorios)\n",
    "\n",
    "- crea una función que evalúe un `VarPol`, según definido en las notas.\n",
    "- analiza la complejidad computacional de tus implementaciones\n",
    "- ¿Podrías enriqueces `Node` para mejorar la complejidad computacional?"
   ]
  },
  {
   "cell_type": "code",
   "execution_count": null,
   "metadata": {},
   "outputs": [],
   "source": []
  }
 ],
 "metadata": {
  "kernelspec": {
   "display_name": "Python 2",
   "language": "python",
   "name": "python2"
  },
  "language_info": {
   "codemirror_mode": {
    "name": "ipython",
    "version": 2
   },
   "file_extension": ".py",
   "mimetype": "text/x-python",
   "name": "python",
   "nbconvert_exporter": "python",
   "pygments_lexer": "ipython2",
   "version": "2.7.14"
  }
 },
 "nbformat": 4,
 "nbformat_minor": 2
}

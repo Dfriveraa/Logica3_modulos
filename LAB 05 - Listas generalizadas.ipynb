{
 "cells": [
  {
   "cell_type": "code",
   "execution_count": null,
   "metadata": {},
   "outputs": [],
   "source": [
    "!pip install -q oauth2client==1.5.2\n",
    "import sys\n",
    "sys.path.append(\"./utils/student_function/\")\n",
    "from mooclib import *\n",
    "import inspect, urllib\n",
    "html, auth_code, userinfo = google_authenticate(PORT_NUMBER=8080)\n",
    "html"
   ]
  },
  {
   "cell_type": "markdown",
   "metadata": {},
   "source": [
    "En estos ejercicios usaremos las clases `Node` y `L`. Ejecuta la siguiente celda para cargar sus definiciones"
   ]
  },
  {
   "cell_type": "code",
   "execution_count": null,
   "metadata": {},
   "outputs": [],
   "source": [
    "%%writefile ./utils/student_function/PS05.py\n",
    "class Node:\n",
    "    def __init__(self, value, next=None):\n",
    "        assert next is None or isinstance(next,Node), \"next must be Node, not %s\"%(type(next))\n",
    "        self.value = value\n",
    "        self.next  = next\n",
    "        \n",
    "    def __repr__(self):\n",
    "        return str(self.value)\n",
    "    \n",
    "class L(object):\n",
    "    def __init__ (self, first_node=None):\n",
    "        assert first_node is None or isinstance(first_node,Node), \"first must be Node, not %s\"%(type(first_node))\n",
    "        self.first_node = first_node\n",
    "        \n",
    "    def __getitem__(self, idx):\n",
    "        k = self.first_node\n",
    "        for i in range(idx):\n",
    "            assert k.next is not None, \"index %s out of range\"%(str(idx))\n",
    "            k = k.next  \n",
    "        return k.value\n",
    "    \n",
    "    def __len__(self):\n",
    "        k = self.first_node\n",
    "        if k is None:\n",
    "            return 0\n",
    "        i=1\n",
    "        while k.next is not None:\n",
    "            i+=1\n",
    "            k = k.next\n",
    "        return i\n",
    "            \n",
    "    def __repr__ (self):\n",
    "        if self.first_node is None:\n",
    "            return \"[]\"\n",
    "        \n",
    "        s = \"[ %s\"%self.first_node\n",
    "        k=self.first_node\n",
    "        while (k.next is not None):\n",
    "            s += \", %s\"%k.next\n",
    "            k = k.next\n",
    "    \n",
    "        return s+\" ]\""
   ]
  },
  {
   "cell_type": "markdown",
   "metadata": {},
   "source": [
    "## Ejercicio 1\n",
    "\n",
    "Implementa el método `__getitem__` para que funcione con índices positivos y negativos. Por ejemplo:\n",
    "\n",
    "    > W = L1(Node(10, Node(20, Node(30))))\n",
    "    > print W\n",
    "    [ 10, 20, 30 ]\n",
    "\n",
    "    > print W[0], W[1], W[2]\n",
    "    > print W[-1], W[-2], W[-3]\n",
    "    10 20 30\n",
    "    30 20 10\n",
    "\n",
    "Ten en cuenta los casos en los que el índice excede el tamaño de la lista, bien positivo bien negativo. **En estos casos has de generar un assertion error**. \n",
    "\n",
    "En el ejemplo anterior, `W[3]` y `W[-4]` deben de generar un `AssertionError`"
   ]
  },
  {
   "cell_type": "code",
   "execution_count": null,
   "metadata": {},
   "outputs": [],
   "source": [
    "%%writefile ./utils/student_function/PS05_01.py\n",
    "from PS05 import *\n",
    "class L1(L):\n",
    "    def __getitem__(self, idx):\n",
    "        return <... TU CODIGO AQUI ...>\n"
   ]
  },
  {
   "cell_type": "markdown",
   "metadata": {},
   "source": [
    "comprueba manualmente tu código"
   ]
  },
  {
   "cell_type": "code",
   "execution_count": null,
   "metadata": {},
   "outputs": [],
   "source": [
    "from PS05 import *\n",
    "import PS05_01 as st\n",
    "reload(st)\n",
    "\n",
    "W = st.L1(Node(10, Node(20, Node(30))))\n",
    "print W"
   ]
  },
  {
   "cell_type": "code",
   "execution_count": null,
   "metadata": {},
   "outputs": [],
   "source": [
    "print W[0], W[1], W[2]\n",
    "print W[-1], W[-2], W[-3]"
   ]
  },
  {
   "cell_type": "code",
   "execution_count": null,
   "metadata": {},
   "outputs": [],
   "source": [
    "print W[3]"
   ]
  },
  {
   "cell_type": "code",
   "execution_count": null,
   "metadata": {},
   "outputs": [],
   "source": [
    "print W[-4]"
   ]
  },
  {
   "cell_type": "markdown",
   "metadata": {},
   "source": [
    "#### comprueba tu código con el corrector automático"
   ]
  },
  {
   "cell_type": "code",
   "execution_count": null,
   "metadata": {},
   "outputs": [],
   "source": [
    "!./run CHECK_SOLUTION PS05_01"
   ]
  },
  {
   "cell_type": "markdown",
   "metadata": {},
   "source": [
    "#### registra tu solución en línea"
   ]
  },
  {
   "cell_type": "code",
   "execution_count": null,
   "metadata": {
    "scrolled": true
   },
   "outputs": [],
   "source": [
    "!./run SUBMIT_SOLUTION PS05_01"
   ]
  },
  {
   "cell_type": "code",
   "execution_count": null,
   "metadata": {},
   "outputs": [],
   "source": []
  },
  {
   "cell_type": "markdown",
   "metadata": {},
   "source": [
    "## Ejercicio 2\n",
    "\n",
    "Implementa una función `__setitem__` que también soporte índices negativos. Por ejemplo:\n",
    "\n",
    "    W = L2(Node(10, Node(20, Node(30))))\n",
    "    print W\n",
    "    [ 10, 20, 30 ]\n",
    "\n",
    "    W[1]=25\n",
    "    print W\n",
    "    [ 10, 25, 30 ]\n",
    "\n",
    "    W[-1]=35\n",
    "    print W\n",
    "    [ 10, 25, 35 ]\n"
   ]
  },
  {
   "cell_type": "code",
   "execution_count": null,
   "metadata": {},
   "outputs": [],
   "source": [
    "%%writefile ./utils/student_function/PS05_02.py\n",
    "from PS05 import *\n",
    "class L2(L):\n",
    "    def __setitem__(self, idx, value):\n",
    "        <... TU CODIGO AQUI ...>"
   ]
  },
  {
   "cell_type": "code",
   "execution_count": null,
   "metadata": {},
   "outputs": [],
   "source": [
    "from PS05 import *\n",
    "import PS05_02 as st\n",
    "reload(st)\n",
    "\n",
    "W = st.L2(Node(10, Node(20, Node(30))))\n",
    "print W"
   ]
  },
  {
   "cell_type": "code",
   "execution_count": null,
   "metadata": {},
   "outputs": [],
   "source": [
    "W[1]=25\n",
    "print W"
   ]
  },
  {
   "cell_type": "code",
   "execution_count": null,
   "metadata": {},
   "outputs": [],
   "source": [
    "W[-1]=35\n",
    "print W"
   ]
  },
  {
   "cell_type": "markdown",
   "metadata": {},
   "source": [
    "#### comprueba tu código con el corrector automático"
   ]
  },
  {
   "cell_type": "code",
   "execution_count": null,
   "metadata": {},
   "outputs": [],
   "source": [
    "!./run CHECK_SOLUTION PS05_02"
   ]
  },
  {
   "cell_type": "markdown",
   "metadata": {},
   "source": [
    "#### registra tu solución en línea"
   ]
  },
  {
   "cell_type": "code",
   "execution_count": null,
   "metadata": {
    "scrolled": false
   },
   "outputs": [],
   "source": [
    "!./run SUBMIT_SOLUTION PS05_02"
   ]
  },
  {
   "cell_type": "code",
   "execution_count": null,
   "metadata": {},
   "outputs": [],
   "source": []
  },
  {
   "cell_type": "markdown",
   "metadata": {},
   "source": [
    "## Ejercicio 3\n",
    "\n",
    "Implementa la función `clone_node` que duplica. Si el nodo tiene un `next` también lo duplica\n",
    "\n",
    "Sugerencia: implementa el siguiente pseudocódigo **recursivo**\n",
    "\n",
    "    function clone_node(node)\n",
    "     \n",
    "        si node es NULL\n",
    "            devuelve NULL\n",
    "            \n",
    "        devuelve nuevo_nodo(node.value, clone_node(node.next))"
   ]
  },
  {
   "cell_type": "code",
   "execution_count": null,
   "metadata": {},
   "outputs": [],
   "source": [
    "%%writefile ./utils/student_function/PS05_03.py\n",
    "from PS05 import *\n",
    "\n",
    "def clone_node(node):\n",
    "    r = <... TU CODIGO AQUI ...>\n",
    "    return r"
   ]
  },
  {
   "cell_type": "markdown",
   "metadata": {},
   "source": [
    "comprueba manualmente tu código. Los valores han de ser iguales pero los `id` no, señalando que son verdaderamente objetos distintos"
   ]
  },
  {
   "cell_type": "code",
   "execution_count": null,
   "metadata": {},
   "outputs": [],
   "source": [
    "from PS05 import *\n",
    "import PS05_03 as st\n",
    "reload(st)\n",
    "\n",
    "n = Node(10, Node(20, Node(30)))\n",
    "print n, id(n)\n",
    "print n.next, id(n.next)\n",
    "print n.next.next, id(n.next.next)\n",
    "print n.next.next.next, id(n.next.next.next)"
   ]
  },
  {
   "cell_type": "code",
   "execution_count": null,
   "metadata": {},
   "outputs": [],
   "source": [
    "k = st.clone_node(n)\n",
    "print k, id(k)\n",
    "print k.next, id(k.next)\n",
    "print k.next.next, id(k.next.next)\n",
    "print k.next.next.next, id(k.next.next.next)"
   ]
  },
  {
   "cell_type": "markdown",
   "metadata": {},
   "source": [
    "#### comprueba tu código con el corrector automático"
   ]
  },
  {
   "cell_type": "code",
   "execution_count": null,
   "metadata": {},
   "outputs": [],
   "source": [
    "!./run CHECK_SOLUTION PS05_03"
   ]
  },
  {
   "cell_type": "markdown",
   "metadata": {},
   "source": [
    "#### registra tu solución en línea"
   ]
  },
  {
   "cell_type": "code",
   "execution_count": null,
   "metadata": {
    "scrolled": false
   },
   "outputs": [],
   "source": [
    "!./run SUBMIT_SOLUTION PS05_03"
   ]
  },
  {
   "cell_type": "code",
   "execution_count": null,
   "metadata": {},
   "outputs": [],
   "source": []
  },
  {
   "cell_type": "markdown",
   "metadata": {},
   "source": [
    "## Ejercicio 4\n",
    "\n",
    "Implementa `clone` que duplica una lista. Pon atención, ya que si hay sublistas, éstas han de ser duplicadas también. Entiende la implementación de la siguiente función, que muestra recursivamente los `id` de cada nodo de una lista **según tu propia implementación del ejercicio 2**"
   ]
  },
  {
   "cell_type": "code",
   "execution_count": null,
   "metadata": {},
   "outputs": [],
   "source": [
    "from PS05 import *\n",
    "import PS05_02 as st2\n",
    "def show_ids(M, level=0):\n",
    "    k = M.first_node\n",
    "    while k is not None:\n",
    "        print \" \"*2*level, id(k)\n",
    "        if isinstance(k.value, M.__class__):\n",
    "            show_ids(k.value, level+1)\n",
    "        k = k.next\n",
    "        "
   ]
  },
  {
   "cell_type": "code",
   "execution_count": null,
   "metadata": {},
   "outputs": [],
   "source": [
    "import PS05_02 as st2\n",
    "from PS05 import *\n",
    "\n",
    "W=st2.L2(Node(10, Node(st2.L2(Node(14, Node(15, Node(st2.L2(Node(16, Node(17))))))), Node(20, Node(30)))))\n",
    "show_ids(W)"
   ]
  },
  {
   "cell_type": "code",
   "execution_count": null,
   "metadata": {},
   "outputs": [],
   "source": []
  },
  {
   "cell_type": "markdown",
   "metadata": {},
   "source": [
    "Desarrolla tu solución de la siguiente manera:\n",
    "\n",
    "1. Primero copia los nodos de la lista actual (`self`)\n",
    "1. Crea una lista nueva con los nodos copiados\n",
    "1. Recorre los nodos de la lista nueva verificando el campo `value`\n",
    "1. Si este campo es también una lista (usa `isinstance` como en la función `show_ids`) entonces llama a `clone` de esa lista y sustituye el valor."
   ]
  },
  {
   "cell_type": "code",
   "execution_count": null,
   "metadata": {},
   "outputs": [],
   "source": [
    "%%writefile ./utils/student_function/PS05_04.py\n",
    "from PS05 import *\n",
    "class L4(L):\n",
    "    \n",
    "    def clone(self):\n",
    "        \n",
    "        def clone_node(node):\n",
    "            return <... TU CODIGO AQUI ...>\n",
    "        \n",
    "        \n",
    "        r = <... TU CODIGO AQUI ...>\n",
    "        return r"
   ]
  },
  {
   "cell_type": "markdown",
   "metadata": {},
   "source": [
    "comprueba tu código, ambas listas han de tener el mismo contenido, pero distintos `id`"
   ]
  },
  {
   "cell_type": "code",
   "execution_count": null,
   "metadata": {},
   "outputs": [],
   "source": [
    "import PS05_04 as st\n",
    "reload(st)\n",
    "from PS05 import *\n",
    "\n",
    "W=st.L4(Node(10, Node(st.L4(Node(14, Node(15, Node(st.L4(Node(16, Node(17))))))), Node(20, Node(30)))))\n",
    "W"
   ]
  },
  {
   "cell_type": "code",
   "execution_count": null,
   "metadata": {},
   "outputs": [],
   "source": [
    "K = W.clone()\n",
    "K"
   ]
  },
  {
   "cell_type": "code",
   "execution_count": null,
   "metadata": {},
   "outputs": [],
   "source": [
    "show_ids(W)"
   ]
  },
  {
   "cell_type": "code",
   "execution_count": null,
   "metadata": {},
   "outputs": [],
   "source": [
    "show_ids(K)"
   ]
  },
  {
   "cell_type": "markdown",
   "metadata": {},
   "source": [
    "#### comprueba tu código con el corrector automático"
   ]
  },
  {
   "cell_type": "code",
   "execution_count": null,
   "metadata": {},
   "outputs": [],
   "source": [
    "!./run CHECK_SOLUTION PS05_04"
   ]
  },
  {
   "cell_type": "markdown",
   "metadata": {},
   "source": [
    "#### registra tu solución en línea"
   ]
  },
  {
   "cell_type": "code",
   "execution_count": null,
   "metadata": {
    "scrolled": false
   },
   "outputs": [],
   "source": [
    "!./run SUBMIT_SOLUTION PS05_04"
   ]
  },
  {
   "cell_type": "code",
   "execution_count": null,
   "metadata": {},
   "outputs": [],
   "source": []
  },
  {
   "cell_type": "markdown",
   "metadata": {},
   "source": [
    "## Ejercicio 5\n",
    "\n",
    "Implementa el método ´__add__´ para que concatene una lista con otra creando una nueva lista. Usa los métodos desarrollados en los ejercicios anteriores. \n",
    "\n",
    "**Sugerencia de implementación**: copia primero las dos listas originales y luego concaténalas haciendo apuntar el `next` del último elemento de la copia de la primera lista al primer elemento de la copia de la segunda lista."
   ]
  },
  {
   "cell_type": "code",
   "execution_count": null,
   "metadata": {},
   "outputs": [],
   "source": [
    "%%writefile ./utils/student_function/PS05_05.py\n",
    "from PS05 import *\n",
    "class L5(L):\n",
    "    \n",
    "    def clone(self):\n",
    "        \n",
    "        return <... TU CODIGO AQUI ...>\n",
    "    \n",
    "    def __add__(self, M):\n",
    "        \n",
    "        return <... TU CODIGO AQUI ...>  \n",
    "        "
   ]
  },
  {
   "cell_type": "code",
   "execution_count": null,
   "metadata": {},
   "outputs": [],
   "source": [
    "import PS05_05 as st\n",
    "reload(st)\n",
    "from PS05 import * \n",
    "W = st.L5(Node(10, Node(20, Node(30))))\n",
    "Z = st.L5(Node(3, Node(2)))\n",
    "print W\n",
    "print Z\n",
    "print W + Z + st.L5() "
   ]
  },
  {
   "cell_type": "markdown",
   "metadata": {},
   "source": [
    "esto ahora debería de funcionar (recuerda que en las Notas correspondientes existía un problema)"
   ]
  },
  {
   "cell_type": "code",
   "execution_count": null,
   "metadata": {},
   "outputs": [],
   "source": [
    "X = W + Z + W\n",
    "print X"
   ]
  },
  {
   "cell_type": "markdown",
   "metadata": {},
   "source": [
    "#### comprueba tu código con el corrector automático"
   ]
  },
  {
   "cell_type": "code",
   "execution_count": null,
   "metadata": {},
   "outputs": [],
   "source": [
    "!./run CHECK_SOLUTION PS05_05"
   ]
  },
  {
   "cell_type": "markdown",
   "metadata": {},
   "source": [
    "#### registra tu solución en línea"
   ]
  },
  {
   "cell_type": "code",
   "execution_count": null,
   "metadata": {
    "scrolled": false
   },
   "outputs": [],
   "source": [
    "!./run SUBMIT_SOLUTION PS05_03"
   ]
  },
  {
   "cell_type": "code",
   "execution_count": null,
   "metadata": {},
   "outputs": [],
   "source": []
  },
  {
   "cell_type": "markdown",
   "metadata": {},
   "source": [
    "## Ejercicio 6\n",
    "\n",
    "Implementa la función de igualdad.\n",
    "\n",
    "**Sugerencia de implementación**: haz una función que recorra simultáneamente los nodos de ambas listas (`self` y `other`) y devuelva `False` en cuanto encuentre que el campo `value` de los dos nodos sea distinto (`!=`). Pon especial atención a que si `value` es a su vez una lista, el método será recursivo."
   ]
  },
  {
   "cell_type": "code",
   "execution_count": null,
   "metadata": {},
   "outputs": [],
   "source": [
    "%%writefile ./utils/student_function/PS05_06.py\n",
    "from PS05 import *\n",
    "class L6(L):\n",
    "    \n",
    "    def __eq__(self, other):\n",
    "        \n",
    "        return <... TU CODIGO AQUI ...>\n",
    "    \n",
    "    def __ne__(self, other):\n",
    "        return not self==other       "
   ]
  },
  {
   "cell_type": "code",
   "execution_count": null,
   "metadata": {},
   "outputs": [],
   "source": [
    "import PS05_06 as st\n",
    "from PS05 import *\n",
    "reload(st)\n",
    "W=st.L6(Node(10, Node(st.L6(Node(14, Node(15, Node(st.L6(Node(16, Node(17))))))), Node(20, Node(30)))))\n",
    "Z=st.L6(Node(10, Node(st.L6(Node(14, Node(15, Node(st.L6(Node(16, Node(17))))))), Node(20, Node(30)))))\n",
    "Y=st.L6(Node(10, Node(st.L6(Node(14, Node(15))), Node(20, Node(30)))))\n",
    "print W\n",
    "print Z\n",
    "print Y"
   ]
  },
  {
   "cell_type": "code",
   "execution_count": null,
   "metadata": {},
   "outputs": [],
   "source": [
    "print W==W\n",
    "print Z==Z\n",
    "print Y==Y\n",
    "print W==Z\n",
    "print W==Y\n",
    "print Y==Z"
   ]
  },
  {
   "cell_type": "markdown",
   "metadata": {},
   "source": [
    "#### comprueba tu código con el corrector automático"
   ]
  },
  {
   "cell_type": "code",
   "execution_count": null,
   "metadata": {},
   "outputs": [],
   "source": [
    "!./run CHECK_SOLUTION PS05_06"
   ]
  },
  {
   "cell_type": "markdown",
   "metadata": {},
   "source": [
    "#### registra tu solución en línea"
   ]
  },
  {
   "cell_type": "code",
   "execution_count": null,
   "metadata": {
    "scrolled": false
   },
   "outputs": [],
   "source": [
    "!./run SUBMIT_SOLUTION PS05_06"
   ]
  },
  {
   "cell_type": "code",
   "execution_count": null,
   "metadata": {},
   "outputs": [],
   "source": []
  },
  {
   "cell_type": "markdown",
   "metadata": {},
   "source": [
    "## Ejercicio 7\n",
    "\n",
    "Realiza una función que evalúe un `VarTerm` dado un diccionario `vals`. Asume que este diccionario contendrá un valor para la variable del término. Por ejemplo\n",
    "\n",
    "    > vals = {\"x\": 1, \"y\":2, \"z\": 3}\n",
    "    > vt = VarTerm(9,\"y\", 2)\n",
    "    > print vt, \"=\", evaluate_vterm(vt, vals)\n",
    "    9 y^2 = 36\n",
    "    \n",
    "    > vt = VarTerm(2,\"z\", 3)\n",
    "    > print vt, \"=\", evaluate_vterm(vt, vals)\n",
    "    2 z^3 = 54\n"
   ]
  },
  {
   "cell_type": "code",
   "execution_count": null,
   "metadata": {},
   "outputs": [],
   "source": [
    "%%writefile ./utils/student_function/PS05_07.py\n",
    "from IPython.display import Math\n",
    "\n",
    "class VarTerm():\n",
    "    def __init__(self, coef, var, exp=1):\n",
    "        assert (isinstance(coef, float) or isinstance(coef,int)) and \\\n",
    "                isinstance(exp, int) and isinstance(var, str) and len(var)==1\n",
    "        self.coef = coef\n",
    "        self.var  = var\n",
    "        self.exp  = exp\n",
    "        \n",
    "    def get_math_representation(self):\n",
    "        s = (\"%s\"%str(self.coef) if self.coef!=1 else \"\") +\\\n",
    "            (\" %s\"%self.var if self.exp==1 else (\" %s^%d\"%(self.var, self.exp) if self.exp!=0 else \"\")) \n",
    "        return s\n",
    "    \n",
    "    def __repr__(self):\n",
    "        return self.get_math_representation() \n",
    "        \n",
    "    def evaluate(self, vals):\n",
    "        return <... TU CODIGO AQUI ...>"
   ]
  },
  {
   "cell_type": "code",
   "execution_count": null,
   "metadata": {},
   "outputs": [],
   "source": [
    "import PS05_07 as st\n",
    "reload(st)\n",
    "\n",
    "vals = {\"x\": 1, \"y\":2, \"z\": 3}\n",
    "vt = st.VarTerm(9,\"y\", 2)\n",
    "print vt, \"=\", vt.evaluate(vals)\n",
    "vt = st.VarTerm(2,\"z\", 3)\n",
    "print vt, \"=\", vt.evaluate(vals)"
   ]
  },
  {
   "cell_type": "markdown",
   "metadata": {},
   "source": [
    "#### comprueba tu código con el corrector automático"
   ]
  },
  {
   "cell_type": "code",
   "execution_count": null,
   "metadata": {},
   "outputs": [],
   "source": [
    "!./run CHECK_SOLUTION PS05_07"
   ]
  },
  {
   "cell_type": "markdown",
   "metadata": {},
   "source": [
    "#### registra tu solución en línea"
   ]
  },
  {
   "cell_type": "code",
   "execution_count": null,
   "metadata": {
    "scrolled": false
   },
   "outputs": [],
   "source": [
    "!./run SUBMIT_SOLUTION PS05_07"
   ]
  },
  {
   "cell_type": "markdown",
   "metadata": {},
   "source": [
    "## Ejercicios de refuerzo (no obligatorios)\n",
    "\n",
    "- crea una función que evalúe un `VarPol`, según definido en las notas.\n",
    "- analiza la complejidad computacional de tus implementaciones\n",
    "- ¿Podrías enriqueces `Node` para mejorar la complejidad computacional?"
   ]
  },
  {
   "cell_type": "code",
   "execution_count": null,
   "metadata": {},
   "outputs": [],
   "source": []
  }
 ],
 "metadata": {
  "kernelspec": {
   "display_name": "Python 2",
   "language": "python",
   "name": "python2"
  },
  "language_info": {
   "codemirror_mode": {
    "name": "ipython",
    "version": 2
   },
   "file_extension": ".py",
   "mimetype": "text/x-python",
   "name": "python",
   "nbconvert_exporter": "python",
   "pygments_lexer": "ipython2",
   "version": "2.7.14"
  }
 },
 "nbformat": 4,
 "nbformat_minor": 2
}

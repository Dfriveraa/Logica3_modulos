{
 "cells": [
  {
   "cell_type": "code",
   "execution_count": null,
   "metadata": {},
   "outputs": [],
   "source": [
    "!pip install -q oauth2client==1.5.2\n",
    "import sys\n",
    "sys.path.append(\"./utils/student_function/\")\n",
    "from mooclib import *\n",
    "import inspect, urllib\n",
    "html, auth_code, userinfo = google_authenticate(PORT_NUMBER=8080)\n",
    "html"
   ]
  },
  {
   "cell_type": "markdown",
   "metadata": {},
   "source": [
    "## Ejercicio 1\n",
    "\n",
    "Una matriz diagonal 2D es aquella en la que cualquier elemento $m_{ij}=0 \\iff i \\ne j$.  Trataremos solamente con matrices cuadradas, es decir $\\in \\mathbb{R}^{n \\times n}$.\n",
    "\n",
    "Si asumimos que solo tenemos matrices cuadradas, podemos **almacenar solo la diagonal**.\n",
    "\n",
    "Completa la siguiente función para que, dado un array `numpy` de entrada:\n",
    "\n",
    "- Lance un `AssertionError` si no es cuadrado o no es diagonal\n",
    "- Devuelva un vector con las posiciones de almacenamiento de su diagonal, asumiendo una posición inicial y un tamaño de dato.\n",
    "\n",
    "Por ejemplo, para esta entrada:\n",
    "\n",
    "    [[ 1  0  0]\n",
    "     [ 0  3  0]\n",
    "     [ 0  0 -3]]\n",
    "\n",
    "con `init_pos=19` y `size=5`, la salida debería de ser:\n",
    "\n",
    "    [19, 24, 29]"
   ]
  },
  {
   "cell_type": "code",
   "execution_count": null,
   "metadata": {},
   "outputs": [],
   "source": [
    "%%writefile ./utils/student_function/PS04_01.py\n",
    "import numpy as np\n",
    "def diag_store(m, init_pos=0, size=4):\n",
    "    assert <... TU CODIGO AQUI ...>\n",
    "    return <... TU CODIGO AQUI ...>"
   ]
  },
  {
   "cell_type": "markdown",
   "metadata": {},
   "source": [
    "comprueba manualmente tu código"
   ]
  },
  {
   "cell_type": "code",
   "execution_count": null,
   "metadata": {},
   "outputs": [],
   "source": [
    "import PS04_01 as st\n",
    "reload(st)\n",
    "import numpy as np\n",
    "\n",
    "a = np.array([[1,0,0], [0,3,0], [0,0,-3]])\n",
    "print a\n",
    "st.diag_store(a, init_pos=19, size=5)\n"
   ]
  },
  {
   "cell_type": "markdown",
   "metadata": {},
   "source": [
    "#### comprueba tu código con el corrector automático"
   ]
  },
  {
   "cell_type": "code",
   "execution_count": null,
   "metadata": {},
   "outputs": [],
   "source": [
    "!./run CHECK_SOLUTION PS04_01"
   ]
  },
  {
   "cell_type": "markdown",
   "metadata": {},
   "source": [
    "#### registra tu solución en línea"
   ]
  },
  {
   "cell_type": "code",
   "execution_count": null,
   "metadata": {
    "scrolled": false
   },
   "outputs": [],
   "source": [
    "!./run SUBMIT_SOLUTION PS04_01"
   ]
  },
  {
   "cell_type": "markdown",
   "metadata": {},
   "source": [
    "## Ejercicio 2\n",
    "\n",
    "Una matriz triangular 2D es aquella en la que cualquier elemento $m_{ij}=0 \\iff i > j$, en donde $i$ son las filas y $j$ las columnas. Si asumimos que solamente trataremos con matrices cuadradas, es decir $\\in \\mathbb{R}^{n \\times n}$.\n",
    "\n",
    "Completa la siguiente función para que, dado un array `numpy` de entrada:\n",
    "\n",
    "- Lance un `AssertError` si no es cuadrado o no es triangular superior\n",
    "- Lance un `AssertError` si el parámetro `orientation` es distinto de `columns` o `rows`\n",
    "- Devuelva un vector con las posiciones de almacenamiento de sus elementos, asumiendo una posición inicial y un tamaño de dato.\n",
    "- Tenga en cuenta el parámetro `orientation` q\n",
    "\n",
    "Por ejemplo, para esta entrada:\n",
    "\n",
    "    [[ 1  0  0]\n",
    "     [ 0  3  0]\n",
    "     [ 0  0 -3]]\n",
    "\n",
    "con `init_pos=19` y `size=5`, la salida debería de ser:\n",
    "\n",
    "    [19 24 29 34 39 44]\n",
    "    \n",
    "observa que dada una matriz triangular superior $\\in \\mathbb{R}^{n\\times n }$, el número de elementos que hay que almacenar viene dado por:\n",
    "\n",
    "$$\\frac{n^2 - n}{2} + n$$\n",
    "\n",
    "ya que\n",
    "\n",
    "- $n^2$ es el número total de elementos de la matriz\n",
    "- $n^2-n$ es el número de elementos excluyendo la diagonal\n",
    "- $\\frac{n^2-n}{2}$ es el número de elementos de un triángulo (superior o inferion) excluyendo la diagonal\n",
    "- $\\frac{n^2 - n}{2} + n$ es el número de elementos de un triángulo incluyendo la diagonal"
   ]
  },
  {
   "cell_type": "code",
   "execution_count": null,
   "metadata": {},
   "outputs": [],
   "source": [
    "%%writefile ./utils/student_function/PS04_02.py\n",
    "import numpy as np\n",
    "def triang_store(m, init_pos=0, size=4, orientation=\"columns\"):\n",
    "    assert <... TU CODIGO AQUI ...>\n",
    "    return <... TU CODIGO AQUI ...>"
   ]
  },
  {
   "cell_type": "markdown",
   "metadata": {},
   "source": [
    "comprueba manualmente tu código"
   ]
  },
  {
   "cell_type": "code",
   "execution_count": null,
   "metadata": {},
   "outputs": [],
   "source": [
    "import PS04_02 as st\n",
    "reload(st)\n",
    "import numpy as np\n",
    "a = np.array([[1,0,3], [0,3,1], [0,0,-3]])\n",
    "print a\n",
    "print st.triang_store(a, init_pos=19, size=5)"
   ]
  },
  {
   "cell_type": "markdown",
   "metadata": {},
   "source": [
    "#### comprueba tu código con el corrector automático"
   ]
  },
  {
   "cell_type": "code",
   "execution_count": null,
   "metadata": {},
   "outputs": [],
   "source": [
    "!./run CHECK_SOLUTION PS04_02"
   ]
  },
  {
   "cell_type": "markdown",
   "metadata": {},
   "source": [
    "#### registra tu solución en línea"
   ]
  },
  {
   "cell_type": "code",
   "execution_count": null,
   "metadata": {
    "scrolled": false
   },
   "outputs": [],
   "source": [
    "!./run SUBMIT_SOLUTION PS04_02"
   ]
  },
  {
   "cell_type": "markdown",
   "metadata": {},
   "source": [
    "## Ejercicio 3\n",
    "\n",
    "Dado:\n",
    "\n",
    "- una especificación de dimensiones de un array $(d_0, d_1, ... d_{n-1})$ de $n$ dimensiones \n",
    "- una especificación de orden de almacenamiento $\\mathbb{P}[0,1,..,n-1]$ (una permutación de los elementos del $0$ a $n-1$)\n",
    "- una dirección de memoria de base (de inicio)\n",
    "- un tamaño de dato\n",
    "\n",
    "\n",
    "obtén la matriz de posiciones de memoria de cualquier array de tales dimensiones. **Tu salida ha de ser un array de `numpy`**\n",
    "\n",
    "Por ejemplo, para\n",
    "\n",
    "    dims = [2,2,2]\n",
    "    order = [0,1,2]\n",
    "\n",
    "la salida ha de ser\n",
    "\n",
    "    [[[ 0 16]\n",
    "      [ 8 24]]\n",
    "\n",
    "     [[ 4 20]\n",
    "      [12 28]]]\n",
    "      \n",
    "y para \n",
    "\n",
    "    dims = [2,3,4]\n",
    "    order = [2,1,0]\n",
    "\n",
    "la salida ha de ser\n",
    "\n",
    "    [[[ 0  4  8 12]\n",
    "      [16 20 24 28]\n",
    "      [32 36 40 44]]\n",
    "\n",
    "     [[48 52 56 60]\n",
    "      [64 68 72 76]\n",
    "      [80 84 88 92]]]\n",
    "      \n",
    "      \n",
    "**Sugerencia**: usa la siguiente estrategia de implementación\n",
    "\n",
    "1. Genera todas las posibles coordenadas de la matriz correspondiente a `dims`. Con esto deberías de generar un array de dimensiones $(\\prod d_i)\\times n$\n",
    "2. Usa [`pandas.sort_values`](https://pandas.pydata.org/pandas-docs/stable/generated/pandas.DataFrame.sort_values.html) para ordenar todas las posibles coordenadas según `order` (usa el parámetro `by`)\n",
    "3. El dataframe generado anteriormente contiene en orden en el que se almacenarían en memoria los elementos de la matriz original según la especificación en `dims` y en  `order`\n",
    "4. Genera una matriz de ceroz de tamaños `dims` y recorre secuencialmente el dataframe anterior actualizando cada coordenada."
   ]
  },
  {
   "cell_type": "code",
   "execution_count": null,
   "metadata": {},
   "outputs": [],
   "source": [
    "%%writefile ./utils/student_function/PS04_03.py\n",
    "import pandas as pd\n",
    "import numpy as np\n",
    "import itertools\n",
    "\n",
    "def get_storage_positions(dims, order, size, init_pos=0):\n",
    "    \n",
    "    \n",
    "    return <... TU CODIGO AQUI ...>"
   ]
  },
  {
   "cell_type": "code",
   "execution_count": null,
   "metadata": {},
   "outputs": [],
   "source": [
    "import PS04_03 as st\n",
    "reload(st)\n",
    "print st.get_storage_positions(dims = [2,3,4], order = [0,1,2], size=4)\n",
    "print \"--\"\n",
    "print st.get_storage_positions(dims = [2,3,4], order = [2,1,0], size=4)\n",
    "print \"--\"\n",
    "print st.get_storage_positions(dims = [2,2,2], order = [0,1,2], size=4)\n",
    "print \"--\"\n",
    "print st.get_storage_positions(dims = [2,2,2], order = [2,1,0], size=4)"
   ]
  },
  {
   "cell_type": "markdown",
   "metadata": {},
   "source": [
    "#### comprueba tu código con el corrector automático"
   ]
  },
  {
   "cell_type": "code",
   "execution_count": null,
   "metadata": {},
   "outputs": [],
   "source": [
    "!./run CHECK_SOLUTION PS04_03"
   ]
  },
  {
   "cell_type": "markdown",
   "metadata": {},
   "source": [
    "#### registra tu solución en línea"
   ]
  },
  {
   "cell_type": "code",
   "execution_count": null,
   "metadata": {
    "scrolled": false
   },
   "outputs": [],
   "source": [
    "!./run SUBMIT_SOLUTION PS04_03"
   ]
  },
  {
   "cell_type": "markdown",
   "metadata": {},
   "source": [
    "## Ejercicio 4\n",
    "\n",
    "Dado un array de posiciones en memoria de $n$ dimensiones queremos descubrir qué ordenación tiene en memoria. Este ejercicio es el inverso del anterior.\n",
    "\n",
    "Por ejemplo, dada la siguiente matriz de entrada\n",
    "\n",
    "\n",
    "    [[[ 0  4  8 12]\n",
    "      [16 20 24 28]\n",
    "      [32 36 40 44]]\n",
    "\n",
    "     [[48 52 56 60]\n",
    "      [64 68 72 76]\n",
    "      [80 84 88 92]]]\n",
    "      \n",
    "tu función ha de devolver la tupla \n",
    "\n",
    "    [2,1,0]\n",
    "    \n",
    "o con la siguiente matriz:\n",
    "\n",
    "    [[[ 0  4  8 12]\n",
    "      [32 36 40 44]\n",
    "      [64 68 72 76]]\n",
    "\n",
    "     [[16 20 24 28]\n",
    "      [48 52 56 60]\n",
    "      [80 84 88 92]]]\n",
    "      \n",
    "ha de devolver la tupla\n",
    "\n",
    "    [2,0,1]\n",
    "    \n",
    "Sugerencia de implementación: para resolver este problema tienes que fijarte en el incremento en cada eje. Por ejemplo, fíjate en los dos primeros elementos de cada eje en la última matriz. Observa como el primer eje es el 2, el segundo el 0 y el último el 1."
   ]
  },
  {
   "cell_type": "code",
   "execution_count": null,
   "metadata": {},
   "outputs": [],
   "source": [
    "import numpy as np\n",
    "r = np.array([[[ 0,  4,  8, 12],\n",
    "        [32, 36, 40, 44],\n",
    "        [64, 68, 72, 76]],\n",
    "\n",
    "       [[16, 20, 24, 28],\n",
    "        [48, 52, 56, 60],\n",
    "        [80, 84, 88, 92]]])\n",
    "\n",
    "print r[:2,0,0]\n",
    "print r[0,:2,0]\n",
    "print r[0,0,:2]"
   ]
  },
  {
   "cell_type": "code",
   "execution_count": null,
   "metadata": {},
   "outputs": [],
   "source": [
    "ndims = 3\n",
    "r = np.random.randint(100, size=[2]*ndims)\n",
    "print r\n",
    "mis_slices = [slice(0,2,None)]+[0]*(ndims-1)\n",
    "print \"--\"\n",
    "print r[mis_slices]"
   ]
  },
  {
   "cell_type": "code",
   "execution_count": null,
   "metadata": {},
   "outputs": [],
   "source": [
    "r[:2,0,0]"
   ]
  },
  {
   "cell_type": "markdown",
   "metadata": {},
   "source": [
    "por tanto te sugiero una implementación en la que:\n",
    "    \n",
    "1. Hagas un bucle por el número de dimensiones\n",
    "2. Para cada dimensión generes una lista de `slices` equivalentes a la notación de indexado anterior\n",
    "3. Obtengas los dos primeros elementos de cada eje\n",
    "4. Ordenes los ejes por la diferencia entre esos dos elementos\n",
    "\n",
    "quizá la función [`np.argsort`](https://docs.scipy.org/doc/numpy/reference/generated/numpy.argsort.html) pueda serte de ayuda"
   ]
  },
  {
   "cell_type": "code",
   "execution_count": null,
   "metadata": {},
   "outputs": [],
   "source": [
    "%%writefile ./utils/student_function/PS04_04.py\n",
    "import numpy as np\n",
    "\n",
    "def get_storage_order(r):\n",
    "    \n",
    "    \n",
    "    return <... TU CODIGO AQUI ...>\n"
   ]
  },
  {
   "cell_type": "markdown",
   "metadata": {},
   "source": [
    "comprueba manualmente tu código"
   ]
  },
  {
   "cell_type": "code",
   "execution_count": null,
   "metadata": {},
   "outputs": [],
   "source": [
    "import PS04_04 as st\n",
    "reload(st)\n",
    "r = np.array([[[ 0,  4,  8, 12],\n",
    "        [32, 36, 40, 44],\n",
    "        [64, 68, 72, 76]],\n",
    "\n",
    "       [[16, 20, 24, 28],\n",
    "        [48, 52, 56, 60],\n",
    "        [80, 84, 88, 92]]])\n",
    "\n",
    "st.get_storage_order(r)"
   ]
  },
  {
   "cell_type": "markdown",
   "metadata": {},
   "source": [
    "#### comprueba tu código con el corrector automático"
   ]
  },
  {
   "cell_type": "code",
   "execution_count": null,
   "metadata": {
    "scrolled": true
   },
   "outputs": [],
   "source": [
    "!./run CHECK_SOLUTION PS04_04"
   ]
  },
  {
   "cell_type": "markdown",
   "metadata": {},
   "source": [
    "#### registra tu solución en línea"
   ]
  },
  {
   "cell_type": "code",
   "execution_count": null,
   "metadata": {
    "scrolled": false
   },
   "outputs": [],
   "source": [
    "!./run SUBMIT_SOLUTION PS04_04"
   ]
  }
 ],
 "metadata": {
  "kernelspec": {
   "display_name": "Python 2",
   "language": "python",
   "name": "python2"
  },
  "language_info": {
   "codemirror_mode": {
    "name": "ipython",
    "version": 2
   },
   "file_extension": ".py",
   "mimetype": "text/x-python",
   "name": "python",
   "nbconvert_exporter": "python",
   "pygments_lexer": "ipython2",
   "version": "2.7.14"
  }
 },
 "nbformat": 4,
 "nbformat_minor": 2
}

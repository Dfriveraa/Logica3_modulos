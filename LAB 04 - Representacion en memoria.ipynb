{
 "cells": [
  {
   "cell_type": "code",
   "execution_count": 3,
   "metadata": {
    "colab": {
     "base_uri": "https://localhost:8080/",
     "height": 385
    },
    "colab_type": "code",
    "executionInfo": {
     "elapsed": 4066,
     "status": "error",
     "timestamp": 1535325347736,
     "user": {
      "displayName": "DANIEL FELIPE RIVERA ARROYAVE",
      "photoUrl": "//lh3.googleusercontent.com/-wIJFN6ADFV8/AAAAAAAAAAI/AAAAAAAAAGU/qijBS-KpfmY/s50-c-k-no/photo.jpg",
      "userId": "107960807606835866040"
     },
     "user_tz": 300
    },
    "id": "xWE4CzjphVk6",
    "outputId": "ae546b4b-fbac-4ae6-c2e8-fb6a623fdcee"
   },
   "outputs": [
    {
     "name": "stdout",
     "output_type": "stream",
     "text": [
      "CLICK ON THIS LINK TO AUTHENTICATE WITH YOUR GMAIL ACCOUNT\n",
      "https://accounts.google.com/o/oauth2/auth?scope=profile+email&redirect_uri=http%3A%2F%2Flocalhost%3A8080&response_type=code&client_id=486275613361-7nk9ktukfcfjevfoe3tamjp0pmbjmprs.apps.googleusercontent.com&access_type=offline\n",
      "waiting for authentication ...\n",
      "authentication succeeded\n"
     ]
    },
    {
     "data": {
      "text/html": [
       "<table><tr><td><img src='https://lh3.googleusercontent.com/-wIJFN6ADFV8/AAAAAAAAAAI/AAAAAAAAAGU/qijBS-KpfmY/photo.jpg' width=60 height=60/></td><td>daniel.riveraa@udea.edu.co<br/>DANIEL   FELIPE RIVERA ARROYAVE<br/>google id: 107960807606835866040<br/>authorization code: 4/SQBp4DOyVFvYqQAiY3LR2lEXIPs2fsnH89mvzESpPYVSUT98sahS2QeJ-8IBCuYGQ-WgvHajMzSY5s-qBWmxgMA</td></tr></table>"
      ],
      "text/plain": [
       "<IPython.core.display.HTML object>"
      ]
     },
     "execution_count": 3,
     "metadata": {},
     "output_type": "execute_result"
    }
   ],
   "source": [
    "!pip install -q oauth2client==1.5.2\n",
    "import sys\n",
    "sys.path.append(\"./utils/student_function/\")\n",
    "from mooclib import *\n",
    "import inspect, urllib\n",
    "html, auth_code, userinfo = google_authenticate(PORT_NUMBER=8080)\n",
    "html"
   ]
  },
  {
   "cell_type": "markdown",
   "metadata": {
    "colab_type": "text",
    "id": "2jDQYMi-hVlX"
   },
   "source": [
    "## Ejercicio 1\n",
    "\n",
    "Una matriz diagonal 2D es aquella en la que cualquier elemento $m_{ij}=0 \\iff i \\ne j$.  Trataremos solamente con matrices cuadradas, es decir $\\in \\mathbb{R}^{n \\times n}$.\n",
    "\n",
    "Si asumimos que solo tenemos matrices cuadradas, podemos **almacenar solo la diagonal**.\n",
    "\n",
    "Completa la siguiente función para que, dado un array `numpy` de entrada:\n",
    "\n",
    "- Lance un `AssertionError` si no es cuadrado o no es diagonal\n",
    "- Devuelva un vector con las posiciones de almacenamiento de su diagonal, asumiendo una posición inicial y un tamaño de dato.\n",
    "\n",
    "Por ejemplo, para esta entrada:\n",
    "\n",
    "    [[ 1  0  0]\n",
    "     [ 0  3  0]\n",
    "     [ 0  0 -3]]\n",
    "\n",
    "con `init_pos=19` y `size=5`, la salida debería de ser:\n",
    "\n",
    "    [19, 24, 29]"
   ]
  },
  {
   "cell_type": "code",
   "execution_count": 0,
   "metadata": {
    "colab": {},
    "colab_type": "code",
    "id": "mkgWh8fGhVla",
    "outputId": "dca26d48-1ba4-4336-bfe7-4420b2f87996"
   },
   "outputs": [
    {
     "name": "stdout",
     "output_type": "stream",
     "text": [
      "[19, 24, 29, 29]\n"
     ]
    }
   ],
   "source": [
    "import numpy as np\n",
    "a = np.array([[1,2,4], [5,3,6], [7,8,-3]])\n",
    "b=[19]\n",
    "for i in range(a.shape[0]-1):\n",
    "    for j in range(a.shape[0]-1):\n",
    "        if i=j:\n",
    "            b+=[b[i]+5]\n",
    "print b"
   ]
  },
  {
   "cell_type": "code",
   "execution_count": 0,
   "metadata": {
    "colab": {},
    "colab_type": "code",
    "id": "fiCzxm_QhVlo",
    "outputId": "3da5705c-660c-4485-94ea-607ecf03abf6"
   },
   "outputs": [
    {
     "name": "stdout",
     "output_type": "stream",
     "text": [
      "Overwriting ./utils/student_function/PS04_01.py\n"
     ]
    }
   ],
   "source": [
    "%%writefile ./utils/student_function/PS04_01.py\n",
    "import numpy as np\n",
    "def diag_store(a, init_pos=0, size=4):\n",
    "    assert (a.shape[0]==a.shape[1]) and (np.array_equal(a,np.diag(np.diag(a))))\n",
    "    b=[init_pos]\n",
    "    for i in range(a.shape[0]-1):\n",
    "        for j in range(a.shape[0]-1):\n",
    "            if i==j:\n",
    "                b+=[b[i]+size]\n",
    "    return b"
   ]
  },
  {
   "cell_type": "markdown",
   "metadata": {
    "colab_type": "text",
    "id": "V_rqfPgthVl3"
   },
   "source": [
    "comprueba manualmente tu código"
   ]
  },
  {
   "cell_type": "code",
   "execution_count": 0,
   "metadata": {
    "colab": {},
    "colab_type": "code",
    "id": "1Fr8ZDEWhVl4",
    "outputId": "ee3db8d8-4a85-4490-9e7d-abdb42cef018"
   },
   "outputs": [
    {
     "name": "stdout",
     "output_type": "stream",
     "text": [
      "[[ 1  0  0]\n",
      " [ 0  3  0]\n",
      " [ 0  0 -3]]\n"
     ]
    },
    {
     "data": {
      "text/plain": [
       "[19, 24, 29]"
      ]
     },
     "execution_count": 58,
     "metadata": {
      "tags": []
     },
     "output_type": "execute_result"
    }
   ],
   "source": [
    "import PS04_01 as st\n",
    "reload(st)\n",
    "import numpy as np\n",
    "\n",
    "a = np.array([[1,0,0], [0,3,0], [0,0,-3]])\n",
    "print a\n",
    "st.diag_store(a, init_pos=19, size=5)\n"
   ]
  },
  {
   "cell_type": "markdown",
   "metadata": {
    "colab_type": "text",
    "id": "mhAPC7PehVmH"
   },
   "source": [
    "#### comprueba tu código con el corrector automático"
   ]
  },
  {
   "cell_type": "code",
   "execution_count": 0,
   "metadata": {
    "colab": {},
    "colab_type": "code",
    "id": "gb92dtKYhVmK",
    "outputId": "967072a0-0182-49c5-b315-61f7dfa4e4d8"
   },
   "outputs": [
    {
     "name": "stdout",
     "output_type": "stream",
     "text": [
      "checking your code with 100 random calls\n",
      "** CORRECTO **\n",
      "evaluation result 5.0 \n"
     ]
    }
   ],
   "source": [
    "!./run CHECK_SOLUTION PS04_01"
   ]
  },
  {
   "cell_type": "markdown",
   "metadata": {
    "colab_type": "text",
    "id": "Af9FM5duhVmZ"
   },
   "source": [
    "#### registra tu solución en línea"
   ]
  },
  {
   "cell_type": "code",
   "execution_count": 4,
   "metadata": {
    "colab": {},
    "colab_type": "code",
    "id": "6uQYxaULhVmd",
    "outputId": "514a510b-cf8f-4213-d30f-f9f3a9a28fe9"
   },
   "outputs": [
    {
     "name": "stdout",
     "output_type": "stream",
     "text": [
      "connecting ... registering submission for daniel.riveraa@udea.edu.co ...\n",
      "no config found for section PS04, allowing all submissions\n",
      "checking your code with 100 random calls\n",
      "** CORRECTO **\n",
      "your submissions sheet is https://docs.google.com/spreadsheets/d/1QjA5eGBEkEfHxuQDJaqn7YQXH-ECIalATeOgF8dw-nU\n",
      "----\n",
      "evaluation result 5.0 , submission registered\n"
     ]
    }
   ],
   "source": [
    "!./run SUBMIT_SOLUTION PS04_01"
   ]
  },
  {
   "cell_type": "markdown",
   "metadata": {
    "colab_type": "text",
    "id": "tGwJtykxhVmr"
   },
   "source": [
    "## Ejercicio 2\n",
    "\n",
    "Una matriz triangular 2D es aquella en la que cualquier elemento $m_{ij}=0 \\iff i > j$, en donde $i$ son las filas y $j$ las columnas. Si asumimos que solamente trataremos con matrices cuadradas, es decir $\\in \\mathbb{R}^{n \\times n}$.\n",
    "\n",
    "Completa la siguiente función para que, dado un array `numpy` de entrada:\n",
    "\n",
    "- Lance un `AssertError` si no es cuadrado o no es triangular superior\n",
    "- Lance un `AssertError` si el parámetro `orientation` es distinto de `columns` o `rows`\n",
    "- Devuelva un vector con las posiciones de almacenamiento de sus elementos, asumiendo una posición inicial y un tamaño de dato.\n",
    "- Tenga en cuenta el parámetro `orientation` q\n",
    "\n",
    "Por ejemplo, para esta entrada:\n",
    "\n",
    "    [[ 1  2  6]\n",
    "     [ 0  3  4]\n",
    "     [ 0  0 -3]]\n",
    "\n",
    "con `init_pos=19` y `size=5`, la salida debería de ser:\n",
    "\n",
    "    [19 24 29 34 39 44]\n",
    "    \n",
    "observa que dada una matriz triangular superior $\\in \\mathbb{R}^{n\\times n }$, el número de elementos que hay que almacenar viene dado por:\n",
    "\n",
    "$$\\frac{n^2 - n}{2} + n$$\n",
    "\n",
    "ya que\n",
    "\n",
    "- $n^2$ es el número total de elementos de la matriz\n",
    "- $n^2-n$ es el número de elementos excluyendo la diagonal\n",
    "- $\\frac{n^2-n}{2}$ es el número de elementos de un triángulo (superior o inferion) excluyendo la diagonal\n",
    "- $\\frac{n^2 - n}{2} + n$ es el número de elementos de un triángulo incluyendo la diagonal"
   ]
  },
  {
   "cell_type": "code",
   "execution_count": 0,
   "metadata": {
    "colab": {},
    "colab_type": "code",
    "id": "6DAvkk-bhVmt",
    "outputId": "9a8ce5fc-3f6b-4b42-ca1a-73819c494249"
   },
   "outputs": [
    {
     "name": "stdout",
     "output_type": "stream",
     "text": [
      "Overwriting ./utils/student_function/PS04_02.py\n"
     ]
    }
   ],
   "source": [
    "%%writefile ./utils/student_function/PS04_02.py\n",
    "import numpy as np\n",
    "def triang_store(m, init_pos=0, size=4, orientation=\"columns\"):\n",
    "    assert (m.shape[0]==m.shape[1]) \n",
    "    a=True\n",
    "    for i in range (m.shape[0]-1):\n",
    "        for j in range(m.shape[1]-1):\n",
    "            if (i>j) and (m[i][j]!=0):\n",
    "                a=False\n",
    "    assert (a==True),\"No es triangular\"\n",
    "    assert (orientation==\"columns\" or orientation==\"rows\")\n",
    "    b=[init_pos]\n",
    "    \n",
    "    for i in range (m.shape[0]):\n",
    "        for j in range(m.shape[1]-1):\n",
    "            if (m[i][j]!=0):\n",
    "                b+=[b[-1]+size]                    \n",
    "            \n",
    "    return b"
   ]
  },
  {
   "cell_type": "code",
   "execution_count": 5,
   "metadata": {},
   "outputs": [
    {
     "name": "stdout",
     "output_type": "stream",
     "text": [
      "Overwriting ./utils/student_function/PS04_02.py\n"
     ]
    }
   ],
   "source": [
    "%%writefile ./utils/student_function/PS04_02.py\n",
    "import numpy as np\n",
    "def triang_store(m, init_pos=0, size=4, orientation=\"columns\"):\n",
    "    assert m.shape[0] == m.shape[1]\n",
    "    assert np.allclose(m, np.triu(m)) == True\n",
    "    \n",
    "    if orientation != \"columns\" and orientation != \"rows\":\n",
    "        raise AssertionError()\n",
    "        \n",
    "    diagonal = np.diagonal(m)\n",
    "    \n",
    "    triang_storage_size = ((diagonal.size*diagonal.size)-diagonal.size)/2 + diagonal.size\n",
    "    diagonal_storage = np.zeros(triang_storage_size)\n",
    "    diagonal_storage[0] = init_pos\n",
    "    \n",
    "    i=1\n",
    "\n",
    "    while i < triang_storage_size:\n",
    "        diagonal_storage[i] = diagonal_storage[i-1] + size\n",
    "        i+=1\n",
    "\n",
    "    \n",
    "    return diagonal_storage"
   ]
  },
  {
   "cell_type": "markdown",
   "metadata": {
    "colab_type": "text",
    "id": "fZ7Wz-VNhVm5"
   },
   "source": [
    "comprueba manualmente tu código"
   ]
  },
  {
   "cell_type": "code",
   "execution_count": 6,
   "metadata": {
    "colab": {},
    "colab_type": "code",
    "id": "nTKaBebAhVm6",
    "outputId": "b40f339d-d3cb-4c73-8840-29767891ca2a"
   },
   "outputs": [
    {
     "name": "stdout",
     "output_type": "stream",
     "text": [
      "[[ 1  4  3]\n",
      " [ 0  3  1]\n",
      " [ 0  0 -3]]\n",
      "[ 19.  24.  29.  34.  39.  44.]\n"
     ]
    }
   ],
   "source": [
    "import PS04_02 as st\n",
    "reload(st)\n",
    "import numpy as np\n",
    "a = np.array([[1,4,3], [0,3,1], [0,0,-3]])\n",
    "print a\n",
    "print st.triang_store(a, init_pos=19, size=5)"
   ]
  },
  {
   "cell_type": "markdown",
   "metadata": {
    "colab_type": "text",
    "id": "JnEsPtvmhVnU"
   },
   "source": [
    "#### comprueba tu código con el corrector automático"
   ]
  },
  {
   "cell_type": "code",
   "execution_count": 7,
   "metadata": {
    "colab": {},
    "colab_type": "code",
    "id": "gjoVEzZlhVnV",
    "outputId": "eefd79a7-5117-4297-f4e5-e5d274c299fc"
   },
   "outputs": [
    {
     "name": "stdout",
     "output_type": "stream",
     "text": [
      "checking your code with 100 random calls\n",
      "** CORRECTO **\n",
      "evaluation result 5.0 \n"
     ]
    }
   ],
   "source": [
    "!./run CHECK_SOLUTION PS04_02"
   ]
  },
  {
   "cell_type": "markdown",
   "metadata": {
    "colab_type": "text",
    "id": "atUL51LGhVnd"
   },
   "source": [
    "#### registra tu solución en línea"
   ]
  },
  {
   "cell_type": "code",
   "execution_count": 8,
   "metadata": {
    "colab": {},
    "colab_type": "code",
    "id": "3s3LgmyQhVne"
   },
   "outputs": [
    {
     "name": "stdout",
     "output_type": "stream",
     "text": [
      "connecting ... registering submission for daniel.riveraa@udea.edu.co ...\n",
      "no config found for section PS04, allowing all submissions\n",
      "checking your code with 100 random calls\n",
      "** CORRECTO **\n",
      "your submissions sheet is https://docs.google.com/spreadsheets/d/1QjA5eGBEkEfHxuQDJaqn7YQXH-ECIalATeOgF8dw-nU\n",
      "----\n",
      "evaluation result 5.0 , submission registered\n"
     ]
    }
   ],
   "source": [
    "!./run SUBMIT_SOLUTION PS04_02"
   ]
  },
  {
   "cell_type": "markdown",
   "metadata": {
    "colab_type": "text",
    "id": "eHpMKSN2hVnh"
   },
   "source": [
    "## Ejercicio 3\n",
    "\n",
    "Dado:\n",
    "\n",
    "- una especificación de dimensiones de un array $(d_0, d_1, ... d_{n-1})$ de $n$ dimensiones \n",
    "- una especificación de orden de almacenamiento $\\mathbb{P}[0,1,..,n-1]$ (una permutación de los elementos del $0$ a $n-1$)\n",
    "- una dirección de memoria de base (de inicio)\n",
    "- un tamaño de dato\n",
    "\n",
    "\n",
    "obtén la matriz de posiciones de memoria de cualquier array de tales dimensiones. **Tu salida ha de ser un array de `numpy`**\n",
    "\n",
    "Por ejemplo, para\n",
    "\n",
    "    dims = [2,2,2]\n",
    "    order = [0,1,2]\n",
    "\n",
    "la salida ha de ser\n",
    "\n",
    "    [[[ 0 16]\n",
    "      [ 8 24]]\n",
    "\n",
    "     [[ 4 20]\n",
    "      [12 28]]]\n",
    "      \n",
    "y para \n",
    "\n",
    "    dims = [2,3,4]\n",
    "    order = [2,1,0]\n",
    "\n",
    "la salida ha de ser\n",
    "\n",
    "    [[[ 0  4  8 12]\n",
    "      [16 20 24 28]\n",
    "      [32 36 40 44]]\n",
    "\n",
    "     [[48 52 56 60]\n",
    "      [64 68 72 76]\n",
    "      [80 84 88 92]]]\n",
    "      \n",
    "      \n",
    "**Sugerencia**: usa la siguiente estrategia de implementación\n",
    "\n",
    "1. Genera todas las posibles coordenadas de la matriz correspondiente a `dims`. Con esto deberías de generar un array de dimensiones $(\\prod d_i)\\times n$\n",
    "2. Usa [`pandas.sort_values`](https://pandas.pydata.org/pandas-docs/stable/generated/pandas.DataFrame.sort_values.html) para ordenar todas las posibles coordenadas según `order` (usa el parámetro `by`)\n",
    "3. El dataframe generado anteriormente contiene en orden en el que se almacenarían en memoria los elementos de la matriz original según la especificación en `dims` y en  `order`\n",
    "4. Genera una matriz de ceroz de tamaños `dims` y recorre secuencialmente el dataframe anterior actualizando cada coordenada."
   ]
  },
  {
   "cell_type": "code",
   "execution_count": 0,
   "metadata": {
    "colab": {},
    "colab_type": "code",
    "id": "FEOKGUkvhVnh"
   },
   "outputs": [],
   "source": [
    "%%writefile ./utils/student_function/PS04_03.py\n",
    "import pandas as pd\n",
    "import numpy as np\n",
    "import itertools\n",
    "\n",
    "def get_storage_positions(dims, order, size, init_pos=0):\n",
    "    \n",
    "    \n",
    "    return <... TU CODIGO AQUI ...>"
   ]
  },
  {
   "cell_type": "code",
   "execution_count": 0,
   "metadata": {
    "colab": {},
    "colab_type": "code",
    "id": "a_yuoVu0hVnl"
   },
   "outputs": [],
   "source": [
    "import PS04_03 as st\n",
    "reload(st)\n",
    "print st.get_storage_positions(dims = [2,3,4], order = [0,1,2], size=4)\n",
    "print \"--\"\n",
    "print st.get_storage_positions(dims = [2,3,4], order = [2,1,0], size=4)\n",
    "print \"--\"\n",
    "print st.get_storage_positions(dims = [2,2,2], order = [0,1,2], size=4)\n",
    "print \"--\"\n",
    "print st.get_storage_positions(dims = [2,2,2], order = [2,1,0], size=4)"
   ]
  },
  {
   "cell_type": "markdown",
   "metadata": {
    "colab_type": "text",
    "id": "LdRnFpxnhVno"
   },
   "source": [
    "#### comprueba tu código con el corrector automático"
   ]
  },
  {
   "cell_type": "code",
   "execution_count": 0,
   "metadata": {
    "colab": {},
    "colab_type": "code",
    "id": "iigjbXCOhVnq"
   },
   "outputs": [],
   "source": [
    "!./run CHECK_SOLUTION PS04_03"
   ]
  },
  {
   "cell_type": "markdown",
   "metadata": {
    "colab_type": "text",
    "id": "iCK1iLothVnt"
   },
   "source": [
    "#### registra tu solución en línea"
   ]
  },
  {
   "cell_type": "code",
   "execution_count": 0,
   "metadata": {
    "colab": {},
    "colab_type": "code",
    "id": "HYCFRVvHhVnw"
   },
   "outputs": [],
   "source": [
    "!./run SUBMIT_SOLUTION PS04_03"
   ]
  },
  {
   "cell_type": "markdown",
   "metadata": {
    "colab_type": "text",
    "id": "3Ew-qn11hVn2"
   },
   "source": [
    "## Ejercicio 4\n",
    "\n",
    "Dado un array de posiciones en memoria de $n$ dimensiones queremos descubrir qué ordenación tiene en memoria. Este ejercicio es el inverso del anterior.\n",
    "\n",
    "Por ejemplo, dada la siguiente matriz de entrada\n",
    "\n",
    "\n",
    "    [[[ 0  4  8 12]\n",
    "      [16 20 24 28]\n",
    "      [32 36 40 44]]\n",
    "\n",
    "     [[48 52 56 60]\n",
    "      [64 68 72 76]\n",
    "      [80 84 88 92]]]\n",
    "      \n",
    "tu función ha de devolver la tupla \n",
    "\n",
    "    [2,1,0]\n",
    "    \n",
    "o con la siguiente matriz:\n",
    "\n",
    "    [[[ 0  4  8 12]\n",
    "      [32 36 40 44]\n",
    "      [64 68 72 76]]\n",
    "\n",
    "     [[16 20 24 28]\n",
    "      [48 52 56 60]\n",
    "      [80 84 88 92]]]\n",
    "      \n",
    "ha de devolver la tupla\n",
    "\n",
    "    [2,0,1]\n",
    "    \n",
    "Sugerencia de implementación: para resolver este problema tienes que fijarte en el incremento en cada eje. Por ejemplo, fíjate en los dos primeros elementos de cada eje en la última matriz. Observa como el primer eje es el 2, el segundo el 0 y el último el 1."
   ]
  },
  {
   "cell_type": "code",
   "execution_count": 0,
   "metadata": {
    "colab": {},
    "colab_type": "code",
    "id": "c5AdAA2lhVn4"
   },
   "outputs": [],
   "source": [
    "import numpy as np\n",
    "r = np.array([[[ 0,  4,  8, 12],\n",
    "        [32, 36, 40, 44],\n",
    "        [64, 68, 72, 76]],\n",
    "\n",
    "       [[16, 20, 24, 28],\n",
    "        [48, 52, 56, 60],\n",
    "        [80, 84, 88, 92]]])\n",
    "\n",
    "print r[:2,0,0]\n",
    "print r[0,:2,0]\n",
    "print r[0,0,:2]"
   ]
  },
  {
   "cell_type": "code",
   "execution_count": 0,
   "metadata": {
    "colab": {},
    "colab_type": "code",
    "id": "E9Ucto9xhVn7"
   },
   "outputs": [],
   "source": [
    "ndims = 3\n",
    "r = np.random.randint(100, size=[2]*ndims)\n",
    "print r\n",
    "mis_slices = [slice(0,2,None)]+[0]*(ndims-1)\n",
    "print \"--\"\n",
    "print r[mis_slices]"
   ]
  },
  {
   "cell_type": "code",
   "execution_count": 0,
   "metadata": {
    "colab": {},
    "colab_type": "code",
    "id": "O_YGGslQhVn-"
   },
   "outputs": [],
   "source": [
    "r[:2,0,0]"
   ]
  },
  {
   "cell_type": "markdown",
   "metadata": {
    "colab_type": "text",
    "id": "_m76OpvKhVn_"
   },
   "source": [
    "por tanto te sugiero una implementación en la que:\n",
    "    \n",
    "1. Hagas un bucle por el número de dimensiones\n",
    "2. Para cada dimensión generes una lista de `slices` equivalentes a la notación de indexado anterior\n",
    "3. Obtengas los dos primeros elementos de cada eje\n",
    "4. Ordenes los ejes por la diferencia entre esos dos elementos\n",
    "\n",
    "quizá la función [`np.argsort`](https://docs.scipy.org/doc/numpy/reference/generated/numpy.argsort.html) pueda serte de ayuda"
   ]
  },
  {
   "cell_type": "code",
   "execution_count": 0,
   "metadata": {
    "colab": {},
    "colab_type": "code",
    "id": "yj6nLW0qhVoB"
   },
   "outputs": [],
   "source": [
    "%%writefile ./utils/student_function/PS04_04.py\n",
    "import numpy as np\n",
    "\n",
    "def get_storage_order(r):\n",
    "    \n",
    "    \n",
    "    return <... TU CODIGO AQUI ...>\n"
   ]
  },
  {
   "cell_type": "markdown",
   "metadata": {
    "colab_type": "text",
    "id": "MeoQjmfghVoD"
   },
   "source": [
    "comprueba manualmente tu código"
   ]
  },
  {
   "cell_type": "code",
   "execution_count": 0,
   "metadata": {
    "colab": {},
    "colab_type": "code",
    "id": "veJZdCADhVoF"
   },
   "outputs": [],
   "source": [
    "import PS04_04 as st\n",
    "reload(st)\n",
    "r = np.array([[[ 0,  4,  8, 12],\n",
    "        [32, 36, 40, 44],\n",
    "        [64, 68, 72, 76]],\n",
    "\n",
    "       [[16, 20, 24, 28],\n",
    "        [48, 52, 56, 60],\n",
    "        [80, 84, 88, 92]]])\n",
    "\n",
    "st.get_storage_order(r)"
   ]
  },
  {
   "cell_type": "markdown",
   "metadata": {
    "colab_type": "text",
    "id": "2PE_Jz9ghVoI"
   },
   "source": [
    "#### comprueba tu código con el corrector automático"
   ]
  },
  {
   "cell_type": "code",
   "execution_count": 0,
   "metadata": {
    "colab": {},
    "colab_type": "code",
    "id": "c6Q9W2FjhVoL"
   },
   "outputs": [],
   "source": [
    "!./run CHECK_SOLUTION PS04_04"
   ]
  },
  {
   "cell_type": "markdown",
   "metadata": {
    "colab_type": "text",
    "id": "V8imGERLhVoO"
   },
   "source": [
    "#### registra tu solución en línea"
   ]
  },
  {
   "cell_type": "code",
   "execution_count": 0,
   "metadata": {
    "colab": {},
    "colab_type": "code",
    "id": "74qxBgrbhVoO"
   },
   "outputs": [],
   "source": [
    "!./run SUBMIT_SOLUTION PS04_04"
   ]
  },
  {
   "cell_type": "code",
   "execution_count": 0,
   "metadata": {
    "colab": {},
    "colab_type": "code",
    "id": "f87w_z8ShVoS",
    "outputId": "85c30101-bbe0-439c-b86e-974b289416eb"
   },
   "outputs": [
    {
     "name": "stdout",
     "output_type": "stream",
     "text": [
      "[2, 3, 4]\n"
     ]
    }
   ],
   "source": [
    "j=[1,2,3,4]\n",
    "print j[1:]"
   ]
  },
  {
   "cell_type": "code",
   "execution_count": 0,
   "metadata": {
    "colab": {},
    "colab_type": "code",
    "id": "7HUONEyChVoW",
    "outputId": "caed00f8-7e06-474c-daba-4ed1ded33a96"
   },
   "outputs": [
    {
     "name": "stdout",
     "output_type": "stream",
     "text": [
      "[4, 8, 12, 16, 20, 24]\n"
     ]
    }
   ],
   "source": [
    "a=True\n",
    "import numpy as np\n",
    "m = np.array([[1,4,3], [0,3,1], [0,0,-3]])\n",
    "b=[4]\n",
    "size=4\n",
    "for i in range (m.shape[0]-1):\n",
    "        for j in range(m.shape[1]):\n",
    "            if (m[i][j]!=0):\n",
    "                b+=[b[-1]+size]\n",
    "print b                "
   ]
  },
  {
   "cell_type": "code",
   "execution_count": 0,
   "metadata": {
    "colab": {},
    "colab_type": "code",
    "id": "IdEmylrkhVoe"
   },
   "outputs": [],
   "source": []
  },
  {
   "cell_type": "code",
   "execution_count": 0,
   "metadata": {
    "colab": {},
    "colab_type": "code",
    "id": "iBwqP4lRhVoi"
   },
   "outputs": [],
   "source": []
  }
 ],
 "metadata": {
  "colab": {
   "name": "LAB 04 - Representacion en memoria.ipynb",
   "provenance": [],
   "version": "0.3.2"
  },
  "kernelspec": {
   "display_name": "Python 2",
   "language": "python",
   "name": "python2"
  },
  "language_info": {
   "codemirror_mode": {
    "name": "ipython",
    "version": 2
   },
   "file_extension": ".py",
   "mimetype": "text/x-python",
   "name": "python",
   "nbconvert_exporter": "python",
   "pygments_lexer": "ipython2",
   "version": "2.7.14"
  }
 },
 "nbformat": 4,
 "nbformat_minor": 1
}

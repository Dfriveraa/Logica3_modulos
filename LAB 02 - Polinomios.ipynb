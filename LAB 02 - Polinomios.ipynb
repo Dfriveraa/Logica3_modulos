{
 "cells": [
  {
   "cell_type": "code",
   "execution_count": null,
   "metadata": {},
   "outputs": [],
   "source": [
    "!pip install -q oauth2client==1.5.2\n",
    "import sys\n",
    "sys.path.append(\"./utils/student_function/\")\n",
    "from mooclib import *\n",
    "import inspect, urllib\n",
    "html, auth_code, userinfo = google_authenticate(PORT_NUMBER=8080)\n",
    "html"
   ]
  },
  {
   "cell_type": "markdown",
   "metadata": {},
   "source": [
    "## Ejercicio 1\n",
    "\n",
    "Implementación TAD polinomio **v1**. Completa la implementación siguiente de manera que:\n",
    "\n",
    "- mantenga dos listas, una con los coeficientes y otra con los exponentes\n",
    "- cada vez que se añada un término con `add_term` ambas listas han de mantenerse **compactas** y **ordenadas**\n",
    "- **compacta** se refiere a que no debe de haber términos con exponentes duplicados\n",
    "- **ordenada** se refiere a que ambas listas estén en orden ascendente de exponentes\n",
    "\n",
    "Sugerencia: usa [`numpy.searchsorted`](https://docs.scipy.org/doc/numpy-1.13.0/reference/generated/numpy.searchsorted.html) e implementa el siguiente pseudocódigo\n",
    "\n",
    "    k = np.searchsorted(self.exps,e)\n",
    "    si k > el número de términos actual:\n",
    "       añadir c,e al final de sus respectivas listas\n",
    "    si self.exps[k]==e:\n",
    "       sumar c al término correspondiente\n",
    "    en otro caso:\n",
    "       insertar c y e en la posición k en sus respectivas listas\n",
    "    \n",
    "    \n",
    "juega primero con `np.searchsorted` para entender su funcionamiento"
   ]
  },
  {
   "cell_type": "code",
   "execution_count": null,
   "metadata": {},
   "outputs": [],
   "source": [
    "import numpy as np\n",
    "a = [2,5,6,10]\n",
    "print np.searchsorted(a,2)\n",
    "print np.searchsorted(a,7)\n",
    "print np.searchsorted(a,0)\n",
    "print np.searchsorted(a,6)\n",
    "print np.searchsorted(a,12)\n"
   ]
  },
  {
   "cell_type": "markdown",
   "metadata": {},
   "source": [
    "fíjate también cómo se inserta un elemento en una lista"
   ]
  },
  {
   "cell_type": "code",
   "execution_count": null,
   "metadata": {},
   "outputs": [],
   "source": [
    "k = [1,4,10,3, 5]\n",
    "i = 3\n",
    "element = 89\n",
    "\n",
    "k_updated = k[:i] + [element] + k[i:]\n",
    "\n",
    "print k\n",
    "print k_updated"
   ]
  },
  {
   "cell_type": "markdown",
   "metadata": {},
   "source": [
    "este es el código que tienes que completar"
   ]
  },
  {
   "cell_type": "code",
   "execution_count": null,
   "metadata": {},
   "outputs": [],
   "source": [
    "%%writefile ./utils/student_function/PS02_01.py\n",
    "\n",
    "import numpy as np\n",
    "from IPython.display import Math\n",
    "\n",
    "class Pol1:\n",
    "    \n",
    "    def __init__(self):\n",
    "        self.exps = []\n",
    "        self.coefs = []\n",
    "        \n",
    "    def len(self):\n",
    "        return len(self.exps)\n",
    "        \n",
    "    def add_term(self, c, e):\n",
    "        \n",
    "        <... TU CODIGO AQUI ...>\n",
    " \n",
    "        assert len(self.exps)==len(self.coefs), \"must have the same number of exps and coefs\"\n",
    "        return self\n",
    "\n",
    "    def show(self):\n",
    "        s = \"+\".join([\"%s^{%s}\"%(str(c) if e==0 else str(c)+\"x\" if c!=1 else \"x\", str(e) if e not in [0,1] else \"\") for e,c in zip(self.exps, self.coefs) if c!=0])\n",
    "        s = s.replace(\"+-\", \"-\")\n",
    "        return Math(s)\n"
   ]
  },
  {
   "cell_type": "markdown",
   "metadata": {},
   "source": [
    "comprueba tu código, la siguiente ejecución debería de dar:\n",
    "    \n",
    "$$-1+2x+9x^2+4x^5$$"
   ]
  },
  {
   "cell_type": "code",
   "execution_count": null,
   "metadata": {},
   "outputs": [],
   "source": [
    "import PS02_01 as st\n",
    "reload(st)\n",
    "p = st.Pol1()\n",
    "p.add_term(3,2).add_term(2,1).add_term(2,0).add_term(4,5).add_term(6,2).add_term(-3,0).show()"
   ]
  },
  {
   "cell_type": "markdown",
   "metadata": {},
   "source": [
    "#### comprueba tu código con el corrector automático"
   ]
  },
  {
   "cell_type": "code",
   "execution_count": null,
   "metadata": {},
   "outputs": [],
   "source": [
    "!./run CHECK_SOLUTION PS02_01"
   ]
  },
  {
   "cell_type": "markdown",
   "metadata": {},
   "source": [
    "#### registra tu solución en línea"
   ]
  },
  {
   "cell_type": "code",
   "execution_count": null,
   "metadata": {},
   "outputs": [],
   "source": [
    "!./run SUBMIT_SOLUTION PS02_01"
   ]
  },
  {
   "cell_type": "markdown",
   "metadata": {},
   "source": [
    "## Ejercicio 2\n",
    "\n",
    "implementa la operación suma para la clase del polinomio anterior. El resultado ha de ser una instancia de la misma clase en la que `self.exps` y `self.coefs` se mantengan compactos y ordenados.\n",
    "\n",
    "Sugerencia: realiza una implementación que:\n",
    "\n",
    "1. cree un polinomio vacío\n",
    "2. recorra los términos de `q` y `p` y los vaya añadiendo al polinomio creado inicialmente vacío\n",
    "3. devuelva el polinomio construido de esta manera"
   ]
  },
  {
   "cell_type": "code",
   "execution_count": null,
   "metadata": {},
   "outputs": [],
   "source": [
    "%%writefile ./utils/student_function/PS02_02.py\n",
    "import numpy as np\n",
    "from IPython.display import Math\n",
    "class Pol2:\n",
    "    \n",
    "    def __init__(self):\n",
    "        self.exps = []\n",
    "        self.coefs = []\n",
    "        \n",
    "    def len(self):\n",
    "        return len(self.exps)\n",
    "        \n",
    "    def add_term(self, c, e):\n",
    "        <... TU CODIGO AQUI ...>\n",
    " \n",
    "        assert len(self.exps)==len(self.coefs), \"must have the same number of exps and coefs\"\n",
    "        return self\n",
    "\n",
    "    def sum(self, q):\n",
    "        r = self.__class__()\n",
    "        \n",
    "        <... TU CODIGO AQUI ...>\n",
    "        \n",
    "        return r\n",
    "\n",
    "    def show(self):\n",
    "        s = \"+\".join([\"%s^{%s}\"%(str(c) if e==0 else str(c)+\"x\" if c!=1 else \"x\", str(e) if e not in [0,1] else \"\") for e,c in zip(self.exps, self.coefs) if c!=0])\n",
    "        s = s.replace(\"+-\", \"-\")\n",
    "        return Math(s)\n"
   ]
  },
  {
   "cell_type": "markdown",
   "metadata": {},
   "source": [
    "comprueba tu código manualmente"
   ]
  },
  {
   "cell_type": "code",
   "execution_count": null,
   "metadata": {},
   "outputs": [],
   "source": [
    "import PS02_02 as st\n",
    "reload(st)\n",
    "p = st.Pol2()\n",
    "p.add_term(3,2).add_term(2,1).add_term(4,5).add_term(6,2)\n",
    "p.show()"
   ]
  },
  {
   "cell_type": "code",
   "execution_count": null,
   "metadata": {},
   "outputs": [],
   "source": [
    "q = st.Pol2()\n",
    "q.add_term(1,5).add_term(4,1).add_term(3,3)\n",
    "q.show()"
   ]
  },
  {
   "cell_type": "code",
   "execution_count": null,
   "metadata": {},
   "outputs": [],
   "source": [
    "p.sum(q).show()"
   ]
  },
  {
   "cell_type": "markdown",
   "metadata": {},
   "source": [
    "#### comprueba tu código con el corrector automático"
   ]
  },
  {
   "cell_type": "code",
   "execution_count": null,
   "metadata": {},
   "outputs": [],
   "source": [
    "!./run CHECK_SOLUTION PS02_02"
   ]
  },
  {
   "cell_type": "markdown",
   "metadata": {},
   "source": [
    "#### registra tu solución en línea"
   ]
  },
  {
   "cell_type": "code",
   "execution_count": null,
   "metadata": {},
   "outputs": [],
   "source": [
    "!./run SUBMIT_SOLUTION PS02_02"
   ]
  },
  {
   "cell_type": "markdown",
   "metadata": {},
   "source": [
    "## Ejercicio 3\n",
    "\n",
    "Implementación TAD Polinomio **v2** con una **única lista de coeficientes**. En esta implementación un polinomio lo representaremos con una lista en la que:\n",
    "\n",
    "- la posición de la lista indica el coeficiente del término exponencial correspondiente a la posición.\n",
    "- los coeficientes intermedios que no existan en la lista se establecen a 0.\n",
    "\n",
    "por ejemplo, el polinomio $2+3x^2+6x^5$ viene representado por la siguiente lista:\n",
    "\n",
    "    [2, 0, 3, 0, 0, 6]\n",
    "    \n",
    "**Observa** que cuando se le añade un término a un polinomio con exponente mayor que el máximo hay que añadir 0's intermedios. P.ej. si añadimos el término $x^8$ al polinomio anterior, hay que:\n",
    "\n",
    "- añadirle tres ceros la lista anterior. De manera general hay que añadir `e-max_exp` ceros a la lista.\n",
    "- establecer el último elemento a 1\n",
    "\n",
    "para que dé el resultado siguiente:\n",
    "\n",
    "    [2, 0, 3, 0, 0, 6, 0, 0, 1]\n",
    "    \n",
    "en cambio si le añadimos un término con exponente igual o menor al máximo, simplemente hay que añadir el coeficiente a la posición correspondiente de la lista. Por ejemplo:\n",
    "\n",
    "- al añadir el término 3x^5 hay que sumarle 3 a la posición 5: `[2, 0, 3, 0, 0, 9, 0, 0, 1]`\n",
    "- al añadir el término 13x^1 hay que sumarle 13 a la posición 1: `[2, 13, 3, 0, 0, 6, 0, 0, 1]`\n",
    "\n",
    "Completa el método `add_term` de la clase siguiente para implementar esta especificiación. Sugerencia: guíate por el siguiente pseudocódigo:\n",
    "\n",
    "    1.   if e > max_exp:\n",
    "    2.       añadir e-max_exp ceros a la lista\n",
    "    3.   añadir c al elemento en la posición e de la lista\n",
    "    \n",
    "Ten en cuenta que el primer elemento de la lista corresponde al exponente 0 ($x^0=1$) como en el ejemplo anterior, por tanto `max_exp` es la longitud de la lista menos 1."
   ]
  },
  {
   "cell_type": "code",
   "execution_count": null,
   "metadata": {},
   "outputs": [],
   "source": [
    "%%writefile ./utils/student_function/PS02_03.py\n",
    "import numpy as np\n",
    "from IPython.display import Math\n",
    "\n",
    "class Pol3:\n",
    "    \n",
    "    def __init__(self):\n",
    "        self.coefs = [0]\n",
    "        \n",
    "    def add_term(self, c, e):\n",
    "        <... TU CODIGO AQUI ...>\n",
    "        return self\n",
    "\n",
    "    def show(self):\n",
    "        s = \"+\".join([\"%s^{%s}\"%(str(c) if e==0 else str(c)+\"x\" if c!=1 else \"x\", str(e) if e not in [0,1] else \"\") for e,c in enumerate(self.coefs) if c!=0])\n",
    "        s = s.replace(\"+-\", \"-\")\n",
    "        return Math(s)\n",
    "    "
   ]
  },
  {
   "cell_type": "code",
   "execution_count": null,
   "metadata": {},
   "outputs": [],
   "source": [
    "import PS02_03 as st\n",
    "reload(st)\n",
    "p = st.Pol3()\n",
    "p.add_term(2,0).add_term(1,5).add_term(3,2).add_term(5,5)\n",
    "print p.coefs\n",
    "p.show()"
   ]
  },
  {
   "cell_type": "code",
   "execution_count": null,
   "metadata": {},
   "outputs": [],
   "source": [
    "p.add_term(1,8)\n",
    "print p.coefs\n",
    "p.show()"
   ]
  },
  {
   "cell_type": "markdown",
   "metadata": {},
   "source": [
    "#### comprueba tu código con el corrector automático"
   ]
  },
  {
   "cell_type": "code",
   "execution_count": null,
   "metadata": {},
   "outputs": [],
   "source": [
    "!./run CHECK_SOLUTION PS02_03"
   ]
  },
  {
   "cell_type": "markdown",
   "metadata": {},
   "source": [
    "#### registra tu solución en línea"
   ]
  },
  {
   "cell_type": "code",
   "execution_count": null,
   "metadata": {},
   "outputs": [],
   "source": [
    "!./run SUBMIT_SOLUTION PS02_03"
   ]
  },
  {
   "cell_type": "markdown",
   "metadata": {},
   "source": [
    "## Ejercicio 4\n",
    "\n",
    "completa la siguiente función para que, dadas dos listas, las sume elemento a elemento. Ten en cuenta que:\n",
    "\n",
    "- las listas pueden tener distinta longitud.\n",
    "- el resultado ha de tener la longitud de la lista más grande.\n",
    "\n",
    "Sugerencia de implementación:\n",
    "\n",
    "1. completa la lista más pequeña con ceros hasta la longitud de la lista más grande\n",
    "2. convierte ambas listas a `np.array`\n",
    "3. utiliza el operador `+` sobre los `np.array` creados\n",
    "4. convierte el resultado a una lista antes de devolverlo\n",
    "\n",
    "Fíjate cómo se hacen las conversiones entre listas y `np.array`"
   ]
  },
  {
   "cell_type": "code",
   "execution_count": null,
   "metadata": {},
   "outputs": [],
   "source": [
    "import numpy as np\n",
    "\n",
    "a = [1,10,2,3,20]\n",
    "print a\n",
    "na = np.array(a)\n",
    "print na\n",
    "la = list(na)\n",
    "print la"
   ]
  },
  {
   "cell_type": "code",
   "execution_count": null,
   "metadata": {},
   "outputs": [],
   "source": [
    "%%writefile ./utils/student_function/PS02_04.py\n",
    "import numpy as np\n",
    "def add_lists(a,b):\n",
    "    <...>\n",
    "    return <... TU CODIGO AQUI ...>"
   ]
  },
  {
   "cell_type": "markdown",
   "metadata": {},
   "source": [
    "comprueba manualmente tu código. las siguientes tres sumas han de dar, respectivamente:\n",
    "    \n",
    "    [3, 6, 5]\n",
    "    [3, 6, 7]\n",
    "    [3, 6, 7, 2]"
   ]
  },
  {
   "cell_type": "code",
   "execution_count": null,
   "metadata": {},
   "outputs": [],
   "source": [
    "import PS02_04 as st\n",
    "reload(st)\n",
    "print st.add_lists([1,4,5], [2,2])\n",
    "print st.add_lists([1,4,5], [2,2,2])\n",
    "print st.add_lists([1,4,5], [2,2,2,2])"
   ]
  },
  {
   "cell_type": "markdown",
   "metadata": {},
   "source": [
    "#### comprueba tu código con el corrector automático"
   ]
  },
  {
   "cell_type": "code",
   "execution_count": null,
   "metadata": {},
   "outputs": [],
   "source": [
    "!./run CHECK_SOLUTION PS02_04"
   ]
  },
  {
   "cell_type": "markdown",
   "metadata": {},
   "source": [
    "#### registra tu solución en línea"
   ]
  },
  {
   "cell_type": "code",
   "execution_count": null,
   "metadata": {},
   "outputs": [],
   "source": [
    "!./run SUBMIT_SOLUTION PS02_04"
   ]
  },
  {
   "cell_type": "markdown",
   "metadata": {},
   "source": [
    "## Ejercicio 5\n",
    "\n",
    "usa la función `add_lists` para implementar el método `sum` del polinomio anterior"
   ]
  },
  {
   "cell_type": "code",
   "execution_count": null,
   "metadata": {},
   "outputs": [],
   "source": [
    "%%writefile ./utils/student_function/PS02_05.py\n",
    "import numpy as np\n",
    "from IPython.display import Math\n",
    "def add_lists(a,b):\n",
    "    <...>\n",
    "    return <... TU CODIGO AQUI ...>\n",
    "    \n",
    "\n",
    "class Pol5:\n",
    "    \n",
    "    def __init__(self):\n",
    "        self.coefs = [0]\n",
    "        \n",
    "    def add_term(self, c, e):\n",
    "        <... TU CODIGO AQUI ...>\n",
    "\n",
    "        return self\n",
    "\n",
    "    def sum(self, q):\n",
    "        <... TU CODIGO AQUI ...>\n",
    "        return r\n",
    "    \n",
    "    def show(self):\n",
    "        s = \"+\".join([\"%s^{%s}\"%(str(c) if e==0 else str(c)+\"x\" if c!=1 else \"x\", str(e) if e not in [0,1] else \"\") for e,c in enumerate(self.coefs) if c!=0])\n",
    "        s = s.replace(\"+-\", \"-\")\n",
    "        return Math(s)\n",
    "    "
   ]
  },
  {
   "cell_type": "code",
   "execution_count": null,
   "metadata": {},
   "outputs": [],
   "source": [
    "import PS02_05 as st\n",
    "reload(st)\n",
    "p = st.Pol5()\n",
    "p.add_term(3,2).add_term(2,1).add_term(4,5).add_term(6,2)\n",
    "p.show()"
   ]
  },
  {
   "cell_type": "code",
   "execution_count": null,
   "metadata": {},
   "outputs": [],
   "source": [
    "q = st.Pol5()\n",
    "q.add_term(1,5).add_term(4,1).add_term(3,8)\n",
    "q.show()"
   ]
  },
  {
   "cell_type": "code",
   "execution_count": null,
   "metadata": {},
   "outputs": [],
   "source": [
    "s = p.sum(q)\n",
    "print s.coefs\n",
    "s.show()"
   ]
  },
  {
   "cell_type": "markdown",
   "metadata": {},
   "source": [
    "#### comprueba tu código con el corrector automático"
   ]
  },
  {
   "cell_type": "code",
   "execution_count": null,
   "metadata": {},
   "outputs": [],
   "source": [
    "!./run CHECK_SOLUTION PS02_05"
   ]
  },
  {
   "cell_type": "markdown",
   "metadata": {},
   "source": [
    "#### registra tu solución en línea"
   ]
  },
  {
   "cell_type": "code",
   "execution_count": null,
   "metadata": {},
   "outputs": [],
   "source": [
    "!./run SUBMIT_SOLUTION PS02_05"
   ]
  },
  {
   "cell_type": "markdown",
   "metadata": {},
   "source": [
    "## Ejercicio 6\n",
    "\n",
    "Implementa la multiplicación de polinomios sobre el TAD Polinomio **v2**. Sugerencia: guíate por el siguiente pseudocódigo:\n",
    "\n",
    "    r = nuevo polinomio\n",
    "    for i in 0..self max coef\n",
    "       for j in 0..q max coef\n",
    "           añade a r el término correspondiente a la multiplicación del término i de self con el j de q\n"
   ]
  },
  {
   "cell_type": "code",
   "execution_count": null,
   "metadata": {},
   "outputs": [],
   "source": [
    "%%writefile ./utils/student_function/PS02_06.py\n",
    "import numpy as np\n",
    "from IPython.display import Math\n",
    "\n",
    "class Pol6:\n",
    "    \n",
    "    def __init__(self):\n",
    "        self.coefs = []\n",
    "        \n",
    "    def add_term(self, c, e):\n",
    "        \n",
    "        <... TU CODIGO AQUI ...>\n",
    "        \n",
    "        return self\n",
    "\n",
    "    def sum(self, q):\n",
    "        r = self.__class__()\n",
    "        \n",
    "        <... TU CODIGO AQUI ...>\n",
    "        \n",
    "        return r\n",
    "    \n",
    "    def mult(self, q):\n",
    "        r = self.__class__()\n",
    "        \n",
    "        <... TU CODIGO AQUI ...>\n",
    "\n",
    "        return r\n",
    "    \n",
    "    def show(self):\n",
    "        s = \"+\".join([\"%s^{%s}\"%(str(c) if e==0 else str(c)+\"x\" if c!=1 else \"x\", str(e) if e not in [0,1] else \"\") for e,c in enumerate(self.coefs) if c!=0])\n",
    "        s = s.replace(\"+-\", \"-\")\n",
    "        return Math(s)"
   ]
  },
  {
   "cell_type": "markdown",
   "metadata": {},
   "source": [
    "comprueba manualmente tu código"
   ]
  },
  {
   "cell_type": "code",
   "execution_count": null,
   "metadata": {},
   "outputs": [],
   "source": [
    "import PS02_06 as st\n",
    "reload(st)\n",
    "p = st.Pol6()\n",
    "p.add_term(3,2).add_term(2,1).add_term(4,5).add_term(6,2)\n",
    "p.show()"
   ]
  },
  {
   "cell_type": "code",
   "execution_count": null,
   "metadata": {},
   "outputs": [],
   "source": [
    "q = st.Pol6()\n",
    "q.add_term(2,5).add_term(4,1).add_term(3,8)\n",
    "q.show()"
   ]
  },
  {
   "cell_type": "code",
   "execution_count": null,
   "metadata": {},
   "outputs": [],
   "source": [
    "p.mult(q).show()"
   ]
  },
  {
   "cell_type": "markdown",
   "metadata": {},
   "source": [
    "#### comprueba tu código con el corrector automático"
   ]
  },
  {
   "cell_type": "code",
   "execution_count": null,
   "metadata": {},
   "outputs": [],
   "source": [
    "!./run CHECK_SOLUTION PS02_06"
   ]
  },
  {
   "cell_type": "markdown",
   "metadata": {},
   "source": [
    "#### registra tu solución en línea"
   ]
  },
  {
   "cell_type": "code",
   "execution_count": null,
   "metadata": {},
   "outputs": [],
   "source": [
    "!./run SUBMIT_SOLUTION PS02_06"
   ]
  },
  {
   "cell_type": "code",
   "execution_count": null,
   "metadata": {},
   "outputs": [],
   "source": []
  }
 ],
 "metadata": {
  "kernelspec": {
   "display_name": "Python 2",
   "language": "python",
   "name": "python2"
  },
  "language_info": {
   "codemirror_mode": {
    "name": "ipython",
    "version": 2
   },
   "file_extension": ".py",
   "mimetype": "text/x-python",
   "name": "python",
   "nbconvert_exporter": "python",
   "pygments_lexer": "ipython2",
   "version": "2.7.14"
  }
 },
 "nbformat": 4,
 "nbformat_minor": 2
}

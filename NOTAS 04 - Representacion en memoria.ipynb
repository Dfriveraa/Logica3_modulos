{
 "cells": [
  {
   "cell_type": "markdown",
   "metadata": {},
   "source": [
    "# Objetivos del módulo\n",
    "\n",
    "Conocer cómo se representan las estructuras de datos en la memoria de la máquina y las decisiones y compromisos que realizan los distintos lenguajes de progamación.\n",
    "\n",
    "# Preguntas básicas\n",
    "\n",
    "- ¿Cómo se hace corresponder la información de una estructura de datos a memoria de la máquina?\n",
    "- ¿Qué decisiones y compromisos adquieren los distintos lenguajes y entornos de programación?\n",
    "- ¿Cómo afecta esto al rendimiento de nuestros algoritmos?\n",
    "- ¿Qué es una fórmula de direccionamiento?\n",
    "\n",
    "\n",
    "# 1. Memoria y datos\n",
    "\n",
    "## C: compilación\n",
    "\n",
    "fíjate cómo editamos, compilamos y ejecutamos un pequeño programa en C desde el propio notebook.\n",
    "\n",
    "- el magic `%%` escribe el contenido de una celda en un archivo\n",
    "- el magic `!` ejecuta la línea en el shell de linux"
   ]
  },
  {
   "cell_type": "code",
   "execution_count": 29,
   "metadata": {},
   "outputs": [
    {
     "name": "stdout",
     "output_type": "stream",
     "text": [
      "Overwriting tmp/c_warmup.c\n"
     ]
    }
   ],
   "source": [
    "%%writefile tmp/c_warmup.c\n",
    "#include <stdio.h>\n",
    "\n",
    "int main(int argc, char **argv) {\n",
    "    printf(\"-----\\n¿Qué pasó?\\n-----\\n\");\n",
    "}"
   ]
  },
  {
   "cell_type": "code",
   "execution_count": 30,
   "metadata": {},
   "outputs": [
    {
     "name": "stdout",
     "output_type": "stream",
     "text": [
      "rm -rf *.o tmp/c_warmup /home/user/share/teaching/logicIII/student/course_materials/utils/*.o\n",
      "--------------------------------------\n",
      "- bulding tmp/c_warmup\n",
      "--------------------------------------\n",
      "INCLUDES /home/user/share/teaching/logicIII/student/course_materials/utils\n",
      "SOURCES tmp/c_warmup.c /home/user/share/teaching/logicIII/student/course_materials/utils/rlxutils.c\n",
      "ROOT DIR /home/user/share/teaching/logicIII/student/course_materials/utils\n",
      "gcc -c -fopenmp -Wno-format -D LINUX -I/home/user/share/teaching/logicIII/student/course_materials/utils tmp/c_warmup.c -o tmp/c_warmup.o\n",
      "INCLUDES /home/user/share/teaching/logicIII/student/course_materials/utils\n",
      "SOURCES tmp/c_warmup.c /home/user/share/teaching/logicIII/student/course_materials/utils/rlxutils.c\n",
      "ROOT DIR /home/user/share/teaching/logicIII/student/course_materials/utils\n",
      "gcc -c -fopenmp -Wno-format -D LINUX -I/home/user/share/teaching/logicIII/student/course_materials/utils /home/user/share/teaching/logicIII/student/course_materials/utils/rlxutils.c -o /home/user/share/teaching/logicIII/student/course_materials/utils/rlxutils.o\n",
      "gcc tmp/c_warmup.o /home/user/share/teaching/logicIII/student/course_materials/utils/rlxutils.o -o tmp/c_warmup -fopenmp -lrt \n"
     ]
    }
   ],
   "source": [
    "!make -f files/Makefile-n1.1 clean all"
   ]
  },
  {
   "cell_type": "code",
   "execution_count": 31,
   "metadata": {},
   "outputs": [
    {
     "name": "stdout",
     "output_type": "stream",
     "text": [
      "-----\n",
      "¿Qué pasó?\n",
      "-----\n"
     ]
    }
   ],
   "source": [
    "!./tmp/c_warmup"
   ]
  },
  {
   "cell_type": "markdown",
   "metadata": {},
   "source": [
    "## C: memoria, contenido y punteros\n",
    "\n",
    "Recuerda que en C tenemos acceso directo a la memoria de la máquina.\n",
    "\n",
    "- Una variable hace referencia al contenido de una posición de memoria\n",
    "- Un puntero hace referencia a una posición de memoria\n",
    "- De toda variable se puede obtener un apuntador (una dirección de memoria)\n",
    "- De todo apuntador se puede obtener el contenido de la memoria a la que apunta.\n",
    "\n",
    "Los arreglos en realidad son listas de apuntadores a memoria con una aritmética de apuntadores que depende del tipo de dato al que apuntan.\n",
    "\n",
    "Ejecuta y observa la salida del siguiente código C.\n",
    "\n",
    "- ¿Cuál es el tamaño de cada tipo de dato?\n",
    "- ¿Cambia el tamaño del apuntador a cada tipo de dato?\n",
    "- ¿Con qué notación se obtiene la dirección de memoria de una variable?\n",
    "- ¿Con qué notación se obtiene el contenido al que un apuntador apunta?"
   ]
  },
  {
   "cell_type": "code",
   "execution_count": 33,
   "metadata": {},
   "outputs": [
    {
     "name": "stdout",
     "output_type": "stream",
     "text": [
      "Writing tmp/c_pointers.c\n"
     ]
    }
   ],
   "source": [
    "%%writefile tmp/c_pointers.c\n",
    "#include <stdio.h>\n",
    "\n",
    "int main(int argc, char **argv) {\n",
    "    printf (\"Sizes of data types (and pointers to)\\n\");\n",
    "    char _char;           char *ptr_char = &_char;\n",
    "    int _int;             int *ptr_int = &_int;\n",
    "    short _short;         short *ptr_short = &_short;\n",
    "    unsigned int _uint;   unsigned int *ptr_uint = &_uint;\n",
    "    long _long;           long *ptr_long = &_long;\n",
    "    unsigned long _ulong; unsigned long *ptr_ulong = &_ulong;\n",
    "    float _float;         float *ptr_float = &_float;\n",
    "    double _double;       double *ptr_double =&_double;\n",
    "    long double _ldouble; long double *ptr_ldouble = &_ldouble;\n",
    "\n",
    "    printf (\"  char          %d, %d\\n\", sizeof(char), sizeof(ptr_char));\n",
    "    printf (\"  int           %d, %d\\n\", sizeof(int), sizeof(ptr_int));\n",
    "    printf (\"  short         %d, %d\\n\", sizeof(short), sizeof(ptr_short));\n",
    "    printf (\"  unsigned int  %d, %d\\n\", sizeof(unsigned int), sizeof(ptr_uint));\n",
    "    printf (\"  long          %d, %d\\n\", sizeof(long), sizeof(ptr_long));\n",
    "    printf (\"  unsigned long %d, %d\\n\", sizeof(unsigned long), sizeof(ptr_ulong));\n",
    "    printf (\"  float         %d, %d\\n\", sizeof(float), sizeof(ptr_float));\n",
    "    printf (\"  double        %d, %d\\n\", sizeof(double), sizeof(ptr_double));\n",
    "    printf (\"  long double   %d, %d\\n\", sizeof(long double), sizeof(ptr_double));\n",
    "    printf (\"\\n\");\n",
    "\n",
    "    printf (\"Usage of pointers and unsigned data\\n\");    \n",
    "    double dn = 10.3045;\n",
    "    char   cn = 10;\n",
    "    float  fn = -12.34;\n",
    "    long double ldn = 10432.12;\n",
    "\n",
    "    double *ptr_dn = &dn;\n",
    "    char   *ptr_cn = &cn;\n",
    "    float  *ptr_fn = &fn;\n",
    "    long double *ptr_ldn = &ldn;\n",
    "    printf (\"  value of vars         %f, %d, %f, %f\\n\", dn, cn, fn, ldn);\n",
    "    printf (\"  value of pointed vars %f, %d, %f, %f\\n\", *ptr_dn, *ptr_cn, *ptr_fn, *ptr_ldn);\n",
    "    printf (\"  value of pointers     %u, %u, %u, %u\\n\", ptr_dn, ptr_cn, ptr_fn, ptr_ldn);\n",
    "    printf (\"\\n\");\n",
    "\n",
    "    printf (\"Usage of arrays\\n\");\n",
    "    int aint[3] = {9,3,902};\n",
    "    double adouble[3] = {3.5,6.7,0.354};\n",
    "    aint[2] = 9021;\n",
    "    *(aint+1) = 21;\n",
    "    printf (\"   elements by number          %d %d %d %d %f %f\\n\", aint[0], aint[1], *(aint+1), aint[2], adouble[2], *(adouble+2));\n",
    "    printf (\"   int elements by pointers    %d %d %d %d\\n\", aint, &aint[0], &aint[1], &aint[2]);\n",
    "    printf (\"   double elements by pointers %u %u %u %u\\n\", adouble, &adouble[0], &adouble[1], &adouble[2]);\n",
    "    return 0; \n",
    "\n",
    "}"
   ]
  },
  {
   "cell_type": "code",
   "execution_count": 34,
   "metadata": {},
   "outputs": [
    {
     "name": "stdout",
     "output_type": "stream",
     "text": [
      "rm -rf *.o tmp/c_pointers /home/user/share/teaching/logicIII/student/course_materials/utils/*.o\n",
      "--------------------------------------\n",
      "- bulding tmp/c_pointers\n",
      "--------------------------------------\n",
      "INCLUDES /home/user/share/teaching/logicIII/student/course_materials/utils\n",
      "SOURCES tmp/c_pointers.c /home/user/share/teaching/logicIII/student/course_materials/utils/rlxutils.c\n",
      "ROOT DIR /home/user/share/teaching/logicIII/student/course_materials/utils\n",
      "gcc -c -fopenmp -Wno-format -D LINUX -I/home/user/share/teaching/logicIII/student/course_materials/utils tmp/c_pointers.c -o tmp/c_pointers.o\n",
      "INCLUDES /home/user/share/teaching/logicIII/student/course_materials/utils\n",
      "SOURCES tmp/c_pointers.c /home/user/share/teaching/logicIII/student/course_materials/utils/rlxutils.c\n",
      "ROOT DIR /home/user/share/teaching/logicIII/student/course_materials/utils\n",
      "gcc -c -fopenmp -Wno-format -D LINUX -I/home/user/share/teaching/logicIII/student/course_materials/utils /home/user/share/teaching/logicIII/student/course_materials/utils/rlxutils.c -o /home/user/share/teaching/logicIII/student/course_materials/utils/rlxutils.o\n",
      "gcc tmp/c_pointers.o /home/user/share/teaching/logicIII/student/course_materials/utils/rlxutils.o -o tmp/c_pointers -fopenmp -lrt \n"
     ]
    }
   ],
   "source": [
    "!make -f files/Makefile-n1.2 clean all"
   ]
  },
  {
   "cell_type": "code",
   "execution_count": 35,
   "metadata": {},
   "outputs": [
    {
     "name": "stdout",
     "output_type": "stream",
     "text": [
      "Sizes of data types (and pointers to)\n",
      "  char          1, 8\n",
      "  int           4, 8\n",
      "  short         2, 8\n",
      "  unsigned int  4, 8\n",
      "  long          8, 8\n",
      "  unsigned long 8, 8\n",
      "  float         4, 8\n",
      "  double        8, 8\n",
      "  long double   16, 8\n",
      "\n",
      "Usage of pointers and unsigned data\n",
      "  value of vars         10.304500, 10, -12.340000, 0.000000\n",
      "  value of pointed vars 10.304500, 10, -12.340000, 0.000000\n",
      "  value of pointers     4030173712, 4030173669, 4030173684, 4030173840\n",
      "\n",
      "Usage of arrays\n",
      "   elements by number          9 21 21 9021 0.354000 0.354000\n",
      "   int elements by pointers    -264793436 -264793436 -264793432 -264793428\n",
      "   double elements by pointers 4030173872 4030173872 4030173880 4030173888\n"
     ]
    }
   ],
   "source": [
    "!./tmp/c_pointers"
   ]
  },
  {
   "cell_type": "markdown",
   "metadata": {},
   "source": [
    "## C: pasos por referencia y valor\n",
    "\n",
    "Observa las funciones declaran explícitamente qué argumento es puntero y qué argumento es valor. Fíjate en especial las posiciones de memoria que cambian su contenido antes y después de llamar a la función `f`"
   ]
  },
  {
   "cell_type": "code",
   "execution_count": 36,
   "metadata": {},
   "outputs": [
    {
     "name": "stdout",
     "output_type": "stream",
     "text": [
      "Writing tmp/c_fcall.c\n"
     ]
    }
   ],
   "source": [
    "%%writefile tmp/c_fcall.cen memoria\n",
    "#include <stdio.h>\n",
    "\n",
    "void f(unsigned int p1, unsigned int *p2) {\n",
    "    printf (\"  value and memory address of p1 %d(%d)\\n\", p1, &p1);\n",
    "    printf (\"  value and memory address of p2 %d(%d)\\n\", *p2, p2);\n",
    "\n",
    "    p1 = p1*2;\n",
    "    *p2 = *p2 * 2;\n",
    "    printf (\"  changed values p1=%u, p2=%u\\n\", p1, *p2);\n",
    "}\n",
    "\n",
    "int main(int argc, char **argv) {\n",
    "    unsigned int i1 = 10;\n",
    "    unsigned int i2 = 15;\n",
    "    printf (\"calling function with i1=%d (%u), i2=%u(%u)\\n\", i1, &i1, i2, &i2);\n",
    "    f (i1, &i2);\n",
    "    printf (\"values after function i1=%d (%u), i2=%u(%u)\\n\", i1, &i1, i2, &i2);\n",
    "    \n",
    "}"
   ]
  },
  {
   "cell_type": "code",
   "execution_count": 38,
   "metadata": {},
   "outputs": [
    {
     "name": "stdout",
     "output_type": "stream",
     "text": [
      "rm -rf *.o tmp/c_fcall /home/user/share/teaching/logicIII/student/course_materials/utils/*.o\n",
      "--------------------------------------\n",
      "- bulding tmp/c_fcall\n",
      "--------------------------------------\n",
      "INCLUDES /home/user/share/teaching/logicIII/student/course_materials/utils\n",
      "SOURCES tmp/c_fcall.c /home/user/share/teaching/logicIII/student/course_materials/utils/rlxutils.c\n",
      "ROOT DIR /home/user/share/teaching/logicIII/student/course_materials/utils\n",
      "gcc -c -fopenmp -Wno-format -D LINUX -I/home/user/share/teaching/logicIII/student/course_materials/utils tmp/c_fcall.c -o tmp/c_fcall.o\n",
      "INCLUDES /home/user/share/teaching/logicIII/student/course_materials/utils\n",
      "SOURCES tmp/c_fcall.c /home/user/share/teaching/logicIII/student/course_materials/utils/rlxutils.c\n",
      "ROOT DIR /home/user/share/teaching/logicIII/student/course_materials/utils\n",
      "gcc -c -fopenmp -Wno-format -D LINUX -I/home/user/share/teaching/logicIII/student/course_materials/utils /home/user/share/teaching/logicIII/student/course_materials/utils/rlxutils.c -o /home/user/share/teaching/logicIII/student/course_materials/utils/rlxutils.o\n",
      "gcc tmp/c_fcall.o /home/user/share/teaching/logicIII/student/course_materials/utils/rlxutils.o -o tmp/c_fcall -fopenmp -lrt \n"
     ]
    }
   ],
   "source": [
    "!make -f files/Makefile-n1.3 clean all"
   ]
  },
  {
   "cell_type": "code",
   "execution_count": 39,
   "metadata": {},
   "outputs": [
    {
     "name": "stdout",
     "output_type": "stream",
     "text": [
      "calling function with i1=10 (1476074192), i2=15(1476074196)\n",
      "  value and memory address of p1 10(1476074156)\n",
      "  value and memory address of p2 15(1476074196)\n",
      "  changed values p1=20, p2=30\n",
      "values after function i1=10 (1476074192), i2=30(1476074196)\n"
     ]
    }
   ],
   "source": [
    "!./tmp/c_fcall"
   ]
  },
  {
   "cell_type": "markdown",
   "metadata": {},
   "source": [
    "## Python: gestión de la memoria\n",
    "\n",
    "Python realiza una gestión completa de la memoria, como en otros lenguajes (Java, etc.). No hay punteros y ciertas libererías de Python gestionan el uso de la memoria para sus estructuras. Por ejemplo `numpy` implementa muchas funciones en C y nos las ofrece con la sintaxis limpia de Python. Si usamos `numpy` podemos al menos ver las direcciones de memoria de los arrays.\n",
    "\n",
    "Ejecuta el siguiente código y prueba con distintos tipos de datos en `dtype`: `np.int32`, `np.int64`, `np.float32`, `np.float64`\n"
   ]
  },
  {
   "cell_type": "code",
   "execution_count": 1,
   "metadata": {},
   "outputs": [
    {
     "name": "stdout",
     "output_type": "stream",
     "text": [
      "array                     [1. 2. 3.]\n",
      "tipo de datos             float64\n",
      "memory positino a o a[0]  140346049147104\n",
      "memory position a[1]      140346049147112\n",
      "bytes delta de posiciones 8\n"
     ]
    }
   ],
   "source": [
    "import numpy as np\n",
    "\n",
    "a = np.array([1,2,3], dtype=np.float64)\n",
    "print \"array                    \", a\n",
    "print \"tipo de datos            \", a.dtype\n",
    "print \"memory positino a o a[0] \", a.ctypes.data\n",
    "print \"memory position a[1]     \", a[1:].ctypes.data\n",
    "print \"bytes delta de posiciones\", a[1:].ctypes.data - a.ctypes.data"
   ]
  },
  {
   "cell_type": "markdown",
   "metadata": {},
   "source": [
    "En general, la función `id` da un identificador único de cualquier objeto de Python, aunque no necesariamente es su posición de memoria (depende de la implementación de tu instalación de Python). Nos sirve para ver si dos variables apuntan al mismo contenido."
   ]
  },
  {
   "cell_type": "code",
   "execution_count": 2,
   "metadata": {},
   "outputs": [
    {
     "name": "stdout",
     "output_type": "stream",
     "text": [
      "<type 'int'> 140346047614224\n",
      "<type 'int'> 140346047614224\n"
     ]
    }
   ],
   "source": [
    "a = 2\n",
    "print type(a), id(a)\n",
    "b = a\n",
    "print type(b), id(b)\n"
   ]
  },
  {
   "cell_type": "markdown",
   "metadata": {},
   "source": [
    "fíjate como un mismo dato puede tener varias _etiquetas_"
   ]
  },
  {
   "cell_type": "code",
   "execution_count": 3,
   "metadata": {},
   "outputs": [
    {
     "name": "stdout",
     "output_type": "stream",
     "text": [
      "4430124168 [1, 2, 3]\n",
      "4430124168 [1, 2, 3]\n"
     ]
    }
   ],
   "source": [
    "xx = [1,2,3]\n",
    "print id(xx), xx\n",
    "bb = xx\n",
    "print id(bb), bb"
   ]
  },
  {
   "cell_type": "code",
   "execution_count": 4,
   "metadata": {},
   "outputs": [
    {
     "ename": "NameError",
     "evalue": "name 'bb' is not defined",
     "output_type": "error",
     "traceback": [
      "\u001b[0;31m----------------------------------------------------------------------\u001b[0m",
      "\u001b[0;31mNameError\u001b[0m                            Traceback (most recent call last)",
      "\u001b[0;32m<ipython-input-4-550c0b40c0c7>\u001b[0m in \u001b[0;36m<module>\u001b[0;34m()\u001b[0m\n\u001b[1;32m      1\u001b[0m \u001b[0;32mdel\u001b[0m\u001b[0;34m(\u001b[0m\u001b[0mbb\u001b[0m\u001b[0;34m)\u001b[0m\u001b[0;34m\u001b[0m\u001b[0m\n\u001b[0;32m----> 2\u001b[0;31m \u001b[0;32mprint\u001b[0m \u001b[0mid\u001b[0m\u001b[0;34m(\u001b[0m\u001b[0mbb\u001b[0m\u001b[0;34m)\u001b[0m\u001b[0;34m,\u001b[0m \u001b[0mbb\u001b[0m\u001b[0;34m\u001b[0m\u001b[0m\n\u001b[0m",
      "\u001b[0;31mNameError\u001b[0m: name 'bb' is not defined"
     ]
    }
   ],
   "source": [
    "del(bb)\n",
    "print id(bb), bb"
   ]
  },
  {
   "cell_type": "code",
   "execution_count": 5,
   "metadata": {},
   "outputs": [
    {
     "name": "stdout",
     "output_type": "stream",
     "text": [
      "4430124168 [1, 2, 3]\n"
     ]
    }
   ],
   "source": [
    "print id(xx), xx"
   ]
  },
  {
   "cell_type": "markdown",
   "metadata": {},
   "source": [
    "fíjate en la siguiente lógica de Python. Reutiliza las cadenas pequeñas aunque explícitamente no hagamos `a=b`, pero no las cadenas largas."
   ]
  },
  {
   "cell_type": "code",
   "execution_count": 6,
   "metadata": {},
   "outputs": [
    {
     "name": "stdout",
     "output_type": "stream",
     "text": [
      "<type 'str'> 4432380912\n",
      "<type 'str'> 4432380912\n"
     ]
    }
   ],
   "source": [
    "a = \"hola\"\n",
    "print type(a), id(a)\n",
    "b = \"hola\"\n",
    "print type(b), id(b)\n"
   ]
  },
  {
   "cell_type": "code",
   "execution_count": 7,
   "metadata": {},
   "outputs": [
    {
     "name": "stdout",
     "output_type": "stream",
     "text": [
      "<type 'str'> 4440690000\n",
      "<type 'str'> 4440690280\n"
     ]
    }
   ],
   "source": [
    "a = \"hola como estas\"\n",
    "print type(a), id(a)\n",
    "b = \"hola como estas\"\n",
    "print type(b), id(b)\n"
   ]
  },
  {
   "cell_type": "markdown",
   "metadata": {},
   "source": [
    "observa que el concepto de **igualdad** puede ser definido de dos formas:\n",
    "\n",
    "- el contenido referido por una variable es igual al contenido referido por otra variable: **=**\n",
    "- dos variables se refieren a la misma posición de memoria: **is**"
   ]
  },
  {
   "cell_type": "code",
   "execution_count": 8,
   "metadata": {},
   "outputs": [
    {
     "name": "stdout",
     "output_type": "stream",
     "text": [
      "4440690448\n",
      "4440690336\n",
      "True False\n"
     ]
    }
   ],
   "source": [
    "a = \"hola que tal\"\n",
    "b = \"hola que tal\"\n",
    "print id(a)\n",
    "print id(b)\n",
    "print a==b, a is b"
   ]
  },
  {
   "cell_type": "code",
   "execution_count": 9,
   "metadata": {},
   "outputs": [
    {
     "name": "stdout",
     "output_type": "stream",
     "text": [
      "4440689552\n",
      "4440689552\n",
      "True True\n"
     ]
    }
   ],
   "source": [
    "a = \"hola que tal\"\n",
    "b = a\n",
    "print id(a)\n",
    "print id(b)\n",
    "print a==b, a is b"
   ]
  },
  {
   "cell_type": "markdown",
   "metadata": {},
   "source": [
    "observa además la semántica de `a+=...`, que actualiza la propia memoria sin crear nuevos objetos `a=a+...`"
   ]
  },
  {
   "cell_type": "code",
   "execution_count": 10,
   "metadata": {},
   "outputs": [
    {
     "name": "stdout",
     "output_type": "stream",
     "text": [
      "4440367760 [1, 2, 3]\n",
      "4440817888 [1, 2, 3, 4]\n",
      "4440817888 [1, 2, 3, 4, 5]\n"
     ]
    }
   ],
   "source": [
    "a = [1,2,3]\n",
    "print id(a), a\n",
    "a = a + [4]\n",
    "print id(a), a\n",
    "a += [5]\n",
    "print id(a), a"
   ]
  },
  {
   "cell_type": "markdown",
   "metadata": {},
   "source": [
    "Python tiene una semántica fija para el paso de parámetros: **siempre se pasan las referencias a los objetos.**"
   ]
  },
  {
   "cell_type": "code",
   "execution_count": 11,
   "metadata": {},
   "outputs": [],
   "source": [
    "def f(x):\n",
    "    print id(x), x\n",
    "    x = 2\n",
    "    print id(x), x"
   ]
  },
  {
   "cell_type": "code",
   "execution_count": 12,
   "metadata": {},
   "outputs": [
    {
     "name": "stdout",
     "output_type": "stream",
     "text": [
      "140346047613576 29\n",
      "140346047613576 29\n",
      "140346047614224 2\n",
      "140346047613576 29\n"
     ]
    }
   ],
   "source": [
    "a = 29\n",
    "print id(a), a\n",
    "f(a)\n",
    "print id(a), a\n"
   ]
  },
  {
   "cell_type": "markdown",
   "metadata": {},
   "source": [
    "observa cómo el siguiente código se ejecuta en [Python Tutor](http://www.pythontutor.com/visualize.html#code=def%20f%28x%29%3A%0A%20%20%20%20print%20id%28x%29,%20x%0A%20%20%20%20x.append%2832%29%0A%20%20%20%20print%20id%28x%29,%20x%0A%20%20%20%20%0Aa%20%3D%20%5B%22hola%22,%2010,%20%2220%22%5D%0Aprint%20id%28a%29,%20a%0Af%28a%29%0Aprint%20id%28a%29,%20a&cumulative=false&curInstr=0&heapPrimitives=nevernest&mode=display&origin=opt-frontend.js&py=2&rawInputLstJSON=%5B%5D&textReferences=false)"
   ]
  },
  {
   "cell_type": "code",
   "execution_count": 13,
   "metadata": {},
   "outputs": [
    {
     "name": "stdout",
     "output_type": "stream",
     "text": [
      "4440424960 ['hola', 10, '20']\n",
      "4440424960 ['hola', 10, '20']\n",
      "4440424960 ['hola', 10, '20', 32]\n",
      "4440424960 ['hola', 10, '20', 32]\n"
     ]
    }
   ],
   "source": [
    "def f(x):\n",
    "    print id(x), x\n",
    "    x.append(32)\n",
    "    print id(x), x\n",
    "    \n",
    "a = [\"hola\", 10, \"20\"]\n",
    "print id(a), a\n",
    "f(a)\n",
    "print id(a), a"
   ]
  },
  {
   "cell_type": "markdown",
   "metadata": {},
   "source": [
    "# 2. Alineamiento de datos y rendimiento\n",
    "\n",
    "La memoria de un computador es lineal. El lenguaje de programación (compilado o interpretado) es el que la maneja y decide la organización de los datos cuando tenemos estructuras complejas. Es decir, decide cómo **linearizar** cualquier estructura de datos.\n",
    "\n",
    "Pero **físicamente** la manera más eficiente de recorrer la memoria de una máquina también es linealmente, por tanto nuestra aplicación será más o menos eficiente en función de cómo recorra una estructura de datos en relación a cómo se linearizó.\n",
    "\n",
    "Por tanto, **es fundamental entender las decisiones que toma nuestro entorno de programación respecto al almacenaje de estructuras en memoria**. Los siguientes experimentos están diseñados para que te familiarices con esto.\n",
    "\n",
    "Fíjate cómo lineariza `numpy` una matriz 2D en memoria. Prueba con distintos tipos de datos."
   ]
  },
  {
   "cell_type": "code",
   "execution_count": 27,
   "metadata": {},
   "outputs": [
    {
     "data": {
      "text/plain": [
       "array([[35, 98, 79, 11, 93],\n",
       "       [49, 40, 60, 82, 22],\n",
       "       [70,  0, 14, 49, 93]], dtype=int32)"
      ]
     },
     "execution_count": 27,
     "metadata": {},
     "output_type": "execute_result"
    }
   ],
   "source": [
    "a = np.random.randint(100, size=(3,5)).astype(np.int32)\n",
    "a"
   ]
  },
  {
   "cell_type": "code",
   "execution_count": 28,
   "metadata": {},
   "outputs": [
    {
     "name": "stdout",
     "output_type": "stream",
     "text": [
      "memory positions of each element of a\n",
      "[[140346086001632 140346086001636 140346086001640 140346086001644\n",
      "  140346086001648]\n",
      " [140346086001652 140346086001656 140346086001660 140346086001664\n",
      "  140346086001668]\n",
      " [140346086001672 140346086001676 140346086001680 140346086001684\n",
      "  140346086001688]]\n"
     ]
    }
   ],
   "source": [
    "import itertools\n",
    "def get_mempositions(a, relative=False):\n",
    "    m = np.zeros(a.shape, dtype=np.int64)\n",
    "    for ii in itertools.product(*[range(i) for i in a.shape]):\n",
    "        m[ii] = a[[slice(i, None, None) for i in ii]].ctypes.data\n",
    "    return m if not relative else m-np.min(m)\n",
    "print \"memory positions of each element of a\"\n",
    "print get_mempositions(a)"
   ]
  },
  {
   "cell_type": "code",
   "execution_count": 29,
   "metadata": {},
   "outputs": [
    {
     "name": "stdout",
     "output_type": "stream",
     "text": [
      "memory positions of each element of a, relative to init\n",
      "[[ 0  4  8 12 16]\n",
      " [20 24 28 32 36]\n",
      " [40 44 48 52 56]]\n"
     ]
    }
   ],
   "source": [
    "print \"memory positions of each element of a, relative to init\"\n",
    "print get_mempositions(a, relative=True)"
   ]
  },
  {
   "cell_type": "markdown",
   "metadata": {},
   "source": [
    "Este es un orden en el que se **recorre primero las columnas** y **luego las filas**\n",
    "\n",
    "\n",
    "la fórmula de direccionamiento en este caso es:\n",
    "\n",
    "$$addr(i,j) = k + (i\\times n\\_cols + j)\\times size$$\n",
    "\n",
    "donde\n",
    "- $k$ es la posición de inicio del array\n",
    "- $n\\_cols$ es en número de columnas del array\n",
    "- $size$ es el tamaño en bytes del tipo de dato que almacena el array.\n",
    "- $i,j$ es la $fila$, $columna$ de la cual se quiere obtener la posición en memoria\n",
    "\n",
    "y lo comprobamos"
   ]
  },
  {
   "cell_type": "code",
   "execution_count": 30,
   "metadata": {},
   "outputs": [
    {
     "data": {
      "text/plain": [
       "array([[ 0,  4,  8, 12, 16],\n",
       "       [20, 24, 28, 32, 36],\n",
       "       [40, 44, 48, 52, 56]])"
      ]
     },
     "execution_count": 30,
     "metadata": {},
     "output_type": "execute_result"
    }
   ],
   "source": [
    "m = np.zeros(a.shape, dtype=int)\n",
    "size = a.dtype.itemsize\n",
    "for i in range(a.shape[0]):\n",
    "    for j in range(a.shape[1]):\n",
    "        m[i,j] = (i*a.shape[1] + j)*size\n",
    "m"
   ]
  },
  {
   "cell_type": "markdown",
   "metadata": {},
   "source": [
    "con `numpy` también podemos especificar que queremos el orden inverso. Es decir, recorriendo primero las filas y luego las columnas. Esto es típico de FORTRAN. En cambio en C el orden es por filas como anteriormente."
   ]
  },
  {
   "cell_type": "code",
   "execution_count": 31,
   "metadata": {},
   "outputs": [
    {
     "name": "stdout",
     "output_type": "stream",
     "text": [
      "[[ 0 12 24 36 48]\n",
      " [ 4 16 28 40 52]\n",
      " [ 8 20 32 44 56]]\n"
     ]
    }
   ],
   "source": [
    "a = np.random.randint(100, size=(3,5)).astype(np.int32)\n",
    "a = np.asfortranarray(a)\n",
    "print get_mempositions(a, relative=True)"
   ]
  },
  {
   "cell_type": "markdown",
   "metadata": {},
   "source": [
    "la fórmula de direccionamiento en este caso es:\n",
    "\n",
    "$$addr(i,j) = k + (i + j\\times n\\_rows)\\times size$$\n",
    "\n",
    "y lo comprobamos"
   ]
  },
  {
   "cell_type": "code",
   "execution_count": 32,
   "metadata": {},
   "outputs": [
    {
     "data": {
      "text/plain": [
       "array([[ 0, 12, 24, 36, 48],\n",
       "       [ 4, 16, 28, 40, 52],\n",
       "       [ 8, 20, 32, 44, 56]])"
      ]
     },
     "execution_count": 32,
     "metadata": {},
     "output_type": "execute_result"
    }
   ],
   "source": [
    "m = np.zeros(a.shape, dtype=int)\n",
    "size = a.dtype.itemsize\n",
    "for i in range(a.shape[0]):\n",
    "    for j in range(a.shape[1]):\n",
    "        m[i,j] = (i + j*a.shape[0])*size\n",
    "m"
   ]
  },
  {
   "cell_type": "markdown",
   "metadata": {},
   "source": [
    "fíjate ahora en el siguiente experimento, en el que recorremos las columnas para sumar"
   ]
  },
  {
   "cell_type": "code",
   "execution_count": 33,
   "metadata": {},
   "outputs": [
    {
     "data": {
      "text/plain": [
       "array([343, 108, 350])"
      ]
     },
     "execution_count": 33,
     "metadata": {},
     "output_type": "execute_result"
    }
   ],
   "source": [
    "a.sum(axis=1)"
   ]
  },
  {
   "cell_type": "markdown",
   "metadata": {},
   "source": [
    "o recorremos las filas"
   ]
  },
  {
   "cell_type": "code",
   "execution_count": 34,
   "metadata": {},
   "outputs": [
    {
     "data": {
      "text/plain": [
       "array([172, 184, 184, 197,  64])"
      ]
     },
     "execution_count": 34,
     "metadata": {},
     "output_type": "execute_result"
    }
   ],
   "source": [
    "a.sum(axis=0)"
   ]
  },
  {
   "cell_type": "markdown",
   "metadata": {},
   "source": [
    "y medimos el tiempo en realizar cada operación. Observa que realizamos los experimentos con una matriz cuadrada $(n,n)$ con lo que el número de operaciones en todos los casos es el mismo.\n",
    "\n",
    "**Con el almacenamiento recorriendo por columnas**"
   ]
  },
  {
   "cell_type": "code",
   "execution_count": 36,
   "metadata": {},
   "outputs": [
    {
     "name": "stdout",
     "output_type": "stream",
     "text": [
      "100 500 1000 1500 2000 2500 3000 3500 4000 4500 5000"
     ]
    },
    {
     "data": {
      "text/plain": [
       "<matplotlib.legend.Legend at 0x10b2bbf10>"
      ]
     },
     "execution_count": 36,
     "metadata": {},
     "output_type": "execute_result"
    },
    {
     "name": "stdout",
     "output_type": "stream",
     "text": [
      "\n"
     ]
    },
    {
     "data": {
      "image/png": "[encoded data removed]",
      "text/plain": [
       "<Figure size 432x288 with 1 Axes>"
      ]
     },
     "metadata": {},
     "output_type": "display_data"
    }
   ],
   "source": [
    "import matplotlib.pyplot as plt\n",
    "%matplotlib inline\n",
    "\n",
    "dtype = np.int32\n",
    "trows, tcols = [], []\n",
    "n_set = [100,500,1000,1500, 2000, 2500, 3000, 3500, 4000, 4500, 5000]\n",
    "for n in n_set:\n",
    "    print n, \n",
    "    k = np.zeros ((n,n)).astype(dtype)\n",
    "\n",
    "    t = %timeit -o -q -r 3 -n 3 k.sum(axis=0)\n",
    "    trows.append(t.best)\n",
    "\n",
    "    t = %timeit -o -q -r 3 -n 3 k.sum(axis=1)\n",
    "    tcols.append(t.best)\n",
    "\n",
    "plt.plot(n_set, trows, label=\"rows\")\n",
    "plt.plot(n_set, tcols, label=\"cols\")\n",
    "plt.xlabel(\"size of array\")\n",
    "plt.ylabel(\"time\")\n",
    "plt.grid()\n",
    "plt.legend() "
   ]
  },
  {
   "cell_type": "markdown",
   "metadata": {},
   "source": [
    "**Con el almacenamiento recorriendo por filas**"
   ]
  },
  {
   "cell_type": "code",
   "execution_count": 37,
   "metadata": {},
   "outputs": [
    {
     "name": "stdout",
     "output_type": "stream",
     "text": [
      "100 500 1000 1500 2000 2500 3000 3500 4000 4500 5000"
     ]
    },
    {
     "data": {
      "text/plain": [
       "<matplotlib.legend.Legend at 0x10b3b5b50>"
      ]
     },
     "execution_count": 37,
     "metadata": {},
     "output_type": "execute_result"
    },
    {
     "name": "stdout",
     "output_type": "stream",
     "text": [
      "\n"
     ]
    },
    {
     "data": {
      "image/png": "[encoded data removed]",
      "text/plain": [
       "<Figure size 432x288 with 1 Axes>"
      ]
     },
     "metadata": {},
     "output_type": "display_data"
    }
   ],
   "source": [
    "dtype = np.int32\n",
    "trows, tcols = [], []\n",
    "n_set = [100,500,1000,1500, 2000, 2500, 3000, 3500, 4000, 4500, 5000]\n",
    "for n in n_set:\n",
    "    print n, \n",
    "    k = np.zeros ((n,n)).astype(dtype)\n",
    "    k = np.asfortranarray(k)\n",
    "\n",
    "    t = %timeit -o -q -r 3 -n 3 k.sum(axis=0)\n",
    "    trows.append(t.best)\n",
    "\n",
    "    t = %timeit -o -q -r 3 -n 3 k.sum(axis=1)\n",
    "    tcols.append(t.best)\n",
    "\n",
    "plt.plot(n_set, trows, label=\"rows\")\n",
    "plt.plot(n_set, tcols, label=\"cols\")\n",
    "plt.xlabel(\"size of array\")\n",
    "plt.ylabel(\"time\")\n",
    "plt.grid()\n",
    "plt.legend() "
   ]
  },
  {
   "cell_type": "markdown",
   "metadata": {},
   "source": [
    "### El mismo experimento en C\n",
    "\n",
    "observa cómo:\n",
    "\n",
    "- las funciones `ij` y `ji` recorren un array por filas o por columnas usando la aritmética de punteros de C\n",
    "- medimos los tiempos de ejecución con distintos tamaños de arrays\n",
    "- escribimos los resultados de tiempos en un fichero de texto\n",
    "- cargamos el fichero de texto desde Python y pintamos la gráfica."
   ]
  },
  {
   "cell_type": "code",
   "execution_count": 321,
   "metadata": {},
   "outputs": [
    {
     "name": "stdout",
     "output_type": "stream",
     "text": [
      "Overwriting tmp/access_order_example.c\n"
     ]
    }
   ],
   "source": [
    "%%writefile tmp/access_order_example.c\n",
    "#include <stdlib.h>\n",
    "#include \"rlxutils.h\"\n",
    "\n",
    "void ji(char *arr, long SIZE) {\n",
    "    long i,j;\n",
    "    for (j=0; j<SIZE; j++) {\n",
    "     for (i=0; i<SIZE; i++) {\n",
    "         arr[i+SIZE*j]++;\n",
    "     }\n",
    "    }\n",
    "}\n",
    "\n",
    "void ij(char *arr, long SIZE) {\n",
    "    long i,j;\n",
    "    for (i=0; i<SIZE; i++) {\n",
    "       for (j=0; j<SIZE; j++) {\n",
    "           arr[i+SIZE*j]++;\n",
    "       }\n",
    "    }\n",
    "}\n",
    "\n",
    "int main(int argc, char **argv) {\n",
    "    struct timespec tsi, tsf;\n",
    "    long N = 10;  \n",
    "    long i,j,k,s;\n",
    "    double time_diff;\n",
    "\n",
    "    char *fname = \"tmp/Carrays.data\";\n",
    "    printf (\"writing to file %s and stdout\\n\", fname);\n",
    "    FILE *f = fopen(fname, \"w\");\n",
    "    if (f == NULL)\n",
    "    {\n",
    "        printf(\"Error opening file %s\\n\",fname);\n",
    "        exit(1);\n",
    "    }\n",
    "\n",
    "    double time_ij[N];\n",
    "    double time_ji[N];\n",
    "\n",
    "    long sizes[] = {8, 16, 32, 64, 128, 384, 512, 640, 768, 1024, 1536, 2048, 2560,3072, 3584};\n",
    "\n",
    "    long ssizes = sizeof(sizes)/sizeof(long);\n",
    "    char *header = \"iteration array_size elapsed_time_ij elapsed_time_ji\\n\";\n",
    "    printf(    \"%s\", header);\n",
    "    fprintf(f, \"%s\", header);\n",
    "\n",
    "    for (s=0; s<ssizes; s++) {\n",
    "      long array_size = sizes[s];\n",
    "      for (k=0; k<N; k++) {\n",
    "\n",
    "          char *arr = malloc(array_size*array_size*sizeof(char));\n",
    "          current_utc_time(&tsi);\n",
    "          ij(arr, array_size);\n",
    "          current_utc_time(&tsf);\n",
    "          time_ij[k] = get_time_diff(tsi, tsf);\n",
    "\n",
    "          current_utc_time(&tsi);\n",
    "          ji(arr, array_size);\n",
    "          current_utc_time(&tsf);\n",
    "          time_ji[k] = get_time_diff(tsi, tsf);\n",
    "\n",
    "          free(arr);\n",
    "      }\n",
    "      double total_array_size = power(sizes[s],2);\n",
    "      printf(    \"%lu %3.10f %lf %lf\\n\",s, total_array_size/1024, avg(time_ij, N), avg(time_ji,N));\n",
    "      fprintf(f, \"%lu %3.10f %lf %lf\\n\",s, total_array_size/1024, avg(time_ij, N), avg(time_ji,N));\n",
    "\n",
    "    }\n",
    "    fclose(f);\n",
    "    return 0; \n",
    "\n",
    "}"
   ]
  },
  {
   "cell_type": "code",
   "execution_count": 322,
   "metadata": {},
   "outputs": [
    {
     "name": "stdout",
     "output_type": "stream",
     "text": [
      "rm -rf *.o tmp/access_order_example /home/user/share/teaching/logicIII/student/course_materials/utils/*.o\n",
      "--------------------------------------\n",
      "- bulding tmp/access_order_example\n",
      "--------------------------------------\n",
      "INCLUDES /home/user/share/teaching/logicIII/student/course_materials/utils\n",
      "SOURCES tmp/access_order_example.c\t /home/user/share/teaching/logicIII/student/course_materials/utils/rlxutils.c\n",
      "ROOT DIR /home/user/share/teaching/logicIII/student/course_materials/utils\n",
      "gcc -c -fopenmp -Wno-format -D LINUX -I/home/user/share/teaching/logicIII/student/course_materials/utils tmp/access_order_example.c -o tmp/access_order_example.o\n",
      "INCLUDES /home/user/share/teaching/logicIII/student/course_materials/utils\n",
      "SOURCES tmp/access_order_example.c\t /home/user/share/teaching/logicIII/student/course_materials/utils/rlxutils.c\n",
      "ROOT DIR /home/user/share/teaching/logicIII/student/course_materials/utils\n",
      "gcc -c -fopenmp -Wno-format -D LINUX -I/home/user/share/teaching/logicIII/student/course_materials/utils /home/user/share/teaching/logicIII/student/course_materials/utils/rlxutils.c -o /home/user/share/teaching/logicIII/student/course_materials/utils/rlxutils.o\n",
      "gcc tmp/access_order_example.o /home/user/share/teaching/logicIII/student/course_materials/utils/rlxutils.o -o tmp/access_order_example -fopenmp -lrt \n"
     ]
    }
   ],
   "source": [
    "!make -f files/Makefile-p1.1 clean all"
   ]
  },
  {
   "cell_type": "code",
   "execution_count": 323,
   "metadata": {},
   "outputs": [
    {
     "name": "stdout",
     "output_type": "stream",
     "text": [
      "writing to file tmp/Carrays.data and stdout\n",
      "iteration array_size elapsed_time_ij elapsed_time_ji\n",
      "0 0.0625000000 0.000000 0.000000\n",
      "1 0.2500000000 0.000001 0.000001\n",
      "2 1.0000000000 0.000005 0.000004\n",
      "3 4.0000000000 0.000020 0.000016\n",
      "4 16.0000000000 0.000081 0.000068\n",
      "5 144.0000000000 0.000710 0.000508\n",
      "6 256.0000000000 0.000966 0.000555\n",
      "7 400.0000000000 0.001412 0.000733\n",
      "8 576.0000000000 0.001808 0.001081\n",
      "9 1024.0000000000 0.004375 0.001898\n",
      "10 2304.0000000000 0.008337 0.004210\n",
      "11 4096.0000000000 0.023813 0.007289\n",
      "12 6400.0000000000 0.027850 0.011524\n",
      "13 9216.0000000000 0.054625 0.016484\n",
      "14 12544.0000000000 0.085237 0.023053\n"
     ]
    }
   ],
   "source": [
    "!./tmp/access_order_example "
   ]
  },
  {
   "cell_type": "code",
   "execution_count": 324,
   "metadata": {},
   "outputs": [
    {
     "data": {
      "text/html": [
       "<div>\n",
       "<style scoped>\n",
       "    .dataframe tbody tr th:only-of-type {\n",
       "        vertical-align: middle;\n",
       "    }\n",
       "\n",
       "    .dataframe tbody tr th {\n",
       "        vertical-align: top;\n",
       "    }\n",
       "\n",
       "    .dataframe thead th {\n",
       "        text-align: right;\n",
       "    }\n",
       "</style>\n",
       "<table border=\"1\" class=\"dataframe\">\n",
       "  <thead>\n",
       "    <tr style=\"text-align: right;\">\n",
       "      <th></th>\n",
       "      <th>iteration</th>\n",
       "      <th>array_size</th>\n",
       "      <th>elapsed_time_ij</th>\n",
       "      <th>elapsed_time_ji</th>\n",
       "    </tr>\n",
       "  </thead>\n",
       "  <tbody>\n",
       "    <tr>\n",
       "      <th>0</th>\n",
       "      <td>0</td>\n",
       "      <td>0.0625</td>\n",
       "      <td>0.000000</td>\n",
       "      <td>0.000000</td>\n",
       "    </tr>\n",
       "    <tr>\n",
       "      <th>1</th>\n",
       "      <td>1</td>\n",
       "      <td>0.2500</td>\n",
       "      <td>0.000001</td>\n",
       "      <td>0.000001</td>\n",
       "    </tr>\n",
       "    <tr>\n",
       "      <th>2</th>\n",
       "      <td>2</td>\n",
       "      <td>1.0000</td>\n",
       "      <td>0.000005</td>\n",
       "      <td>0.000004</td>\n",
       "    </tr>\n",
       "    <tr>\n",
       "      <th>3</th>\n",
       "      <td>3</td>\n",
       "      <td>4.0000</td>\n",
       "      <td>0.000020</td>\n",
       "      <td>0.000016</td>\n",
       "    </tr>\n",
       "    <tr>\n",
       "      <th>4</th>\n",
       "      <td>4</td>\n",
       "      <td>16.0000</td>\n",
       "      <td>0.000081</td>\n",
       "      <td>0.000068</td>\n",
       "    </tr>\n",
       "    <tr>\n",
       "      <th>5</th>\n",
       "      <td>5</td>\n",
       "      <td>144.0000</td>\n",
       "      <td>0.000710</td>\n",
       "      <td>0.000508</td>\n",
       "    </tr>\n",
       "    <tr>\n",
       "      <th>6</th>\n",
       "      <td>6</td>\n",
       "      <td>256.0000</td>\n",
       "      <td>0.000966</td>\n",
       "      <td>0.000555</td>\n",
       "    </tr>\n",
       "    <tr>\n",
       "      <th>7</th>\n",
       "      <td>7</td>\n",
       "      <td>400.0000</td>\n",
       "      <td>0.001412</td>\n",
       "      <td>0.000733</td>\n",
       "    </tr>\n",
       "    <tr>\n",
       "      <th>8</th>\n",
       "      <td>8</td>\n",
       "      <td>576.0000</td>\n",
       "      <td>0.001808</td>\n",
       "      <td>0.001081</td>\n",
       "    </tr>\n",
       "    <tr>\n",
       "      <th>9</th>\n",
       "      <td>9</td>\n",
       "      <td>1024.0000</td>\n",
       "      <td>0.004375</td>\n",
       "      <td>0.001898</td>\n",
       "    </tr>\n",
       "    <tr>\n",
       "      <th>10</th>\n",
       "      <td>10</td>\n",
       "      <td>2304.0000</td>\n",
       "      <td>0.008337</td>\n",
       "      <td>0.004210</td>\n",
       "    </tr>\n",
       "    <tr>\n",
       "      <th>11</th>\n",
       "      <td>11</td>\n",
       "      <td>4096.0000</td>\n",
       "      <td>0.023813</td>\n",
       "      <td>0.007289</td>\n",
       "    </tr>\n",
       "    <tr>\n",
       "      <th>12</th>\n",
       "      <td>12</td>\n",
       "      <td>6400.0000</td>\n",
       "      <td>0.027850</td>\n",
       "      <td>0.011524</td>\n",
       "    </tr>\n",
       "    <tr>\n",
       "      <th>13</th>\n",
       "      <td>13</td>\n",
       "      <td>9216.0000</td>\n",
       "      <td>0.054625</td>\n",
       "      <td>0.016484</td>\n",
       "    </tr>\n",
       "    <tr>\n",
       "      <th>14</th>\n",
       "      <td>14</td>\n",
       "      <td>12544.0000</td>\n",
       "      <td>0.085237</td>\n",
       "      <td>0.023053</td>\n",
       "    </tr>\n",
       "  </tbody>\n",
       "</table>\n",
       "</div>"
      ],
      "text/plain": [
       "    iteration  array_size  elapsed_time_ij  elapsed_time_ji\n",
       "0           0      0.0625         0.000000         0.000000\n",
       "1           1      0.2500         0.000001         0.000001\n",
       "2           2      1.0000         0.000005         0.000004\n",
       "3           3      4.0000         0.000020         0.000016\n",
       "4           4     16.0000         0.000081         0.000068\n",
       "5           5    144.0000         0.000710         0.000508\n",
       "6           6    256.0000         0.000966         0.000555\n",
       "7           7    400.0000         0.001412         0.000733\n",
       "8           8    576.0000         0.001808         0.001081\n",
       "9           9   1024.0000         0.004375         0.001898\n",
       "10         10   2304.0000         0.008337         0.004210\n",
       "11         11   4096.0000         0.023813         0.007289\n",
       "12         12   6400.0000         0.027850         0.011524\n",
       "13         13   9216.0000         0.054625         0.016484\n",
       "14         14  12544.0000         0.085237         0.023053"
      ]
     },
     "execution_count": 324,
     "metadata": {},
     "output_type": "execute_result"
    }
   ],
   "source": [
    "import pandas as pd \n",
    "df = pd.read_csv(\"tmp/Carrays.data\", sep=\" \")\n",
    "\n",
    "it_number = df['iteration']\n",
    "x_labels  = df['array_size']\n",
    "\n",
    "df"
   ]
  },
  {
   "cell_type": "code",
   "execution_count": 330,
   "metadata": {},
   "outputs": [
    {
     "data": {
      "image/png": "[encoded data removed]",
      "text/plain": [
       "<matplotlib.figure.Figure at 0x7f0bdfbb7050>"
      ]
     },
     "metadata": {},
     "output_type": "display_data"
    }
   ],
   "source": [
    "plots = []\n",
    "legends = []\n",
    "for k in df.keys()[2:]:\n",
    "    p, = plt.plot(it_number,df[k])\n",
    "    plots = plots + [p]\n",
    "    legends = legends+[k]\n",
    "\n",
    "#plt.set_xticks(it_number)\n",
    "plt.legend(plots, legends, loc=2)\n",
    "plt.xticks(it_number, [str(int(i)) for i in x_labels], rotation=\"vertical\")\n",
    "plt.xlabel(\"total array size (KB)\")\n",
    "plt.ylabel(\"secs\")\n",
    "plt.grid()"
   ]
  },
  {
   "cell_type": "markdown",
   "metadata": {},
   "source": [
    "## Especificación del orden de almacenamiento\n",
    "\n",
    "Cuando el almacenamiento en memoria de un array es con la con convención de C, se recorren primero las columnas (eje 1) y luego las filas (eje 0). **En este caso se describe con la tupla (1,0)**, indicando qué eje se recorre primero para almacenar en memoria."
   ]
  },
  {
   "cell_type": "code",
   "execution_count": 19,
   "metadata": {},
   "outputs": [
    {
     "name": "stdout",
     "output_type": "stream",
     "text": [
      "[[ 0  4]\n",
      " [ 8 12]]\n"
     ]
    }
   ],
   "source": [
    "a = np.random.randint(100, size=(2,2)).astype(np.int32)\n",
    "print get_mempositions(a, relative=True)"
   ]
  },
  {
   "cell_type": "markdown",
   "metadata": {},
   "source": [
    "fíjate cómo al recorrer el eje 1 se llena una matriz"
   ]
  },
  {
   "cell_type": "code",
   "execution_count": 42,
   "metadata": {},
   "outputs": [
    {
     "name": "stdout",
     "output_type": "stream",
     "text": [
      "[[0 1 2 3 4]\n",
      " [0 0 0 0 0]\n",
      " [0 0 0 0 0]\n",
      " [0 0 0 0 0]]\n"
     ]
    }
   ],
   "source": [
    "a = np.zeros((4,5)).astype(int)\n",
    "for i in range(a.shape[1]):\n",
    "    a[0,i] = i\n",
    "print a"
   ]
  },
  {
   "cell_type": "code",
   "execution_count": null,
   "metadata": {},
   "outputs": [],
   "source": []
  },
  {
   "cell_type": "markdown",
   "metadata": {},
   "source": [
    "en cambio cuando se usa la convención de FORTRAN para almacenar en memoria, **el orden es al reves y se describe con la tupla (0,1)** "
   ]
  },
  {
   "cell_type": "code",
   "execution_count": 38,
   "metadata": {},
   "outputs": [
    {
     "name": "stdout",
     "output_type": "stream",
     "text": [
      "[[ 0  8]\n",
      " [ 4 12]]\n"
     ]
    }
   ],
   "source": [
    "a = np.random.randint(100, size=(2,2)).astype(np.int32)\n",
    "a = np.asfortranarray(a)\n",
    "print get_mempositions(a, relative=True)"
   ]
  },
  {
   "cell_type": "markdown",
   "metadata": {},
   "source": [
    "fíjate en este caso cómo sucede al recorrer por el eje 0"
   ]
  },
  {
   "cell_type": "code",
   "execution_count": 43,
   "metadata": {},
   "outputs": [
    {
     "name": "stdout",
     "output_type": "stream",
     "text": [
      "[[0 0 0 0 0]\n",
      " [1 0 0 0 0]\n",
      " [2 0 0 0 0]\n",
      " [3 0 0 0 0]]\n"
     ]
    }
   ],
   "source": [
    "a = np.zeros((4,5)).astype(int)\n",
    "for i in range(a.shape[0]):\n",
    "    a[i,0] = i\n",
    "print a"
   ]
  },
  {
   "cell_type": "markdown",
   "metadata": {},
   "source": [
    "fíjate en el caso de $n=3$ con matrices de tres dimensiones. Con la convención de C, el orden de ejes es **(2,1,0)**"
   ]
  },
  {
   "cell_type": "code",
   "execution_count": 56,
   "metadata": {},
   "outputs": [
    {
     "name": "stdout",
     "output_type": "stream",
     "text": [
      "[[[ 0  4  8 12]\n",
      "  [16 20 24 28]\n",
      "  [32 36 40 44]]\n",
      "\n",
      " [[48 52 56 60]\n",
      "  [64 68 72 76]\n",
      "  [80 84 88 92]]]\n"
     ]
    }
   ],
   "source": [
    "a = np.random.randint(100, size=(2,3,4)).astype(np.int32)\n",
    "print get_mempositions(a, relative=True)"
   ]
  },
  {
   "cell_type": "markdown",
   "metadata": {},
   "source": [
    "En este caso no es obvio identificar cada eje. Usa el siguiente código para visualizar cual es cada eje\n"
   ]
  },
  {
   "cell_type": "code",
   "execution_count": 52,
   "metadata": {},
   "outputs": [
    {
     "name": "stdout",
     "output_type": "stream",
     "text": [
      "eje 0\n",
      "[[[0 0 0 0]\n",
      "  [0 0 0 0]\n",
      "  [0 0 0 0]]\n",
      "\n",
      " [[1 0 0 0]\n",
      "  [0 0 0 0]\n",
      "  [0 0 0 0]]]\n",
      "\n",
      "eje 1\n",
      "[[[0 0 0 0]\n",
      "  [1 0 0 0]\n",
      "  [2 0 0 0]]\n",
      "\n",
      " [[0 0 0 0]\n",
      "  [0 0 0 0]\n",
      "  [0 0 0 0]]]\n",
      "\n",
      "eje 2\n",
      "[[[0 1 2 3]\n",
      "  [0 0 0 0]\n",
      "  [0 0 0 0]]\n",
      "\n",
      " [[0 0 0 0]\n",
      "  [0 0 0 0]\n",
      "  [0 0 0 0]]]\n"
     ]
    }
   ],
   "source": [
    "print \"eje 0\"\n",
    "a = np.zeros((2,3,4)).astype(int)\n",
    "for i in range(a.shape[0]):\n",
    "    a[i,0,0] = i\n",
    "print a\n",
    "\n",
    "print \"\\neje 1\"\n",
    "a = np.zeros((2,3,4)).astype(int)\n",
    "for i in range(a.shape[1]):\n",
    "    a[0,i,0] = i\n",
    "print a\n",
    "\n",
    "print \"\\neje 2\"\n",
    "a = np.zeros((2,3,4)).astype(int)\n",
    "for i in range(a.shape[2]):\n",
    "    a[0,0,i] = i\n",
    "print a"
   ]
  },
  {
   "cell_type": "markdown",
   "metadata": {},
   "source": [
    "pero con la convención de FORTRAN, el orden es **(0,1,2)**"
   ]
  },
  {
   "cell_type": "code",
   "execution_count": 57,
   "metadata": {},
   "outputs": [
    {
     "name": "stdout",
     "output_type": "stream",
     "text": [
      "[[[ 0 24 48 72]\n",
      "  [ 8 32 56 80]\n",
      "  [16 40 64 88]]\n",
      "\n",
      " [[ 4 28 52 76]\n",
      "  [12 36 60 84]\n",
      "  [20 44 68 92]]]\n"
     ]
    }
   ],
   "source": [
    "a = np.random.randint(100, size=(2,3,4)).astype(np.int32)\n",
    "a = np.asfortranarray(a)\n",
    "print get_mempositions(a, relative=True)"
   ]
  },
  {
   "cell_type": "markdown",
   "metadata": {},
   "source": [
    "juega igualmente para entender cual es cada eje como en el ejemplo anterior"
   ]
  },
  {
   "cell_type": "markdown",
   "metadata": {},
   "source": [
    "### Slicing en Python\n",
    "\n",
    "Fíjate cómo podemos indexar de manera genérica cualquier estructura de Python a través de objetos `slice` ([ejemplos](https://www.programiz.com/python-programming/methods/built-in/slice))"
   ]
  },
  {
   "cell_type": "code",
   "execution_count": 105,
   "metadata": {},
   "outputs": [
    {
     "data": {
      "text/plain": [
       "array([[4, 0, 9, 3, 1, 1, 5, 6, 1, 9],\n",
       "       [1, 3, 6, 9, 6, 2, 7, 6, 6, 7],\n",
       "       [4, 7, 3, 1, 9, 1, 1, 4, 5, 7]])"
      ]
     },
     "execution_count": 105,
     "metadata": {},
     "output_type": "execute_result"
    }
   ],
   "source": [
    "a = np.random.randint(10, size=(3,10))\n",
    "a"
   ]
  },
  {
   "cell_type": "markdown",
   "metadata": {},
   "source": [
    "estas dos operaciones son equivalentes"
   ]
  },
  {
   "cell_type": "code",
   "execution_count": 106,
   "metadata": {},
   "outputs": [
    {
     "name": "stdout",
     "output_type": "stream",
     "text": [
      "[[3 1 1 5 6]\n",
      " [9 6 2 7 6]\n",
      " [1 9 1 1 4]]\n",
      "[[3 1 1 5 6]\n",
      " [9 6 2 7 6]\n",
      " [1 9 1 1 4]]\n"
     ]
    }
   ],
   "source": [
    "print a[:, 3:8]\n",
    "print a[slice(None, None, None), slice(3,8,None)]"
   ]
  },
  {
   "cell_type": "markdown",
   "metadata": {},
   "source": [
    " y podemos construir especificaciones de `slices` programáticamente y usarlas como cualquier otra variable"
   ]
  },
  {
   "cell_type": "code",
   "execution_count": 112,
   "metadata": {},
   "outputs": [
    {
     "name": "stdout",
     "output_type": "stream",
     "text": [
      "[[9 3 1]\n",
      " [6 9 6]\n",
      " [3 1 9]]\n"
     ]
    }
   ],
   "source": [
    "slices = [slice(2,5,None) if i==len(a.shape)-1 else slice(None, None, None)  for i in range(len(a.shape))]\n",
    "print a[slices]"
   ]
  },
  {
   "cell_type": "markdown",
   "metadata": {},
   "source": [
    "fíjate que la expresión anterior funciona si tenemos más dimensiones"
   ]
  },
  {
   "cell_type": "code",
   "execution_count": 114,
   "metadata": {},
   "outputs": [
    {
     "name": "stdout",
     "output_type": "stream",
     "text": [
      "[[[0 6 7 2 7 6 5 1]\n",
      "  [9 7 6 4 0 4 8 3]\n",
      "  [3 0 8 6 1 7 9 6]]\n",
      "\n",
      " [[4 6 2 0 9 1 7 9]\n",
      "  [7 5 2 7 3 6 1 1]\n",
      "  [0 8 2 1 8 1 9 7]]]\n"
     ]
    }
   ],
   "source": [
    "a = np.random.randint(10, size=(2,3,8))\n",
    "print a"
   ]
  },
  {
   "cell_type": "code",
   "execution_count": 115,
   "metadata": {},
   "outputs": [
    {
     "name": "stdout",
     "output_type": "stream",
     "text": [
      "[[[7 2 7]\n",
      "  [6 4 0]\n",
      "  [8 6 1]]\n",
      "\n",
      " [[2 0 9]\n",
      "  [2 7 3]\n",
      "  [2 1 8]]]\n"
     ]
    }
   ],
   "source": [
    "slices = [slice(2,5,None) if i==len(a.shape)-1 else slice(None, None, None)  for i in range(len(a.shape))]\n",
    "print a[slices]"
   ]
  },
  {
   "cell_type": "markdown",
   "metadata": {},
   "source": [
    "# Ejercicios propuestos:\n",
    "\n",
    "- Determine una fórmula de direccionamiento para representar un arreglo de tres dimensiones en memoria.\n",
    "- Determina una fórmula de direccionamiento para un arreglo de $n$ dimensiones en memoria."
   ]
  },
  {
   "cell_type": "code",
   "execution_count": null,
   "metadata": {},
   "outputs": [],
   "source": []
  }
 ],
 "metadata": {
  "kernelspec": {
   "display_name": "Python 2",
   "language": "python",
   "name": "python2"
  },
  "language_info": {
   "codemirror_mode": {
    "name": "ipython",
    "version": 2
   },
   "file_extension": ".py",
   "mimetype": "text/x-python",
   "name": "python",
   "nbconvert_exporter": "python",
   "pygments_lexer": "ipython2",
   "version": "2.7.14"
  }
 },
 "nbformat": 4,
 "nbformat_minor": 2
}

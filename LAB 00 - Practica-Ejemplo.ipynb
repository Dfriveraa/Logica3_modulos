{
 "cells": [
  {
   "cell_type": "markdown",
   "metadata": {},
   "source": [
    "## Taller de Ejemplo\n",
    "\n",
    "## EJECUTA ESTA CELDA PARA AUTENTICARTE CON TU CUENTA DE GMAIL"
   ]
  },
  {
   "cell_type": "code",
   "execution_count": 1,
   "metadata": {},
   "outputs": [
    {
     "name": "stdout",
     "output_type": "stream",
     "text": [
      "CLICK ON THIS LINK TO AUTHENTICATE WITH YOUR GMAIL ACCOUNT\n",
      "https://accounts.google.com/o/oauth2/auth?scope=profile+email&redirect_uri=http%3A%2F%2Flocalhost%3A8080&response_type=code&client_id=486275613361-7nk9ktukfcfjevfoe3tamjp0pmbjmprs.apps.googleusercontent.com&access_type=offline\n",
      "waiting for authentication ...\n",
      "authentication succeeded\n"
     ]
    },
    {
     "data": {
      "text/html": [
       "<table><tr><td><img src='https://lh3.googleusercontent.com/-wIJFN6ADFV8/AAAAAAAAAAI/AAAAAAAAAGU/qijBS-KpfmY/photo.jpg' width=60 height=60/></td><td>daniel.riveraa@udea.edu.co<br/>DANIEL   FELIPE RIVERA ARROYAVE<br/>google id: 107960807606835866040<br/>authorization code: 4/AADjc8S3Jx0emoYOhRgjWotm3roBoBRGoyxILGXrj5d4SyAW8ntoPKlyPQa-HsYz7eN6C1KGgwybHQjSsN1-O20</td></tr></table>"
      ],
      "text/plain": [
       "<IPython.core.display.HTML object>"
      ]
     },
     "execution_count": 1,
     "metadata": {},
     "output_type": "execute_result"
    }
   ],
   "source": [
    "!pip install -q oauth2client==1.5.2\n",
    "from mooclib import *\n",
    "import sys\n",
    "sys.path.append(\"./utils/student_function/\")\n",
    "import inspect, urllib\n",
    "html, auth_code, userinfo = google_authenticate(PORT_NUMBER=8080)\n",
    "html"
   ]
  },
  {
   "cell_type": "markdown",
   "metadata": {},
   "source": [
    "### Ejercicio 1: Suma dos matrices"
   ]
  },
  {
   "cell_type": "markdown",
   "metadata": {},
   "source": [
    "Completa la función `suma_matrices` para que, dadas dos arrays numpy cualquiera devuelva la suma elemento a elemento.\n",
    "\n",
    "#### Ejemplo de ejecución\n",
    "\n",
    "    > s = np.array([1,2,3])\n",
    "    > t = np.array([4,5,6])\n",
    "    > suma_matrices(s,t)\n",
    "    \n",
    "      [5 7 9]\n",
    "     "
   ]
  },
  {
   "cell_type": "code",
   "execution_count": 2,
   "metadata": {},
   "outputs": [
    {
     "name": "stdout",
     "output_type": "stream",
     "text": [
      "Writing ./utils/student_function/PS00_01.py\n"
     ]
    }
   ],
   "source": [
    "%%writefile ./utils/student_function/PS00_01.py\n",
    "\n",
    "import numpy as np\n",
    "\n",
    "def suma_matrices(a,b):\n",
    "    ## --- TU CODIGO AQUI ---\n",
    "    result = a+b\n",
    "    return result\n"
   ]
  },
  {
   "cell_type": "markdown",
   "metadata": {},
   "source": [
    "comprueba manualmente tu código"
   ]
  },
  {
   "cell_type": "code",
   "execution_count": 3,
   "metadata": {},
   "outputs": [
    {
     "name": "stdout",
     "output_type": "stream",
     "text": [
      "[[9 3]\n",
      " [9 6]\n",
      " [9 5]]\n",
      "[[1 1]\n",
      " [0 9]\n",
      " [9 9]]\n",
      "[[10  4]\n",
      " [ 9 15]\n",
      " [18 14]]\n"
     ]
    }
   ],
   "source": [
    "import PS00_01 as st\n",
    "reload(st)\n",
    "import numpy as np\n",
    "a = np.random.randint(10, size=(3,2))\n",
    "b = np.random.randint(10, size=(3,2))\n",
    "print a\n",
    "print b\n",
    "print st.suma_matrices(a,b)"
   ]
  },
  {
   "cell_type": "markdown",
   "metadata": {},
   "source": [
    "#### comprueba tu código con el corrector automático"
   ]
  },
  {
   "cell_type": "code",
   "execution_count": 4,
   "metadata": {},
   "outputs": [
    {
     "name": "stdout",
     "output_type": "stream",
     "text": [
      "checking your code with 100 random calls\n",
      "** CORRECTO **\n",
      "evaluation result 5.0 \n"
     ]
    }
   ],
   "source": [
    "!./run CHECK_SOLUTION PS00_01"
   ]
  },
  {
   "cell_type": "markdown",
   "metadata": {},
   "source": [
    "#### registra tu solución en línea"
   ]
  },
  {
   "cell_type": "code",
   "execution_count": 5,
   "metadata": {},
   "outputs": [
    {
     "name": "stdout",
     "output_type": "stream",
     "text": [
      "connecting ... registering submission for daniel.riveraa@udea.edu.co ...\n",
      "your personal submissions sheet for 20182-L3 was created, check your email\n",
      "no config found for section PS00, allowing all submissions\n",
      "checking your code with 100 random calls\n",
      "** CORRECTO **\n",
      "your submissions sheet is https://docs.google.com/spreadsheets/d/1QjA5eGBEkEfHxuQDJaqn7YQXH-ECIalATeOgF8dw-nU\n",
      "----\n",
      "evaluation result 5.0 , submission registered\n"
     ]
    }
   ],
   "source": [
    "!./run SUBMIT_SOLUTION PS00_01"
   ]
  },
  {
   "cell_type": "code",
   "execution_count": null,
   "metadata": {},
   "outputs": [],
   "source": []
  }
 ],
 "metadata": {
  "kernelspec": {
   "display_name": "Python 2",
   "language": "python",
   "name": "python2"
  },
  "language_info": {
   "codemirror_mode": {
    "name": "ipython",
    "version": 2
   },
   "file_extension": ".py",
   "mimetype": "text/x-python",
   "name": "python",
   "nbconvert_exporter": "python",
   "pygments_lexer": "ipython2",
   "version": "2.7.14"
  },
  "toc": {
   "toc_cell": false,
   "toc_number_sections": true,
   "toc_threshold": 6,
   "toc_window_display": false
  },
  "widgets": {
   "state": {},
   "version": "1.1.2"
  }
 },
 "nbformat": 4,
 "nbformat_minor": 2
}

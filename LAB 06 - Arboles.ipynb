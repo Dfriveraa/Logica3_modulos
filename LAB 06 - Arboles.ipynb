{
 "cells": [
  {
   "cell_type": "code",
   "execution_count": 6,
   "metadata": {},
   "outputs": [],
   "source": [
    "!pip install -q oauth2client==1.5.2\n",
    "import sys\n",
    "sys.path.append(\"./utils/student_function/\")"
   ]
  },
  {
   "cell_type": "code",
   "execution_count": null,
   "metadata": {},
   "outputs": [],
   "source": [
    "from mooclib import *\n",
    "import inspect, urllib\n",
    "html, auth_code, userinfo = google_authenticate(PORT_NUMBER=8080)\n",
    "html"
   ]
  },
  {
   "cell_type": "markdown",
   "metadata": {},
   "source": [
    "### Heapsort\n",
    "\n",
    "En este taller vamos a implementar el algoritmo de ordenación llamado Heapsort. Consulta [Heapsort en Wikipedia](https://en.wikipedia.org/wiki/Heapsort). Es un algoritmo que, dado un vector:\n",
    "\n",
    "- Lo interpreta como un árbol binario\n",
    "- **Fase 1**: Lo convierte en un **Heap**, es decir, un árbol binario en el que cualquier padre tiene un valor mayor que sus hijos. Esto garantiza que la raíz sea el nodo con mayor valor.\n",
    "- **Fase 2**: Ordena el **Heap** de forma que, sucesivamente, va pasando la raíz al final del árbol\n",
    "\n",
    "Usaremos como base la clase de las notas"
   ]
  },
  {
   "cell_type": "code",
   "execution_count": null,
   "metadata": {},
   "outputs": [],
   "source": [
    "%%writefile ./utils/student_function/PS06.py\n",
    "import numpy as np\n",
    "class VBinTree(object):\n",
    "    \n",
    "    def __init__(self, v):\n",
    "        self.v = np.r_[[i for i in v]] # copy\n",
    "        \n",
    "    def get_height(self):\n",
    "        i,c=0,0\n",
    "        while c<len(self.v):\n",
    "            c += 2**i\n",
    "            i += 1\n",
    "        return i-1\n",
    "    \n",
    "    def get_level(self, i):\n",
    "        n = 0\n",
    "        while sum([2**j for j in range(n)])<=i:\n",
    "            n+=1\n",
    "        return n-1\n",
    "    \n",
    "    def get_children_positions(self, i):\n",
    "        return (2*i+1 if 2*i+1<len(self.v) else None,\\\n",
    "                2*i+2 if 2*i+2<len(self.v) else None)\n",
    "    \n",
    "    def get_parent_position(self, i):\n",
    "        assert type(i)==int and i>=0\n",
    "        return (i-1)/2 if i!=0 else None\n",
    "\n",
    "    def get_sibling_position(self, i):\n",
    "        if i==0:\n",
    "            return None\n",
    "        return [k for k in self.get_children_positions(self.get_parent_position(i)) if k!=i][0]\n",
    "  \n",
    "\n",
    "    def to_indented_string(self, i, level):\n",
    "        c = self.get_children_positions(i)\n",
    "        s = (\" \"*2*level + str(self.v[i]) + \"\\n\") if self.v[i] is not None else \"\"\n",
    "        s += self.to_indented_string(c[0],level+1) if c[0] is not None else \"\"\n",
    "        s += self.to_indented_string(c[1],level+1) if c[1] is not None else \"\"\n",
    "        return s\n",
    "    \n",
    "    def __repr__(self):\n",
    "        return self.to_indented_string(0,0)"
   ]
  },
  {
   "cell_type": "markdown",
   "metadata": {},
   "source": [
    "### Ejercicio 1\n",
    "Implementa el método `shift_down` para que descienda cualquier elemento hasta un punto en el que sus dos hijos son menores, sin pasarse de la posición `end`.\n",
    "\n",
    "Recuerda que:\n",
    "\n",
    "- `sefl.v` es un vector que almacena todos los elementos del array en un orden predeterminado.\n",
    "- `self.get_children_positions` te da en qué lugar de ese vector están almacenados los hijos de un cierto nodo.\n",
    "- `start` es la posición del nodo que queremos desplazar.\n",
    "- `end` es la posición más alta en la que se puede desplazar el nodo.\n",
    "\n",
    "Sugerencia de pseudo código:\n",
    "\n",
    "    1. pos_nodo = start\n",
    "    2. mientras pos_nodo tenga hijos y pos_nodo<=end\n",
    "    3.    intercambiar el valor del nodo por cualquiera de los hijos que sea menor y que no esté más allá de end.\n",
    "    4.    si no se intercambió el nodo, finalizar\n",
    "    \n",
    "\n",
    "ejemplo de ejecución:\n",
    "\n",
    "    import PS06_01 as st\n",
    "    reload(st)\n",
    "    v = [5,9,4,1,6,2,8,3]\n",
    "    print st.VBinTree(v)\n",
    "    print st.VBinTree(v).shift_down(0)\n",
    "    print st.VBinTree(v).shift_down(1)\n",
    "    print st.VBinTree(v).shift_down(3)\n",
    "    \n",
    "salida esperada:\n",
    "\n",
    "    5\n",
    "      9\n",
    "        1\n",
    "          3\n",
    "        6\n",
    "      4\n",
    "        2\n",
    "        8\n",
    "\n",
    "    9\n",
    "      6\n",
    "        1\n",
    "          3\n",
    "        5\n",
    "      4\n",
    "        2\n",
    "        8\n",
    "\n",
    "    5\n",
    "      9\n",
    "        1\n",
    "          3\n",
    "        6\n",
    "      4\n",
    "        2\n",
    "        8\n",
    "\n",
    "    5\n",
    "      9\n",
    "        3\n",
    "          1\n",
    "        6\n",
    "      4\n",
    "        2\n",
    "        8"
   ]
  },
  {
   "cell_type": "code",
   "execution_count": 260,
   "metadata": {},
   "outputs": [
    {
     "name": "stdout",
     "output_type": "stream",
     "text": [
      "Overwriting ./utils/student_function/PS06_01.py\n"
     ]
    }
   ],
   "source": [
    "%%writefile ./utils/student_function/PS06_01.py\n",
    "import PS06\n",
    "class VBinTree(PS06.VBinTree):\n",
    "    \n",
    "    def shift_down(self, start, end=None):\n",
    "        end = len(self.v)-1 if end is None else end\n",
    "        root = start\n",
    "        while self.get_children_positions(root)[0] is not None and self.get_children_positions(root)[0]<=end:\n",
    "            \n",
    "            # .. TU CODIGO AQUI\n",
    "            \n",
    "        return self"
   ]
  },
  {
   "cell_type": "markdown",
   "metadata": {},
   "source": [
    "prueba los siguientes valores de i:\n",
    "- 0 (==5, el nodo root), fíjate hasta donde se mueve\n",
    "- 1 (==9, no se mueve)\n",
    "- 3 (==1, se intercambia con el 3)"
   ]
  },
  {
   "cell_type": "code",
   "execution_count": 261,
   "metadata": {},
   "outputs": [
    {
     "name": "stdout",
     "output_type": "stream",
     "text": [
      "5\n",
      "  9\n",
      "    1\n",
      "      3\n",
      "    6\n",
      "  4\n",
      "    2\n",
      "    8\n",
      "\n",
      "shifting down element 1 whose value is 9\n",
      "5\n",
      "  9\n",
      "    1\n",
      "      3\n",
      "    6\n",
      "  4\n",
      "    2\n",
      "    8\n",
      "\n"
     ]
    }
   ],
   "source": [
    "import PS06_01 as st\n",
    "reload(st)\n",
    "v = [5,9,4,1,6,2,8,3]\n",
    "b = st.VBinTree(v)\n",
    "print b\n",
    "i=1\n",
    "print \"shifting down element\",i,\"whose value is\", b.v[i]\n",
    "b.shift_down(i)\n",
    "print b"
   ]
  },
  {
   "cell_type": "markdown",
   "metadata": {},
   "source": [
    "#### comprueba tu código con el corrector automático"
   ]
  },
  {
   "cell_type": "code",
   "execution_count": null,
   "metadata": {},
   "outputs": [],
   "source": [
    "!./run CHECK_SOLUTION PS06_01"
   ]
  },
  {
   "cell_type": "markdown",
   "metadata": {},
   "source": [
    "#### registra tu solución en línea"
   ]
  },
  {
   "cell_type": "code",
   "execution_count": null,
   "metadata": {},
   "outputs": [],
   "source": [
    "!./run SUBMIT_SOLUTION PS06_01"
   ]
  },
  {
   "cell_type": "code",
   "execution_count": null,
   "metadata": {},
   "outputs": [],
   "source": []
  },
  {
   "cell_type": "markdown",
   "metadata": {},
   "source": [
    "## Ejercicio 2\n",
    "\n",
    "tendremos que hacer un recorrido desde el último nodo que sea padre en el árbol, hasta el primero, llamando al método del ejercicio anterior.\n",
    "\n",
    "para ello, implementaremos primero un método `get_past_parent_position` que, dado un árbol, encuentre la posición del último padre en el vector (que puede tener uno o dos hijos), pero no ninguno."
   ]
  },
  {
   "cell_type": "code",
   "execution_count": 267,
   "metadata": {},
   "outputs": [
    {
     "name": "stdout",
     "output_type": "stream",
     "text": [
      "Overwriting ./utils/student_function/PS06_02.py\n"
     ]
    }
   ],
   "source": [
    "%%writefile ./utils/student_function/PS06_02.py\n",
    "import PS06\n",
    "class VBinTree(PS06.VBinTree):\n",
    "        \n",
    "    def get_last_parent_position(self):\n",
    "        for i in range(len(self.v)-1,-1,-1):\n",
    "            \n",
    "            # ... TU CODIGO AQUI ...\n",
    "\n",
    "        return None"
   ]
  },
  {
   "cell_type": "markdown",
   "metadata": {},
   "source": [
    "**ejemplo de ejecución**: para los siguientes dos árboles, la posición del último padre ha de ser 4 y 2 respectivamente"
   ]
  },
  {
   "cell_type": "code",
   "execution_count": 268,
   "metadata": {},
   "outputs": [
    {
     "name": "stdout",
     "output_type": "stream",
     "text": [
      "\n",
      "\n",
      "tree:\n",
      "5\n",
      "  9\n",
      "    1\n",
      "      3\n",
      "      4\n",
      "    6\n",
      "      5\n",
      "  0\n",
      "    2\n",
      "    8\n",
      "\n",
      "last parent position 4 content 6\n",
      "\n",
      "\n",
      "tree:\n",
      "5\n",
      "  9\n",
      "    1\n",
      "    6\n",
      "  0\n",
      "    2\n",
      "    8\n",
      "\n",
      "last parent position 2 content 0\n"
     ]
    }
   ],
   "source": [
    "import PS06_02 as st\n",
    "reload(st)\n",
    "for v in [[5,9,0,1,6,2,8,3,4,5], [5,9,0,1,6,2,8]]:\n",
    "    b = st.VBinTree(v)\n",
    "    print \"\\n\\ntree:\"\n",
    "    print b\n",
    "    p = b.get_last_parent_position()\n",
    "    print \"last parent position\",p, \"content\", b.v[p]"
   ]
  },
  {
   "cell_type": "markdown",
   "metadata": {},
   "source": [
    "#### comprueba tu código con el corrector automáticom"
   ]
  },
  {
   "cell_type": "code",
   "execution_count": null,
   "metadata": {},
   "outputs": [],
   "source": [
    "!./run CHECK_SOLUTION PS06_02"
   ]
  },
  {
   "cell_type": "markdown",
   "metadata": {},
   "source": [
    "#### registra tu solución en línea\n"
   ]
  },
  {
   "cell_type": "code",
   "execution_count": null,
   "metadata": {},
   "outputs": [],
   "source": [
    "!./run SUBMIT_SOLUTION PS06_02"
   ]
  },
  {
   "cell_type": "markdown",
   "metadata": {},
   "source": [
    "## Ejercicio 3\n",
    "\n",
    "complela el método `make_heap` con un bucle desde el último padre hasta el primer elemento del árbol (su vector) realizando el `shift_down` de cada elemento. Con esto conseguimos que nuestra lista sea un `Heap`. \n"
   ]
  },
  {
   "cell_type": "code",
   "execution_count": 274,
   "metadata": {},
   "outputs": [
    {
     "name": "stdout",
     "output_type": "stream",
     "text": [
      "Overwriting ./utils/student_function/PS06_03.py\n"
     ]
    }
   ],
   "source": [
    "%%writefile ./utils/student_function/PS06_03.py\n",
    "import PS06\n",
    "class VBinTree(PS06.VBinTree):\n",
    "\n",
    "    def shift_down(self, start, end=None):\n",
    "        \n",
    "        # ... TU CODIGO AQUI ...\n",
    "        \n",
    "        return self\n",
    "        \n",
    "    def get_last_parent_position(self):\n",
    "        \n",
    "        # ... TU CODIGO AQUI ...\n",
    "    \n",
    "    def make_heap(self):\n",
    "\n",
    "        # ... TU CODIGO AQUI ...\n"
   ]
  },
  {
   "cell_type": "code",
   "execution_count": 275,
   "metadata": {},
   "outputs": [
    {
     "name": "stdout",
     "output_type": "stream",
     "text": [
      "-- original tree\n",
      "49\n",
      "  33\n",
      "    73\n",
      "      74\n",
      "      13\n",
      "    66\n",
      "      47\n",
      "  37\n",
      "    99\n",
      "    30\n",
      "\n",
      "-- constructed heap\n",
      "\n",
      "99\n",
      "  74\n",
      "    73\n",
      "      33\n",
      "      13\n",
      "    66\n",
      "      47\n",
      "  49\n",
      "    37\n",
      "    30\n",
      "\n"
     ]
    }
   ],
   "source": [
    "import PS06_03 as st\n",
    "reload(st)\n",
    "\n",
    "v = list(np.random.permutation(100)[:10])\n",
    "#v = [2,48,65,95,66,42,30,32]\n",
    "b = st.VBinTree(v)\n",
    "print \"-- original tree\"\n",
    "print b\n",
    "print \"-- constructed heap\"\n",
    "b.make_heap()\n",
    "print\n",
    "print b"
   ]
  },
  {
   "cell_type": "markdown",
   "metadata": {},
   "source": [
    "#### comprueba tu código con el corrector automático"
   ]
  },
  {
   "cell_type": "code",
   "execution_count": null,
   "metadata": {},
   "outputs": [],
   "source": [
    "!./run CHECK_SOLUTION PS06_03"
   ]
  },
  {
   "cell_type": "markdown",
   "metadata": {},
   "source": [
    "#### registra tu solución en línea"
   ]
  },
  {
   "cell_type": "code",
   "execution_count": null,
   "metadata": {},
   "outputs": [],
   "source": [
    "!./run SUBMIT_SOLUTION PS06_03"
   ]
  },
  {
   "cell_type": "markdown",
   "metadata": {},
   "source": [
    "## Ejercicio 4\n",
    "\n",
    "Finalmente, sobre el árbol resultado del ejercicio anterior, en un bucle desde el último nodo hasta el primero, intercambiamos la raíz con dicho nodo.\n",
    "\n",
    "**Pseudocódigo sugerido**:\n",
    "\n",
    "    1. desde nodo=último nodo hasta el primero\n",
    "    2.    intercambia el valor de la raíz del árbol con nodo\n",
    "    3.    haz un shift_down de la raíz del árbol hasta nodo-1\n",
    "\n"
   ]
  },
  {
   "cell_type": "code",
   "execution_count": 281,
   "metadata": {},
   "outputs": [
    {
     "name": "stdout",
     "output_type": "stream",
     "text": [
      "Overwriting ./utils/student_function/PS06_04.py\n"
     ]
    }
   ],
   "source": [
    "%%writefile ./utils/student_function/PS06_04.py\n",
    "import PS06\n",
    "class VBinTree(PS06.VBinTree):\n",
    "\n",
    "    def shift_down(self, start, end=None):\n",
    "\n",
    "        # ... TU CODIGO AQUI ...\n",
    "        \n",
    "    def get_last_parent_position(self):\n",
    "\n",
    "        # ... TU CODIGO AQUI ...\n",
    "    \n",
    "    def make_heap(self):\n",
    "\n",
    "        # ... TU CODIGO AQUI ...\n",
    "                \n",
    "    def sort(self):\n",
    "\n",
    "        # ... TU CODIGO AQUI ...\n",
    "    \n"
   ]
  },
  {
   "cell_type": "markdown",
   "metadata": {},
   "source": [
    "comprueba tu código"
   ]
  },
  {
   "cell_type": "code",
   "execution_count": 282,
   "metadata": {
    "scrolled": false
   },
   "outputs": [
    {
     "name": "stdout",
     "output_type": "stream",
     "text": [
      "-- original tree\n",
      "[77 83 59 29 28 58 22 67  3 45 72 82 10 43 85]\n",
      "-- sorted tree\n",
      "[ 3 10 22 28 29 43 45 58 59 67 72 77 82 83 85]\n"
     ]
    }
   ],
   "source": [
    "import PS06_04 as st\n",
    "v = list(np.random.permutation(100)[:15])\n",
    "\n",
    "b = st.VBinTree(v)\n",
    "print \"-- original tree\"\n",
    "print b.v\n",
    "\n",
    "b.sort()\n",
    "print \"-- sorted tree\"\n",
    "print b.v"
   ]
  },
  {
   "cell_type": "markdown",
   "metadata": {},
   "source": [
    "#### comprueba tu código con el corrector automático"
   ]
  },
  {
   "cell_type": "code",
   "execution_count": null,
   "metadata": {},
   "outputs": [],
   "source": [
    "!./run CHECK_SOLUTION PS06_04"
   ]
  },
  {
   "cell_type": "markdown",
   "metadata": {},
   "source": [
    "#### registra tu solución en línea"
   ]
  },
  {
   "cell_type": "code",
   "execution_count": null,
   "metadata": {},
   "outputs": [],
   "source": [
    "!./run SUBMIT_SOLUTION PS06_04"
   ]
  },
  {
   "cell_type": "markdown",
   "metadata": {},
   "source": [
    "## YA ACABASTE EL TALLER\n",
    "\n"
   ]
  },
  {
   "cell_type": "markdown",
   "metadata": {},
   "source": [
    "### Complejidad computacional\n",
    "\n",
    "Comprobamos experimentalmente que la complejidad computacional es $\\mathcal{O}(n\\log n)$. Fíjate que la notación $\\mathcal{O}$ es un orden de magnitud que es independiente sumas y multiplicaciones por una constante. Para ajustar las mediciones del experimento al ideal de  $\\mathcal{O}(n\\log n)$ tenemos que calcular esa constante. ¿Dónde la calculamos en el código?"
   ]
  },
  {
   "cell_type": "code",
   "execution_count": 254,
   "metadata": {},
   "outputs": [],
   "source": [
    "def heapsort_experiment(n):\n",
    "    import PS06_04 as st\n",
    "    v = list(np.random.permutation(n*5)[:n])\n",
    "    b = st.VBinTree(v)\n",
    "    b.sort()\n",
    "    return"
   ]
  },
  {
   "cell_type": "code",
   "execution_count": 256,
   "metadata": {},
   "outputs": [
    {
     "name": "stdout",
     "output_type": "stream",
     "text": [
      "500 1000 1500 2000 2500 3000 3500 4000\n"
     ]
    }
   ],
   "source": [
    "n_set = np.arange(0,4100,500)[1:]\n",
    "s_times = []\n",
    "for n in n_set:\n",
    "    print n,\n",
    "    t = %timeit -o -q heapsort_experiment(n)\n",
    "    s_times.append(t.best)"
   ]
  },
  {
   "cell_type": "code",
   "execution_count": 257,
   "metadata": {},
   "outputs": [
    {
     "data": {
      "image/png": "[encoded data removed]",
      "text/plain": [
       "<Figure size 432x288 with 1 Axes>"
      ]
     },
     "metadata": {},
     "output_type": "display_data"
    }
   ],
   "source": [
    "import matplotlib.pyplot as plt\n",
    "%matplotlib inline\n",
    "plt.plot(n_set, s_times, label=\"measured\")\n",
    "plt.scatter(n_set, s_times)\n",
    "log = n_set*np.log(n_set)\n",
    "log = log*np.mean(s_times/log)\n",
    "\n",
    "plt.plot(n_set, log, label=\"$\\mathcal{O} (n\\log n)$\")\n",
    "plt.legend()\n",
    "plt.grid()\n",
    "plt.xlabel(\"number of elements\")\n",
    "plt.ylabel(\"time (secs)\");"
   ]
  },
  {
   "cell_type": "markdown",
   "metadata": {},
   "source": [
    "pero fíjate que en el experimento no tenemos la operación de `sort` aislada. Verificamos por tanto que el tiempo de creación de un vector aleatorio es despreciable respecto a nuestro experimento"
   ]
  },
  {
   "cell_type": "code",
   "execution_count": 258,
   "metadata": {},
   "outputs": [
    {
     "name": "stdout",
     "output_type": "stream",
     "text": [
      "500 1000 1500 2000 2500 3000 3500 4000 4500 5000\n"
     ]
    },
    {
     "data": {
      "image/png": "[encoded data removed]",
      "text/plain": [
       "<Figure size 432x288 with 1 Axes>"
      ]
     },
     "metadata": {},
     "output_type": "display_data"
    }
   ],
   "source": [
    "def randomlist_experiment(n):\n",
    "    v = list(np.random.permutation(n*5)[:n])\n",
    "    \n",
    "n_set = np.arange(0,5500,500)[1:]\n",
    "r_times = []\n",
    "for n in n_set:\n",
    "    print n,\n",
    "    t = %timeit -r 10 -n 10 -o -q randomlist_experiment(n)\n",
    "    r_times.append(t.best)\n",
    "    \n",
    "import matplotlib.pyplot as plt\n",
    "%matplotlib inline\n",
    "plt.plot(n_set, r_times)\n",
    "plt.scatter(n_set, r_times)\n",
    "plt.grid()\n",
    "plt.xlabel(\"number of elements\")\n",
    "plt.ylabel(\"time (secs)\");"
   ]
  },
  {
   "cell_type": "code",
   "execution_count": null,
   "metadata": {},
   "outputs": [],
   "source": []
  }
 ],
 "metadata": {
  "kernelspec": {
   "display_name": "Python 2",
   "language": "python",
   "name": "python2"
  },
  "language_info": {
   "codemirror_mode": {
    "name": "ipython",
    "version": 2
   },
   "file_extension": ".py",
   "mimetype": "text/x-python",
   "name": "python",
   "nbconvert_exporter": "python",
   "pygments_lexer": "ipython2",
   "version": "2.7.15"
  }
 },
 "nbformat": 4,
 "nbformat_minor": 2
}

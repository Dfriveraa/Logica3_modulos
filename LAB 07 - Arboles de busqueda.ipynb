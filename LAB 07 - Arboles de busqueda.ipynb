{
 "cells": [
  {
   "cell_type": "code",
   "execution_count": 1,
   "metadata": {},
   "outputs": [],
   "source": [
    "!pip install -q oauth2client==1.5.2\n",
    "import sys\n",
    "sys.path.append(\"./utils/student_function/\")"
   ]
  },
  {
   "cell_type": "code",
   "execution_count": 2,
   "metadata": {},
   "outputs": [
    {
     "name": "stdout",
     "output_type": "stream",
     "text": [
      "CLICK ON THIS LINK TO AUTHENTICATE WITH YOUR GMAIL ACCOUNT\n",
      "https://accounts.google.com/o/oauth2/auth?scope=profile+email&redirect_uri=http%3A%2F%2Flocalhost%3A8080&response_type=code&client_id=486275613361-7nk9ktukfcfjevfoe3tamjp0pmbjmprs.apps.googleusercontent.com&access_type=offline\n",
      "waiting for authentication ...\n",
      "authentication succeeded\n"
     ]
    },
    {
     "data": {
      "text/html": [
       "<table><tr><td><img src='https://lh3.googleusercontent.com/-wIJFN6ADFV8/AAAAAAAAAAI/AAAAAAAAAGU/qijBS-KpfmY/photo.jpg' width=60 height=60/></td><td>daniel.riveraa@udea.edu.co<br/>DANIEL   FELIPE RIVERA ARROYAVE<br/>google id: 107960807606835866040<br/>authorization code: 4/ZwCRGGpHAUihdaeSqCBaFOu6dVTicOwRmRQpHm4gEyo5cQZDhZXfPOUEQ49FAd2u0lfShi1K8ecZ7zMK7oJ6he4</td></tr></table>"
      ],
      "text/plain": [
       "<IPython.core.display.HTML object>"
      ]
     },
     "execution_count": 2,
     "metadata": {},
     "output_type": "execute_result"
    }
   ],
   "source": [
    "from mooclib import *\n",
    "import inspect, urllib\n",
    "html, auth_code, userinfo = google_authenticate(PORT_NUMBER=8080)\n",
    "html"
   ]
  },
  {
   "cell_type": "code",
   "execution_count": 5,
   "metadata": {},
   "outputs": [
    {
     "name": "stdout",
     "output_type": "stream",
     "text": [
      "Writing ./utils/student_function/PS07.py\n"
     ]
    }
   ],
   "source": [
    "%%writefile ./utils/student_function/PS07.py\n",
    "import numpy as np\n",
    "\n",
    "class BTNode:\n",
    "    \n",
    "    def __init__(self, value, left=None, right=None):\n",
    "        self.value = value\n",
    "        self.left  = None\n",
    "        self.right = None\n",
    "        self.parent = None\n",
    "        if left is not None:\n",
    "            self.add_left(left)\n",
    "        if right is not None:\n",
    "            self.add_right(right)\n",
    "    \n",
    "    def add_left(self, value):\n",
    "        assert self.left is None, \"node already has left child\"\n",
    "        self.left  = self.__class__(value) if not isinstance(value,self.__class__) else value\n",
    "        self.left.parent = self\n",
    "        return self\n",
    "        \n",
    "    def add_right(self, value):\n",
    "        assert self.right is None, \"node already has right child\"\n",
    "        self.right  = self.__class__(value) if not isinstance(value,self.__class__) else value\n",
    "        self.right.parent = self\n",
    "        return self\n",
    "    \n",
    "    def swap_children(self):\n",
    "        tmp = self.left\n",
    "        self.left = self.right\n",
    "        self.right = self.left\n",
    "        return self\n",
    "    \n",
    "    def insert_ordered(self, new_value):\n",
    "        if new_value < self.value:\n",
    "            if self.left is None:\n",
    "                self.add_left(new_value)\n",
    "                return self.left\n",
    "            else:\n",
    "                return self.left.insert_ordered(new_value)\n",
    "        else:\n",
    "            if self.right is None:\n",
    "                self.add_right(new_value)\n",
    "                return self.right\n",
    "            else:\n",
    "                return self.right.insert_ordered(new_value)\n",
    "        \n",
    "    def ird(self):\n",
    "        if self.value==None:\n",
    "            return []\n",
    "        s1 = self.left.ird() if self.left is not None else []\n",
    "        s2 = self.right.ird() if self.right is not None else []\n",
    "        return s1+[self.value]+s2    \n",
    "    \n",
    "    def to_indented_string(self, level, prefix=\"\"):\n",
    "        s = (\" \"*2*level + prefix + str(self.value) + \"\\n\") if self.value is not None else \"\"\n",
    "        s += self.left.to_indented_string(level+1, prefix=\"L: \") if self.left is not None else \"\"\n",
    "        s += self.right.to_indented_string(level+1, prefix=\"R: \") if self.right is not None else \"\"\n",
    "        return s       \n",
    "\n",
    "    def __repr__(self):\n",
    "        return self.to_indented_string(0, prefix=\"root: \")\n",
    "\n",
    "    def clone(self):\n",
    "        r = self.__class__(self.value)\n",
    "        \n",
    "        if self.left is not None:\n",
    "            r.left = self.left.clone()\n",
    "            r.left.parent = r\n",
    "        if self.right is not None:\n",
    "            r.right = self.right.clone()\n",
    "            r.right.parent = r\n",
    "        \n",
    "        return r\n",
    "    \n",
    "    @classmethod\n",
    "    def from_list(cls, a_list):\n",
    "        r = cls(a_list[0])\n",
    "        for i in a_list[1:]:\n",
    "            r.insert_ordered(i)\n",
    "        return r\n",
    "    \n",
    "    @classmethod\n",
    "    def sort_list(cls, a_list):\n",
    "        r = cls.from_list(a_list)\n",
    "        return np.r_[r.ird()]"
   ]
  },
  {
   "cell_type": "code",
   "execution_count": 6,
   "metadata": {},
   "outputs": [
    {
     "data": {
      "text/plain": [
       "[1, 2, 4, 10, 12]"
      ]
     },
     "execution_count": 6,
     "metadata": {},
     "output_type": "execute_result"
    }
   ],
   "source": [
    "import PS07\n",
    "reload(PS07)\n",
    "k = PS07.BTNode.from_list([10,2,12,1,4])\n",
    "k.ird()"
   ]
  },
  {
   "cell_type": "code",
   "execution_count": 7,
   "metadata": {},
   "outputs": [
    {
     "data": {
      "text/plain": [
       "[1, 2, 4, 10, 12]"
      ]
     },
     "execution_count": 7,
     "metadata": {},
     "output_type": "execute_result"
    }
   ],
   "source": [
    "k.clone().ird()"
   ]
  },
  {
   "cell_type": "markdown",
   "metadata": {},
   "source": [
    "## Árboles AVL\n",
    "\n",
    "Un árbol binario de búsqueda  se cumple que para cualquier nodo x, todos los datos de los nodos a la izquierda de x son menores que el dato de x y todos los datos de los nodos a la derecha de x son mayores que el dato de x.\n",
    "\n",
    "Esto nos permite realizar **búsquedas binarias** sobre el árbol de manera eficiente. Si el árbol no está balanceado, la búsqueda se vuelve menos eficiente, con lo que nos interesa que, según insertamos nuevos nodos, el árbol se mantenga **binario de búsqueda** y **balanceado**.\n",
    "\n",
    "P.ej. el siguiente árbol no es balanceado porque tiene todos los nodos colgando siempre de la rama derecha."
   ]
  },
  {
   "cell_type": "code",
   "execution_count": 5,
   "metadata": {},
   "outputs": [
    {
     "name": "stdout",
     "output_type": "stream",
     "text": [
      "root: 10\n",
      "  R: 12\n",
      "    R: 14\n",
      "      R: 18\n",
      "        R: 20\n",
      "\n"
     ]
    },
    {
     "data": {
      "text/plain": [
       "[10, 12, 14, 18, 20]"
      ]
     },
     "execution_count": 5,
     "metadata": {},
     "output_type": "execute_result"
    }
   ],
   "source": [
    "k = PS07.BTNode.from_list([10,12,14,18,20])\n",
    "print k\n",
    "k.ird()"
   ]
  },
  {
   "cell_type": "markdown",
   "metadata": {},
   "source": [
    "en cambio el siguiente tiene los nodos más balencados y produce el mismo IRD"
   ]
  },
  {
   "cell_type": "code",
   "execution_count": 6,
   "metadata": {},
   "outputs": [
    {
     "name": "stdout",
     "output_type": "stream",
     "text": [
      "root: 14\n",
      "  L: 10\n",
      "    R: 12\n",
      "  R: 20\n",
      "    L: 18\n",
      "\n"
     ]
    },
    {
     "data": {
      "text/plain": [
       "[10, 12, 14, 18, 20]"
      ]
     },
     "execution_count": 6,
     "metadata": {},
     "output_type": "execute_result"
    }
   ],
   "source": [
    "k = PS07.BTNode.from_list([14,10,20,18,12])\n",
    "print k\n",
    "k.ird()\n"
   ]
  },
  {
   "cell_type": "markdown",
   "metadata": {},
   "source": [
    "dado un nodo cualquiera, el **factor de balance** se define como la diferencia de la altura de su hijo izquierda y la de su hijo derecho.\n",
    "\n",
    "Un árbol AVL (por  los soviéticos Adelsson-Velski y Landis, que lo inventaron) es un árbol en el que el factor de balance de cualquier nodo es **estrictamente menor** que 2.\n",
    "\n",
    "En los siguientes ejercicios desarrollarás métodos que ayudan a convertir un árbol binario de búsqueda en un árbol AVL, rebalanceando los nodos, sin perder sus propiedades para la búsqueda binaria."
   ]
  },
  {
   "cell_type": "markdown",
   "metadata": {},
   "source": [
    "## Ejercicio 1\n",
    "\n",
    "completa el método `height` para que devuelva la altura de un nodo y el método `balance_factor` para que calcule el factor de balanceo de cada nodo del árbol.\n",
    "\n",
    "Fíjate que la función `blance_factor_tree` retorna un árbol nuevo con la misma estructura cuyos valores es el factor de balanceo de cada nodo correspondiente del árbol original."
   ]
  },
  {
   "cell_type": "code",
   "execution_count": 12,
   "metadata": {},
   "outputs": [
    {
     "name": "stdout",
     "output_type": "stream",
     "text": [
      "Overwriting utils/student_function/PS07_01.py\n"
     ]
    }
   ],
   "source": [
    "%%writefile utils/student_function/PS07_01.py\n",
    "import PS07\n",
    "class BTNode(PS07.BTNode):\n",
    "    \n",
    "    def height(self):\n",
    "        alturaIzquierda=0;alturaDerecha=0\n",
    "        if((self.left is None) and (self.right is None)):return 0\n",
    "        if self.left is not None:\n",
    "            alturaIzquierda=self.left.height()+1\n",
    "        if self.right is not None:\n",
    "            alturaDerecha=self.right.height()+1\n",
    "        if alturaIzquierda>alturaDerecha:return alturaIzquierda\n",
    "        else: return alturaDerecha\n",
    "    \n",
    "    def balance_factor(self):\n",
    "        a=0;b=0\n",
    "        if self.left is not None:\n",
    "            a=self.left.height()+1\n",
    "        if self.right is not None:\n",
    "            b=self.right.height()+1\n",
    "        result=(a-b)\n",
    "        \n",
    "        return result\n",
    "    \n",
    "    def balance_factor_tree(self):\n",
    "        r = self.__class__(self.balance_factor(), \\\n",
    "                           left=self.left.balance_factor_tree() if self.left is not None else None,\n",
    "                           right=self.right.balance_factor_tree() if self.right is not None else None,\n",
    "                          )\n",
    "        return r"
   ]
  },
  {
   "cell_type": "markdown",
   "metadata": {},
   "source": [
    "por ejemplo, para el siguiente árbol\n",
    "\n",
    "    k = st.BTNode.from_list([2,1,12,-11,4,3,6,5,1])\n",
    "    \n",
    "    ---\n",
    "    2\n",
    "      L: 1\n",
    "        L: -11\n",
    "        R: 1\n",
    "      R: 12\n",
    "        L: 4\n",
    "          L: 3\n",
    "          R: 6\n",
    "            L: 5    \n",
    "\n",
    "- su altura es 4\n",
    "- su factor de balanceo (el del nodo raíz) es -2\n",
    "- el árbol de factores de balanceo de todos los nodos es\n",
    "\n",
    "    root: -2\n",
    "      L: 0\n",
    "        L: 0\n",
    "        R: 0\n",
    "      R: 3\n",
    "        L: -1\n",
    "          L: 0\n",
    "          R: 1\n",
    "            L: 0"
   ]
  },
  {
   "cell_type": "code",
   "execution_count": 13,
   "metadata": {},
   "outputs": [
    {
     "data": {
      "text/plain": [
       "root: -2\n",
       "  L: 0\n",
       "    L: 0\n",
       "    R: 0\n",
       "  R: 3\n",
       "    L: -1\n",
       "      L: 0\n",
       "      R: 1\n",
       "        L: 0"
      ]
     },
     "execution_count": 13,
     "metadata": {},
     "output_type": "execute_result"
    }
   ],
   "source": [
    "import PS07_01 as st\n",
    "reload(st)\n",
    "k = st.BTNode.from_list([2,1,12,-11,4,3,6,5,1])\n",
    "a=k.balance_factor_tree()\n",
    "a"
   ]
  },
  {
   "cell_type": "code",
   "execution_count": 6,
   "metadata": {},
   "outputs": [
    {
     "data": {
      "text/plain": [
       "4"
      ]
     },
     "execution_count": 6,
     "metadata": {},
     "output_type": "execute_result"
    }
   ],
   "source": [
    "k.height()"
   ]
  },
  {
   "cell_type": "code",
   "execution_count": 7,
   "metadata": {},
   "outputs": [
    {
     "data": {
      "text/plain": [
       "3"
      ]
     },
     "execution_count": 7,
     "metadata": {},
     "output_type": "execute_result"
    }
   ],
   "source": [
    "k.right.height()"
   ]
  },
  {
   "cell_type": "code",
   "execution_count": 8,
   "metadata": {
    "scrolled": true
   },
   "outputs": [
    {
     "data": {
      "text/plain": [
       "-2"
      ]
     },
     "execution_count": 8,
     "metadata": {},
     "output_type": "execute_result"
    }
   ],
   "source": [
    "k.balance_factor()"
   ]
  },
  {
   "cell_type": "code",
   "execution_count": 194,
   "metadata": {},
   "outputs": [
    {
     "data": {
      "text/plain": [
       "6"
      ]
     },
     "execution_count": 194,
     "metadata": {},
     "output_type": "execute_result"
    }
   ],
   "source": [
    "k.left.height()"
   ]
  },
  {
   "cell_type": "code",
   "execution_count": 137,
   "metadata": {},
   "outputs": [
    {
     "data": {
      "text/plain": [
       "root: -2\n",
       "  L: -1\n",
       "    L: -5\n",
       "      R: -4\n",
       "        R: -2\n",
       "          L: -1\n",
       "            R: -1\n",
       "          R: -2\n",
       "            R: -1\n",
       "              R: -1\n",
       "    R: -4\n",
       "      L: -1\n",
       "        R: -1\n",
       "      R: 2\n",
       "        L: -2\n",
       "          L: -1\n",
       "            L: -1\n",
       "            R: -1\n",
       "          R: -2\n",
       "            R: -1\n",
       "              R: -1\n",
       "        R: -1\n",
       "  R: 5\n",
       "    L: 0\n",
       "      L: -4\n",
       "        L: -1\n",
       "          L: -1\n",
       "          R: -1\n",
       "        R: -2\n",
       "          L: 0\n",
       "            L: -1\n",
       "              L: -1\n",
       "            R: -1\n",
       "          R: -3\n",
       "            R: -2\n",
       "              L: -1\n",
       "              R: -1\n",
       "                L: -1\n",
       "      R: -1\n",
       "        L: -1\n",
       "          L: -2\n",
       "            R: -1\n",
       "              L: -1\n",
       "              R: -1\n",
       "          R: -2\n",
       "            R: -1\n",
       "              R: -1\n",
       "        R: -3\n",
       "          R: -2\n",
       "            R: -1\n",
       "              R: -1\n",
       "    R: -1"
      ]
     },
     "execution_count": 137,
     "metadata": {},
     "output_type": "execute_result"
    }
   ],
   "source": [
    "k.balance_factor_tree()"
   ]
  },
  {
   "cell_type": "markdown",
   "metadata": {},
   "source": [
    "y para el siguiente árbol\n",
    "\n",
    "- su factor de balance es 2\n",
    "- su altura es 2"
   ]
  },
  {
   "cell_type": "code",
   "execution_count": 14,
   "metadata": {},
   "outputs": [
    {
     "data": {
      "text/plain": [
       "root: c\n",
       "  L: b\n",
       "    L: a"
      ]
     },
     "execution_count": 14,
     "metadata": {},
     "output_type": "execute_result"
    }
   ],
   "source": [
    "k = st.BTNode(\"c\", left=st.BTNode(\"b\", left=st.BTNode(\"a\")))\n",
    "k"
   ]
  },
  {
   "cell_type": "code",
   "execution_count": 15,
   "metadata": {},
   "outputs": [
    {
     "data": {
      "text/plain": [
       "2"
      ]
     },
     "execution_count": 15,
     "metadata": {},
     "output_type": "execute_result"
    }
   ],
   "source": [
    "k.balance_factor()"
   ]
  },
  {
   "cell_type": "code",
   "execution_count": 16,
   "metadata": {},
   "outputs": [
    {
     "data": {
      "text/plain": [
       "2"
      ]
     },
     "execution_count": 16,
     "metadata": {},
     "output_type": "execute_result"
    }
   ],
   "source": [
    "k.height()"
   ]
  },
  {
   "cell_type": "markdown",
   "metadata": {},
   "source": [
    "#### comprueba tu código con el corrector automático"
   ]
  },
  {
   "cell_type": "code",
   "execution_count": 17,
   "metadata": {},
   "outputs": [
    {
     "name": "stdout",
     "output_type": "stream",
     "text": [
      "\r\n",
      "** CORRECTO **\r\n",
      "evaluation result 5.0\r\n"
     ]
    }
   ],
   "source": [
    "!./run CHECK_SOLUTION PS07_01"
   ]
  },
  {
   "cell_type": "markdown",
   "metadata": {},
   "source": [
    "#### registra tu solución en línea"
   ]
  },
  {
   "cell_type": "code",
   "execution_count": 18,
   "metadata": {},
   "outputs": [
    {
     "name": "stdout",
     "output_type": "stream",
     "text": [
      "connecting ... registering submission for daniel.riveraa@udea.edu.co ...\n",
      "no config found for section PS07, allowing all submissions\n",
      "\n",
      "** CORRECTO **\n",
      "your submissions sheet is https://docs.google.com/spreadsheets/d/1QjA5eGBEkEfHxuQDJaqn7YQXH-ECIalATeOgF8dw-nU\n",
      "----\n",
      "evaluation result 5.0 , submission registered\n"
     ]
    }
   ],
   "source": [
    "!./run SUBMIT_SOLUTION PS07_01"
   ]
  },
  {
   "cell_type": "markdown",
   "metadata": {},
   "source": [
    "## Ejercicio 2\n",
    "\n",
    "Una operación de balanceo consiste en reacomodar los registros de un árbol binario de tal forma que los factores de balance de todos los registros sean -1, 0, ó +1 y que **el recorrido INORDEN sea el mismo que antes del reacomodo**.\n",
    "\n",
    "Operaciones de Rebalanceo:\n",
    "\n",
    "1. Una rotación a la derecha.\n",
    "2. Una rotación a la izquierda.\n",
    "3. Doble rotación a la derecha.\n",
    "4. Doble rotación a la izquierda.\n",
    "\n",
    "Para explicar lo referente a las rotaciones asumamos la siguiente convención:\n",
    "\n",
    "Sea **Fb(P)** el factor de balance de un nodo.\n",
    "\n",
    "Sea **P** un nodo con factor de balance no permitido.(p.ej. **Fb(P)=+2** ó **Fb(P)=-2**).\n",
    "\n",
    "\n",
    "Sea **Q** la dirección del hijo izquierdo o del hijo derecho de **P**, dependiendo de si **Fb(P)=+2**  ó  **Fb(P)= - 2**, es decir, si factor de balance de **P** es +2 entonces **Q** es el hijo izquierdo de **P** y si factor de balance de **P** es -2 entonces **Q** es el hijo derecho de **P**.\n",
    "\n",
    "**Rotación a la derecha**\n",
    "\n",
    "Se realiza cuando **Fb(P)=+2** y **Fb(Q)=+1**, y consiste en girar, en sentido de las manecillas del reloj, el registro P alrededor del registro Q.  Con lo que:\n",
    "\n",
    "- P pasará a ser el nuevo hijo derecho de Q.\n",
    "- El anterior hijo derecho de Q será el nuevo hijo izquierdo de P. \n",
    "- Q será la nueva raíz del árbol balanceado.\n",
    "- Los nuevos factores de balance de P y Q serán cero.\n",
    "- La altura del árbol balanceado disminuye en uno. \n",
    "\n",
    "La siguiente figura ilustra esto"
   ]
  },
  {
   "cell_type": "code",
   "execution_count": 19,
   "metadata": {},
   "outputs": [
    {
     "data": {
      "image/jpeg": "[encoded data removed]",
      "text/plain": [
       "<IPython.core.display.Image object>"
      ]
     },
     "execution_count": 19,
     "metadata": {},
     "output_type": "execute_result"
    }
   ],
   "source": [
    "from IPython.display import Image\n",
    "Image(filename='imgs/AVL-rotright.jpg') "
   ]
  },
  {
   "cell_type": "markdown",
   "metadata": {},
   "source": [
    "completa el método `rotate_right` para que el nodo realice una rotación a la derecha con si hizo izquierdo.\n",
    "\n",
    "realiza un `assert` al principio del método para verificar la condición **Fb(P)=+2** y **Fb(Q)=+1**\n",
    "\n",
    "**ATENCIÓN**: opera sobre **una copia** del propio árbol (usa `clone`), y así no lo modificarás."
   ]
  },
  {
   "cell_type": "code",
   "execution_count": null,
   "metadata": {},
   "outputs": [],
   "source": [
    "%%writefile utils/student_function/PS07_02.py\n",
    "import PS07\n",
    "class BTNode(PS07.BTNode):\n",
    "    \n",
    "    def height(self):\n",
    "        result = # TU CODIGO AQUI\n",
    "        \n",
    "        return result\n",
    "\n",
    "    def balance_factor(self):\n",
    "        result = # TU CODIGO AQUI\n",
    "        \n",
    "        return result\n",
    "    \n",
    "    def balance_factor_tree(self):\n",
    "        r = self.__class__(self.balance_factor(), \\\n",
    "                           left=self.left.balance_factor_tree() if self.left is not None else None,\n",
    "                           right=self.right.balance_factor_tree() if self.right is not None else None,\n",
    "                          )\n",
    "        return r\n",
    "    \n",
    "    def rotate_right(self):\n",
    "        \n",
    "        assert # TU CODIGO AQUI\n",
    "                \n",
    "        result = # TU CODIGO AQUI\n",
    "        \n",
    "        return result"
   ]
  },
  {
   "cell_type": "markdown",
   "metadata": {},
   "source": [
    "prueba tu código. una rotación derecha con el siguiente nodo"
   ]
  },
  {
   "cell_type": "code",
   "execution_count": null,
   "metadata": {},
   "outputs": [],
   "source": [
    "import PS07_02 as st\n",
    "reload(st)\n",
    "k = st.BTNode(\"c\", left=st.BTNode(\"b\", left=st.BTNode(\"a\")))\n",
    "k"
   ]
  },
  {
   "cell_type": "markdown",
   "metadata": {},
   "source": [
    "debería de dar\n",
    "\n",
    "    b\n",
    "      L: a\n",
    "      R: c"
   ]
  },
  {
   "cell_type": "code",
   "execution_count": null,
   "metadata": {},
   "outputs": [],
   "source": [
    "k.rotate_right()"
   ]
  },
  {
   "cell_type": "code",
   "execution_count": null,
   "metadata": {},
   "outputs": [],
   "source": [
    "k = st.BTNode(\"c\", left=st.BTNode(\"b\", left=st.BTNode(\"a\")))\n",
    "print k.ird()\n",
    "print k.rotate_right().ird()"
   ]
  },
  {
   "cell_type": "markdown",
   "metadata": {},
   "source": [
    "y con el siguiente nodo"
   ]
  },
  {
   "cell_type": "code",
   "execution_count": null,
   "metadata": {},
   "outputs": [],
   "source": [
    "k = st.BTNode(\"e\", left=st.BTNode(\"c\", left=st.BTNode(\"b\", left=\"a\"), right=\"d\"), right=\"f\")\n",
    "k"
   ]
  },
  {
   "cell_type": "markdown",
   "metadata": {},
   "source": [
    "debería de dar\n",
    "\n",
    "        c\n",
    "          L: b\n",
    "            L: a\n",
    "          R: e\n",
    "            L: d\n",
    "            R: f"
   ]
  },
  {
   "cell_type": "code",
   "execution_count": null,
   "metadata": {},
   "outputs": [],
   "source": [
    "print k\n",
    "print k.ird()\n",
    "print k.rotate_right()\n",
    "print k.rotate_right().ird()"
   ]
  },
  {
   "cell_type": "markdown",
   "metadata": {},
   "source": [
    "#### comprueba tu código con el corrector automático"
   ]
  },
  {
   "cell_type": "code",
   "execution_count": null,
   "metadata": {},
   "outputs": [],
   "source": [
    "!./run CHECK_SOLUTION PS07_02"
   ]
  },
  {
   "cell_type": "markdown",
   "metadata": {},
   "source": [
    "#### registra tu solución en línea"
   ]
  },
  {
   "cell_type": "code",
   "execution_count": null,
   "metadata": {},
   "outputs": [],
   "source": [
    "!./run SUBMIT_SOLUTION PS07_02"
   ]
  },
  {
   "cell_type": "markdown",
   "metadata": {},
   "source": [
    "## Ejercicio 3\n",
    "\n",
    "Haremos ahora una **rotación a la izquierda**. Se realiza cuando **Fb(P)=-2** y **Fb(Q)=-1** y, por tanto, **Q** es el hijo derecho de **P**\n",
    "\n",
    "\n",
    "- P será el nuevo hijo izquierdo de Q.\n",
    "- El nuevo hijo derecho de P será el anterior hijo izquierdo Q.\n",
    "- Q será la nueva raíz del árbol balanceado.\n",
    "- Los factores de balance P y Q quedarán en cero.\n",
    "- La altura del árbol balanceado disminuye en uno (1).\n"
   ]
  },
  {
   "cell_type": "code",
   "execution_count": null,
   "metadata": {},
   "outputs": [],
   "source": [
    "%%writefile utils/student_function/PS07_03.py\n",
    "import PS07\n",
    "class BTNode(PS07.BTNode):\n",
    "    \n",
    "    def height(self):\n",
    "        result = # TU CODIGO AQUI\n",
    "        \n",
    "        return result\n",
    "\n",
    "    def balance_factor(self):\n",
    "        result = # TU CODIGO AQUI\n",
    "        \n",
    "        return result\n",
    "    \n",
    "    def balance_factor_tree(self):\n",
    "        r = self.__class__(self.balance_factor(), \\\n",
    "                           left=self.left.balance_factor_tree() if self.left is not None else None,\n",
    "                           right=self.right.balance_factor_tree() if self.right is not None else None,\n",
    "                          )\n",
    "        return r\n",
    "    \n",
    "    def rotate_left(self):\n",
    "        \n",
    "        assert # TU CODIGO AQUI\n",
    "                \n",
    "        result = # TU CODIGO AQUI\n",
    "        \n",
    "        return result"
   ]
  },
  {
   "cell_type": "markdown",
   "metadata": {},
   "source": [
    "prueba tu código"
   ]
  },
  {
   "cell_type": "code",
   "execution_count": null,
   "metadata": {},
   "outputs": [],
   "source": [
    "import PS07_03 as st\n",
    "reload(st)\n",
    "k = st.BTNode(\"b\", right=st.BTNode(\"d\", right=st.BTNode(\"e\", right=\"f\"), left=\"c\"), left=\"a\")\n",
    "print k\n",
    "print k.ird()\n",
    "print k.rotate_left()\n",
    "print k.rotate_left().ird()\n"
   ]
  },
  {
   "cell_type": "markdown",
   "metadata": {},
   "source": [
    "#### comprueba tu código con el corrector automático"
   ]
  },
  {
   "cell_type": "code",
   "execution_count": null,
   "metadata": {},
   "outputs": [],
   "source": [
    "!./run CHECK_SOLUTION PS07_03"
   ]
  },
  {
   "cell_type": "markdown",
   "metadata": {},
   "source": [
    "#### registra tu solución en línea"
   ]
  },
  {
   "cell_type": "code",
   "execution_count": null,
   "metadata": {},
   "outputs": [],
   "source": [
    "!./run SUBMIT_SOLUTION PS07_03"
   ]
  },
  {
   "cell_type": "markdown",
   "metadata": {},
   "source": [
    "## Ejercicio 4\n",
    "\n",
    "Haremos ahora una **doble rotación a la derecha**. Se realiza cuando **Fb(P)=+2** y **Fb(Q)=-1** y, por tanto, **Q** es el hijo derecho de **P**\n",
    "\n",
    "En este caso consideramos **R** el nodo que representa el hijo izquierdo o el hijo derecho de **Q** dependiendo de si el factor de balance de **Q** es +1 ó -1. Es decir, si el factor de balance del registro Q es +1, el registro R es el hijo izquierdo del registro Q, y si el factor de balance de Q es -1, R es el hijo derecho del registro Q.\n",
    "\n",
    "Esta rotación consiste en una rotación a la izquierda de **Q** alrededor de **R** seguida de una rotación a la derecha de **P** alrededor de **R**, de forma que:\n",
    "\n",
    "- P será el nuevo hijo izquierdo de Q.\n",
    "- El nuevo hijo derecho de P será el anterior hijo izquierdo Q.\n",
    "- Q será la nueva raíz del árbol balanceado.\n",
    "- Los factores de balance P y Q quedarán en cero.\n",
    "- La altura del árbol balanceado disminuye en uno (1).\n"
   ]
  },
  {
   "cell_type": "code",
   "execution_count": null,
   "metadata": {},
   "outputs": [],
   "source": [
    "%%writefile utils/student_function/PS07_04.py\n",
    "import PS07\n",
    "class BTNode(PS07.BTNode):\n",
    "    \n",
    "    def height(self):\n",
    "        result = # TU CODIGO AQUI\n",
    "        \n",
    "        return result\n",
    "\n",
    "    def balance_factor(self):\n",
    "        result = # TU CODIGO AQUI\n",
    "        \n",
    "        return result\n",
    "    \n",
    "    def balance_factor_tree(self):\n",
    "        r = self.__class__(self.balance_factor(), \\\n",
    "                           left=self.left.balance_factor_tree() if self.left is not None else None,\n",
    "                           right=self.right.balance_factor_tree() if self.right is not None else None,\n",
    "                          )\n",
    "        return r\n",
    "    \n",
    "    def double_rotate_right(self):\n",
    "        \n",
    "        assert # TU CODIGO AQUI\n",
    "                \n",
    "        result = # TU CODIGO AQUI\n",
    "        \n",
    "        return result\n",
    "    "
   ]
  },
  {
   "cell_type": "markdown",
   "metadata": {},
   "source": [
    "prueba tu código"
   ]
  },
  {
   "cell_type": "code",
   "execution_count": null,
   "metadata": {},
   "outputs": [],
   "source": [
    "import PS07_04 as st\n",
    "reload(st)\n",
    "k = st.BTNode(\"c\", left=st.BTNode(\"a\", right=\"b\"))\n",
    "print k\n",
    "print k.ird()\n",
    "print k.double_rotate_right()\n",
    "print k.double_rotate_right().ird()"
   ]
  },
  {
   "cell_type": "code",
   "execution_count": null,
   "metadata": {},
   "outputs": [],
   "source": [
    "k = st.BTNode(\"e\", left=st.BTNode(\"b\", left=\"a\", right=st.BTNode(\"d\", left=\"c\")), right=\"f\")\n",
    "print k\n",
    "print k.ird()\n",
    "print k.double_rotate_right()\n",
    "print k.double_rotate_right().ird()"
   ]
  },
  {
   "cell_type": "code",
   "execution_count": null,
   "metadata": {},
   "outputs": [],
   "source": [
    "k = st.BTNode(\"e\", left=st.BTNode(\"b\", left=\"c\", right=st.BTNode(\"a\", right=\"d\")), right=\"f\")\n",
    "print k\n",
    "print k.ird()\n",
    "print k.double_rotate_right()\n",
    "print k.double_rotate_right().ird()"
   ]
  },
  {
   "cell_type": "markdown",
   "metadata": {},
   "source": [
    "#### comprueba tu código con el corrector automático"
   ]
  },
  {
   "cell_type": "code",
   "execution_count": null,
   "metadata": {},
   "outputs": [],
   "source": [
    "!./run CHECK_SOLUTION PS07_04"
   ]
  },
  {
   "cell_type": "markdown",
   "metadata": {},
   "source": [
    "#### registra tu solución en línea"
   ]
  },
  {
   "cell_type": "code",
   "execution_count": null,
   "metadata": {},
   "outputs": [],
   "source": [
    "!./run SUBMIT_SOLUTION PS07_04"
   ]
  },
  {
   "cell_type": "code",
   "execution_count": null,
   "metadata": {},
   "outputs": [],
   "source": []
  }
 ],
 "metadata": {
  "kernelspec": {
   "display_name": "Python 2",
   "language": "python",
   "name": "python2"
  },
  "language_info": {
   "codemirror_mode": {
    "name": "ipython",
    "version": 2
   },
   "file_extension": ".py",
   "mimetype": "text/x-python",
   "name": "python",
   "nbconvert_exporter": "python",
   "pygments_lexer": "ipython2",
   "version": "2.7.14"
  }
 },
 "nbformat": 4,
 "nbformat_minor": 2
}

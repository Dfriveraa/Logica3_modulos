{
 "cells": [
  {
   "cell_type": "code",
   "execution_count": 1,
   "metadata": {},
   "outputs": [],
   "source": [
    "!pip install -q oauth2client==1.5.2\n",
    "import sys\n",
    "sys.path.append(\"./utils/student_function/\")\n",
    "import matplotlib.pyplot as plt\n",
    "%matplotlib inline"
   ]
  },
  {
   "cell_type": "code",
   "execution_count": 2,
   "metadata": {},
   "outputs": [
    {
     "name": "stdout",
     "output_type": "stream",
     "text": [
      "CLICK ON THIS LINK TO AUTHENTICATE WITH YOUR GMAIL ACCOUNT\n",
      "https://accounts.google.com/o/oauth2/auth?scope=profile+email&redirect_uri=http%3A%2F%2Flocalhost%3A8080&response_type=code&client_id=486275613361-7nk9ktukfcfjevfoe3tamjp0pmbjmprs.apps.googleusercontent.com&access_type=offline\n",
      "waiting for authentication ...\n",
      "authentication succeeded\n"
     ]
    },
    {
     "data": {
      "text/html": [
       "<table><tr><td><img src='https://lh3.googleusercontent.com/-wIJFN6ADFV8/AAAAAAAAAAI/AAAAAAAAAGU/qijBS-KpfmY/photo.jpg' width=60 height=60/></td><td>daniel.riveraa@udea.edu.co<br/>DANIEL   FELIPE RIVERA ARROYAVE<br/>google id: 107960807606835866040<br/>authorization code: 4/aAAJLTi2QEocniSAXUjbPmY14Fe3tUwccEwae2D9WqQkv20HK3q7gqvjHMGnRS_Y7tvZcon9fyfHOhUyDru_rFg</td></tr></table>"
      ],
      "text/plain": [
       "<IPython.core.display.HTML object>"
      ]
     },
     "execution_count": 2,
     "metadata": {},
     "output_type": "execute_result"
    }
   ],
   "source": [
    "from mooclib import *\n",
    "import inspect, urllib\n",
    "html, auth_code, userinfo = google_authenticate(PORT_NUMBER=8080)\n",
    "html"
   ]
  },
  {
   "cell_type": "markdown",
   "metadata": {},
   "source": [
    "## Ejercicio 1\n",
    "\n",
    "crea el constructor de un grafo que se representa como una lista de nodos conectados para cada nodo. Por ejemplo:\n",
    "\n",
    "    g1 = st.Graph(num_nodes=4, edge_list=[(0, 1), (0, 2), (0, 3), (1, 2), (1, 3), (2, 3), (2,1)])\n",
    "    print g1.nodes\n",
    "\n",
    "    > {0: [1, 2, 3], 1: [0, 2, 3], 2: [0, 1, 3], 3: [0, 1, 2]}\n",
    "    \n",
    "o también en el caso de un grafo dirigido:\n",
    "\n",
    "    g1 = st.Graph(num_nodes=4, edge_list=[(0, 1), (0, 2), (0, 3), (1, 2), (1, 3), (2, 3), (2,1)], is_directed=True)\n",
    "    print g1.nodes\n",
    "    \n",
    "    > {0: [1, 2, 3], 1: [2, 3], 2: [1, 3], 3: []}\n",
    "\n",
    "observa que, \n",
    "\n",
    "- si tenemos un grafo dirigido y el lado $(V_i, V_j)$, entonces $i$ ha de estar en la lista de nodos de $j$ y viceversa.\n",
    "- en cambio, con un grafo dirigido, sólo $i$ ha de estar en la lista de nodos de $j$.\n",
    "- la lista de nodos conectados con cada nodo ha de quedar **compacta**, no puede haber nodos repetidos. P.ej. si en la lista de lados se encuentran ambos (5,1) y (1,5), o hay lados repetidos."
   ]
  },
  {
   "cell_type": "code",
   "execution_count": 130,
   "metadata": {},
   "outputs": [
    {
     "name": "stdout",
     "output_type": "stream",
     "text": [
      "set([0, 1, 2, 3, 5])\n"
     ]
    }
   ],
   "source": [
    "import itertools\n",
    "import numpy as np\n",
    "edge_list=[(0, 1), (0, 2,5), (0, 3), (1, 2), (1, 3), (2, 3), (2,1)]\n",
    "print set(itertools.chain.from_iterable(edge_list))\n"
   ]
  },
  {
   "cell_type": "code",
   "execution_count": 131,
   "metadata": {},
   "outputs": [
    {
     "name": "stdout",
     "output_type": "stream",
     "text": [
      "[]\n"
     ]
    }
   ],
   "source": [
    "b=[]\n",
    "b=np.unique(b)\n",
    "print b"
   ]
  },
  {
   "cell_type": "code",
   "execution_count": 132,
   "metadata": {},
   "outputs": [
    {
     "name": "stdout",
     "output_type": "stream",
     "text": [
      "Overwriting ./utils/student_function/PS08_01.py\n"
     ]
    }
   ],
   "source": [
    "%%writefile ./utils/student_function/PS08_01.py\n",
    "import numpy as np\n",
    "import itertools\n",
    "class Graph:\n",
    "    \n",
    "    def __init__(self, num_nodes, edge_list, is_directed=False):\n",
    "        \n",
    "        assert type(edge_list)==list, \"edge_list must be a list of tuples\"\n",
    "        assert type(num_nodes)==int, \"num_nodes must be an int\"\n",
    "        \n",
    "        for t in edge_list:\n",
    "            assert len(t)==2, \"edge_list must be a list of tuples\"\n",
    "            assert t[0]<num_nodes and t[0]>=0 and t[1]<num_nodes and t[1]>=0, \"edge number not allowed \" + str(t)\n",
    "        \n",
    "        self.is_directed = is_directed\n",
    "        self.num_nodes   = num_nodes\n",
    "        \n",
    "        self.nodes ={}\n",
    "    \n",
    "        if (is_directed):\n",
    "            for j in range(num_nodes):\n",
    "                b=[]\n",
    "                for i in edge_list:\n",
    "                    if i[0]==j:\n",
    "                        b.append(i[1])\n",
    "                b=list(np.unique(b))\n",
    "                self.nodes[j]=b\n",
    "        else:\n",
    "            for j in range(num_nodes):\n",
    "                b=[]\n",
    "                for i in edge_list:\n",
    "                    if i[0]==j:\n",
    "                        b.append(i[1])\n",
    "                    if i[1]==j:     \n",
    "                        b.append(i[0])\n",
    "                b=list(np.unique(b))\n",
    "                self.nodes[j]=b\n",
    "        \n",
    "       \n"
   ]
  },
  {
   "cell_type": "markdown",
   "metadata": {},
   "source": [
    "prueba tu código"
   ]
  },
  {
   "cell_type": "code",
   "execution_count": 133,
   "metadata": {},
   "outputs": [
    {
     "name": "stdout",
     "output_type": "stream",
     "text": [
      "{0: [1, 3, 6, 7], 1: [0, 2], 2: [1], 3: [0, 4], 4: [3, 8], 5: [], 6: [0, 8], 7: [0], 8: [4, 6]}\n"
     ]
    }
   ],
   "source": [
    "import PS08_01 as st\n",
    "reload(st)\n",
    "g1 = st.Graph(9, [(8, 4), (0, 1), (3, 0), (6, 8), (8, 4), (3, 4), (0, 6), (1, 2), (0, 7)])\n",
    "print g1.nodes"
   ]
  },
  {
   "cell_type": "code",
   "execution_count": 134,
   "metadata": {},
   "outputs": [
    {
     "name": "stdout",
     "output_type": "stream",
     "text": [
      "{0: [1, 2, 3], 1: [2, 3], 2: [1, 3], 3: []}\n"
     ]
    }
   ],
   "source": [
    "g1 = st.Graph(4, [(0, 1), (0, 2), (0, 3), (1, 2), (1, 3), (2, 3), (2,1)], is_directed=True)\n",
    "print g1.nodes"
   ]
  },
  {
   "cell_type": "markdown",
   "metadata": {},
   "source": [
    "#### comprueba tu código con el corrector automático"
   ]
  },
  {
   "cell_type": "code",
   "execution_count": 135,
   "metadata": {
    "scrolled": true
   },
   "outputs": [
    {
     "name": "stdout",
     "output_type": "stream",
     "text": [
      "\r\n",
      "** CORRECTO **\r\n",
      "evaluation result 5.0\r\n"
     ]
    }
   ],
   "source": [
    "!./run CHECK_SOLUTION PS08_01"
   ]
  },
  {
   "cell_type": "markdown",
   "metadata": {},
   "source": [
    "#### registra tu solución en línea"
   ]
  },
  {
   "cell_type": "code",
   "execution_count": 51,
   "metadata": {},
   "outputs": [
    {
     "name": "stdout",
     "output_type": "stream",
     "text": [
      "connecting ... registering submission for daniel.riveraa@udea.edu.co ...\n",
      "no config found for section PS08, allowing all submissions\n",
      "\n",
      "** CORRECTO **\n",
      "your submissions sheet is https://docs.google.com/spreadsheets/d/1QjA5eGBEkEfHxuQDJaqn7YQXH-ECIalATeOgF8dw-nU\n",
      "----\n",
      "evaluation result 5.0 , submission registered\n"
     ]
    }
   ],
   "source": [
    "!./run SUBMIT_SOLUTION PS08_01"
   ]
  },
  {
   "cell_type": "markdown",
   "metadata": {},
   "source": [
    "## Ejercicio 2\n",
    "\n",
    "completa el método `as_nx` para crear el grafo de `networkx` correspondiente. Revisa la documentación de `networkx.Graph` y de `networkx.DiGraph`. Ten en cuenta que:\n",
    "\n",
    "- la clase para grafos no dirigidos es `networkx.Graph`\n",
    "- la clase para grados dirigidos es `networkx.DiGraph`\n",
    "- en cualquiera de los dos casos el método para añadir nodos es `add_nodes_from`\n",
    "- en cualquiera de los dos casos el método para añadir lados es `add_edge`\n",
    "\n",
    "Una vez hayas implementado tu método, puedes usar `draw` para visualizar el grafo."
   ]
  },
  {
   "cell_type": "code",
   "execution_count": 136,
   "metadata": {},
   "outputs": [
    {
     "name": "stdout",
     "output_type": "stream",
     "text": [
      "Overwriting ./utils/student_function/PS08_02.py\n"
     ]
    }
   ],
   "source": [
    "%%writefile ./utils/student_function/PS08_02.py\n",
    "import numpy as np\n",
    "import networkx as nx\n",
    "\n",
    "class Graph:\n",
    "    def __init__(self, num_nodes, edge_list, is_directed=False):\n",
    "        assert type(edge_list)==list, \"edge_list must be a list of tuples\"\n",
    "        assert type(num_nodes)==int, \"num_nodes must be an int\"\n",
    "        \n",
    "        for t in edge_list:\n",
    "            assert len(t)==2, \"edge_list must be a list of tuples\"\n",
    "            assert t[0]<num_nodes and t[0]>=0 and t[1]<num_nodes and t[1]>=0, \"edge number not allowed \" + str(t)\n",
    "        \n",
    "        self.is_directed = is_directed\n",
    "        self.num_nodes   = num_nodes\n",
    "        \n",
    "        self.nodes ={}\n",
    "    \n",
    "        if (is_directed):\n",
    "            for j in range(num_nodes):\n",
    "                b=[]\n",
    "                for i in edge_list:\n",
    "                    if i[0]==j:\n",
    "                        b.append(i[1])\n",
    "                b=list(np.unique(b))\n",
    "                self.nodes[j]=b\n",
    "        else:\n",
    "            for j in range(num_nodes):\n",
    "                b=[]\n",
    "                for i in edge_list:\n",
    "                    if i[0]==j:\n",
    "                        b.append(i[1])\n",
    "                    if i[1]==j:     \n",
    "                        b.append(i[0])\n",
    "                b=list(np.unique(b))\n",
    "                self.nodes[j]=b\n",
    "                \n",
    "    def as_nx(self):\n",
    "        if (self.is_directed):\n",
    "             g=nx.DiGraph(self.nodes)\n",
    "        else:\n",
    "            g=nx.Graph(self.nodes)\n",
    "           \n",
    "        return g\n",
    "    \n",
    "    def draw(self):\n",
    "        ng = self.as_nx()\n",
    "        nx.drawing.draw(ng, arrows=self.is_directed, with_labels=True, \n",
    "                        node_alpha=.2, node_color=\"blue\", \n",
    "                        node_size=900, font_color=\"white\")"
   ]
  },
  {
   "cell_type": "code",
   "execution_count": 137,
   "metadata": {},
   "outputs": [],
   "source": [
    "import networkx as nx\n"
   ]
  },
  {
   "cell_type": "markdown",
   "metadata": {},
   "source": [
    "prueba tu código"
   ]
  },
  {
   "cell_type": "code",
   "execution_count": 138,
   "metadata": {},
   "outputs": [
    {
     "name": "stdout",
     "output_type": "stream",
     "text": [
      "{0: [1, 2, 3], 1: [0, 2], 2: [0, 1, 3, 4], 3: [0, 2, 4], 4: [2, 3]}\n"
     ]
    },
    {
     "data": {
      "image/png": "[encoded data removed]",
      "text/plain": [
       "<matplotlib.figure.Figure at 0x7f6c798b7210>"
      ]
     },
     "metadata": {},
     "output_type": "display_data"
    }
   ],
   "source": [
    "import PS08_02 as st\n",
    "reload(st)\n",
    "import matplotlib.pyplot as plt\n",
    "%matplotlib inline\n",
    "\n",
    "g1 = st.Graph(5, [(0, 1), (0, 2), (0, 3), (1, 2), (2, 3), (2,4), (3,4)])\n",
    "g1.draw()\n",
    "print g1.nodes"
   ]
  },
  {
   "cell_type": "code",
   "execution_count": 139,
   "metadata": {},
   "outputs": [
    {
     "data": {
      "image/png": "[encoded data removed]",
      "text/plain": [
       "<matplotlib.figure.Figure at 0x7f6c7952ab90>"
      ]
     },
     "metadata": {},
     "output_type": "display_data"
    }
   ],
   "source": [
    "g2 = st.Graph(5, [(0,1), (0,2), (1,3), (2,4), (3,4), (3,2)], is_directed=True)\n",
    "g2.draw()"
   ]
  },
  {
   "cell_type": "code",
   "execution_count": 65,
   "metadata": {},
   "outputs": [
    {
     "name": "stdout",
     "output_type": "stream",
     "text": [
      "\r\n",
      "** CORRECTO **\r\n",
      "evaluation result 5.0\r\n"
     ]
    }
   ],
   "source": [
    "!./run CHECK_SOLUTION PS08_02"
   ]
  },
  {
   "cell_type": "markdown",
   "metadata": {},
   "source": [
    "#### registra tu solución en línea"
   ]
  },
  {
   "cell_type": "code",
   "execution_count": 66,
   "metadata": {},
   "outputs": [
    {
     "name": "stdout",
     "output_type": "stream",
     "text": [
      "connecting ... registering submission for daniel.riveraa@udea.edu.co ...\n",
      "no config found for section PS08, allowing all submissions\n",
      "\n",
      "** CORRECTO **\n",
      "your submissions sheet is https://docs.google.com/spreadsheets/d/1QjA5eGBEkEfHxuQDJaqn7YQXH-ECIalATeOgF8dw-nU\n",
      "----\n",
      "evaluation result 5.0 , submission registered\n"
     ]
    }
   ],
   "source": [
    "!./run SUBMIT_SOLUTION PS08_02"
   ]
  },
  {
   "cell_type": "markdown",
   "metadata": {},
   "source": [
    "## Ejercicio 3\n",
    "\n",
    "implementa los métodos indicados para tu clase con la implementación del grafo como un diccionario de listas de nodos conectados."
   ]
  },
  {
   "cell_type": "code",
   "execution_count": 17,
   "metadata": {},
   "outputs": [
    {
     "name": "stdout",
     "output_type": "stream",
     "text": [
      "Overwriting ./utils/student_function/PS08_03.py\n"
     ]
    }
   ],
   "source": [
    "%%writefile ./utils/student_function/PS08_03.py\n",
    "import numpy as np\n",
    "import networkx as nx\n",
    "class Graph():\n",
    "\n",
    "    def __init__(self, num_nodes, edge_list, is_directed=False):\n",
    "        assert type(edge_list)==list, \"edge_list must be a list of tuples\"\n",
    "        assert type(num_nodes)==int, \"num_nodes must be an int\"\n",
    "        \n",
    "        for t in edge_list:\n",
    "            assert len(t)==2, \"edge_list must be a list of tuples\"\n",
    "            assert t[0]<num_nodes and t[0]>=0 and t[1]<num_nodes and t[1]>=0, \"edge number not allowed \" + str(t)\n",
    "        self.edge_list=edge_list\n",
    "        self.is_directed = is_directed\n",
    "        self.num_nodes   = num_nodes        \n",
    "        self.nodes ={}\n",
    "    \n",
    "        if (is_directed):\n",
    "            for j in range(num_nodes):\n",
    "                b=[]\n",
    "                for i in edge_list:\n",
    "                    if i[0]==j:\n",
    "                        b.append(i[1])\n",
    "                b=list(np.unique(b))\n",
    "                self.nodes[j]=b\n",
    "        else:\n",
    "            for j in range(num_nodes):\n",
    "                b=[]\n",
    "                for i in edge_list:\n",
    "                    if i[0]==j:\n",
    "                        b.append(i[1])\n",
    "                    if i[1]==j:     \n",
    "                        b.append(i[0])\n",
    "                b=list(np.unique(b))\n",
    "                self.nodes[j]=b\n",
    "    \n",
    "    def assert_valid_node_number(self, n):\n",
    "        assert n>=0 and n<self.num_nodes, \"invalid node number: %d\"%n        \n",
    "    \n",
    "    def grade(self, node_number):\n",
    "       \n",
    "        self.assert_valid_node_number(node_number)\n",
    "        return len(self.nodes[node_number])\n",
    "    \n",
    "    def grade_out(self, node_number):\n",
    "        assert self.is_directed, \"only directed graphs have in/out grades\"\n",
    "        self.assert_valid_node_number(node_number)     \n",
    "        return len(self.nodes[node_number])\n",
    "\n",
    "    def grade_in(self, node_number):\n",
    "        assert self.is_directed, \"only directed graphs have in/out grades\"\n",
    "        self.assert_valid_node_number(node_number)\n",
    "        aux=[]\n",
    "        for i in range(len(self.nodes)):\n",
    "            aux=aux+self.nodes[i]\n",
    "        return aux.count(node_number)\n",
    "\n",
    "    def are_adyacent(self, node_number_1, node_number_2):\n",
    "        self.assert_valid_node_number(node_number_1)\n",
    "        self.assert_valid_node_number(node_number_2)\n",
    "        if node_number_2 in self.nodes[node_number_1] or node_number_1 in self.nodes[node_number_2]:\n",
    "            return True\n",
    "        return False\n",
    "\n",
    "    def is_valid_trayectory(self, trayectory):\n",
    "        assert type(trayectory)==list, \"trayectory must be a list\"\n",
    "        if self.is_directed:\n",
    "            for i in range(len(trayectory)-1):\n",
    "                if not trayectory[i+1] in self.nodes[trayectory[i]]:return False\n",
    "        else:\n",
    "            for i in range(len(trayectory)-1):\n",
    "                if not self.are_adyacent(trayectory[i],trayectory[i+1]):return False\n",
    "        return True\n",
    "    \n",
    "    def as_nx(self):\n",
    "        if (self.is_directed):\n",
    "             g=nx.DiGraph(self.nodes)\n",
    "        else:\n",
    "            g=nx.Graph(self.nodes)\n",
    "           \n",
    "        return g\n",
    "    \n",
    "    def draw(self):\n",
    "        ng = self.as_nx()\n",
    "        nx.drawing.draw(ng, arrows=self.is_directed, with_labels=True, \n",
    "                        node_alpha=.2, node_color=\"blue\", \n",
    "                        node_size=900, font_color=\"white\")"
   ]
  },
  {
   "cell_type": "code",
   "execution_count": null,
   "metadata": {},
   "outputs": [],
   "source": []
  },
  {
   "cell_type": "code",
   "execution_count": 6,
   "metadata": {},
   "outputs": [],
   "source": [
    "    def is_valid_trayectory(self, trayectory):\n",
    "        assert type(trayectory)==list, \"trayectory must be a list\"  \n",
    "        for i in range(len(trayectory)-1):\n",
    "            if not self.are_adyacent(trayectory[i],trayectory[i+1]):return False\n",
    "        return True"
   ]
  },
  {
   "cell_type": "code",
   "execution_count": 7,
   "metadata": {},
   "outputs": [
    {
     "name": "stdout",
     "output_type": "stream",
     "text": [
      "{0: [1, 2], 1: [2, 3], 2: [3], 3: []}\n"
     ]
    },
    {
     "ename": "NameError",
     "evalue": "name 'i' is not defined",
     "output_type": "error",
     "traceback": [
      "\u001b[0;31m\u001b[0m",
      "\u001b[0;31mNameError\u001b[0mTraceback (most recent call last)",
      "\u001b[0;32m<ipython-input-7-dca799879537>\u001b[0m in \u001b[0;36m<module>\u001b[0;34m()\u001b[0m\n\u001b[1;32m      5\u001b[0m \u001b[0mg2\u001b[0m \u001b[0;34m=\u001b[0m \u001b[0mst\u001b[0m\u001b[0;34m.\u001b[0m\u001b[0mGraph\u001b[0m\u001b[0;34m(\u001b[0m\u001b[0;36m4\u001b[0m\u001b[0;34m,\u001b[0m \u001b[0;34m[\u001b[0m\u001b[0;34m(\u001b[0m\u001b[0;36m0\u001b[0m\u001b[0;34m,\u001b[0m \u001b[0;36m1\u001b[0m\u001b[0;34m)\u001b[0m\u001b[0;34m,\u001b[0m \u001b[0;34m(\u001b[0m\u001b[0;36m0\u001b[0m\u001b[0;34m,\u001b[0m \u001b[0;36m2\u001b[0m\u001b[0;34m)\u001b[0m\u001b[0;34m,\u001b[0m \u001b[0;34m(\u001b[0m\u001b[0;36m1\u001b[0m\u001b[0;34m,\u001b[0m \u001b[0;36m2\u001b[0m\u001b[0;34m)\u001b[0m\u001b[0;34m,\u001b[0m \u001b[0;34m(\u001b[0m\u001b[0;36m1\u001b[0m\u001b[0;34m,\u001b[0m \u001b[0;36m3\u001b[0m\u001b[0;34m)\u001b[0m\u001b[0;34m,\u001b[0m \u001b[0;34m(\u001b[0m\u001b[0;36m2\u001b[0m\u001b[0;34m,\u001b[0m \u001b[0;36m3\u001b[0m\u001b[0;34m)\u001b[0m\u001b[0;34m]\u001b[0m\u001b[0;34m)\u001b[0m\u001b[0;34m\u001b[0m\u001b[0m\n\u001b[1;32m      6\u001b[0m \u001b[0;32mprint\u001b[0m \u001b[0mg1\u001b[0m\u001b[0;34m.\u001b[0m\u001b[0mnodes\u001b[0m\u001b[0;34m\u001b[0m\u001b[0m\n\u001b[0;32m----> 7\u001b[0;31m \u001b[0mg1\u001b[0m\u001b[0;34m.\u001b[0m\u001b[0mnodes\u001b[0m\u001b[0;34m[\u001b[0m\u001b[0mi\u001b[0m\u001b[0;34m]\u001b[0m\u001b[0;34m\u001b[0m\u001b[0m\n\u001b[0m\u001b[1;32m      8\u001b[0m \u001b[0;32mprint\u001b[0m \u001b[0maux\u001b[0m\u001b[0;34m\u001b[0m\u001b[0m\n\u001b[1;32m      9\u001b[0m \u001b[0;32mfor\u001b[0m \u001b[0mi\u001b[0m \u001b[0;32min\u001b[0m \u001b[0mrange\u001b[0m\u001b[0;34m(\u001b[0m\u001b[0mg1\u001b[0m\u001b[0;34m.\u001b[0m\u001b[0mnum_nodes\u001b[0m\u001b[0;34m)\u001b[0m\u001b[0;34m:\u001b[0m\u001b[0;34m\u001b[0m\u001b[0m\n",
      "\u001b[0;31mNameError\u001b[0m: name 'i' is not defined"
     ]
    }
   ],
   "source": [
    "import PS08_03 as st\n",
    "reload(st)\n",
    "\n",
    "g1 = st.Graph(4, [(0, 1), (0, 2), (1, 2), (1, 3), (2, 3)],True)\n",
    "g2 = st.Graph(4, [(0, 1), (0, 2), (1, 2), (1, 3), (2, 3)])\n",
    "print g1.nodes\n",
    "g1.nodes[i]\n",
    "print aux\n",
    "for i in range(g1.num_nodes):\n",
    "    print \"node\",i, \", grade =\", g1.grade(i)    "
   ]
  },
  {
   "cell_type": "code",
   "execution_count": null,
   "metadata": {},
   "outputs": [],
   "source": [
    "g3 = st.Graph(6,[(3, 2), (1, 5), (4, 1), (5, 0), (1, 0), (4, 3), (3, 5), (3, 0), (0, 4), (4, 0), (4, 1), (4, 3), (4, 0), (2, 3), (5, 0)])\n",
    "print g3.nodes\n",
    "t1 = [1, 4, 0, 5, 3, 2]\n",
    "def is_valid_trayectory(self, trayectory):\n",
    "        assert type(trayectory)==list, \"trayectory must be a list\"\n",
    "        if self.is_directed:\n",
    "            for i in range(len(trayectory)-1):\n",
    "                if not trayectory[i+1] in self.nodes[trayectory[i]]\n",
    "        else:\n",
    "            for i in range(len(trayectory)-1):\n",
    "                if not self.are_adyacent(trayectory[i],trayectory[i+1]):return False\n",
    "        return True\n",
    "print g3.is_valid_trayectory(t1)\n",
    "print is_valid_trayectory(g3,t1)\n"
   ]
  },
  {
   "cell_type": "code",
   "execution_count": 8,
   "metadata": {},
   "outputs": [
    {
     "ename": "NameError",
     "evalue": "name 'g3' is not defined",
     "output_type": "error",
     "traceback": [
      "\u001b[0;31m\u001b[0m",
      "\u001b[0;31mNameError\u001b[0mTraceback (most recent call last)",
      "\u001b[0;32m<ipython-input-8-a6ff22d99508>\u001b[0m in \u001b[0;36m<module>\u001b[0;34m()\u001b[0m\n\u001b[1;32m      1\u001b[0m \u001b[0;34m\u001b[0m\u001b[0m\n\u001b[0;32m----> 2\u001b[0;31m \u001b[0;32mprint\u001b[0m \u001b[0mg3\u001b[0m\u001b[0;34m.\u001b[0m\u001b[0mare_adyacent\u001b[0m\u001b[0;34m(\u001b[0m\u001b[0;36m0\u001b[0m\u001b[0;34m,\u001b[0m\u001b[0;36m1\u001b[0m\u001b[0;34m)\u001b[0m\u001b[0;34m\u001b[0m\u001b[0m\n\u001b[0m\u001b[1;32m      3\u001b[0m \u001b[0;32mprint\u001b[0m \u001b[0mg3\u001b[0m\u001b[0;34m.\u001b[0m\u001b[0mare_adyacent\u001b[0m\u001b[0;34m(\u001b[0m\u001b[0;36m3\u001b[0m\u001b[0;34m,\u001b[0m\u001b[0;36m2\u001b[0m\u001b[0;34m)\u001b[0m\u001b[0;34m\u001b[0m\u001b[0m\n\u001b[1;32m      4\u001b[0m \u001b[0;32mprint\u001b[0m \u001b[0mg3\u001b[0m\u001b[0;34m.\u001b[0m\u001b[0mare_adyacent\u001b[0m\u001b[0;34m(\u001b[0m\u001b[0;36m0\u001b[0m\u001b[0;34m,\u001b[0m\u001b[0;36m3\u001b[0m\u001b[0;34m)\u001b[0m\u001b[0;34m\u001b[0m\u001b[0m\n",
      "\u001b[0;31mNameError\u001b[0m: name 'g3' is not defined"
     ]
    }
   ],
   "source": [
    "\n",
    "print g3.are_adyacent(0,1)\n",
    "print g3.are_adyacent(3,2)\n",
    "print g3.are_adyacent(0,3)\n"
   ]
  },
  {
   "cell_type": "code",
   "execution_count": 9,
   "metadata": {},
   "outputs": [
    {
     "name": "stdout",
     "output_type": "stream",
     "text": [
      "          trayectory    is_valid \n",
      "        [0, 1, 2, 3]"
     ]
    },
    {
     "ename": "NameError",
     "evalue": "name 'g3' is not defined",
     "output_type": "error",
     "traceback": [
      "\u001b[0;31m\u001b[0m",
      "\u001b[0;31mNameError\u001b[0mTraceback (most recent call last)",
      "\u001b[0;32m<ipython-input-9-c81ce0731424>\u001b[0m in \u001b[0;36m<module>\u001b[0;34m()\u001b[0m\n\u001b[1;32m      4\u001b[0m \u001b[0;32mprint\u001b[0m \u001b[0;34m\"          trayectory    is_valid \"\u001b[0m\u001b[0;34m\u001b[0m\u001b[0m\n\u001b[1;32m      5\u001b[0m \u001b[0;32mfor\u001b[0m \u001b[0mt\u001b[0m \u001b[0;32min\u001b[0m \u001b[0;34m[\u001b[0m\u001b[0mt1\u001b[0m\u001b[0;34m,\u001b[0m \u001b[0mt2\u001b[0m\u001b[0;34m,\u001b[0m \u001b[0mt3\u001b[0m\u001b[0;34m]\u001b[0m\u001b[0;34m:\u001b[0m\u001b[0;34m\u001b[0m\u001b[0m\n\u001b[0;32m----> 6\u001b[0;31m     \u001b[0;32mprint\u001b[0m \u001b[0;34m\"%20s\"\u001b[0m\u001b[0;34m%\u001b[0m\u001b[0mstr\u001b[0m\u001b[0;34m(\u001b[0m\u001b[0mt\u001b[0m\u001b[0;34m)\u001b[0m\u001b[0;34m,\u001b[0m \u001b[0;34m\"%10s\"\u001b[0m\u001b[0;34m%\u001b[0m\u001b[0mg3\u001b[0m\u001b[0;34m.\u001b[0m\u001b[0mis_valid_trayectory\u001b[0m\u001b[0;34m(\u001b[0m\u001b[0mt\u001b[0m\u001b[0;34m)\u001b[0m\u001b[0;34m\u001b[0m\u001b[0m\n\u001b[0m",
      "\u001b[0;31mNameError\u001b[0m: name 'g3' is not defined"
     ]
    }
   ],
   "source": [
    "t1 = [ 0, 1, 2, 3]\n",
    "t2 = [ 0, 2, 1]\n",
    "t3 = [ 2,0,1,0]\n",
    "print \"          trayectory    is_valid \"\n",
    "for t in [t1, t2, t3]:\n",
    "    print \"%20s\"%str(t), \"%10s\"%g3.is_valid_trayectory(t)"
   ]
  },
  {
   "cell_type": "markdown",
   "metadata": {},
   "source": [
    "#### comprueba tu código con el corrector automático"
   ]
  },
  {
   "cell_type": "code",
   "execution_count": 18,
   "metadata": {},
   "outputs": [
    {
     "name": "stdout",
     "output_type": "stream",
     "text": [
      "\r\n",
      "** CORRECTO **\r\n",
      "evaluation result 5.0\r\n"
     ]
    }
   ],
   "source": [
    "!./run CHECK_SOLUTION PS08_03"
   ]
  },
  {
   "cell_type": "markdown",
   "metadata": {},
   "source": [
    "#### registra tu solución en línea"
   ]
  },
  {
   "cell_type": "code",
   "execution_count": 19,
   "metadata": {},
   "outputs": [
    {
     "name": "stdout",
     "output_type": "stream",
     "text": [
      "connecting ... registering submission for daniel.riveraa@udea.edu.co ...\n",
      "no config found for section PS08, allowing all submissions\n",
      "\n",
      "** CORRECTO **\n",
      "your submissions sheet is https://docs.google.com/spreadsheets/d/1QjA5eGBEkEfHxuQDJaqn7YQXH-ECIalATeOgF8dw-nU\n",
      "----\n",
      "evaluation result 5.0 , submission registered\n"
     ]
    }
   ],
   "source": [
    "!./run SUBMIT_SOLUTION PS08_03"
   ]
  },
  {
   "cell_type": "markdown",
   "metadata": {},
   "source": [
    "## Ejercicio 4\n",
    "\n",
    "Realiza el constructor para que inicialice una representación como una matriz de incidencia. Asumamos que tenemos **solamente grafos NO dirigidos**, no tengas el cuenta el caso de grafos dirigidos.\n",
    "\n",
    "Una **matric de incidencia** es una matriz de m filas y n columnas siendo:\n",
    "\n",
    "- m = número vértices del grafo.\n",
    "- n = número lados del grafo.\n",
    "\n",
    "Lo anterior implica que debemos numerar los lados del grafo. Dicha numeración se hace aleatoriamente, o se puede hacer en secuencia con la lista de lados (edges).\n",
    "\n",
    "Fíjate en el siguiente grafo de ejemplo y la matriz de incidencia asociada cualquier columna tiene exactamente dos elementos a 1:\n",
    "\n",
    "    g2 = st.Graph(7, [(1,4),(0,2), (2,5),(0,1), (1,3), (2,6)])\n",
    "    g2.inc_matrix\n",
    "    \n",
    "    > [[0 1 0 1 0 0]\n",
    "    >  [1 0 0 1 1 0]\n",
    "    >  [0 1 1 0 0 1]\n",
    "    >  [0 0 0 0 1 0]\n",
    "    >  [1 0 0 0 0 0]\n",
    "    >  [0 0 1 0 0 0]\n",
    "    >  [0 0 0 0 0 1]]\n",
    "    "
   ]
  },
  {
   "cell_type": "code",
   "execution_count": null,
   "metadata": {},
   "outputs": [],
   "source": [
    "import networkx as nx\n",
    "import matplotlib.pyplot as plt\n",
    "%matplotlib inline"
   ]
  },
  {
   "cell_type": "code",
   "execution_count": 3,
   "metadata": {},
   "outputs": [
    {
     "name": "stdout",
     "output_type": "stream",
     "text": [
      "Overwriting ./utils/student_function/PS08_04.py\n"
     ]
    }
   ],
   "source": [
    "%%writefile ./utils/student_function/PS08_04.py\n",
    "import numpy as np\n",
    "class Graph:\n",
    "    def __init__(self, num_nodes, edge_list):\n",
    "        assert type(edge_list)==list, \"edge_list must be a list of tuples\"\n",
    "        assert type(num_nodes)==int, \"num_nodes must be an int\"\n",
    "        \n",
    "        for t in edge_list:\n",
    "            assert len(t)==2, \"edge_list must be a list of tuples\"\n",
    "            assert t[0]<num_nodes and t[0]>=0 and t[1]<num_nodes and t[1]>=0, \"edge number not allowed \" + str(t)\n",
    "            \n",
    "        self.num_nodes   = num_nodes\n",
    "        self.inc_matrix=np.zeros((num_nodes,len(edge_list)),int)\n",
    "        a=0\n",
    "        for i,j in edge_list:\n",
    "            self.inc_matrix[i][a]=1\n",
    "            self.inc_matrix[j][a]=1\n",
    "            a+=1"
   ]
  },
  {
   "cell_type": "code",
   "execution_count": 4,
   "metadata": {},
   "outputs": [
    {
     "name": "stdout",
     "output_type": "stream",
     "text": [
      "[[0 1 0 1 0 0]\n",
      " [1 0 0 1 1 0]\n",
      " [0 1 1 0 0 1]\n",
      " [0 0 0 0 1 0]\n",
      " [1 0 0 0 0 0]\n",
      " [0 0 1 0 0 0]\n",
      " [0 0 0 0 0 1]]\n"
     ]
    }
   ],
   "source": [
    "import PS08_04 as st\n",
    "reload(st)\n",
    "g2 = st.Graph(7, [(1,4),(0,2), (2,5),(0,1), (1,3), (2,6)])\n",
    "print g2.inc_matrix"
   ]
  },
  {
   "cell_type": "code",
   "execution_count": 5,
   "metadata": {},
   "outputs": [
    {
     "data": {
      "text/plain": [
       "array([2, 3, 3, 1, 1, 1, 1])"
      ]
     },
     "execution_count": 5,
     "metadata": {},
     "output_type": "execute_result"
    }
   ],
   "source": [
    "k = g2.inc_matrix\n",
    "k.sum(axis=0)\n",
    "k.sum(axis=1)"
   ]
  },
  {
   "cell_type": "markdown",
   "metadata": {},
   "source": [
    "#### comprueba tu código con el corrector automático"
   ]
  },
  {
   "cell_type": "code",
   "execution_count": 6,
   "metadata": {},
   "outputs": [
    {
     "name": "stdout",
     "output_type": "stream",
     "text": [
      "\r\n",
      "** CORRECTO **\r\n",
      "evaluation result 5.0\r\n"
     ]
    }
   ],
   "source": [
    "!./run CHECK_SOLUTION PS08_04"
   ]
  },
  {
   "cell_type": "markdown",
   "metadata": {},
   "source": [
    "#### registra tu solución en línea"
   ]
  },
  {
   "cell_type": "code",
   "execution_count": 7,
   "metadata": {},
   "outputs": [
    {
     "name": "stdout",
     "output_type": "stream",
     "text": [
      "connecting ... registering submission for daniel.riveraa@udea.edu.co ...\n",
      "no config found for section PS08, allowing all submissions\n",
      "\n",
      "** CORRECTO **\n",
      "your submissions sheet is https://docs.google.com/spreadsheets/d/1QjA5eGBEkEfHxuQDJaqn7YQXH-ECIalATeOgF8dw-nU\n",
      "----\n",
      "evaluation result 5.0 , submission registered\n"
     ]
    }
   ],
   "source": [
    "!./run SUBMIT_SOLUTION PS08_04"
   ]
  },
  {
   "cell_type": "markdown",
   "metadata": {},
   "source": [
    "## Ejercicio 5\n",
    "\n",
    "implementa los métodos siguientes para la clase anterior con matrices de incidencia:\n",
    "\n",
    "- `grade`\n",
    "- `are_adyacent`\n",
    "- `is_valid_trayectory`"
   ]
  },
  {
   "cell_type": "code",
   "execution_count": 78,
   "metadata": {},
   "outputs": [
    {
     "name": "stdout",
     "output_type": "stream",
     "text": [
      "Overwriting ./utils/student_function/PS08_05.py\n"
     ]
    }
   ],
   "source": [
    "%%writefile ./utils/student_function/PS08_05.py\n",
    "import numpy as np\n",
    "class Graph:\n",
    "    def __init__(self, num_nodes, edge_list):\n",
    "        assert type(edge_list)==list, \"edge_list must be a list of tuples\"\n",
    "        assert type(num_nodes)==int, \"num_nodes must be an int\"\n",
    "        \n",
    "        for t in edge_list:\n",
    "            assert len(t)==2, \"edge_list must be a list of tuples\"\n",
    "            assert t[0]<num_nodes and t[0]>=0 and t[1]<num_nodes and t[1]>=0, \"edge number not allowed \" + str(t)\n",
    "            \n",
    "        self.num_nodes   = num_nodes\n",
    "        self.inc_matrix=np.zeros((num_nodes,len(edge_list)),int)\n",
    "        a=0\n",
    "        for i,j in edge_list:\n",
    "            self.inc_matrix[i][a]=1\n",
    "            self.inc_matrix[j][a]=1\n",
    "            a+=1\n",
    "    \n",
    "    def assert_valid_node_number(self, n):\n",
    "        assert n>=0 and n<self.num_nodes, \"invalid node number: %d\"%n        \n",
    "    \n",
    "    def grade(self, node_number):\n",
    "        self.assert_valid_node_number(node_number)\n",
    "        \n",
    "        return self.inc_matrix.sum(axis=1)[node_number] \n",
    "    \n",
    "    def are_adyacent(self, node_number_1, node_number_2):\n",
    "        self.assert_valid_node_number(node_number_1)\n",
    "        self.assert_valid_node_number(node_number_2)\n",
    "        \n",
    "        for a in range(self.inc_matrix.shape[1]):\n",
    "            if self.inc_matrix[node_number_1][a]==1 and self.inc_matrix[node_number_2][a]==1:return True\n",
    "        return False\n",
    "        \n",
    "    def is_valid_trayectory(self, trayectory):\n",
    "        assert type(trayectory)==list, \"trayectory must be a list\"\n",
    "        for i in range(len(trayectory)-1):\n",
    "                if not self.are_adyacent(trayectory[i],trayectory[i+1]):return False\n",
    "        \n",
    "        return True"
   ]
  },
  {
   "cell_type": "code",
   "execution_count": 79,
   "metadata": {},
   "outputs": [
    {
     "name": "stdout",
     "output_type": "stream",
     "text": [
      "node 0 , grade = 2\n",
      "node 1 , grade = 3\n",
      "node 2 , grade = 3\n",
      "node 3 , grade = 2\n"
     ]
    }
   ],
   "source": [
    "import PS08_05 as st\n",
    "reload(st)\n",
    "g1 = st.Graph(4, [(0, 1), (0, 2), (1, 2), (1, 3), (2, 3)])\n",
    "for i in range(g1.num_nodes):\n",
    "    print \"node\",i, \", grade =\", g1.grade(i)    "
   ]
  },
  {
   "cell_type": "code",
   "execution_count": 80,
   "metadata": {},
   "outputs": [
    {
     "name": "stdout",
     "output_type": "stream",
     "text": [
      "True\n",
      "True\n",
      "False\n"
     ]
    }
   ],
   "source": [
    "print g1.are_adyacent(0,1)\n",
    "print g1.are_adyacent(3,2)\n",
    "print g1.are_adyacent(0,3)\n"
   ]
  },
  {
   "cell_type": "code",
   "execution_count": 81,
   "metadata": {},
   "outputs": [
    {
     "name": "stdout",
     "output_type": "stream",
     "text": [
      "          trayectory    is_valid \n",
      "        [0, 1, 2, 3]       True\n",
      "        [0, 2, 3, 1]      False\n",
      "        [2, 0, 1, 0]       True\n"
     ]
    }
   ],
   "source": [
    "g3 = st.Graph(4, [(0,1), (1,0), (1,2), (2,0), (2,3)])\n",
    "t1 = [ 0, 1, 2, 3]\n",
    "t2 = [ 0, 2, 3,1]\n",
    "t3 = [ 2,0,1,0]\n",
    "print \"          trayectory    is_valid \"\n",
    "for t in [t1, t2, t3]:\n",
    "    print \"%20s\"%str(t), \"%10s\"%g3.is_valid_trayectory(t)"
   ]
  },
  {
   "cell_type": "markdown",
   "metadata": {},
   "source": [
    "#### comprueba tu código con el corrector automático"
   ]
  },
  {
   "cell_type": "code",
   "execution_count": 82,
   "metadata": {},
   "outputs": [
    {
     "name": "stdout",
     "output_type": "stream",
     "text": [
      "\r\n",
      "** CORRECTO **\r\n",
      "evaluation result 5.0\r\n"
     ]
    }
   ],
   "source": [
    "!./run CHECK_SOLUTION PS08_05"
   ]
  },
  {
   "cell_type": "markdown",
   "metadata": {},
   "source": [
    "#### registra tu solución en línea"
   ]
  },
  {
   "cell_type": "code",
   "execution_count": 8,
   "metadata": {},
   "outputs": [
    {
     "name": "stdout",
     "output_type": "stream",
     "text": [
      "connecting ... registering submission for daniel.riveraa@udea.edu.co ...\n",
      "no config found for section PS08, allowing all submissions\n",
      "\n",
      "** CORRECTO **\n",
      "your submissions sheet is https://docs.google.com/spreadsheets/d/1QjA5eGBEkEfHxuQDJaqn7YQXH-ECIalATeOgF8dw-nU\n",
      "----\n",
      "evaluation result 5.0 , submission registered\n"
     ]
    }
   ],
   "source": [
    "!./run SUBMIT_SOLUTION PS08_05"
   ]
  },
  {
   "cell_type": "code",
   "execution_count": null,
   "metadata": {},
   "outputs": [],
   "source": []
  }
 ],
 "metadata": {
  "kernelspec": {
   "display_name": "Python 2",
   "language": "python",
   "name": "python2"
  },
  "language_info": {
   "codemirror_mode": {
    "name": "ipython",
    "version": 2
   },
   "file_extension": ".py",
   "mimetype": "text/x-python",
   "name": "python",
   "nbconvert_exporter": "python",
   "pygments_lexer": "ipython2",
   "version": "2.7.14"
  }
 },
 "nbformat": 4,
 "nbformat_minor": 2
}

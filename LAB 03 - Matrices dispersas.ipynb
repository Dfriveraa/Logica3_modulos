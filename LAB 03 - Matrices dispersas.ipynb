{
 "cells": [
  {
   "cell_type": "code",
   "execution_count": 2,
   "metadata": {},
   "outputs": [
    {
     "name": "stdout",
     "output_type": "stream",
     "text": [
      "CLICK ON THIS LINK TO AUTHENTICATE WITH YOUR GMAIL ACCOUNT\n",
      "https://accounts.google.com/o/oauth2/auth?scope=profile+email&redirect_uri=http%3A%2F%2Flocalhost%3A8080&response_type=code&client_id=486275613361-7nk9ktukfcfjevfoe3tamjp0pmbjmprs.apps.googleusercontent.com&access_type=offline\n",
      "waiting for authentication ...\n",
      "authentication succeeded\n"
     ]
    },
    {
     "data": {
      "text/html": [
       "<table><tr><td><img src='https://lh3.googleusercontent.com/-wIJFN6ADFV8/AAAAAAAAAAI/AAAAAAAAAGU/qijBS-KpfmY/photo.jpg' width=60 height=60/></td><td>daniel.riveraa@udea.edu.co<br/>DANIEL   FELIPE RIVERA ARROYAVE<br/>google id: 107960807606835866040<br/>authorization code: 4/SQAxvAOBI2RZtmM9EAmcjAoV0VeizFyT-4CncXhbhF_-SuuI5qT7S2RCOsgflQIXZ8vD2rRI3AOMJyxfCFGL2q0</td></tr></table>"
      ],
      "text/plain": [
       "<IPython.core.display.HTML object>"
      ]
     },
     "execution_count": 2,
     "metadata": {},
     "output_type": "execute_result"
    }
   ],
   "source": [
    "!pip install -q oauth2client==1.5.2\n",
    "import sys\n",
    "sys.path.append(\"./utils/student_function/\")\n",
    "from mooclib import *\n",
    "import inspect, urllib\n",
    "html, auth_code, userinfo = google_authenticate(PORT_NUMBER=8080)\n",
    "html"
   ]
  },
  {
   "cell_type": "markdown",
   "metadata": {},
   "source": [
    "vamos a implementar una matriz dispersa con una estructura de datos que nos permita realizar operaciones más eficientes. Representaremos una matriz como un **diccionario de diccionarios**. Es decir, usaremos un diccionario que, por cada fila, mantenga a su vez un diccionario indexado por columnas de valores de esa fila."
   ]
  },
  {
   "cell_type": "markdown",
   "metadata": {},
   "source": [
    "## Ejercicio 1.\n",
    "\n",
    "Completa la función siguiente para que el diccionario `d` opere como un diccionario de diccionarios. Es decir, que cada `key1` del diccionario sea a su vez un diccionario de forma que al añadir un `item` con una `key2`  concreta:\n",
    "\n",
    "1. si `d` no tiene ningún elemento en esa `key1` se cree un nuevo elemento con una diccionario vacío\n",
    "1. se añada el `item` al diccionario referenciado con `d[key1][key2]`\n",
    "\n",
    "observa que, dado un diccionario `d`:\n",
    "\n",
    "- `d.keys()` devuelve la lista de claves\n",
    "- `key in d.keys()` devuelve `True` si el diccionario ya contiente la clave `key` \n",
    "\n",
    "Ejemplo de ejecución:\n",
    "\n",
    "    > d = {}\n",
    "    > st.add_to_dict(d, 10, 3,  \"20\")\n",
    "    > st.add_to_dict(d, 1, 5,  \"4\")\n",
    "    > st.add_to_dict(d, 1, 2, \"14\")\n",
    "    > print d\n",
    "    > print d[1][5]\n",
    "\n",
    "    {1: {2: '14', 5: '4'}, 10: {3: '20'}}\n",
    "    4"
   ]
  },
  {
   "cell_type": "code",
   "execution_count": 2,
   "metadata": {},
   "outputs": [
    {
     "name": "stdout",
     "output_type": "stream",
     "text": [
      "Overwriting ./utils/student_function/PS03_01.py\n"
     ]
    }
   ],
   "source": [
    "%%writefile ./utils/student_function/PS03_01.py\n",
    "def add_to_dict(d, key1, key2, val):\n",
    "    if d.get(key1)==None:\n",
    "        d[key1]={}\n",
    "    d[key1][key2]=val  \n",
    "    return d"
   ]
  },
  {
   "cell_type": "markdown",
   "metadata": {},
   "source": [
    "comprueba manualmente tu código"
   ]
  },
  {
   "cell_type": "code",
   "execution_count": 3,
   "metadata": {},
   "outputs": [
    {
     "name": "stdout",
     "output_type": "stream",
     "text": [
      "{1: {2: '14', 5: '4'}, 10: {3: '20'}}\n"
     ]
    }
   ],
   "source": [
    "import PS03_01 as st\n",
    "reload(st)\n",
    "d = {}\n",
    "st.add_to_dict(d, 10, 3,  \"20\")\n",
    "st.add_to_dict(d, 1, 5,  \"4\")\n",
    "st.add_to_dict(d, 1, 2, \"14\")\n",
    "print d"
   ]
  },
  {
   "cell_type": "markdown",
   "metadata": {},
   "source": [
    "observa que si los índices son números de files y columnas, accedemos a un elemento con una notación _matricial_ muy limpia"
   ]
  },
  {
   "cell_type": "code",
   "execution_count": 4,
   "metadata": {},
   "outputs": [
    {
     "name": "stdout",
     "output_type": "stream",
     "text": [
      "4\n"
     ]
    }
   ],
   "source": [
    "print d[1][5]"
   ]
  },
  {
   "cell_type": "markdown",
   "metadata": {},
   "source": [
    "#### comprueba tu código con el corrector automático"
   ]
  },
  {
   "cell_type": "code",
   "execution_count": 5,
   "metadata": {},
   "outputs": [
    {
     "name": "stdout",
     "output_type": "stream",
     "text": [
      "checking your code with 100 random calls\n",
      "** CORRECTO **\n",
      "evaluation result 5.0 \n"
     ]
    }
   ],
   "source": [
    "!./run CHECK_SOLUTION PS03_01"
   ]
  },
  {
   "cell_type": "markdown",
   "metadata": {},
   "source": [
    "#### registra tu solución en línea"
   ]
  },
  {
   "cell_type": "code",
   "execution_count": 7,
   "metadata": {
    "scrolled": true
   },
   "outputs": [
    {
     "name": "stdout",
     "output_type": "stream",
     "text": [
      "connecting ... registering submission for daniel.riveraa@udea.edu.co ...\n",
      "checking your code with 100 random calls\n",
      "** CORRECTO **\n",
      "your submissions sheet is https://docs.google.com/spreadsheets/d/1QjA5eGBEkEfHxuQDJaqn7YQXH-ECIalATeOgF8dw-nU\n",
      "----\n",
      "evaluation result 5.0 , submission registered\n"
     ]
    }
   ],
   "source": [
    "!./run SUBMIT_SOLUTION PS03_01"
   ]
  },
  {
   "cell_type": "markdown",
   "metadata": {},
   "source": [
    "## Ejercicio 2\n",
    "\n",
    "implementa el constructor de la siguiente clase y el método `sparseness_metric`\n",
    "\n",
    "Observa que el constructor deberá:\n",
    "\n",
    "- establecer el valor de `self.shape` al tamaño de la matrix `m`. Si `m` es `None` el tamaño ha de ser `(0,0)`\n",
    "- rellenar el diccionario `self.rows` como un diccionario de diccionarios con los valores de `m` que sean distintos de 0. Tendrás que recorrer toda la matriz `m` para esto.\n",
    "\n",
    "Ejemplo de ejecución:\n",
    "\n",
    "    > m = array([[1, 0, 9],\n",
    "    >       [0, 0, 7],\n",
    "    >       [3, 5, 0],\n",
    "    >       [5, 0, 0],\n",
    "    >       [0, 3, 0]])\n",
    "    >\n",
    "    > s = st.SparseMatrix(m)\n",
    "    > print \"rows\", s.rows\n",
    "    > print \"length of each row\", [len(s.rows[i]) for i in s.rows.keys()]\n",
    "    > print \"sparseness metric\", s.sparseness_metric()\n",
    "\n",
    "    rows {0: {0: 1, 2: 9}, 1: {2: 7}, 2: {0: 3, 1: 5}, 3: {0: 5}, 4: {1: 3}}\n",
    "    length of each row [2, 1, 2, 1, 1]\n",
    "    sparseness metric 0.3333333"
   ]
  },
  {
   "cell_type": "code",
   "execution_count": 8,
   "metadata": {},
   "outputs": [
    {
     "name": "stdout",
     "output_type": "stream",
     "text": [
      "Writing ./utils/student_function/PS03_02.py\n"
     ]
    }
   ],
   "source": [
    "%%writefile ./utils/student_function/PS03_02.py\n",
    "import itertools\n",
    "\n",
    "def add_to_dict(d, key1, key2, val):\n",
    "    if d.get(key1)==None:\n",
    "        d[key1]={}\n",
    "    d[key1][key2]=val \n",
    "    return d\n",
    "\n",
    "class SparseMatrix:\n",
    "    \n",
    "    def __init__(self, m=None):\n",
    "        self.rows = {}\n",
    "        self.shape =m.shape if m is not None else(0,0)\n",
    "        if m is not None:\n",
    "            for i in range(m.shape[0]):\n",
    "                for j in range(m.shape[1]):\n",
    "                    if m[i,j]!=0:\n",
    "                        add_to_dict(self.rows,i,j,m[i][j])\n",
    "                           \n",
    "    def sparseness_metric(self):\n",
    "        j=0\n",
    "        for i in self.rows.keys():\n",
    "            j+=len(self.rows[i])\n",
    "\n",
    "        metric = (j*1.)/(self.shape[0]*self.shape[1])\n",
    "        return metric\n",
    "        "
   ]
  },
  {
   "cell_type": "markdown",
   "metadata": {},
   "source": [
    "comprueba manualmente tu código"
   ]
  },
  {
   "cell_type": "code",
   "execution_count": 9,
   "metadata": {},
   "outputs": [
    {
     "name": "stdout",
     "output_type": "stream",
     "text": [
      "(5, 3) 0.4\n"
     ]
    },
    {
     "data": {
      "text/plain": [
       "array([[0, 2, 0],\n",
       "       [8, 0, 8],\n",
       "       [0, 0, 0],\n",
       "       [4, 0, 0],\n",
       "       [5, 0, 6]])"
      ]
     },
     "execution_count": 9,
     "metadata": {},
     "output_type": "execute_result"
    }
   ],
   "source": [
    "import PS03_02 as st\n",
    "reload(st)\n",
    "\n",
    "import numpy as np\n",
    "\n",
    "def random_sparse_matrix(size):\n",
    "    m = np.random.randint(2, size=size)\n",
    "    m = m * np.random.randint(10,size=size)\n",
    "    return m\n",
    "m = random_sparse_matrix((5,3))\n",
    "print m.shape, st.SparseMatrix(m).sparseness_metric()\n",
    "m"
   ]
  },
  {
   "cell_type": "code",
   "execution_count": 10,
   "metadata": {},
   "outputs": [
    {
     "name": "stdout",
     "output_type": "stream",
     "text": [
      "rows {0: {1: 2}, 1: {0: 8, 2: 8}, 3: {0: 4}, 4: {0: 5, 2: 6}}\n",
      "length of each row [1, 2, 1, 2]\n"
     ]
    }
   ],
   "source": [
    "import PS03_02 as st\n",
    "reload(st)\n",
    "\n",
    "s = st.SparseMatrix(m)\n",
    "print \"rows\", s.rows\n",
    "print \"length of each row\", [len(s.rows[i]) for i in s.rows.keys()]"
   ]
  },
  {
   "cell_type": "code",
   "execution_count": 11,
   "metadata": {},
   "outputs": [
    {
     "data": {
      "text/plain": [
       "(0, 0)"
      ]
     },
     "execution_count": 11,
     "metadata": {},
     "output_type": "execute_result"
    }
   ],
   "source": [
    "s = st.SparseMatrix(None)\n",
    "s.shape"
   ]
  },
  {
   "cell_type": "markdown",
   "metadata": {},
   "source": [
    "#### comprueba tu código con el corrector automático"
   ]
  },
  {
   "cell_type": "code",
   "execution_count": 12,
   "metadata": {},
   "outputs": [
    {
     "name": "stdout",
     "output_type": "stream",
     "text": [
      "checking your code with 100 random calls\n",
      "** CORRECTO **\n",
      "evaluation result 5.0 \n"
     ]
    }
   ],
   "source": [
    "!./run CHECK_SOLUTION PS03_02"
   ]
  },
  {
   "cell_type": "markdown",
   "metadata": {},
   "source": [
    "#### registra tu solución en línea"
   ]
  },
  {
   "cell_type": "code",
   "execution_count": 13,
   "metadata": {
    "scrolled": false
   },
   "outputs": [
    {
     "name": "stdout",
     "output_type": "stream",
     "text": [
      "connecting ... registering submission for daniel.riveraa@udea.edu.co ...\n",
      "checking your code with 100 random calls\n",
      "** CORRECTO **\n",
      "your submissions sheet is https://docs.google.com/spreadsheets/d/1QjA5eGBEkEfHxuQDJaqn7YQXH-ECIalATeOgF8dw-nU\n",
      "----\n",
      "evaluation result 5.0 , submission registered\n"
     ]
    }
   ],
   "source": [
    "!./run SUBMIT_SOLUTION PS03_02"
   ]
  },
  {
   "cell_type": "markdown",
   "metadata": {},
   "source": [
    "## Ejercicio 3\n",
    "\n",
    "implementa el método `to_dense` y el método `T` (por transpuesta). \n",
    "\n",
    "- `to_dense`: debe de devolver una matriz `numpy` equivalente a la propia matriz dispersa\n",
    "- `T` ha de devolver una matriz dispersa nueva (una instancia nueva de la misma clase) con los índices de `self.rows` invertidos."
   ]
  },
  {
   "cell_type": "code",
   "execution_count": 3,
   "metadata": {},
   "outputs": [
    {
     "name": "stdout",
     "output_type": "stream",
     "text": [
      "Overwriting ./utils/student_function/PS03_03.py\n"
     ]
    }
   ],
   "source": [
    "%%writefile ./utils/student_function/PS03_03.py\n",
    "import itertools\n",
    "import numpy as np\n",
    "\n",
    "def add_to_dict(d, key1, key2, val):\n",
    "    if d.get(key1)==None:\n",
    "        d[key1]={}\n",
    "    d[key1][key2]=val \n",
    "    return d\n",
    "\n",
    "class SparseMatrix:\n",
    "    \n",
    "    def __init__(self, m=None):\n",
    "        self.rows = {}\n",
    "        self.shape = m.shape if m is not None else (0,0)\n",
    "        self.nb_elements = 0\n",
    "        \n",
    "        if m is not None:\n",
    "            for i in range(m.shape[0]):\n",
    "                for j in range(m.shape[1]):\n",
    "                    if m[i,j] != 0:\n",
    "                        add_to_dict(self.rows, i, j, m[i,j])\n",
    "                        self.nb_elements = self.nb_elements + 1\n",
    "                           \n",
    "    def to_dense(self):\n",
    "        r = np.zeros(self.shape)\n",
    "        for i in self.rows.keys():\n",
    "            for j in self.rows[i].keys():\n",
    "                r[i][j] = self.rows[i][j]\n",
    "            \n",
    "        return r\n",
    "    \n",
    "    def T(self):\n",
    "        w = np.zeros((self.shape[1],self.shape[0]))\n",
    "        for i in self.rows.keys():\n",
    "            for j in self.rows[i].keys():\n",
    "                w[j][i] = self.rows[i][j]\n",
    "        r = self.__class__(w)        \n",
    "        return r"
   ]
  },
  {
   "cell_type": "markdown",
   "metadata": {},
   "source": [
    "comprueba manualmente tu código"
   ]
  },
  {
   "cell_type": "code",
   "execution_count": 5,
   "metadata": {},
   "outputs": [
    {
     "name": "stdout",
     "output_type": "stream",
     "text": [
      "[[0 0 8]\n",
      " [0 3 0]\n",
      " [0 4 0]\n",
      " [1 0 0]\n",
      " [0 0 0]]\n"
     ]
    }
   ],
   "source": [
    "import PS03_03 as st\n",
    "reload(st)\n",
    "\n",
    "def random_sparse_matrix(size):\n",
    "    import numpy as np\n",
    "    m = np.random.randint(2, size=size)\n",
    "    m = m * np.random.randint(10,size=size)\n",
    "    return m\n",
    "\n",
    "m = random_sparse_matrix((5,3))\n",
    "s = st.SparseMatrix(m)\n",
    "print m"
   ]
  },
  {
   "cell_type": "code",
   "execution_count": 6,
   "metadata": {},
   "outputs": [
    {
     "name": "stdout",
     "output_type": "stream",
     "text": [
      "[[0 0 0 1 0]\n",
      " [0 3 4 0 0]\n",
      " [8 0 0 0 0]]\n"
     ]
    }
   ],
   "source": [
    "print m.T"
   ]
  },
  {
   "cell_type": "code",
   "execution_count": 7,
   "metadata": {},
   "outputs": [
    {
     "name": "stdout",
     "output_type": "stream",
     "text": [
      "[[0 0 0 1 0]\n",
      " [0 3 4 0 0]\n",
      " [8 0 0 0 0]]\n"
     ]
    }
   ],
   "source": [
    "print s.T().to_dense().astype(int)"
   ]
  },
  {
   "cell_type": "markdown",
   "metadata": {},
   "source": [
    "#### comprueba tu código con el corrector automático"
   ]
  },
  {
   "cell_type": "code",
   "execution_count": 8,
   "metadata": {},
   "outputs": [
    {
     "name": "stdout",
     "output_type": "stream",
     "text": [
      "checking your code with 100 random calls\n",
      "** CORRECTO **\n",
      "evaluation result 5.0 \n"
     ]
    }
   ],
   "source": [
    "!./run CHECK_SOLUTION PS03_03"
   ]
  },
  {
   "cell_type": "markdown",
   "metadata": {},
   "source": [
    "#### registra tu solución en línea"
   ]
  },
  {
   "cell_type": "code",
   "execution_count": 19,
   "metadata": {},
   "outputs": [
    {
     "name": "stdout",
     "output_type": "stream",
     "text": [
      "connecting ... registering submission for daniel.riveraa@udea.edu.co ...\n",
      "checking your code with 100 random calls\n",
      "** CORRECTO **\n",
      "your submissions sheet is https://docs.google.com/spreadsheets/d/1QjA5eGBEkEfHxuQDJaqn7YQXH-ECIalATeOgF8dw-nU\n",
      "----\n",
      "evaluation result 5.0 , submission registered\n"
     ]
    }
   ],
   "source": [
    "!./run SUBMIT_SOLUTION PS03_03"
   ]
  },
  {
   "cell_type": "markdown",
   "metadata": {},
   "source": [
    "## Ejercicio 4\n",
    "\n",
    "Implementa el método `__getitem__` para que devuelva un elemento de la matriz dispersa con la misma notación que una matriz `numpy`. Ten en cuanta que:\n",
    "\n",
    "- si `i` o `j` están fuera del tamaño de la matriz has de emitir un `AssertionError`\n",
    "- si el elemento `(i,j)` existe en el diccionario interno (`self.rows`) se ha de devolver el valor almacenado\n",
    "- si no existe, se ha de devolver el valor 0"
   ]
  },
  {
   "cell_type": "code",
   "execution_count": 27,
   "metadata": {},
   "outputs": [
    {
     "name": "stdout",
     "output_type": "stream",
     "text": [
      "Overwriting ./utils/student_function/PS03_04.py\n"
     ]
    }
   ],
   "source": [
    "%%writefile ./utils/student_function/PS03_04.py\n",
    "import itertools\n",
    "\n",
    "def add_to_dict(d, key1, key2, val):\n",
    "    \n",
    "    if key1 in d.keys():\n",
    "            d[key1][key2] = val\n",
    "    else:\n",
    "        d[key1] = {key2: val}\n",
    "    \n",
    "    return d\n",
    "\n",
    "class SparseMatrix:\n",
    "    \n",
    "    def __init__(self, m=None):\n",
    "        \n",
    "        self.rows = {}\n",
    "        self.shape = m.shape if m is not None else (0,0)\n",
    "        self.nb_elements = 0\n",
    "        \n",
    "        if m is not None:\n",
    "            for i in range(m.shape[0]):\n",
    "                for j in range(m.shape[1]):\n",
    "                    if m[i,j] != 0:\n",
    "                        add_to_dict(self.rows, i, j, m[i,j])\n",
    "                        self.nb_elements = self.nb_elements + 1\n",
    "    \n",
    "    def __getitem__(self, (i,j)):\n",
    "        \n",
    "        assert i<= (self.shape[0]-1), \"Indices fuera de la matriz\"\n",
    "        assert j<= (self.shape[1]-1), \"Indices fuera de la matriz\"\n",
    "            \n",
    "        for n in self.rows.keys():\n",
    "            for m in self.rows[n].keys():\n",
    "                if n == i and m == j:\n",
    "                    return self.rows[n][m]\n",
    "        return 0        \n"
   ]
  },
  {
   "cell_type": "markdown",
   "metadata": {},
   "source": [
    "comprueba tu código manualmente"
   ]
  },
  {
   "cell_type": "code",
   "execution_count": 28,
   "metadata": {},
   "outputs": [
    {
     "name": "stdout",
     "output_type": "stream",
     "text": [
      "original matrix shape (5, 3)\n",
      "[[3 1 6]\n",
      " [0 1 0]\n",
      " [7 6 0]\n",
      " [4 0 3]\n",
      " [6 8 7]]\n"
     ]
    }
   ],
   "source": [
    "import PS03_04 as st\n",
    "reload(st)\n",
    "\n",
    "def random_sparse_matrix(size):\n",
    "    m = np.random.randint(2, size=size)\n",
    "    m = m * np.random.randint(10,size=size)\n",
    "    return m\n",
    "\n",
    "m = random_sparse_matrix((5,3))\n",
    "print \"original matrix shape\", m.shape\n",
    "print m"
   ]
  },
  {
   "cell_type": "code",
   "execution_count": 29,
   "metadata": {},
   "outputs": [
    {
     "name": "stdout",
     "output_type": "stream",
     "text": [
      "inner dict {0: {0: 3, 1: 1, 2: 6}, 1: {1: 1}, 2: {0: 7, 1: 6}, 3: {0: 4, 2: 3}, 4: {0: 6, 1: 8, 2: 7}}\n",
      "\n",
      "coord   value_in_m       value_in_s\n",
      "(0,0)       3            3\n",
      "(0,1)       1            1\n",
      "(0,2)       6            6\n",
      "(1,0)       0            0\n",
      "(1,1)       1            1\n",
      "(1,2)       0            0\n",
      "(2,0)       7            7\n",
      "(2,1)       6            6\n",
      "(2,2)       0            0\n",
      "(3,0)       4            4\n",
      "(3,1)       0            0\n",
      "(3,2)       3            3\n",
      "(4,0)       6            6\n",
      "(4,1)       8            8\n",
      "(4,2)       7            7\n"
     ]
    }
   ],
   "source": [
    "import itertools\n",
    "s = st.SparseMatrix(m)\n",
    "print \"inner dict\", s.rows\n",
    "print \"\\ncoord   value_in_m       value_in_s\"\n",
    "for i,j in itertools.product(range(m.shape[0]), range(m.shape[1])):                \n",
    "    print \"(%d,%d)   %5d        %5d\"%(i,j, m[i,j], s[i,j])"
   ]
  },
  {
   "cell_type": "markdown",
   "metadata": {},
   "source": [
    "#### comprueba tu código con el corrector automático"
   ]
  },
  {
   "cell_type": "code",
   "execution_count": 30,
   "metadata": {
    "scrolled": true
   },
   "outputs": [
    {
     "name": "stdout",
     "output_type": "stream",
     "text": [
      "checking your code with 100 random calls\n",
      "** CORRECTO **\n",
      "evaluation result 5.0 \n"
     ]
    }
   ],
   "source": [
    "!./run CHECK_SOLUTION PS03_04"
   ]
  },
  {
   "cell_type": "markdown",
   "metadata": {},
   "source": [
    "#### registra tu solución en línea"
   ]
  },
  {
   "cell_type": "code",
   "execution_count": 31,
   "metadata": {},
   "outputs": [
    {
     "name": "stdout",
     "output_type": "stream",
     "text": [
      "connecting ... registering submission for daniel.riveraa@udea.edu.co ...\n",
      "checking your code with 100 random calls\n",
      "** CORRECTO **\n",
      "your submissions sheet is https://docs.google.com/spreadsheets/d/1QjA5eGBEkEfHxuQDJaqn7YQXH-ECIalATeOgF8dw-nU\n",
      "----\n",
      "evaluation result 5.0 , submission registered\n"
     ]
    }
   ],
   "source": [
    "!./run SUBMIT_SOLUTION PS03_04"
   ]
  },
  {
   "cell_type": "markdown",
   "metadata": {},
   "source": [
    "## Ejercicio 5\n",
    "\n",
    "Implementa el método `__setitem__` de forma que:\n",
    "\n",
    "- si el valor del elemento es 0, no se haga nada\n",
    "- si las coordenadas `i,j` exceden el tamaño actual de la matriz, se inserte el elemento, pero que se actualice el tamaño (`self.shape`) de manera acorde.\n"
   ]
  },
  {
   "cell_type": "code",
   "execution_count": 24,
   "metadata": {},
   "outputs": [
    {
     "name": "stdout",
     "output_type": "stream",
     "text": [
      "Overwriting ./utils/student_function/PS03_05.py\n"
     ]
    }
   ],
   "source": [
    "%%writefile ./utils/student_function/PS03_05.py\n",
    "import itertools \n",
    "import numpy as np\n",
    "\n",
    "def add_to_dict(d, key1, key2, val):\n",
    "    if d.get(key1)==None:\n",
    "        d[key1]={}\n",
    "    d[key1][key2]=val \n",
    "    return d\n",
    "\n",
    "class SparseMatrix:\n",
    "    \n",
    "    def __init__(self, m=None):\n",
    "        \n",
    "        self.rows = {}\n",
    "        self.shape = m.shape if m is not None else (0,0)\n",
    "        self.nb_elements = 0\n",
    "        \n",
    "        if m is not None:\n",
    "            for i in range(m.shape[0]):\n",
    "                for j in range(m.shape[1]):\n",
    "                    if m[i,j] != 0:\n",
    "                        add_to_dict(self.rows, i, j, m[i,j])\n",
    "                        self.nb_elements = self.nb_elements + 1\n",
    "    \n",
    "    def __setitem__(self, (i,j), val):\n",
    "        if val != 0:\n",
    "            add_to_dict(self.rows, i, j, val)\n",
    "            \n",
    "            if i > (self.shape[0]-1):\n",
    "                self.shape=((i+1),(self.shape[1]))\n",
    "            \n",
    "            if j > (self.shape[1]-1):\n",
    "                self.shape=((self.shape[0]),(j+1))\n",
    "\n",
    "    def __getitem__(self, (i,j)):\n",
    "        \n",
    "        assert i<= (self.shape[0]-1), \"Indices fuera de la matriz\"\n",
    "        assert j<= (self.shape[1]-1), \"Indices fuera de la matriz\"\n",
    "            \n",
    "        for n in self.rows.keys():\n",
    "            for m in self.rows[n].keys():\n",
    "                if n == i and m == j:\n",
    "                    return self.rows[n][m]\n",
    "        return 0        \n",
    "\n",
    "\n",
    "    def to_dense(self):\n",
    "        r = np.zeros(self.shape)\n",
    "        \n",
    "        for i in self.rows.keys():\n",
    "            for j in self.rows[i].keys():\n",
    "                r[i][j] = self.rows[i][j]\n",
    "            \n",
    "        return r\n"
   ]
  },
  {
   "cell_type": "markdown",
   "metadata": {},
   "source": [
    "comprueba manualmente tu código"
   ]
  },
  {
   "cell_type": "code",
   "execution_count": 26,
   "metadata": {},
   "outputs": [
    {
     "name": "stdout",
     "output_type": "stream",
     "text": [
      "initial\n",
      "{0: {2: 1}, 2: {0: 3, 1: 6}, 3: {1: 1}, 4: {2: 6}}\n",
      "[[0 0 1]\n",
      " [0 0 0]\n",
      " [3 6 0]\n",
      " [0 1 0]\n",
      " [0 0 6]]\n",
      "\n",
      "after __setitem__\n",
      "{0: {2: 1}, 2: {0: 3, 1: 6}, 3: {1: 1}, 4: {2: 15}}\n",
      "[[ 0  0  1]\n",
      " [ 0  0  0]\n",
      " [ 3  6  0]\n",
      " [ 0  1  0]\n",
      " [ 0  0 15]]\n"
     ]
    }
   ],
   "source": [
    "import PS03_05 as st\n",
    "reload(st)\n",
    "\n",
    "def random_sparse_matrix(size):\n",
    "    import numpy as np\n",
    "    m = np.random.randint(2, size=size)\n",
    "    m = m * np.random.randint(10,size=size)\n",
    "    return m\n",
    "\n",
    "m = random_sparse_matrix((5,3))\n",
    "s = st.SparseMatrix(m)\n",
    "print \"initial\"\n",
    "print s.rows\n",
    "print s.to_dense().astype(int)\n",
    "s[4,2] = m[4,2]*2+3\n",
    "print \"\\nafter __setitem__\"\n",
    "print s.rows\n",
    "print s.to_dense().astype(int)\n"
   ]
  },
  {
   "cell_type": "markdown",
   "metadata": {},
   "source": [
    "#### comprueba tu código con el corrector automático"
   ]
  },
  {
   "cell_type": "code",
   "execution_count": 27,
   "metadata": {},
   "outputs": [
    {
     "name": "stdout",
     "output_type": "stream",
     "text": [
      "checking your code with 100 random calls\n",
      "** CORRECTO **\n",
      "evaluation result 5.0 \n"
     ]
    }
   ],
   "source": [
    "!./run CHECK_SOLUTION PS03_05"
   ]
  },
  {
   "cell_type": "markdown",
   "metadata": {},
   "source": [
    "#### registra tu solución en línea"
   ]
  },
  {
   "cell_type": "code",
   "execution_count": 37,
   "metadata": {},
   "outputs": [
    {
     "name": "stdout",
     "output_type": "stream",
     "text": [
      "connecting ... registering submission for daniel.riveraa@udea.edu.co ...\n",
      "checking your code with 100 random calls\n",
      "** CORRECTO **\n",
      "your submissions sheet is https://docs.google.com/spreadsheets/d/1QjA5eGBEkEfHxuQDJaqn7YQXH-ECIalATeOgF8dw-nU\n",
      "----\n",
      "evaluation result 5.0 , submission registered\n"
     ]
    }
   ],
   "source": [
    "!./run SUBMIT_SOLUTION PS03_05"
   ]
  },
  {
   "cell_type": "markdown",
   "metadata": {},
   "source": [
    "## Ejercicio 6\n",
    "\n",
    "Implementa el método `__add__`\n",
    "\n",
    "Sugerencia de implementación: \n",
    "\n",
    "1. verifique con un `assert` que ambas matrices son del mismo tamaño\n",
    "1. crea una nueva matriz vacía\n",
    "1. copie `self.shape` en el `shape` de la matriz nueva \n",
    "1. recorra todos los elementos de `self.rows` y llame al `__setitem__` de la matriz nueva por cada uno de ellos\n",
    "1. recorra todos los elementos de `q` y haga un get/set sobre la nueva matriz para añadirlos\n"
   ]
  },
  {
   "cell_type": "code",
   "execution_count": 34,
   "metadata": {},
   "outputs": [
    {
     "name": "stdout",
     "output_type": "stream",
     "text": [
      "Overwriting ./utils/student_function/PS03_06.py\n"
     ]
    }
   ],
   "source": [
    "%%writefile ./utils/student_function/PS03_06.py\n",
    "import itertools \n",
    "import numpy as np\n",
    "def add_to_dict(d, key1, key2, val):    \n",
    "    if key1 in d.keys():\n",
    "            d[key1][key2] = val\n",
    "    else:\n",
    "        d[key1] = {key2: val}\n",
    "    \n",
    "    return d\n",
    "\n",
    "class SparseMatrix:\n",
    "    \n",
    "    def __init__(self, m=None):\n",
    "        self.rows = {}\n",
    "        self.shape = m.shape if m is not None else (0,0)\n",
    "        self.nb_elements = 0\n",
    "        \n",
    "        if m is not None:\n",
    "            for i in range(m.shape[0]):\n",
    "                for j in range(m.shape[1]):\n",
    "                    if m[i,j] != 0:\n",
    "                        add_to_dict(self.rows, i, j, m[i,j])\n",
    "                        self.nb_elements = self.nb_elements + 1\n",
    "\n",
    "    def to_dense(self):\n",
    "        r = np.zeros(self.shape)\n",
    "        \n",
    "        for i in self.rows.keys():\n",
    "            for j in self.rows[i].keys():\n",
    "                r[i][j] = self.rows[i][j]\n",
    "            \n",
    "        return r\n",
    "       \n",
    "    def __getitem__(self, (i,j)):\n",
    "        assert i<= (self.shape[0]-1), \"Indices fuera de la matriz\"\n",
    "        assert j<= (self.shape[1]-1), \"Indices fuera de la matriz\"\n",
    "            \n",
    "        for n in self.rows.keys():\n",
    "            for m in self.rows[n].keys():\n",
    "                if n == i and m == j:\n",
    "                    return self.rows[n][m]\n",
    "                \n",
    "        return 0\n",
    "    \n",
    "    def __setitem__(self, (i,j), val):\n",
    "        if val != 0:\n",
    "            add_to_dict(self.rows, i, j, val)\n",
    "            \n",
    "            if i > (self.shape[0]-1):\n",
    "                self.shape=((i+1),(self.shape[1]))\n",
    "            \n",
    "            if j > (self.shape[1]-1):\n",
    "                self.shape=((self.shape[0]),(j+1))\n",
    "\n",
    "    def __add__ (self, q):\n",
    "        assert self.shape[0] == q.shape[0] and self.shape[1] == q.shape[1], \"No compatibles\"\n",
    "        r = self.__class__()\n",
    "        r.shape = self.shape\n",
    "        for i in self.rows.keys():\n",
    "            for j in self.rows[i].keys():\n",
    "                r[i,j] = self[i,j]      \n",
    "        for i in q.rows.keys():\n",
    "            for j in q.rows[i].keys():\n",
    "                r[i,j] = r[i,j] + q[i,j]\n",
    "        \n",
    "        return r"
   ]
  },
  {
   "cell_type": "code",
   "execution_count": 35,
   "metadata": {},
   "outputs": [
    {
     "name": "stdout",
     "output_type": "stream",
     "text": [
      "[[3 0 0]\n",
      " [1 0 2]\n",
      " [7 0 0]\n",
      " [0 0 4]\n",
      " [0 6 5]]\n",
      "--\n",
      "[[5 0 0]\n",
      " [1 0 0]\n",
      " [0 2 2]\n",
      " [0 4 0]\n",
      " [5 4 0]]\n"
     ]
    }
   ],
   "source": [
    "import PS03_06 as st\n",
    "reload(st)\n",
    "m1 = random_sparse_matrix((5,3))\n",
    "m2 = random_sparse_matrix((5,3)) \n",
    "sm1 = st.SparseMatrix(m1)\n",
    "sm2 = st.SparseMatrix(m2)\n",
    "print sm1.to_dense().astype(int)\n",
    "print \"--\"\n",
    "print sm2.to_dense().astype(int)"
   ]
  },
  {
   "cell_type": "code",
   "execution_count": 36,
   "metadata": {},
   "outputs": [
    {
     "name": "stdout",
     "output_type": "stream",
     "text": [
      "[[ 8  0  0]\n",
      " [ 2  0  2]\n",
      " [ 7  2  2]\n",
      " [ 0  4  4]\n",
      " [ 5 10  5]]\n"
     ]
    }
   ],
   "source": [
    "print (sm1+sm2).to_dense().astype(int)"
   ]
  },
  {
   "cell_type": "code",
   "execution_count": 37,
   "metadata": {},
   "outputs": [
    {
     "name": "stdout",
     "output_type": "stream",
     "text": [
      "[[ 8  0  0]\n",
      " [ 2  0  2]\n",
      " [ 7  2  2]\n",
      " [ 0  4  4]\n",
      " [ 5 10  5]]\n"
     ]
    }
   ],
   "source": [
    "print m1+m2"
   ]
  },
  {
   "cell_type": "markdown",
   "metadata": {},
   "source": [
    "#### comprueba tu código con el corrector automático"
   ]
  },
  {
   "cell_type": "code",
   "execution_count": 38,
   "metadata": {},
   "outputs": [
    {
     "name": "stdout",
     "output_type": "stream",
     "text": [
      "checking your code with 100 random calls\n",
      "** CORRECTO **\n",
      "evaluation result 5.0 \n"
     ]
    }
   ],
   "source": [
    "!./run CHECK_SOLUTION PS03_06"
   ]
  },
  {
   "cell_type": "markdown",
   "metadata": {},
   "source": [
    "#### registra tu solución en línea"
   ]
  },
  {
   "cell_type": "code",
   "execution_count": 39,
   "metadata": {},
   "outputs": [
    {
     "name": "stdout",
     "output_type": "stream",
     "text": [
      "connecting ... registering submission for daniel.riveraa@udea.edu.co ...\n",
      "checking your code with 100 random calls\n",
      "** CORRECTO **\n",
      "your submissions sheet is https://docs.google.com/spreadsheets/d/1QjA5eGBEkEfHxuQDJaqn7YQXH-ECIalATeOgF8dw-nU\n",
      "----\n",
      "evaluation result 5.0 , submission registered\n"
     ]
    }
   ],
   "source": [
    "!./run SUBMIT_SOLUTION PS03_06"
   ]
  },
  {
   "cell_type": "markdown",
   "metadata": {},
   "source": [
    "## Ejercicio 7\n",
    "\n",
    "Implementa `dot` en nuestra clase de matrices dispersas representadas con un diccionario de diccionarios."
   ]
  },
  {
   "cell_type": "code",
   "execution_count": 22,
   "metadata": {},
   "outputs": [
    {
     "name": "stdout",
     "output_type": "stream",
     "text": [
      "Overwriting ./utils/student_function/PS03_07.py\n"
     ]
    }
   ],
   "source": [
    "%%writefile ./utils/student_function/PS03_07.py\n",
    "\n",
    "import itertools\n",
    "import numpy as np\n",
    "def add_to_dict(d, key1, key2, val):\n",
    "    if key1 in d.keys():\n",
    "            d[key1][key2] = val\n",
    "    else:\n",
    "        d[key1] = {key2: val}\n",
    "    \n",
    "    return d\n",
    "\n",
    "class SparseMatrix:\n",
    "    \n",
    "    def __init__(self, m=None):\n",
    "        self.rows = {}\n",
    "        self.shape = m.shape if m is not None else (0,0)\n",
    "        self.nb_elements = 0\n",
    "        \n",
    "        if m is not None:\n",
    "            for i in range(m.shape[0]):\n",
    "                for j in range(m.shape[1]):\n",
    "                    if m[i,j] != 0:\n",
    "                        add_to_dict(self.rows, i, j, m[i,j])\n",
    "                        self.nb_elements = self.nb_elements + 1\n",
    "\n",
    "    def to_dense(self):\n",
    "        r = np.zeros(self.shape)\n",
    "        \n",
    "        for i in self.rows.keys():\n",
    "            for j in self.rows[i].keys():\n",
    "                r[i][j] = self.rows[i][j]\n",
    "            \n",
    "        return r\n",
    "                        \n",
    "    def __getitem__(self, (i,j)):\n",
    "        assert i<= (self.shape[0]-1), \"Indices fuera de la matriz\"\n",
    "        assert j<= (self.shape[1]-1), \"Indices fuera de la matriz\"\n",
    "            \n",
    "        for n in self.rows.keys():\n",
    "            for m in self.rows[n].keys():\n",
    "                if n == i and m == j:\n",
    "                    return self.rows[n][m]\n",
    "                \n",
    "        return 0\n",
    "    \n",
    "    def __setitem__(self, (i,j), val):\n",
    "        if val != 0:\n",
    "            add_to_dict(self.rows, i, j, val)\n",
    "            \n",
    "            if i > (self.shape[0]-1):\n",
    "                self.shape=((i+1),(self.shape[1]))\n",
    "            \n",
    "            if j > (self.shape[1]-1):\n",
    "                self.shape=((self.shape[0]),(j+1))\n",
    "\n",
    "    def __add__ (self, q):\n",
    "        assert self.shape[0] == q.shape[0], \"Matrices de diferente tamano\"\n",
    "        assert self.shape[1] == q.shape[1], \"Matrices de diferente tamano\"\n",
    "\n",
    "        r = self.__class__()\n",
    "        r.shape = self.shape\n",
    "        \n",
    "        for i in self.rows.keys():\n",
    "            for j in self.rows[i].keys():\n",
    "                r[i,j] = self[i,j]\n",
    "                \n",
    "        for i in q.rows.keys():\n",
    "            for j in q.rows[i].keys():\n",
    "                r[i,j] = r[i,j] + q[i,j]\n",
    "        \n",
    "        return r\n",
    "    \n",
    "    def dot(self, q):\n",
    "        assert self.shape[1]==q.shape[0]\n",
    "        \n",
    "        \n",
    "        r = self.__class__()\n",
    "        r.shape = (self.shape[0] , q.shape[1])\n",
    "        trans = q.T()\n",
    "        \n",
    "        for i in self.rows.keys():\n",
    "            for j in trans.rows.keys():\n",
    "                dot_product_one_point = 0\n",
    "                for k in q.rows.keys():\n",
    "                    tt = self.rows[i].get(k, 0)\n",
    "                    dot_product_one_point = dot_product_one_point + tt * trans.rows[j].get(k, 0)\n",
    "                r[i,j] = dot_product_one_point\n",
    "        \n",
    "        \n",
    "              \n",
    "        \n",
    "        return r\n",
    "    \n",
    "    def sparseness_metric(self):\n",
    "        metric = self.nb_elements*1./(self.shape[0]*self.shape[1])\n",
    "        return metric\n",
    "    \n",
    "    def T(self):\n",
    "        w = np.zeros((self.shape[1],self.shape[0]))\n",
    "        for i in self.rows.keys():\n",
    "            for j in self.rows[i].keys():\n",
    "                w[j][i] = self.rows[i][j]\n",
    "        \n",
    "        r = self.__class__(w)\n",
    "                \n",
    "        return r"
   ]
  },
  {
   "cell_type": "markdown",
   "metadata": {},
   "source": [
    "comprueba tu código manualmente "
   ]
  },
  {
   "cell_type": "code",
   "execution_count": 23,
   "metadata": {},
   "outputs": [
    {
     "name": "stdout",
     "output_type": "stream",
     "text": [
      "[[5 2]\n",
      " [9 3]\n",
      " [6 9]]\n",
      "[[7 5 9]\n",
      " [2 8 2]]\n",
      "-- \n",
      "[[ 39  41  49]\n",
      " [ 69  69  87]\n",
      " [ 60 102  72]]\n",
      "[[ 39  41  49]\n",
      " [ 69  69  87]\n",
      " [ 60 102  72]]\n",
      "--\n",
      "[[134 110]\n",
      " [ 94  46]]\n",
      "[[134 110]\n",
      " [ 94  46]]\n"
     ]
    }
   ],
   "source": [
    "import PS03_07 as st\n",
    "reload(st)\n",
    "import numpy as np\n",
    "m1 = np.random.randint(10, size=(3,2))\n",
    "print m1\n",
    "m2 = np.random.randint(10, size=(2,3))\n",
    "print m2\n",
    "print \"-- \"\n",
    "print m1.dot(m2)\n",
    "print st.SparseMatrix(m1).dot(st.SparseMatrix(m2)).to_dense().astype(int)\n",
    "print \"--\"\n",
    "print m2.dot(m1)\n",
    "print st.SparseMatrix(m2).dot(st.SparseMatrix(m1)).to_dense().astype(int)"
   ]
  },
  {
   "cell_type": "markdown",
   "metadata": {},
   "source": [
    "#### comprueba tu código con el corrector automático"
   ]
  },
  {
   "cell_type": "code",
   "execution_count": 24,
   "metadata": {},
   "outputs": [
    {
     "name": "stdout",
     "output_type": "stream",
     "text": [
      "checking your code with 100 random calls\n",
      "** CORRECTO **\n",
      "evaluation result 5.0 \n"
     ]
    }
   ],
   "source": [
    "!./run CHECK_SOLUTION PS03_07"
   ]
  },
  {
   "cell_type": "markdown",
   "metadata": {},
   "source": [
    "#### registra tu solución en línea"
   ]
  },
  {
   "cell_type": "code",
   "execution_count": 25,
   "metadata": {},
   "outputs": [
    {
     "name": "stdout",
     "output_type": "stream",
     "text": [
      "connecting ... registering submission for daniel.riveraa@udea.edu.co ...\n",
      "checking your code with 100 random calls\n",
      "** CORRECTO **\n",
      "your submissions sheet is https://docs.google.com/spreadsheets/d/1QjA5eGBEkEfHxuQDJaqn7YQXH-ECIalATeOgF8dw-nU\n",
      "----\n",
      "evaluation result 5.0 , submission registered\n"
     ]
    }
   ],
   "source": [
    "!./run SUBMIT_SOLUTION PS03_07"
   ]
  },
  {
   "cell_type": "markdown",
   "metadata": {},
   "source": [
    "## Ejercicio 8\n",
    "\n",
    "Realiza un algoritmo que devuelva el valor máximo de cada fila. Deberá de devolver una lista de tuplas `(row_nb, max_value)` solamente de las filas que contengan algún elemento. P.ej. de la siguiente matriz:\n",
    "\n",
    "    [[4 0 0 0]\n",
    "     [0 2 0 5]\n",
    "     [0 2 0 0]\n",
    "     [0 0 0 0]\n",
    "     [0 6 0 0]\n",
    "     [0 0 0 0]\n",
    "     [0 0 0 6]\n",
    "     [0 0 7 7]\n",
    "     [0 0 2 7]\n",
    "     [4 8 0 2]]\n",
    "     \n",
    "debe de devolver:\n",
    "\n",
    "     [(0, 4), (1, 5), (2, 2), (4, 6), (6, 6), (7, 7), (8, 7), (9, 8)]\n",
    "\n",
    "Este ejercicio debe de funcionar **con `SparseMatrix` de tu solución del ejercicio 3 anterior**\n"
   ]
  },
  {
   "cell_type": "code",
   "execution_count": 9,
   "metadata": {},
   "outputs": [
    {
     "name": "stdout",
     "output_type": "stream",
     "text": [
      "Overwriting ./utils/student_function/PS03_08.py\n"
     ]
    }
   ],
   "source": [
    "%%writefile ./utils/student_function/PS03_08.py\n",
    "import numpy as np\n",
    "def max_per_row(m):\n",
    "    max_value = 0\n",
    "    row_nb = int\n",
    "    \n",
    "    resultado = list([])\n",
    "    \n",
    "    for i in m.rows.keys():\n",
    "        for j in m.rows[i].keys():\n",
    "            if max_value < m.rows[i][j] and m.rows[i][j] != 0:\n",
    "                max_value = m.rows[i][j]\n",
    "                row_nb = i\n",
    "        resultado.append((row_nb, max_value))\n",
    "        max_value = 0\n",
    "    \n",
    "    return resultado"
   ]
  },
  {
   "cell_type": "code",
   "execution_count": 10,
   "metadata": {},
   "outputs": [
    {
     "name": "stdout",
     "output_type": "stream",
     "text": [
      "[[0 0 0 5]\n",
      " [5 0 4 9]\n",
      " [0 0 0 0]\n",
      " [0 9 0 0]\n",
      " [5 0 0 0]\n",
      " [0 0 0 3]\n",
      " [0 0 0 0]\n",
      " [8 9 0 0]\n",
      " [6 0 0 6]\n",
      " [3 0 0 0]]\n",
      "[(0, 5), (1, 9), (3, 9), (4, 5), (5, 3), (7, 9), (8, 6), (9, 3)]\n"
     ]
    }
   ],
   "source": [
    "import PS03_08 as st\n",
    "import PS03_03 as st3\n",
    "reload(st)\n",
    "m = random_sparse_matrix((10,4))\n",
    "s = st3.SparseMatrix(m)\n",
    "print m\n",
    "print st.max_per_row(s)"
   ]
  },
  {
   "cell_type": "code",
   "execution_count": 11,
   "metadata": {},
   "outputs": [
    {
     "ename": "NameError",
     "evalue": "name 'np' is not defined",
     "output_type": "error",
     "traceback": [
      "\u001b[0;31m\u001b[0m",
      "\u001b[0;31mNameError\u001b[0mTraceback (most recent call last)",
      "\u001b[0;32m<ipython-input-11-b62406da9160>\u001b[0m in \u001b[0;36m<module>\u001b[0;34m()\u001b[0m\n\u001b[1;32m      1\u001b[0m \u001b[0mmm\u001b[0m \u001b[0;34m=\u001b[0m \u001b[0mm\u001b[0m\u001b[0;34m.\u001b[0m\u001b[0mmax\u001b[0m\u001b[0;34m(\u001b[0m\u001b[0maxis\u001b[0m\u001b[0;34m=\u001b[0m\u001b[0;36m1\u001b[0m\u001b[0;34m)\u001b[0m\u001b[0;34m\u001b[0m\u001b[0m\n\u001b[0;32m----> 2\u001b[0;31m \u001b[0mw\u001b[0m \u001b[0;34m=\u001b[0m \u001b[0mnp\u001b[0m\u001b[0;34m.\u001b[0m\u001b[0margwhere\u001b[0m\u001b[0;34m(\u001b[0m\u001b[0mmm\u001b[0m\u001b[0;34m!=\u001b[0m\u001b[0;36m0\u001b[0m\u001b[0;34m)\u001b[0m\u001b[0;34m[\u001b[0m\u001b[0;34m:\u001b[0m\u001b[0;34m,\u001b[0m\u001b[0;36m0\u001b[0m\u001b[0;34m]\u001b[0m\u001b[0;34m\u001b[0m\u001b[0m\n\u001b[0m\u001b[1;32m      3\u001b[0m \u001b[0mnp\u001b[0m\u001b[0;34m.\u001b[0m\u001b[0mallclose\u001b[0m\u001b[0;34m(\u001b[0m\u001b[0mnp\u001b[0m\u001b[0;34m.\u001b[0m\u001b[0mr_\u001b[0m\u001b[0;34m[\u001b[0m\u001b[0;34m[\u001b[0m\u001b[0;34m(\u001b[0m\u001b[0mi\u001b[0m\u001b[0;34m,\u001b[0m\u001b[0mj\u001b[0m\u001b[0;34m)\u001b[0m \u001b[0;32mfor\u001b[0m \u001b[0mi\u001b[0m\u001b[0;34m,\u001b[0m\u001b[0mj\u001b[0m \u001b[0;32min\u001b[0m \u001b[0mzip\u001b[0m\u001b[0;34m(\u001b[0m\u001b[0mw\u001b[0m\u001b[0;34m,\u001b[0m \u001b[0mmm\u001b[0m\u001b[0;34m[\u001b[0m\u001b[0mw\u001b[0m\u001b[0;34m]\u001b[0m\u001b[0;34m)\u001b[0m\u001b[0;34m]\u001b[0m\u001b[0;34m]\u001b[0m\u001b[0;34m,\u001b[0m \u001b[0mnp\u001b[0m\u001b[0;34m.\u001b[0m\u001b[0mr_\u001b[0m\u001b[0;34m[\u001b[0m\u001b[0mst\u001b[0m\u001b[0;34m.\u001b[0m\u001b[0mmax_per_row\u001b[0m\u001b[0;34m(\u001b[0m\u001b[0ms\u001b[0m\u001b[0;34m)\u001b[0m\u001b[0;34m]\u001b[0m\u001b[0;34m)\u001b[0m\u001b[0;34m\u001b[0m\u001b[0m\n",
      "\u001b[0;31mNameError\u001b[0m: name 'np' is not defined"
     ]
    }
   ],
   "source": [
    "mm = m.max(axis=1)\n",
    "w = np.argwhere(mm!=0)[:,0]\n",
    "np.allclose(np.r_[[(i,j) for i,j in zip(w, mm[w])]], np.r_[st.max_per_row(s)])"
   ]
  },
  {
   "cell_type": "code",
   "execution_count": null,
   "metadata": {},
   "outputs": [],
   "source": []
  },
  {
   "cell_type": "code",
   "execution_count": null,
   "metadata": {},
   "outputs": [],
   "source": []
  },
  {
   "cell_type": "markdown",
   "metadata": {},
   "source": [
    "#### comprueba tu código con el corrector automático"
   ]
  },
  {
   "cell_type": "code",
   "execution_count": 12,
   "metadata": {},
   "outputs": [
    {
     "name": "stdout",
     "output_type": "stream",
     "text": [
      "checking your code with 100 random calls\n",
      "** CORRECTO **\n",
      "evaluation result 5.0 \n"
     ]
    }
   ],
   "source": [
    "!./run CHECK_SOLUTION PS03_08"
   ]
  },
  {
   "cell_type": "markdown",
   "metadata": {},
   "source": [
    "#### registra tu solución en línea"
   ]
  },
  {
   "cell_type": "code",
   "execution_count": 13,
   "metadata": {},
   "outputs": [
    {
     "name": "stdout",
     "output_type": "stream",
     "text": [
      "connecting ... registering submission for daniel.riveraa@udea.edu.co ...\n",
      "checking your code with 100 random calls\n",
      "** CORRECTO **\n",
      "your submissions sheet is https://docs.google.com/spreadsheets/d/1QjA5eGBEkEfHxuQDJaqn7YQXH-ECIalATeOgF8dw-nU\n",
      "----\n",
      "evaluation result 5.0 , submission registered\n"
     ]
    }
   ],
   "source": [
    "!./run SUBMIT_SOLUTION PS03_08"
   ]
  },
  {
   "cell_type": "markdown",
   "metadata": {},
   "source": [
    "## Ejercicio 9\n",
    "\n",
    "Realiza un algoritmo que devuelva el valor máximo de cada columna. Deberá de devolver una lista de tuplas `(col_nb, max_value)` solamente de las columnas que contengan algún elemento. P.ej. de la siguiente matriz:\n",
    "\n",
    "        [[0 0 2 0 0 1 0 0 0 1]\n",
    "         [5 3 0 4 0 0 0 5 0 2]\n",
    "         [9 0 0 4 0 0 0 0 0 0]]\n",
    " \n",
    " \n",
    "deberá devolver el siguiente resultado:\n",
    "\n",
    "        [(0, 9), (1, 3), (2, 2), (3, 4), (5, 1), (7, 5), (9, 2)]\n",
    "        \n",
    " Este ejercicio debe de funcionar **con `SparseMatrix` de tu solución del ejercicio 3 anterior**\n"
   ]
  },
  {
   "cell_type": "code",
   "execution_count": 14,
   "metadata": {},
   "outputs": [
    {
     "name": "stdout",
     "output_type": "stream",
     "text": [
      "Overwriting ./utils/student_function/PS03_09.py\n"
     ]
    }
   ],
   "source": [
    "%%writefile ./utils/student_function/PS03_09.py\n",
    "import numpy as np\n",
    "def max_per_col(m):\n",
    "    max_value = 0\n",
    "    col_nb = int\n",
    "    resultado = list([])\n",
    "    \n",
    "    for i in range(m.shape[1]):\n",
    "        col_nb = i\n",
    "        for j in range(m.shape[0]):\n",
    "            if j in m.rows.keys():\n",
    "                if i in m.rows[j].keys():\n",
    "                    if max_value < m.rows[j][i] and m.rows[j][i] != 0:\n",
    "                        max_value = m.rows[j][i]\n",
    "        if max_value != 0:\n",
    "            resultado.append((col_nb, max_value))\n",
    "        max_value = 0\n",
    "        \n",
    "    return resultado"
   ]
  },
  {
   "cell_type": "code",
   "execution_count": 15,
   "metadata": {},
   "outputs": [
    {
     "name": "stdout",
     "output_type": "stream",
     "text": [
      "[[4 0 0 8 9 9 8 5 7 0]\n",
      " [6 0 1 0 0 0 2 0 2 7]\n",
      " [5 0 0 4 0 9 3 0 9 0]]\n",
      "[(0, 6), (2, 1), (3, 8), (4, 9), (5, 9), (6, 8), (7, 5), (8, 9), (9, 7)]\n"
     ]
    }
   ],
   "source": [
    "import PS03_09 as st\n",
    "import PS03_03 as st3\n",
    "reload(st)\n",
    "m = st3.SparseMatrix(random_sparse_matrix((3,10)))\n",
    "print m.to_dense().astype(int)\n",
    "print st.max_per_col(m)"
   ]
  },
  {
   "cell_type": "markdown",
   "metadata": {},
   "source": [
    "#### comprueba tu código con el corrector automático"
   ]
  },
  {
   "cell_type": "code",
   "execution_count": 16,
   "metadata": {},
   "outputs": [
    {
     "name": "stdout",
     "output_type": "stream",
     "text": [
      "checking your code with 100 random calls\n",
      "** CORRECTO **\n",
      "evaluation result 5.0 \n"
     ]
    }
   ],
   "source": [
    "!./run CHECK_SOLUTION PS03_09"
   ]
  },
  {
   "cell_type": "markdown",
   "metadata": {},
   "source": [
    "#### registra tu solución en línea"
   ]
  },
  {
   "cell_type": "code",
   "execution_count": 17,
   "metadata": {},
   "outputs": [
    {
     "name": "stdout",
     "output_type": "stream",
     "text": [
      "connecting ... registering submission for daniel.riveraa@udea.edu.co ...\n",
      "checking your code with 100 random calls\n",
      "** CORRECTO **\n",
      "your submissions sheet is https://docs.google.com/spreadsheets/d/1QjA5eGBEkEfHxuQDJaqn7YQXH-ECIalATeOgF8dw-nU\n",
      "----\n",
      "evaluation result 5.0 , submission registered\n"
     ]
    }
   ],
   "source": [
    "!./run SUBMIT_SOLUTION PS03_09"
   ]
  },
  {
   "cell_type": "markdown",
   "metadata": {},
   "source": [
    "## Análisis de complejidad computacional\n",
    "\n",
    "ya acabaste el taller. Ahora si quieres, puedes jugar con tus soluciones y ejecutar las siguientes celdas para medir experimentalmente la complejidad computacional de tus soluciones. Compárala con la de la implementación de las notas."
   ]
  },
  {
   "cell_type": "code",
   "execution_count": null,
   "metadata": {},
   "outputs": [],
   "source": [
    "import PS03_07 as st\n",
    "reload(st)\n",
    "def xrandom_sparse_matrix(max_rows, max_cols, n_items):\n",
    "    m = st7.SparseMatrix()\n",
    "    for _ in xrange(n_items):\n",
    "        i = np.random.randint(max_rows)\n",
    "        j = np.random.randint(max_cols)\n",
    "        v = np.random.randint(100)\n",
    "        m[i,j] = v\n",
    "    return m"
   ]
  },
  {
   "cell_type": "code",
   "execution_count": null,
   "metadata": {},
   "outputs": [],
   "source": [
    "k=xrandom_sparse_matrix(1000,1000,1000)\n",
    "k.shape, k.sparseness_metric()"
   ]
  },
  {
   "cell_type": "code",
   "execution_count": null,
   "metadata": {},
   "outputs": [],
   "source": [
    "import matplotlib.pyplot as plt\n",
    "%matplotlib inline\n",
    "def plot_times(n_set, r, xlabel, ylabel):\n",
    "    from scipy.optimize import minimize\n",
    "\n",
    "    n_set = np.array(n_set)\n",
    "    # fit to scaled for numerical stability\n",
    "    x_ticks = n_set/1e3\n",
    "    r     = np.array(r)\n",
    "    cfunc = lambda k, x: k[0]+k[1]*x+k[2]*x**2+k[3]*x**3\n",
    "    qfunc = lambda k, x: k[0]+k[1]*x+k[2]*x**2\n",
    "    lfunc = lambda k, x: k[0]+k[1]*x\n",
    "    ccost = lambda k: np.mean( (r-cfunc(k, x_ticks))**2)\n",
    "    qcost = lambda k: np.mean( (r-qfunc(k, x_ticks))**2)\n",
    "    lcost = lambda k: np.mean( (r-lfunc(k, x_ticks))**2)\n",
    "    cx    = minimize(ccost, [0,0,0,0], method=\"BFGS\").x\n",
    "    qx    = minimize(qcost, [0,0,0], method=\"BFGS\").x\n",
    "    lx    = minimize(lcost, [0,0], method=\"BFGS\").x\n",
    "    \n",
    "    plt.plot(x_ticks*1e3, cfunc(cx, x_ticks), label=\"cubic fit\", color=\"black\")\n",
    "    plt.plot(x_ticks*1e3, qfunc(qx, x_ticks), label=\"quadratic fit\", color=\"black\", ls=\"--\")\n",
    "    plt.plot(x_ticks*1e3, lfunc(lx, x_ticks), label=\"linear fit\", color=\"black\", ls=\":\")\n",
    "    plt.plot(x_ticks*1e3, r, label=\"data\", lw=10, alpha=.5, color=\"red\")\n",
    "    plt.legend()\n",
    "    plt.xlabel(xlabel)\n",
    "    plt.ylabel(ylabel)\n",
    "    plt.grid()  "
   ]
  },
  {
   "cell_type": "markdown",
   "metadata": {},
   "source": [
    "## `__setitem__`"
   ]
  },
  {
   "cell_type": "code",
   "execution_count": null,
   "metadata": {},
   "outputs": [],
   "source": [
    "r2 = []\n",
    "n2 = range(50,3000,100)\n",
    "for n in n2:\n",
    "    print n,\n",
    "    k = %timeit -o -q -r 3 -n 3 xrandom_sparse_matrix(200,200,n)\n",
    "    r2.append(k.best)"
   ]
  },
  {
   "cell_type": "code",
   "execution_count": null,
   "metadata": {},
   "outputs": [],
   "source": [
    "plot_times(n2, r2, xlabel=\"number of triplets\", ylabel=\"time for 200x200 matrix\")"
   ]
  },
  {
   "cell_type": "markdown",
   "metadata": {},
   "source": [
    "## `__getitem__`"
   ]
  },
  {
   "cell_type": "code",
   "execution_count": null,
   "metadata": {},
   "outputs": [],
   "source": [
    "r1 = []\n",
    "n1 = range(50,3000,100)\n",
    "def getn(m,n):\n",
    "    for i in m.rows.keys():\n",
    "        for j in m.rows[i].keys():\n",
    "            m[i,j]\n",
    "    \n",
    "for n in n1:\n",
    "    print n,\n",
    "    m = xrandom_sparse_matrix(200,200,n)\n",
    "    k = %timeit -o -q -r 3 -n 3 getn(m,n)\n",
    "    r1.append(k.best)"
   ]
  },
  {
   "cell_type": "code",
   "execution_count": null,
   "metadata": {},
   "outputs": [],
   "source": [
    "plot_times(n1, r1, xlabel=\"number of triplets\", ylabel=\"time for 200x200 matrix\")"
   ]
  },
  {
   "cell_type": "markdown",
   "metadata": {},
   "source": [
    "## `__add__`"
   ]
  },
  {
   "cell_type": "code",
   "execution_count": null,
   "metadata": {},
   "outputs": [],
   "source": [
    "r3 = []\n",
    "n3 = range(50,3000,100)\n",
    "for n in n3:\n",
    "    print n,\n",
    "    m1 = xrandom_sparse_matrix(200,200,n)\n",
    "    m2 = xrandom_sparse_matrix(200,200,n)\n",
    "    m1[200,200]=1\n",
    "    m2[200,200]=1\n",
    "    k = %timeit -o -q -r 3 -n 3 m1+m2\n",
    "    r3.append(k.best)\n",
    "plot_times(n3, r3,xlabel=\"number of triplets\", ylabel=\"time for 200x200 matrix\")"
   ]
  },
  {
   "cell_type": "markdown",
   "metadata": {},
   "source": [
    "## `dot`"
   ]
  },
  {
   "cell_type": "code",
   "execution_count": null,
   "metadata": {},
   "outputs": [],
   "source": [
    "r4 = []\n",
    "n4 = range(50,3000,200)\n",
    "for n in n4:\n",
    "    print n,\n",
    "    m = xrandom_sparse_matrix(200,200,n)\n",
    "    k = %timeit -o -q -r 3 -n 3 m.dot(m.T())\n",
    "    r4.append(k.best)\n",
    "plot_times(n4, r4,xlabel=\"number of triplets\", ylabel=\"time for 200x200 matrix\")"
   ]
  },
  {
   "cell_type": "code",
   "execution_count": null,
   "metadata": {},
   "outputs": [],
   "source": []
  }
 ],
 "metadata": {
  "kernelspec": {
   "display_name": "Python 2",
   "language": "python",
   "name": "python2"
  },
  "language_info": {
   "codemirror_mode": {
    "name": "ipython",
    "version": 2
   },
   "file_extension": ".py",
   "mimetype": "text/x-python",
   "name": "python",
   "nbconvert_exporter": "python",
   "pygments_lexer": "ipython2",
   "version": "2.7.14"
  }
 },
 "nbformat": 4,
 "nbformat_minor": 2
}

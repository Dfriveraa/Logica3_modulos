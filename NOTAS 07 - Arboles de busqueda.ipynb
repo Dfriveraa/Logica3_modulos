{
 "cells": [
  {
   "cell_type": "markdown",
   "metadata": {},
   "source": [
    "## Objetivo del módulo\n",
    "\n",
    "Conocer el uso de la estructura de árboles binarios para la ordenación de datos\n",
    "\n",
    "## Preguntas\n",
    "\n",
    "- ¿Cómo se puede mantener ordenado un árbol binario?\n",
    "- ¿Qué ventajas tendría mantenerlo ordenado?\n",
    "- ¿Qué resultados dan los distintos tipos de recorridos sobre el árbol?\n",
    "- ¿Cómo podemos mantener un árbol binario balanceado?\n",
    "\n",
    "### Observa la siguiente implementación\n",
    "\n",
    "- usamos explícitamente estructuras para almacenar un hijoz izquierdo y uno derecho\n",
    "- tenemos un algoritmo para insertar elementos garantizando un cierto orden\n",
    "- los recorridos sobre dicho orden nos producen listas ordenadas\n",
    "- la complejidad computacional de cada operación"
   ]
  },
  {
   "cell_type": "code",
   "execution_count": 1,
   "metadata": {},
   "outputs": [],
   "source": [
    "import numpy as np\n",
    "\n",
    "class BTNode:\n",
    "    \n",
    "    def __init__(self, value, left=None, right=None):\n",
    "        self.value = value\n",
    "        self.left  = None\n",
    "        self.right = None\n",
    "        if left is not None:\n",
    "            self.add_left(left)\n",
    "        if right is not None:\n",
    "            self.add_right(right)\n",
    "    \n",
    "    def add_left(self, value):\n",
    "        assert self.left is None, \"node already has left child\"\n",
    "        self.left  = self.__class__(value) if not isinstance(value,self.__class__) else value\n",
    "        return self\n",
    "        \n",
    "    def add_right(self, value):\n",
    "        assert self.right is None, \"node already has right child\"\n",
    "        self.right  = self.__class__(value) if not isinstance(value,self.__class__) else value\n",
    "        return self\n",
    "    \n",
    "    def swap_children(self):\n",
    "        tmp = self.left\n",
    "        self.left = self.right\n",
    "        self.right = self.left\n",
    "        return self\n",
    "    \n",
    "    def insert_ordered(self, new_value):\n",
    "        if new_value < self.value:\n",
    "            if self.left is None:\n",
    "                self.add_left(new_value)\n",
    "            else:\n",
    "                self.left.insert_ordered(new_value)\n",
    "        else:\n",
    "            if self.right is None:\n",
    "                self.add_right(new_value)\n",
    "            else:\n",
    "                self.right.insert_ordered(new_value)\n",
    "        return self\n",
    "    \n",
    "    def ird(self):\n",
    "        if self.value==None:\n",
    "            return []\n",
    "        s1 = self.left.ird() if self.left is not None else []\n",
    "        s2 = self.right.ird() if self.right is not None else []\n",
    "        return s1+[self.value]+s2    \n",
    "    \n",
    "    def to_indented_string(self, level, prefix=\"\"):\n",
    "        s = (\" \"*2*level + prefix + str(self.value) + \"\\n\") if self.value is not None else \"\"\n",
    "        s += self.left.to_indented_string(level+1, prefix=\"L: \") if self.left is not None else \"\"\n",
    "        s += self.right.to_indented_string(level+1, prefix=\"R: \") if self.right is not None else \"\"\n",
    "        return s       \n",
    "\n",
    "    def __repr__(self):\n",
    "        return self.to_indented_string(0)\n",
    " \n",
    "    @classmethod\n",
    "    def from_list(cls, a_list):\n",
    "        r = cls(a_list[0])\n",
    "        for i in a_list[1:]:\n",
    "            r.insert_ordered(i)\n",
    "        return r\n",
    "    \n",
    "    @classmethod\n",
    "    def sort_list(cls, a_list):\n",
    "        r = cls.from_list(a_list)\n",
    "        return np.r_[r.ird()]"
   ]
  },
  {
   "cell_type": "markdown",
   "metadata": {},
   "source": [
    "### podemos crear un árbol con un orden arbitrario"
   ]
  },
  {
   "cell_type": "code",
   "execution_count": 2,
   "metadata": {},
   "outputs": [
    {
     "data": {
      "text/plain": [
       "10\n",
       "  L: 12\n",
       "  R: 20\n",
       "    L: 15\n",
       "      L: 91\n",
       "    R: 21"
      ]
     },
     "execution_count": 2,
     "metadata": {},
     "output_type": "execute_result"
    }
   ],
   "source": [
    "k=BTNode(10)\\\n",
    "    .add_right(BTNode(20)\\\n",
    "           .add_left(BTNode(15)\\\n",
    "                .add_left(91))\\\n",
    "           .add_right(21))\\\n",
    "    .add_left(12)\n",
    "k"
   ]
  },
  {
   "cell_type": "code",
   "execution_count": 3,
   "metadata": {},
   "outputs": [
    {
     "data": {
      "text/plain": [
       "[12, 10, 91, 15, 20, 21]"
      ]
     },
     "execution_count": 3,
     "metadata": {},
     "output_type": "execute_result"
    }
   ],
   "source": [
    "k.ird()"
   ]
  },
  {
   "cell_type": "markdown",
   "metadata": {},
   "source": [
    "### podemos crear un árbol manteniendo la siguiente propiedad:\n",
    "\n",
    "- para cualquier nodo, su hijo izquierdo es menor y su hizo derecho es mayor"
   ]
  },
  {
   "cell_type": "code",
   "execution_count": 4,
   "metadata": {},
   "outputs": [
    {
     "data": {
      "text/plain": [
       "10\n",
       "  L: 2\n",
       "    L: 1\n",
       "    R: 4\n",
       "  R: 12"
      ]
     },
     "execution_count": 4,
     "metadata": {},
     "output_type": "execute_result"
    }
   ],
   "source": [
    "k = BTNode(10).insert_ordered(2).insert_ordered(12).insert_ordered(1).insert_ordered(4)\n",
    "k"
   ]
  },
  {
   "cell_type": "code",
   "execution_count": 5,
   "metadata": {},
   "outputs": [
    {
     "data": {
      "text/plain": [
       "10\n",
       "  L: 2\n",
       "    L: 1\n",
       "    R: 4\n",
       "  R: 12"
      ]
     },
     "execution_count": 5,
     "metadata": {},
     "output_type": "execute_result"
    }
   ],
   "source": [
    "k = BTNode.from_list([10,2,12,1,4])\n",
    "k"
   ]
  },
  {
   "cell_type": "markdown",
   "metadata": {},
   "source": [
    "de modo que al recorrerlo nos produce una lista ordenada"
   ]
  },
  {
   "cell_type": "code",
   "execution_count": 6,
   "metadata": {},
   "outputs": [
    {
     "data": {
      "text/plain": [
       "[1, 2, 4, 10, 12]"
      ]
     },
     "execution_count": 6,
     "metadata": {},
     "output_type": "execute_result"
    }
   ],
   "source": [
    "k.ird()"
   ]
  },
  {
   "cell_type": "code",
   "execution_count": 10,
   "metadata": {},
   "outputs": [
    {
     "data": {
      "text/plain": [
       "array([-20,   1,  10,  12,  43])"
      ]
     },
     "execution_count": 10,
     "metadata": {},
     "output_type": "execute_result"
    }
   ],
   "source": [
    "BTNode.sort_list([10,43,12,1,-20])\n"
   ]
  },
  {
   "cell_type": "code",
   "execution_count": 15,
   "metadata": {},
   "outputs": [
    {
     "data": {
      "text/plain": [
       "array([ 6,  0, 76, 95, 52, 74, 26, 54, 56, 24])"
      ]
     },
     "execution_count": 15,
     "metadata": {},
     "output_type": "execute_result"
    }
   ],
   "source": [
    "np.random.permutation(100)[:10]"
   ]
  },
  {
   "cell_type": "code",
   "execution_count": 16,
   "metadata": {},
   "outputs": [
    {
     "name": "stdout",
     "output_type": "stream",
     "text": [
      "[58 41 51 56 96 50 86 65 94 37] --> [37 41 50 51 56 58 65 86 94 96]\n",
      "[61 92 51 97 68 13 63 71 43 73] --> [13 43 51 61 63 68 71 73 92 97]\n",
      "[ 7 83 80 48 70  4 62 86 26 52] --> [ 4  7 26 48 52 62 70 80 83 86]\n",
      "[ 8 79 37 42 48 30 47 62 19 53] --> [ 8 19 30 37 42 47 48 53 62 79]\n",
      "[31 36 84 49  9 59 38 30 97 20] --> [ 9 20 30 31 36 38 49 59 84 97]\n",
      "[41 46 61 17  5 34 88 32 96 47] --> [ 5 17 32 34 41 46 47 61 88 96]\n",
      "[38  4 86 31 34 63 13 70 48 49] --> [ 4 13 31 34 38 48 49 63 70 86]\n",
      "[89 91  1 53 12 60 40 45 10 51] --> [ 1 10 12 40 45 51 53 60 89 91]\n",
      "[78 14 25 88 37 70 82 77 29 96] --> [14 25 29 37 70 77 78 82 88 96]\n",
      "[82 84 68 10 54 93  6 62 58 61] --> [ 6 10 54 58 61 62 68 82 84 93]\n"
     ]
    }
   ],
   "source": [
    "for _ in range(10):\n",
    "    l = np.random.permutation(100)[:10]\n",
    "    print l,\"-->\",\n",
    "    print BTNode.sort_list(l)\n"
   ]
  },
  {
   "cell_type": "markdown",
   "metadata": {},
   "source": [
    "observa que, en la lección anterior, **ordenábamos in situ** y ahora creamos una estructura nueva.\n",
    "\n",
    "finalmente, medimos rendimiento"
   ]
  },
  {
   "cell_type": "code",
   "execution_count": 178,
   "metadata": {},
   "outputs": [
    {
     "name": "stdout",
     "output_type": "stream",
     "text": [
      "running experiments\n",
      ". . . . . . . . .\n"
     ]
    }
   ],
   "source": [
    "def experiment_insert_ordered(n):\n",
    "    k = np.random.permutation(100*n)[:n]\n",
    "    tree = BTNode(k[0])\n",
    "    for i in k:\n",
    "        tree.insert_ordered(i)\n",
    "    return tree\n",
    "\n",
    "def experiment_sort(n):\n",
    "    k = np.random.permutation(100*n)[:n]\n",
    "    BTNode.sort_list(k)\n",
    "\n",
    "r_times_insert = []\n",
    "r_times_ird = []\n",
    "r_times_sort = []\n",
    "n_list = np.arange(10,100,10)*100\n",
    "\n",
    "print \"running experiments\"\n",
    "for n in n_list:\n",
    "    print \".\",\n",
    "    t = %timeit -r 3 -n 3 -o -q experiment_insert_ordered(n)\n",
    "    r_times_insert.append(t.best)\n",
    "\n",
    "    k = experiment_insert_ordered(n)\n",
    "    t = %timeit -r 3 -n 3 -o -q k.ird()\n",
    "    r_times_ird.append(t.best)\n",
    "\n",
    "    t = %timeit -r 3 -n 3 -o -q experiment_sort(n)\n",
    "    r_times_sort.append(t.best)\n",
    "    \n",
    "    "
   ]
  },
  {
   "cell_type": "code",
   "execution_count": 154,
   "metadata": {},
   "outputs": [
    {
     "data": {
      "text/plain": [
       "<matplotlib.legend.Legend at 0x109eb5a50>"
      ]
     },
     "execution_count": 154,
     "metadata": {},
     "output_type": "execute_result"
    },
    {
     "data": {
      "image/png": "[encoded data removed]",
      "text/plain": [
       "<Figure size 432x288 with 1 Axes>"
      ]
     },
     "metadata": {},
     "output_type": "display_data"
    }
   ],
   "source": [
    "import matplotlib.pyplot as plt\n",
    "%matplotlib inline\n",
    "plt.plot(r_times_insert, label=\"insert\")\n",
    "plt.plot(r_times_ird, label=\"ird\")\n",
    "plt.plot(r_times_sort, label=\"sort\")\n",
    "plt.ylabel(\"time\")\n",
    "plt.xlabel(\"number of elements\")\n",
    "plt.grid()\n",
    "plt.legend()"
   ]
  },
  {
   "cell_type": "code",
   "execution_count": null,
   "metadata": {},
   "outputs": [],
   "source": []
  }
 ],
 "metadata": {
  "kernelspec": {
   "display_name": "Python 2",
   "language": "python",
   "name": "python2"
  },
  "language_info": {
   "codemirror_mode": {
    "name": "ipython",
    "version": 2
   },
   "file_extension": ".py",
   "mimetype": "text/x-python",
   "name": "python",
   "nbconvert_exporter": "python",
   "pygments_lexer": "ipython2",
   "version": "2.7.14"
  }
 },
 "nbformat": 4,
 "nbformat_minor": 2
}
